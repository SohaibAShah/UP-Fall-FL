{
 "cells": [
  {
   "cell_type": "markdown",
   "id": "b0c3a569",
   "metadata": {},
   "source": [
    "Let's convert the entire script to use Flower, a popular framework for federated learning. Flower will handle all the complex server-client communication, so our code will become much simpler and more organized.\n",
    "\n",
    "We'll follow the same step-by-step process, keeping your original model, data loading functions, and variable names so you can easily see what's changed."
   ]
  },
  {
   "cell_type": "markdown",
   "id": "0221b1e3",
   "metadata": {},
   "source": [
    "## Step 1: The Foundation (Imports and Setup)\n",
    "Every Python script starts with importing the necessary libraries and setting up the environment. This is like laying the foundation for a house."
   ]
  },
  {
   "cell_type": "code",
   "execution_count": 30,
   "id": "696a41f1",
   "metadata": {},
   "outputs": [],
   "source": [
    "import torch\n",
    "import torch.nn as nn\n",
    "import torch.nn.functional as F\n",
    "from torch.utils.data import DataLoader, Dataset\n",
    "from collections import OrderedDict\n",
    "import flwr as fl\n",
    "import numpy as np\n",
    "import pandas as pd\n",
    "import os\n",
    "import random\n",
    "from sklearn.preprocessing import StandardScaler\n",
    "from tqdm import tqdm\n",
    "\n",
    "# --- Set Device ---\n",
    "DEVICE = torch.device(\"cuda\" if torch.cuda.is_available() else \"cpu\")"
   ]
  },
  {
   "cell_type": "markdown",
   "id": "729b56c2",
   "metadata": {},
   "source": [
    "### Define dataset loader\n",
    "\n",
    "PyTorch uses a Dataset object to handle data loading. Since our model will take three different kinds of input (sensor data, image 1, and image 2), we need to create a special class that tells PyTorch how to retrieve one sample of each, along with its corresponding label.\n",
    "\n",
    "This class will have three essential methods:\n",
    "\n",
    "__init__: Initializes the dataset by storing our feature and label arrays.\n",
    "\n",
    "__len__: Returns the total number of samples in the dataset.\n",
    "\n",
    "__getitem__: Fetches a single data sample at a given index.\n",
    "\n",
    "Here is the code for it. Add this to your script:"
   ]
  },
  {
   "cell_type": "code",
   "execution_count": 31,
   "id": "1ebd8185",
   "metadata": {},
   "outputs": [],
   "source": [
    "# Define dataset loader\n",
    "class CustomDatasetRes(Dataset):\n",
    "    def __init__(self, features1, features2, features3, labels):\n",
    "        self.features1 = features1\n",
    "        self.features2 = features2\n",
    "        self.features3 = features3\n",
    "        self.labels = labels\n",
    "\n",
    "    def __len__(self):\n",
    "        return len(self.features1)\n",
    "    \n",
    "    def __getitem__(self, index):\n",
    "        return self.features1[index], self.features2[index], self.features3[index], self.labels[index]"
   ]
  },
  {
   "cell_type": "markdown",
   "id": "03702557",
   "metadata": {},
   "source": [
    "### Helper Functions\n",
    "Next, we'll add a few helper functions. These functions will perform common tasks that we'll need later, like displaying results, scaling data, and ensuring our experiments are reproducible.\n",
    "\n",
    "1. display_result\n",
    "\n",
    "This function takes the true labels (y_test) and the model's predicted labels (y_pred) and prints out standard performance metrics like accuracy, precision, recall, and F1-score."
   ]
  },
  {
   "cell_type": "code",
   "execution_count": 32,
   "id": "9e6414e0",
   "metadata": {},
   "outputs": [],
   "source": [
    "def display_result(y_test, y_pred):\n",
    "    print('Accuracy score : ', accuracy_score(y_test, y_pred))\n",
    "    print('Precision score : ', precision_score(y_test, y_pred, average='weighted'))\n",
    "    print('Recall score : ', recall_score(y_test, y_pred, average='weighted'))\n",
    "    print('F1 score : ', f1_score(y_test, y_pred, average='weighted'))"
   ]
  },
  {
   "cell_type": "markdown",
   "id": "f75a5531",
   "metadata": {},
   "source": [
    "2. scaled_data\n",
    "\n",
    "This function uses Scikit-learn's StandardScaler to normalize the sensor (CSV) data. Scaling is crucial because it ensures that features with larger value ranges don't dominate the learning process. Notice there are two functions with the same name in the original code. In Python, the last definition of a function is the one that gets used. We will add both for completeness, but just know that the first one is effectively overwritten by the second."
   ]
  },
  {
   "cell_type": "code",
   "execution_count": 33,
   "id": "adc0678c",
   "metadata": {},
   "outputs": [],
   "source": [
    "def scale_data(X_train, X_test, X_val):\n",
    "    scaler = StandardScaler()\n",
    "    X_train_scaled = scaler.fit_transform(X_train)\n",
    "    X_test_scaled = scaler.transform(X_test)\n",
    "    X_val_scaled = scaler.transform(X_val)\n",
    "    return X_train_scaled, X_test_scaled, X_val_scaled\n",
    "\n",
    "def scaled_data(X_train):\n",
    "    scaler = StandardScaler()\n",
    "    X_train_scaled = scaler.fit_transform(X_train)\n",
    "    return X_train_scaled"
   ]
  },
  {
   "cell_type": "markdown",
   "id": "e4d51f72",
   "metadata": {},
   "source": [
    "3. set_seed\n",
    "\n",
    "This is a very important function for reproducibility. Machine learning involves a lot of randomness (e.g., initializing model weights, shuffling data). By setting a \"seed,\" we ensure that the sequence of random numbers is the same every time we run the code, which means we'll get the exact same results."
   ]
  },
  {
   "cell_type": "code",
   "execution_count": 34,
   "id": "93f4630b",
   "metadata": {},
   "outputs": [],
   "source": [
    "def set_seed(seed=0):\n",
    "    # Sets the environment variable for Python's hash seed\n",
    "    os.environ['PYTHONHASHSEED'] = str(seed)\n",
    "    # Sets the seed for NumPy's random number generator\n",
    "    np.random.seed(seed)\n",
    "    # Sets the seed for Python's built-in random module\n",
    "    random.seed(seed)\n",
    "    # Sets the seed for PyTorch's random number generator\n",
    "    torch.manual_seed(seed)\n",
    "    # If using a GPU, sets the seed for all CUDA devices\n",
    "    if torch.cuda.is_available():\n",
    "        torch.cuda.manual_seed(seed)\n",
    "        torch.cuda.manual_seed_all(seed)  # For multi-GPU setups\n",
    "    # Ensures deterministic behavior in cuDNN (CUDA Deep Neural Network library)\n",
    "    torch.backends.cudnn.deterministic = True\n",
    "    torch.backends.cudnn.benchmark = False"
   ]
  },
  {
   "cell_type": "markdown",
   "id": "9bdf1683",
   "metadata": {},
   "source": [
    "### loading and preprocessing the data.\n",
    "\n",
    "The function loadClientsData is designed for a federated learning scenario. It reads data from separate files for each participant (or \"client\"), cleans it, aligns the different data types (sensor vs. image), and splits it into training and testing sets for each client.\n",
    "\n",
    "Because this function is quite long, we'll build it in a few parts.\n",
    "\n",
    "#### Part 1: Initializing and Processing Training Data\n",
    "First, we'll define the function, list the subject IDs we want to load, and create empty dictionaries to store each client's data. Then, we'll start a loop to process each subject one by one. Inside the loop, we'll begin by loading and cleaning the training data.\n",
    "\n",
    "This involves:\n",
    "\n",
    "Reading the sensor data from a CSV file.\n",
    "\n",
    "Removing rows with missing values and any duplicate rows.\n",
    "\n",
    "Dropping columns that we don't need (like the 'Infrared' sensor readings).\n",
    "\n",
    "Loading the corresponding image, label, and timestamp data from .npy files.\n",
    "\n",
    "#### Part 2: Aligning and Preparing Training Data\n",
    "After loading the raw data, we face a common problem: the datasets don't perfectly match. Because we dropped rows with missing values from the sensor (CSV) data, there are now timestamps in our image data that no longer have a corresponding entry in the sensor data.\n",
    "\n",
    "We need to align them by removing the image samples that don't have a matching sensor reading.\n",
    "\n",
    "After alignment, we'll prepare the data for the model:\n",
    "\n",
    "Set the seed for reproducibility.\n",
    "\n",
    "Separate features from labels.\n",
    "\n",
    "One-hot encode the labels, converting them into a format suitable for the model's output layer (e.g., class 3 becomes [0, 0, 0, 1, 0, ...]).\n",
    "\n",
    "Scale the numeric sensor data and the image pixel values.\n",
    "\n",
    "Reshape the images to the format expected by the convolutional layers.\n",
    "\n",
    "#### Part 3: Processing the Test Data and Finalizing the Function\n",
    "The logic here is identical to what we just did for the training data:\n",
    "\n",
    "Load the test sensor data (_test.csv) and test image data (_test.npy).\n",
    "\n",
    "Clean the sensor data by removing missing values and unnecessary columns.\n",
    "\n",
    "Align the test image data with the cleaned test sensor data.\n",
    "\n",
    "Prepare the aligned test data (one-hot encode labels, scale features, reshape images).\n",
    "\n",
    "Store all the processed training and test arrays into our dictionaries.\n",
    "\n",
    "Increment the clint_index and repeat the process for the next subject.\n",
    "\n",
    "After the loop finishes, the function returns all the dictionaries containing the data for every client."
   ]
  },
  {
   "cell_type": "code",
   "execution_count": 35,
   "id": "81f6095d",
   "metadata": {},
   "outputs": [],
   "source": [
    "def loadClientsData():\n",
    "    subs = [1, 3, 4, 7, 10, 11, 12, 13, 14, 15, 16, 17]\n",
    "    X_train_csv_scaled_splits = {}\n",
    "    X_test_csv_scaled_splits = {}\n",
    "    Y_train_csv_splits = {}\n",
    "    Y_test_csv_splits = {}\n",
    "    X_train_1_scaled_splits = {}\n",
    "    X_test_1_scaled_splits = {}\n",
    "    Y_train_1_splits = {}\n",
    "    Y_test_1_splits = {}\n",
    "    X_train_2_scaled_splits = {}\n",
    "    X_test_2_scaled_splits = {}\n",
    "    Y_train_2_splits = {}\n",
    "    Y_test_2_splits = {}\n",
    "    clint_index = 0\n",
    "    for sub_ in subs:\n",
    "        # --- Load and clean TRAINING sensor data (CSV) ---\n",
    "        SUB_train = pd.read_csv('./dataset/Sensor + Image/{}_sensor_train.csv'.format(sub_), skiprows=1)\n",
    "        SUB_train.head()\n",
    "        \n",
    "        SUB_train.isnull().sum()\n",
    "        NA_cols = SUB_train.columns[SUB_train.isnull().any()]\n",
    "        SUB_train.dropna(inplace=True)\n",
    "        SUB_train.drop_duplicates(inplace=True)\n",
    "        \n",
    "        times_train = SUB_train['Time']\n",
    "        list_DROP = ['Infrared 1',\n",
    "                     'Infrared 2',\n",
    "                     'Infrared 3',\n",
    "                     'Infrared 4',\n",
    "                     'Infrared 5',\n",
    "                     'Infrared 6']\n",
    "        SUB_train.drop(list_DROP, axis=1, inplace=True)\n",
    "        SUB_train.drop(NA_cols, axis=1, inplace=True)  # drop NAN COLS\n",
    "\n",
    "        SUB_train.set_index('Time', inplace=True)\n",
    "        SUB_train.head()\n",
    "\n",
    "        # --- Load TRAINING image data from both cameras ---\n",
    "        cam = '1'\n",
    "        image_train = './dataset/Sensor + Image' + '/' + '{}_image_1_train.npy'.format(sub_)\n",
    "        name_train = './dataset/Sensor + Image' + '/' + '{}_name_1_train.npy'.format(sub_)\n",
    "        label_train = './dataset/Sensor + Image' + '/' + '{}_label_1_train.npy'.format(sub_)\n",
    "\n",
    "        img_1_train = np.load(image_train)\n",
    "        label_1_train = np.load(label_train)\n",
    "        name_1_train = np.load(name_train)\n",
    "\n",
    "        cam = '2'\n",
    "        image_train = './dataset/Sensor + Image' + '/' + '{}_image_2_train.npy'.format(sub_)\n",
    "        name_train = './dataset/Sensor + Image' + '/' + '{}_name_2_train.npy'.format(sub_)\n",
    "        label_train = './dataset/Sensor + Image' + '/' + '{}_label_2_train.npy'.format(sub_)\n",
    "\n",
    "        img_2_train = np.load(image_train)\n",
    "        label_2_train = np.load(label_train)\n",
    "        name_2_train = np.load(name_train)\n",
    "\n",
    "        # --- Align the training data by removing samples not present in the cleaned CSV ---\n",
    "        redundant_1 = list(set(name_1_train) - set(times_train))\n",
    "        redundant_2 = list(set(name_2_train) - set(times_train))\n",
    "        \n",
    "        ind = np.arange(0, len(img_1_train))\n",
    "\n",
    "        red_in1 = ind[np.isin(name_1_train, redundant_1)]\n",
    "        name_1_train = np.delete(name_1_train, red_in1)\n",
    "        img_1_train = np.delete(img_1_train, red_in1, axis=0)\n",
    "        label_1_train = np.delete(label_1_train, red_in1)\n",
    "\n",
    "        red_in2 = ind[np.isin(name_2_train, redundant_2)]\n",
    "        name_2_train = np.delete(name_2_train, red_in2)\n",
    "        img_2_train = np.delete(img_2_train, red_in2, axis=0)\n",
    "        label_2_train = np.delete(label_2_train, red_in2)\n",
    "        \n",
    "        # --- Prepare the final aligned training data ---\n",
    "        data_train = SUB_train.loc[name_1_train].values\n",
    "\n",
    "        set_seed()\n",
    "        X_csv_train, y_csv_train = data_train[:, :-1], data_train[:, -1]\n",
    "        \n",
    "        # Remap label 20 to 0 for consistency\n",
    "        y_csv_train = np.where(y_csv_train == 20, 0, y_csv_train)\n",
    "        label_1_train = np.where(label_1_train == 20, 0, label_1_train)\n",
    "        label_2_train = np.where(label_2_train == 20, 0, label_2_train)\n",
    "\n",
    "        # One-hot encode the labels for PyTorch\n",
    "        Y_csv_train = torch.nn.functional.one_hot(torch.from_numpy(y_csv_train).long(), 12).float()\n",
    "        Y_train_1 = torch.nn.functional.one_hot(torch.from_numpy(label_1_train).long(), 12).float()\n",
    "        Y_train_2 = torch.nn.functional.one_hot(torch.from_numpy(label_2_train).long(), 12).float()\n",
    "\n",
    "        # Scale the sensor data\n",
    "        X_csv_train_scaled = scaled_data(X_csv_train)\n",
    "\n",
    "        X_train_1 = img_1_train\n",
    "        y_train_1 = label_1_train\n",
    "        \n",
    "        X_train_2 = img_2_train\n",
    "        y_train_2 = label_2_train\n",
    "\n",
    "        # Reshape images to (samples, height, width, channels)\n",
    "        shape1, shape2 = 32, 32\n",
    "        X_train_1 = X_train_1.reshape(X_train_1.shape[0], shape1, shape2, 1)\n",
    "        X_train_2 = X_train_2.reshape(X_train_2.shape[0], shape1, shape2, 1)\n",
    "\n",
    "        # Scale image pixel values to be between 0 and 1\n",
    "        X_train_1_scaled = X_train_1 / 255.0\n",
    "        X_train_2_scaled = X_train_2 / 255.0\n",
    "\n",
    "        # --- Load and clean TEST sensor data (CSV) ---\n",
    "        SUB_test = pd.read_csv('./dataset/Sensor + Image/{}_sensor_test.csv'.format(sub_), skiprows=1)\n",
    "        SUB_test.head()\n",
    "        \n",
    "        SUB_test.isnull().sum()\n",
    "        NA_cols = SUB_test.columns[SUB_test.isnull().any()]\n",
    "        SUB_test.dropna(inplace=True)\n",
    "        SUB_test.drop_duplicates(inplace=True)\n",
    "\n",
    "        times_test = SUB_test['Time']\n",
    "        SUB_test.drop(list_DROP, axis=1, inplace=True)\n",
    "        SUB_test.drop(NA_cols, axis=1, inplace=True)\n",
    "\n",
    "        SUB_test.set_index('Time', inplace=True)\n",
    "        SUB_test.head()\n",
    "\n",
    "        # --- Load TEST image data from both cameras ---\n",
    "        image_test = './dataset/Sensor + Image' + '/' + '{}_image_1_test.npy'.format(sub_)\n",
    "        name_test = './dataset/Sensor + Image' + '/' + '{}_name_1_test.npy'.format(sub_)\n",
    "        label_test = './dataset/Sensor + Image' + '/' + '{}_label_1_test.npy'.format(sub_)\n",
    "        img_1_test = np.load(image_test)\n",
    "        label_1_test = np.load(label_test)\n",
    "        name_1_test = np.load(name_test)\n",
    "\n",
    "        image_test = './dataset/Sensor + Image' + '/' + '{}_image_2_test.npy'.format(sub_)\n",
    "        name_test = './dataset/Sensor + Image' + '/' + '{}_name_2_test.npy'.format(sub_)\n",
    "        label_test = './dataset/Sensor + Image' + '/' + '{}_label_2_test.npy'.format(sub_)\n",
    "        img_2_test = np.load(image_test)\n",
    "        label_2_test = np.load(label_test)\n",
    "        name_2_test = np.load(name_test)\n",
    "\n",
    "        # --- Align the test data ---\n",
    "        redundant_1 = list(set(name_1_test) - set(times_test))\n",
    "        redundant_2 = list(set(name_2_test) - set(times_test))\n",
    "        \n",
    "        ind = np.arange(0, len(img_1_test))\n",
    "\n",
    "        red_in1 = ind[np.isin(name_1_test, redundant_1)]\n",
    "        name_1_test = np.delete(name_1_test, red_in1)\n",
    "        img_1_test = np.delete(img_1_test, red_in1, axis=0)\n",
    "        label_1_test = np.delete(label_1_test, red_in1)\n",
    "\n",
    "        red_in2 = ind[np.isin(name_2_test, redundant_2)]\n",
    "        name_2_test = np.delete(name_2_test, red_in2)\n",
    "        img_2_test = np.delete(img_2_test, red_in2, axis=0)\n",
    "        label_2_test = np.delete(label_2_test, red_in2)\n",
    "\n",
    "        # --- Prepare the final aligned test data ---\n",
    "        data_test = SUB_test.loc[name_1_test].values\n",
    "\n",
    "        set_seed()\n",
    "        X_csv_test, y_csv_test = data_test[:, :-1], data_test[:, -1]\n",
    "        y_csv_test = np.where(y_csv_test == 20, 0, y_csv_test)\n",
    "        label_1_test = np.where(label_1_test == 20, 0, label_1_test)\n",
    "        label_2_test = np.where(label_2_test == 20, 0, label_2_test)\n",
    "\n",
    "        Y_csv_test = torch.nn.functional.one_hot(torch.from_numpy(y_csv_test).long(), 12).float()\n",
    "        X_csv_test_scaled = scaled_data(X_csv_test)\n",
    "        \n",
    "        X_test_1 = img_1_test\n",
    "        y_test_1 = label_1_test\n",
    "        Y_test_1 = torch.nn.functional.one_hot(torch.from_numpy(y_test_1).long(), 12).float()\n",
    "\n",
    "        X_test_2 = img_2_test\n",
    "        y_test_2 = label_2_test\n",
    "        Y_test_2 = torch.nn.functional.one_hot(torch.from_numpy(y_test_2).long(), 12).float()\n",
    "\n",
    "        X_test_1 = X_test_1.reshape(X_test_1.shape[0], shape1, shape2, 1)\n",
    "        X_test_2 = X_test_2.reshape(X_test_2.shape[0], shape1, shape2, 1)\n",
    "\n",
    "        X_test_1_scaled = X_test_1 / 255.0\n",
    "        X_test_2_scaled = X_test_2 / 255.0\n",
    "\n",
    "        # --- Store all processed data for the current client ---\n",
    "        X_train_csv_scaled_splits[clint_index] = X_csv_train_scaled\n",
    "        X_test_csv_scaled_splits[clint_index] = X_csv_test_scaled\n",
    "        Y_train_csv_splits[clint_index] = Y_csv_train\n",
    "        Y_test_csv_splits[clint_index] = Y_csv_test\n",
    "        X_train_1_scaled_splits[clint_index] = X_train_1_scaled\n",
    "        X_test_1_scaled_splits[clint_index] = X_test_1_scaled\n",
    "        Y_train_1_splits[clint_index] = Y_train_1\n",
    "        Y_test_1_splits[clint_index] = Y_test_1\n",
    "        X_train_2_scaled_splits[clint_index] = X_train_2_scaled # This line had a bug in the original code\n",
    "        X_test_2_scaled_splits[clint_index] = X_test_2_scaled\n",
    "        Y_train_2_splits[clint_index] = Y_train_2\n",
    "        Y_test_2_splits[clint_index] = Y_test_2\n",
    "        clint_index += 1\n",
    "        \n",
    "    # --- After loop, return all dictionaries ---\n",
    "    return X_train_csv_scaled_splits,X_test_csv_scaled_splits, Y_train_csv_splits,Y_test_csv_splits,X_train_1_scaled_splits,X_test_1_scaled_splits,Y_train_1_splits,Y_test_1_splits,X_train_2_scaled_splits,X_test_2_scaled_splits,Y_train_2_splits,Y_test_2_splits"
   ]
  },
  {
   "cell_type": "markdown",
   "id": "8c9e1b50",
   "metadata": {},
   "source": [
    "## Step 2: Client Selection\n",
    "\n",
    "We're making great progress. We've handled all the data loading and preparation. Now, we'll add the functions that form the \"intelligence\" of our federated learning system: client selection.\n",
    "\n",
    "Instead of blindly averaging updates from every client in every round, these methods evaluate each client's performance and contribution. This allows the server to select the most promising or reliable clients to participate in the global model update, potentially leading to faster convergence and a more robust final model.\n",
    "\n",
    "We'll add a series of functions, each calculating a specific metric to judge the clients."
   ]
  },
  {
   "cell_type": "markdown",
   "id": "5173b0f8",
   "metadata": {},
   "source": [
    "### Client Evaluation Metrics\n",
    "Add all the following functions to your script. Each one calculates a different score based on a client's performance.\n",
    "\n",
    "1. Relative Loss Reduction (RF_loss)\n",
    "\n",
    "This measures how much a client's training loss has dropped from the beginning to the end of a local training round, relative to the client with the biggest drop. A higher score means the client is learning effectively."
   ]
  },
  {
   "cell_type": "code",
   "execution_count": 36,
   "id": "ca768194",
   "metadata": {},
   "outputs": [],
   "source": [
    "def calculate_relative_loss_reduction_as_list(client_losses):\n",
    "    \"\"\"\n",
    "    Calculates RF_loss. Handles clients that did not participate in the last round.\n",
    "    client_losses is a dict {cid: [loss1, loss2, ...]}\n",
    "    \"\"\"\n",
    "    loss_reductions = {}\n",
    "    \n",
    "    # Only calculate reductions for clients that have a valid loss history\n",
    "    for client_id, losses in client_losses.items():\n",
    "        if losses and len(losses) >= 2:\n",
    "            loss_start, loss_end = losses[0], losses[-1]\n",
    "            loss_reductions[client_id] = loss_start - loss_end\n",
    "\n",
    "    # If no clients had valid data, return 0 for everyone\n",
    "    if not loss_reductions:\n",
    "        return {cid: 0.0 for cid in client_losses.keys()}\n",
    "\n",
    "    max_loss_reduction = max(loss_reductions.values())\n",
    "    if max_loss_reduction == 0:\n",
    "        return {cid: 0.0 for cid in client_losses.keys()}\n",
    "\n",
    "    # Assign a score of 0 to any client that didn't have a valid loss reduction\n",
    "    return {\n",
    "        cid: loss_reductions.get(cid, 0.0) / max_loss_reduction \n",
    "        for cid in client_losses.keys()\n",
    "    }"
   ]
  },
  {
   "cell_type": "markdown",
   "id": "e9f48d0a",
   "metadata": {},
   "source": [
    "2. Relative Training Accuracy (RF_ACC_Train)\n",
    "\n",
    "This measures a client's local training accuracy relative to the client with the highest accuracy. It's a straightforward measure of performance on local data."
   ]
  },
  {
   "cell_type": "code",
   "execution_count": 37,
   "id": "5a82d156",
   "metadata": {},
   "outputs": [],
   "source": [
    "def calculate_relative_train_accuracy(client_acc):\n",
    "    \"\"\"\n",
    "    Calculates the relative training accuracy (RF_Acc_Train) for each client.\n",
    "    \"\"\"\n",
    "    max_acc = max(client_acc.values())\n",
    "    if max_acc == 0:\n",
    "        return [0.0] * len(client_acc)  # If no accuracy, return 0.0 for all clients\n",
    "\n",
    "    rf_accs_train_list = [\n",
    "        acc / max_acc for acc in client_acc.values()\n",
    "    ]\n",
    "    return rf_accs_train_list"
   ]
  },
  {
   "cell_type": "markdown",
   "id": "d1e977c2",
   "metadata": {},
   "source": [
    "3. Global Validation Accuracy (RF_ACC_Global)\n",
    "\n",
    "This is a more sophisticated metric. It rewards clients for high accuracy on a global test set but penalizes them if their global accuracy is much worse than their local training accuracy (which is a sign of overfitting)."
   ]
  },
  {
   "cell_type": "code",
   "execution_count": 38,
   "id": "c3b4108b",
   "metadata": {},
   "outputs": [],
   "source": [
    "def calculate_global_validation_accuracy(train_acc, global_acc):\n",
    "    \"\"\"\n",
    "    Calculates the global validation accuracy (RF_Acc_Global) based on local training accuracies.\n",
    "    \"\"\"\n",
    "    if set(train_acc.keys()) != set(global_acc.keys()):\n",
    "        raise ValueError(\"Client IDs for train and global accuracy do not match.\")\n",
    "\n",
    "    max_global_acc = max(global_acc.values())\n",
    "    if max_global_acc == 0:\n",
    "        max_global_acc = 1  # Avoid division by zero\n",
    "\n",
    "    global_train_diff = {\n",
    "        client_id: train_acc[client_id] - global_acc[client_id]\n",
    "        for client_id in train_acc\n",
    "    }\n",
    "    max_global_train_diff = max(global_train_diff.values())\n",
    "    if max_global_train_diff == 0:\n",
    "        max_global_train_diff = 1  # Avoid division by zero\n",
    "\n",
    "    rf_acc_global_list = [\n",
    "        (global_acc[client_id] / max_global_acc) - (global_train_diff[client_id] / max_global_train_diff)\n",
    "        for client_id in train_acc\n",
    "    ]\n",
    "    return rf_acc_global_list"
   ]
  },
  {
   "cell_type": "markdown",
   "id": "2f26f9bf",
   "metadata": {},
   "source": [
    "4. Loss Outliers (P_loss)\n",
    "\n",
    "This function flags clients that are potential negative contributors. If a client's final training loss is significantly higher than the average loss of all clients, it gets a high penalty score. Otherwise, its penalty is zero."
   ]
  },
  {
   "cell_type": "code",
   "execution_count": 48,
   "id": "35c66dde",
   "metadata": {},
   "outputs": [],
   "source": [
    "def calculate_loss_outliers(client_losses, lambda_loss=1.5):\n",
    "    \"\"\"Calculates P_loss. Handles clients with no training history.\"\"\"\n",
    "    \n",
    "    # NEW: Only get the final loss for clients that have a non-empty loss history\n",
    "    final_losses = {cid: losses[-1] for cid, losses in client_losses.items() if losses}\n",
    "    \n",
    "    # If no clients had valid training, return a score of 0 for everyone\n",
    "    if not final_losses: \n",
    "        return {cid: 0.0 for cid in client_losses.keys()}\n",
    "\n",
    "    loss_values = np.array(list(final_losses.values()))\n",
    "    \n",
    "    mean_loss = np.mean(loss_values)\n",
    "    std_loss = np.std(loss_values)\n",
    "    threshold = mean_loss + lambda_loss * std_loss\n",
    "    max_loss = np.max(loss_values)\n",
    "    \n",
    "    if max_loss == 0: \n",
    "        return {cid: 0.0 for cid in client_losses.keys()}\n",
    "\n",
    "    # For all clients, get their score or default to 0 if they didn't participate\n",
    "    all_client_scores = {}\n",
    "    for cid in client_losses.keys():\n",
    "        final_loss = final_losses.get(cid, 0.0)\n",
    "        score = final_loss / max_loss if final_loss > threshold else 0.0\n",
    "        all_client_scores[cid] = score\n",
    "        \n",
    "    return all_client_scores"
   ]
  },
  {
   "cell_type": "markdown",
   "id": "ef96a2ac",
   "metadata": {},
   "source": [
    "5. Performance Bias (P_bias)\n",
    "\n",
    "This metric calculates the gap between a client's performance on its own validation data versus its performance on the global validation data. A large gap might indicate that the client's local data is not representative of the overall data distribution."
   ]
  },
  {
   "cell_type": "code",
   "execution_count": 40,
   "id": "fc704c8e",
   "metadata": {},
   "outputs": [],
   "source": [
    "def calculate_performance_bias(val_acc, global_acc):\n",
    "    \"\"\"\n",
    "    Calculates the performance bias penalty (P_bias).\n",
    "    \"\"\"\n",
    "    if set(val_acc.keys()) != set(global_acc.keys()):\n",
    "        raise ValueError(\"Client IDs for validation and global accuracy do not match.\")\n",
    "\n",
    "    performance_bias_list = []\n",
    "    for client_id in val_acc:\n",
    "        val = val_acc[client_id]\n",
    "        global_val = global_acc[client_id]\n",
    "        max_val = max(val, global_val)\n",
    "\n",
    "        if max_val == 0:\n",
    "            performance_bias = 0\n",
    "        else:\n",
    "            performance_bias = abs(val - global_val) / max_val\n",
    "        performance_bias_list.append(performance_bias)\n",
    "\n",
    "    return performance_bias_list"
   ]
  },
  {
   "cell_type": "markdown",
   "id": "c62f94b9",
   "metadata": {},
   "source": [
    "##### Replace above Metric Helper Functions by below updated version that use disctionaries instead of Lists"
   ]
  },
  {
   "cell_type": "code",
   "execution_count": 52,
   "id": "d6a847f5",
   "metadata": {},
   "outputs": [],
   "source": [
    "# --- Replace ALL old metric helpers with these dictionary-based versions ---\n",
    "\n",
    "def calculate_relative_loss_reduction_as_list(client_losses):\n",
    "    \"\"\"Calculates RF_loss. Returns a DICTIONARY {cid: score}.\"\"\"\n",
    "    loss_reductions = {}\n",
    "    for cid, losses in client_losses.items():\n",
    "        if losses and len(losses) >= 2:\n",
    "            loss_reductions[cid] = losses[0] - losses[-1]\n",
    "\n",
    "    if not loss_reductions: return {cid: 0.0 for cid in client_losses.keys()}\n",
    "    max_loss_reduction = max(loss_reductions.values())\n",
    "    if max_loss_reduction == 0: return {cid: 0.0 for cid in client_losses.keys()}\n",
    "    \n",
    "    return {cid: loss_reductions.get(cid, 0.0) / max_loss_reduction for cid in client_losses.keys()}\n",
    "\n",
    "def calculate_relative_train_accuracy(client_acc):\n",
    "    \"\"\"Calculates RF_ACC_Train. Returns a DICTIONARY {cid: score}.\"\"\"\n",
    "    if not client_acc: return {}\n",
    "    max_acc = max(client_acc.values())\n",
    "    if max_acc == 0: return {cid: 0.0 for cid in client_acc.keys()}\n",
    "    return {cid: acc / max_acc for cid, acc in client_acc.items()}\n",
    "\n",
    "def calculate_global_validation_accuracy(train_acc, global_acc):\n",
    "    \"\"\"Calculates RF_ACC_Global. Returns a DICTIONARY {cid: score}.\"\"\"\n",
    "    if not train_acc or not global_acc: return {}\n",
    "    max_global_acc = max(global_acc.values()) if global_acc else 0\n",
    "    if max_global_acc == 0: max_global_acc = 1.0\n",
    "\n",
    "    global_train_diff = {cid: global_acc.get(cid, 0) - train_acc.get(cid, 0) for cid in train_acc.keys()}\n",
    "    max_global_train_diff = max(global_train_diff.values()) if global_train_diff else 0\n",
    "    if max_global_train_diff == 0: max_global_train_diff = 1.0\n",
    "    \n",
    "    return {cid: (global_acc.get(cid, 0) / max_global_acc) - (diff / max_global_train_diff) for cid, diff in global_train_diff.items()}\n",
    "\n",
    "def calculate_loss_outliers(client_losses, lambda_loss=1.5):\n",
    "    \"\"\"Calculates P_loss. Returns a DICTIONARY {cid: score}.\"\"\"\n",
    "    final_losses = {cid: losses[-1] for cid, losses in client_losses.items() if losses}\n",
    "    if not final_losses: return {cid: 0.0 for cid in client_losses.keys()}\n",
    "\n",
    "    loss_values = np.array(list(final_losses.values()))\n",
    "    mean_loss, std_loss = np.mean(loss_values), np.std(loss_values)\n",
    "    threshold = mean_loss + lambda_loss * std_loss\n",
    "    max_loss = np.max(loss_values)\n",
    "    if max_loss == 0: return {cid: 0.0 for cid in client_losses.keys()}\n",
    "    \n",
    "    all_client_scores = {}\n",
    "    for cid in client_losses.keys():\n",
    "        final_loss = final_losses.get(cid, 0.0)\n",
    "        score = final_loss / max_loss if final_loss > threshold else 0.0\n",
    "        all_client_scores[cid] = score\n",
    "    return all_client_scores\n",
    "\n",
    "def calculate_performance_bias(val_acc, global_acc):\n",
    "    \"\"\"Calculates P_bias. Returns a DICTIONARY {cid: score}.\"\"\"\n",
    "    if not val_acc: return {}\n",
    "    \n",
    "    bias_dict = {}\n",
    "    for cid, val in val_acc.items():\n",
    "        global_val = global_acc.get(cid, 0.0)\n",
    "        max_val = max(val, global_val)\n",
    "        bias = 0.0 if max_val == 0 else abs(val - global_val) / max_val\n",
    "        bias_dict[cid] = bias\n",
    "    return bias_dict"
   ]
  },
  {
   "cell_type": "markdown",
   "id": "e2dfd596",
   "metadata": {},
   "source": [
    "Excellent. Now that we have the functions to score each client, we need the final step: the algorithms that use these scores to select which clients will participate in a given round."
   ]
  },
  {
   "cell_type": "markdown",
   "id": "626cecd1",
   "metadata": {},
   "source": [
    "### Client Selection Algorithms\n",
    "1. Pareto Optimization\n",
    "\n",
    "This is a powerful technique used when you have multiple, often conflicting, objectives. Instead of combining all metrics into one score, it tries to find a set of clients that represent the best possible trade-offs.\n",
    "\n",
    "A client is considered \"Pareto optimal\" if no other client is better than it across all metrics. The algorithm first finds this set of optimal clients.\n",
    "\n",
    "If there are more optimal clients than needed, it selects a random subset.\n",
    "\n",
    "If there are fewer, it fills the remaining spots by picking the clients with the best-combined performance score."
   ]
  },
  {
   "cell_type": "code",
   "execution_count": null,
   "id": "25f90e08",
   "metadata": {},
   "outputs": [],
   "source": [
    "def pareto_optimization(rf_loss, rf_acc_train, rf_acc_val, rf_acc_global, p_loss, p_bias, client_num, client_ids):\n",
    "    \"\"\"Implements Pareto optimization to select clients.\"\"\"\n",
    "    # Convert metric dicts to a numpy array, ensuring a consistent order via client_ids\n",
    "    data_points = [\n",
    "        np.array([rf_loss.get(cid, 0), rf_acc_train.get(cid, 0), rf_acc_val.get(cid, 0),\n",
    "                  rf_acc_global.get(cid, 0), -p_loss.get(cid, 0), -p_bias.get(cid, 0)])\n",
    "        for cid in client_ids\n",
    "    ]\n",
    "    data = np.array(data_points)\n",
    "\n",
    "    def is_dominated(point, others):\n",
    "        \"\"\"Checks if a point is dominated by any other point in the set.\"\"\"\n",
    "        return any(np.all(other >= point) and np.any(other > point) for other in others)\n",
    "\n",
    "    # Find the indices of non-dominated clients\n",
    "    pareto_indices = [i for i, point in enumerate(data) if not is_dominated(point, np.delete(data, i, axis=0))]\n",
    "    # Map indices back to client IDs\n",
    "    pareto_cids = [client_ids[i] for i in pareto_indices]\n",
    "\n",
    "    # If the pareto front is large enough, sample from it\n",
    "    if len(pareto_cids) >= client_num:\n",
    "        return random.sample(pareto_cids, client_num)\n",
    "    \n",
    "    # Otherwise, fill the remaining slots based on a weighted score\n",
    "    pareto_scores = {cid: 0.4 * rf_loss.get(cid, 0) + 0.6 * rf_acc_global.get(cid, 0) for cid in client_ids}\n",
    "    sorted_cids = sorted(client_ids, key=lambda cid: pareto_scores.get(cid, 0), reverse=True)\n",
    "    \n",
    "    selected_clients = set(pareto_cids)\n",
    "    for cid in sorted_cids:\n",
    "        if len(selected_clients) >= client_num:\n",
    "            break\n",
    "        selected_clients.add(cid)\n",
    "        \n",
    "    return list(selected_clients)"
   ]
  },
  {
   "cell_type": "markdown",
   "id": "c5ebf65c",
   "metadata": {},
   "source": [
    "2. Weighted Sum Method (5RF)\n",
    "\n",
    "This is a more straightforward approach. It calculates a single comprehensive score for each client by taking a weighted sum of all the metrics. Clients with the highest final scores are selected. The weights (0.2, 0.1, 0.3, etc.) determine the importance of each metric."
   ]
  },
  {
   "cell_type": "code",
   "execution_count": 50,
   "id": "bb04b0ac",
   "metadata": {},
   "outputs": [],
   "source": [
    "def pareto_optimization(rf_loss, rf_acc_train, rf_acc_val, rf_acc_global, p_loss, p_bias, client_num, client_ids):\n",
    "    \"\"\"Implements Pareto optimization to select clients.\"\"\"\n",
    "    # Convert metric dicts to a numpy array, ensuring a consistent order via client_ids\n",
    "    data_points = [\n",
    "        np.array([rf_loss.get(cid, 0), rf_acc_train.get(cid, 0), rf_acc_val.get(cid, 0),\n",
    "                  rf_acc_global.get(cid, 0), -p_loss.get(cid, 0), -p_bias.get(cid, 0)])\n",
    "        for cid in client_ids\n",
    "    ]\n",
    "    data = np.array(data_points)\n",
    "\n",
    "    def is_dominated(point, others):\n",
    "        \"\"\"Checks if a point is dominated by any other point in the set.\"\"\"\n",
    "        return any(np.all(other >= point) and np.any(other > point) for other in others)\n",
    "\n",
    "    # Find the indices of non-dominated clients\n",
    "    pareto_indices = [i for i, point in enumerate(data) if not is_dominated(point, np.delete(data, i, axis=0))]\n",
    "    # Map indices back to client IDs\n",
    "    pareto_cids = [client_ids[i] for i in pareto_indices]\n",
    "\n",
    "    # If the pareto front is large enough, sample from it\n",
    "    if len(pareto_cids) >= client_num:\n",
    "        return random.sample(pareto_cids, client_num)\n",
    "    \n",
    "    # Otherwise, fill the remaining slots based on a weighted score\n",
    "    pareto_scores = {cid: 0.4 * rf_loss.get(cid, 0) + 0.6 * rf_acc_global.get(cid, 0) for cid in client_ids}\n",
    "    sorted_cids = sorted(client_ids, key=lambda cid: pareto_scores.get(cid, 0), reverse=True)\n",
    "    \n",
    "    selected_clients = set(pareto_cids)\n",
    "    for cid in sorted_cids:\n",
    "        if len(selected_clients) >= client_num:\n",
    "            break\n",
    "        selected_clients.add(cid)\n",
    "        \n",
    "    return list(selected_clients)"
   ]
  },
  {
   "cell_type": "markdown",
   "id": "ee125dce",
   "metadata": {},
   "source": [
    "## Step 2: The AI's Brain (The Model Definition)\n",
    "We have the data pipeline and the client selection logic. Now it's time to build the brain of the operation: the neural network model itself.\n",
    "\n",
    "The model, ModelCSVIMG, is a multi-modal neural network. This means it's designed to accept and process multiple types of data at once. It has three distinct input branches:\n",
    "\n",
    "One for the numerical sensor (CSV) data.\n",
    "\n",
    "One for the images from camera 1.\n",
    "\n",
    "One for the images from camera 2.\n",
    "\n",
    "The features extracted from each branch are then combined (fused) and passed to a final set of layers that perform the classification. The original code contains a few versions of the architecture; we will use the final, most complex one.\n",
    "\n",
    "Add the complete model class to your script:"
   ]
  },
  {
   "cell_type": "code",
   "execution_count": 43,
   "id": "218bbd08",
   "metadata": {},
   "outputs": [],
   "source": [
    "class ModelCSVIMG(nn.Module):\n",
    "    def __init__(self, num_csv_features, img_shape1, img_shape2):\n",
    "        super(ModelCSVIMG, self).__init__()\n",
    "\n",
    "        # --- Branch 1: For processing numerical CSV data ---\n",
    "        self.csv_fc_1 = nn.Linear(num_csv_features, 2000)\n",
    "        self.csv_bn_1 = nn.BatchNorm1d(2000)\n",
    "        self.csv_fc_2 = nn.Linear(2000, 600)\n",
    "        self.csv_bn_2 = nn.BatchNorm1d(600)\n",
    "        self.csv_dropout = nn.Dropout(0.2)\n",
    "\n",
    "        # --- Branch 2: For processing images from Camera 1 (CNN) ---\n",
    "        self.img1_conv_1 = nn.Conv2d(in_channels=1, out_channels=18, kernel_size=3, stride=1, padding=1)\n",
    "        self.img1_batch_norm = nn.BatchNorm2d(18)\n",
    "        self.img1_pool = nn.MaxPool2d(kernel_size=2, stride=2)\n",
    "        # Flattened features from the CNN go into a fully connected layer\n",
    "        self.img1_fc1 = nn.Linear(18 * 16 * 16, 100)\n",
    "        self.img1_dropout = nn.Dropout(0.2)\n",
    "\n",
    "        # --- Branch 3: For processing images from Camera 2 (identical to Branch 2) ---\n",
    "        self.img2_conv = nn.Conv2d(in_channels=1, out_channels=18, kernel_size=3, stride=1, padding=1)\n",
    "        self.img2_batch_norm = nn.BatchNorm2d(18)\n",
    "        self.img2_pool = nn.MaxPool2d(kernel_size=2, stride=2)\n",
    "        self.img2_fc1 = nn.Linear(18 * 16 * 16, 100)\n",
    "        self.img2_dropout = nn.Dropout(0.2)\n",
    "\n",
    "        # --- Fusion and Final Classification Layers ---\n",
    "        # The input size is 600 (from CSV) + 100 (from Image 1) + 100 (from Image 2) = 800\n",
    "        self.fc1 = nn.Linear(800, 1200)\n",
    "        self.dr1 = nn.Dropout(0.2)\n",
    "        # A residual connection is used here: input to fc2 is the original 800 + output of fc1 (1200) = 2000\n",
    "        self.fc2 = nn.Linear(2000, 12) # 12 output classes\n",
    "\n",
    "    def forward(self, x_csv, x_img1, x_img2):\n",
    "        # --- Process CSV data ---\n",
    "        x_csv = F.relu(self.csv_bn_1(self.csv_fc_1(x_csv)))\n",
    "        x_csv = F.relu(self.csv_bn_2(self.csv_fc_2(x_csv)))\n",
    "        x_csv = self.csv_dropout(x_csv)\n",
    "\n",
    "        # --- Process Image 1 data ---\n",
    "        # Reshape image from (batch, height, width, channels) to (batch, channels, height, width)\n",
    "        x_img1 = x_img1.permute(0, 3, 1, 2)\n",
    "        x_img1 = F.relu(self.img1_conv_1(x_img1))\n",
    "        x_img1 = self.img1_batch_norm(x_img1)\n",
    "        x_img1 = self.img1_pool(x_img1)\n",
    "        x_img1 = x_img1.contiguous().view(x_img1.size(0), -1) # Flatten\n",
    "        x_img1 = F.relu(self.img1_fc1(x_img1))\n",
    "        x_img1 = self.img1_dropout(x_img1)\n",
    "\n",
    "        # --- Process Image 2 data ---\n",
    "        x_img2 = x_img2.permute(0, 3, 1, 2)\n",
    "        x_img2 = F.relu(self.img2_conv(x_img2))\n",
    "        x_img2 = self.img2_batch_norm(x_img2)\n",
    "        x_img2 = self.img2_pool(x_img2)\n",
    "        x_img2 = x_img2.contiguous().view(x_img2.size(0), -1) # Flatten\n",
    "        x_img2 = F.relu(self.img2_fc1(x_img2))\n",
    "        x_img2 = self.img2_dropout(x_img2)\n",
    "\n",
    "        # --- Fusion ---\n",
    "        x = torch.cat((x_csv, x_img1, x_img2), dim=1)\n",
    "        residual = x # Keep a copy for the residual connection\n",
    "        \n",
    "        # --- Final layers ---\n",
    "        x = F.relu(self.fc1(x))\n",
    "        x = self.dr1(x)\n",
    "        # Concatenate the residual connection\n",
    "        x = torch.cat((residual, x), dim=1)\n",
    "        # Final output with softmax for classification\n",
    "        x = F.softmax(self.fc2(x), dim=1)\n",
    "\n",
    "        return x"
   ]
  },
  {
   "cell_type": "markdown",
   "id": "fed243d7",
   "metadata": {},
   "source": [
    "## Step 3: Define Training and Testing Functions\n",
    "Instead of methods inside a Client class, we'll create standalone train and test functions. This makes the code cleaner. This logic is taken directly from your train_one_epoch and validate functions."
   ]
  },
  {
   "cell_type": "code",
   "execution_count": 44,
   "id": "24327736",
   "metadata": {},
   "outputs": [],
   "source": [
    "def train(net, trainloader, epochs):\n",
    "    \"\"\"Train the model and return the list of losses.\"\"\"\n",
    "    criterion = torch.nn.CrossEntropyLoss()\n",
    "    optimizer = torch.optim.Adam(net.parameters(), lr=0.001)\n",
    "    net.train()\n",
    "    losses = []\n",
    "    for _ in range(epochs):\n",
    "        epoch_loss = 0.0\n",
    "        for batch in trainloader:\n",
    "            data1, data2, data3, target = batch\n",
    "            data1, data2, data3, target = data1.to(DEVICE).float(), data2.to(DEVICE).float(), data3.to(DEVICE).float(), target.to(DEVICE).float()\n",
    "            optimizer.zero_grad()\n",
    "            loss = criterion(net(data1, data2, data3), target)\n",
    "            loss.backward()\n",
    "            optimizer.step()\n",
    "            epoch_loss += loss.item()\n",
    "        losses.append(epoch_loss / len(trainloader))\n",
    "    return losses # Return the history of losses\n",
    "\n",
    "def test(net, testloader):\n",
    "    \"\"\"Validate the model on the test set.\"\"\"\n",
    "    criterion = torch.nn.CrossEntropyLoss()\n",
    "    correct, total, loss = 0, 0, 0.0\n",
    "    net.eval()\n",
    "    with torch.no_grad():\n",
    "        for batch in tqdm(testloader, \"Testing\"):\n",
    "            data1, data2, data3, target = batch\n",
    "            data1, data2, data3, target = data1.to(DEVICE).float(), data2.to(DEVICE).float(), data3.to(DEVICE).float(), target.to(DEVICE).float()\n",
    "            outputs = net(data1, data2, data3)\n",
    "            loss += criterion(outputs, target).item()\n",
    "            _, predicted = torch.max(outputs.data, 1)\n",
    "            total += target.size(0)\n",
    "            correct += (predicted == torch.max(target, 1)[1]).sum().item()\n",
    "    accuracy = correct / total\n",
    "    return loss / len(testloader), accuracy"
   ]
  },
  {
   "cell_type": "markdown",
   "id": "17e1123f",
   "metadata": {},
   "source": [
    "## Step 4: Create the Flower Client\n",
    "This is where Flower really comes in. We'll replace your custom Client class with a FlowerClient that inherits from Flower's NumPyClient. This class tells Flower how each client should handle parameters received from the server and how to perform local training and evaluation."
   ]
  },
  {
   "cell_type": "code",
   "execution_count": 45,
   "id": "8e0218cd",
   "metadata": {},
   "outputs": [],
   "source": [
    "class FlowerClient(fl.client.NumPyClient):\n",
    "    def __init__(self, cid, net, trainloader, valloader):\n",
    "        self.cid = cid\n",
    "        self.net = net\n",
    "        self.trainloader = trainloader\n",
    "        self.valloader = valloader\n",
    "\n",
    "    def get_parameters(self, config):\n",
    "        return [val.cpu().numpy() for _, val in self.net.state_dict().items()]\n",
    "\n",
    "    def set_parameters(self, parameters):\n",
    "        params_dict = zip(self.net.state_dict().keys(), parameters)\n",
    "        state_dict = OrderedDict({k: torch.tensor(v) for k, v in params_dict})\n",
    "        self.net.load_state_dict(state_dict, strict=True)\n",
    "\n",
    "    def fit(self, parameters, config):\n",
    "        # NEW: Print when a client starts training\n",
    "        print(f\"✅ [Client {self.cid}] Starting training for round {config['server_round']}...\")\n",
    "\n",
    "        self.set_parameters(parameters)\n",
    "        \n",
    "        # Train and get the list of losses\n",
    "        losses = train(self.net, self.trainloader, epochs=3)\n",
    "        \n",
    "        # Also get the local validation accuracy\n",
    "        _, val_acc = test(self.net, self.valloader)\n",
    "\n",
    "        # NEW: Announce completion of training\n",
    "        print(f\"✅ [Client {self.cid}] Finished training.\")\n",
    "        \n",
    "        # Return parameters, dataset size, and our custom metrics dictionary\n",
    "        return self.get_parameters(config={}), len(self.trainloader.dataset), {\n",
    "            \"train_losses\": losses, \n",
    "            \"val_acc\": val_acc\n",
    "        }\n",
    "\n",
    "    def evaluate(self, parameters, config):\n",
    "        # NEW: Print when a client starts evaluation\n",
    "        print(f\"[Client {self.cid}] Starting evaluation...\")\n",
    "\n",
    "        self.set_parameters(parameters)\n",
    "        loss, accuracy = test(self.net, self.valloader)\n",
    "        \n",
    "        # NEW: Print the client's evaluation results\n",
    "        print(f\"✅ [Client {self.cid}] Evaluation results - Loss: {loss:.4f}, Accuracy: {accuracy:.4f}\")\n",
    "\n",
    "        return float(loss), len(self.valloader.dataset), {\"accuracy\": float(accuracy)}"
   ]
  },
  {
   "cell_type": "markdown",
   "id": "da725a3a",
   "metadata": {},
   "source": [
    "## Step 5: Create the ParetoStrategy\n",
    "Now for the main event. We create a new strategy class that collects all the client metrics and uses them to run your Pareto selection logic."
   ]
  },
  {
   "cell_type": "code",
   "execution_count": 46,
   "id": "424950c5",
   "metadata": {},
   "outputs": [],
   "source": [
    "class ParetoStrategy(fl.server.strategy.FedAvg):\n",
    "    def __init__(self, *args, **kwargs):\n",
    "        super().__init__(*args, **kwargs)\n",
    "        self.client_fit_metrics = {}\n",
    "        self.client_eval_metrics = {}\n",
    "\n",
    "        # NEW: Define a function to create the config for clients\n",
    "        def on_fit_config_fn(server_round: int):\n",
    "            \"\"\"Return a configuration dictionary for the clients.\"\"\"\n",
    "            config = {\"server_round\": server_round}\n",
    "            return config\n",
    "        \n",
    "        # NEW: Assign this function to the strategy\n",
    "        self.on_fit_config_fn = on_fit_config_fn\n",
    "\n",
    "    def aggregate_fit(self, server_round, results, failures):\n",
    "        for _, fit_res in results:\n",
    "            if fit_res.metrics:\n",
    "                self.client_fit_metrics[fit_res.client.cid] = fit_res.metrics\n",
    "        return super().aggregate_fit(server_round, results, failures)\n",
    "\n",
    "    def aggregate_evaluate(self, server_round, results, failures):\n",
    "        # NEW: Announce that the server has received evaluation results\n",
    "        print(f\"✅ --- Server received {len(results)} evaluation results in round {server_round} ---\")\n",
    "        for client, eval_res in results:\n",
    "            self.client_eval_metrics[client.cid] = {\"accuracy\": eval_res.metrics[\"accuracy\"]}\n",
    "        return super().aggregate_evaluate(server_round, results, failures)\n",
    "\n",
    "    def configure_fit(self, server_round, parameters, client_manager):\n",
    "        if server_round == 1:\n",
    "            print(\"--- Round 1: Selecting clients randomly ---\")\n",
    "            return super().configure_fit(server_round, parameters, client_manager)\n",
    "\n",
    "        all_cids = list(client_manager.clients.keys())\n",
    "        train_losses = {cid: self.client_fit_metrics.get(cid, {}).get(\"train_losses\", []) for cid in all_cids}\n",
    "        local_val_acc = {cid: self.client_fit_metrics.get(cid, {}).get(\"val_acc\", 0.0) for cid in all_cids}\n",
    "        local_train_acc_for_rf = local_val_acc\n",
    "        global_eval_acc = {cid: self.client_eval_metrics.get(cid, {}).get(\"accuracy\", 0.0) for cid in all_cids}\n",
    "        \n",
    "        rf_loss = calculate_relative_loss_reduction_as_list(train_losses)\n",
    "        rf_acc_train = calculate_relative_train_accuracy(local_train_acc_for_rf)\n",
    "        rf_acc_val = calculate_relative_train_accuracy(local_val_acc)\n",
    "        rf_acc_global = calculate_global_validation_accuracy(local_train_acc_for_rf, global_eval_acc)\n",
    "        p_loss = calculate_loss_outliers(train_losses)\n",
    "        p_bias = calculate_performance_bias(local_val_acc, global_eval_acc)\n",
    "        \n",
    "        num_to_select = int(self.fraction_fit * len(all_cids))\n",
    "        selected_cids = pareto_optimization(\n",
    "            rf_loss, rf_acc_train, rf_acc_val, rf_acc_global, p_loss, p_bias,\n",
    "            num_to_select, all_cids\n",
    "        )\n",
    "        \n",
    "        # NEW: Announce which clients were selected by the strategy\n",
    "        print(f\"✅ --- Pareto selection for round {server_round} chose clients: {selected_cids} ---\")\n",
    "\n",
    "        clients = [client_manager.clients[cid] for cid in selected_cids]\n",
    "        config = self.on_fit_config_fn(server_round)\n",
    "        return [(client, config) for client in clients]"
   ]
  },
  {
   "cell_type": "markdown",
   "id": "ee359c6b",
   "metadata": {},
   "source": [
    "## Step 5: The main Function - Bringing It All Together\n",
    "Finally, we rewrite the main function. This is where we will:\n",
    "\n",
    "Load all the client data just once.\n",
    "\n",
    "Define a client_fn. Flower uses this function to create clients on demand for the simulation.\n",
    "\n",
    "Define a server-side evaluation function (get_evaluate_fn) so the server can test the global model's performance on a held-out test set after each round.\n",
    "\n",
    "Configure and start the Flower simulation."
   ]
  },
  {
   "cell_type": "code",
   "execution_count": null,
   "id": "619bbfcb",
   "metadata": {},
   "outputs": [
    {
     "name": "stdout",
     "output_type": "stream",
     "text": [
      "✅ Loading data for all clients...\n"
     ]
    },
    {
     "name": "stderr",
     "output_type": "stream",
     "text": [
      "\u001b[93mWARNING \u001b[0m:   DEPRECATED FEATURE: flwr.simulation.start_simulation() is deprecated.\n",
      "\tInstead, use the `flwr run` CLI command to start a local simulation in your Flower app, as shown for example below:\n",
      "\n",
      "\t\t$ flwr new  # Create a new Flower app from a template\n",
      "\n",
      "\t\t$ flwr run  # Run the Flower app in Simulation Mode\n",
      "\n",
      "\tUsing `start_simulation()` is deprecated.\n",
      "\n",
      "            This is a deprecated feature. It will be removed\n",
      "            entirely in future versions of Flower.\n",
      "        \n",
      "\u001b[92mINFO \u001b[0m:      Starting Flower simulation, config: num_rounds=50, no round_timeout\n"
     ]
    },
    {
     "name": "stdout",
     "output_type": "stream",
     "text": [
      "✅ Data for 12 clients loaded successfully.\n",
      "✅ Starting Flower simulation with Pareto Strategy...\n"
     ]
    },
    {
     "name": "stderr",
     "output_type": "stream",
     "text": [
      "2025-08-20 14:35:45,107\tINFO worker.py:1771 -- Started a local Ray instance.\n",
      "\u001b[92mINFO \u001b[0m:      Flower VCE: Ray initialized with resources: {'accelerator_type:G': 1.0, 'node:__internal_head__': 1.0, 'node:172.30.170.62': 1.0, 'CPU': 16.0, 'memory': 8772833280.0, 'object_store_memory': 4386416640.0, 'GPU': 1.0}\n",
      "\u001b[92mINFO \u001b[0m:      Optimize your simulation with Flower VCE: https://flower.ai/docs/framework/how-to-run-simulations.html\n",
      "\u001b[92mINFO \u001b[0m:      Flower VCE: Resources for each Virtual Client: {'num_cpus': 2, 'num_gpus': 0.5}\n",
      "\u001b[92mINFO \u001b[0m:      Flower VCE: Creating VirtualClientEngineActorPool with 2 actors\n",
      "\u001b[92mINFO \u001b[0m:      [INIT]\n",
      "\u001b[92mINFO \u001b[0m:      Requesting initial parameters from one random client\n",
      "\u001b[36m(ClientAppActor pid=263069)\u001b[0m \u001b[93mWARNING \u001b[0m:   DEPRECATED FEATURE: `client_fn` now expects a signature `def client_fn(context: Context)`.The provided `client_fn` has signature: {'cid': <Parameter \"cid: str\">}. You can import the `Context` like this: `from flwr.common import Context`\n",
      "\u001b[36m(ClientAppActor pid=263069)\u001b[0m \n",
      "\u001b[36m(ClientAppActor pid=263069)\u001b[0m             This is a deprecated feature. It will be removed\n",
      "\u001b[36m(ClientAppActor pid=263069)\u001b[0m             entirely in future versions of Flower.\n",
      "\u001b[36m(ClientAppActor pid=263069)\u001b[0m         \n",
      "\u001b[92mINFO \u001b[0m:      Received initial parameters from one random client\n",
      "\u001b[92mINFO \u001b[0m:      Starting evaluation of initial global parameters\n",
      "Testing: 100%|██████████| 91/91 [00:00<00:00, 255.29it/s]\n",
      "\u001b[92mINFO \u001b[0m:      initial parameters (loss, other metrics): 2.484785108775883, {'accuracy': 0.19553169379979218}\n",
      "\u001b[92mINFO \u001b[0m:      \n",
      "\u001b[92mINFO \u001b[0m:      [ROUND 1]\n",
      "\u001b[92mINFO \u001b[0m:      configure_fit: strategy sampled 6 clients (out of 12)\n"
     ]
    },
    {
     "name": "stdout",
     "output_type": "stream",
     "text": [
      "============================================================\n",
      "✅ ROUND 0 SUMMARY - Global Model Performance:\n",
      "   Loss: 2.4848 | Accuracy: 0.1955\n",
      "============================================================\n",
      "--- Round 1: Selecting clients randomly ---\n",
      "\u001b[36m(ClientAppActor pid=263069)\u001b[0m ✅ [Client 0] Starting training for round 1...\n"
     ]
    },
    {
     "name": "stderr",
     "output_type": "stream",
     "text": [
      "\u001b[36m(ClientAppActor pid=263069)\u001b[0m \u001b[93mWARNING \u001b[0m:   DEPRECATED FEATURE: `client_fn` now expects a signature `def client_fn(context: Context)`.The provided `client_fn` has signature: {'cid': <Parameter \"cid: str\">}. You can import the `Context` like this: `from flwr.common import Context`\n",
      "\u001b[36m(ClientAppActor pid=263069)\u001b[0m \n",
      "\u001b[36m(ClientAppActor pid=263069)\u001b[0m             This is a deprecated feature. It will be removed\n",
      "\u001b[36m(ClientAppActor pid=263069)\u001b[0m             entirely in future versions of Flower.\n",
      "\u001b[36m(ClientAppActor pid=263069)\u001b[0m         \n",
      "\u001b[36m(ClientAppActor pid=263069)\u001b[0m /home/syed/miniconda3/envs/flwr/lib/python3.10/site-packages/torch/utils/data/_utils/collate.py:285: UserWarning: The given NumPy array is not writable, and PyTorch does not support non-writable tensors. This means writing to this tensor will result in undefined behavior. You may want to copy the array to protect its data or make it writable before converting it to a tensor. This type of warning will be suppressed for the rest of this program. (Triggered internally at /pytorch/torch/csrc/utils/tensor_numpy.cpp:203.)\n",
      "\u001b[36m(ClientAppActor pid=263069)\u001b[0m   return collate([torch.as_tensor(b) for b in batch], collate_fn_map=collate_fn_map)\n",
      "Testing:   0%|          | 0/93 [00:00<?, ?it/s]\n",
      "Testing:   9%|▊         | 8/93 [00:00<00:01, 79.76it/s]\n",
      "Testing:  30%|███       | 28/93 [00:00<00:00, 149.30it/s]\n",
      "Testing:  56%|█████▌    | 52/93 [00:00<00:00, 189.64it/s]\n"
     ]
    },
    {
     "name": "stdout",
     "output_type": "stream",
     "text": [
      "\u001b[36m(ClientAppActor pid=263069)\u001b[0m ✅ [Client 0] Finished training.\n"
     ]
    },
    {
     "name": "stderr",
     "output_type": "stream",
     "text": [
      "Testing: 100%|██████████| 93/93 [00:00<00:00, 205.37it/s]\n",
      "\u001b[36m(raylet)\u001b[0m Spilled 3375 MiB, 1 objects, write throughput 281 MiB/s. Set RAY_verbose_spill_logs=0 to disable this message.\n",
      "\u001b[36m(ClientAppActor pid=263069)\u001b[0m \u001b[93mWARNING \u001b[0m:   DEPRECATED FEATURE: `client_fn` now expects a signature `def client_fn(context: Context)`.The provided `client_fn` has signature: {'cid': <Parameter \"cid: str\">}. You can import the `Context` like this: `from flwr.common import Context`\n",
      "\u001b[36m(ClientAppActor pid=263069)\u001b[0m \n",
      "\u001b[36m(ClientAppActor pid=263069)\u001b[0m             This is a deprecated feature. It will be removed\n",
      "\u001b[36m(ClientAppActor pid=263069)\u001b[0m             entirely in future versions of Flower.\n",
      "\u001b[36m(ClientAppActor pid=263069)\u001b[0m         \n"
     ]
    },
    {
     "name": "stdout",
     "output_type": "stream",
     "text": [
      "\u001b[36m(ClientAppActor pid=263069)\u001b[0m ✅ [Client 6] Starting training for round 1...\n"
     ]
    },
    {
     "name": "stderr",
     "output_type": "stream",
     "text": [
      "\u001b[36m(ClientAppActor pid=263068)\u001b[0m \n",
      "\u001b[36m(ClientAppActor pid=263068)\u001b[0m         \n",
      "\u001b[36m(ClientAppActor pid=263068)\u001b[0m /home/syed/miniconda3/envs/flwr/lib/python3.10/site-packages/torch/utils/data/_utils/collate.py:285: UserWarning: The given NumPy array is not writable, and PyTorch does not support non-writable tensors. This means writing to this tensor will result in undefined behavior. You may want to copy the array to protect its data or make it writable before converting it to a tensor. This type of warning will be suppressed for the rest of this program. (Triggered internally at /pytorch/torch/csrc/utils/tensor_numpy.cpp:203.)\n",
      "\u001b[36m(ClientAppActor pid=263068)\u001b[0m   return collate([torch.as_tensor(b) for b in batch], collate_fn_map=collate_fn_map)\n",
      "Testing:   0%|          | 0/98 [00:00<?, ?it/s]\n",
      "\u001b[36m(ClientAppActor pid=263068)\u001b[0m \u001b[93mWARNING \u001b[0m:   DEPRECATED FEATURE: `client_fn` now expects a signature `def client_fn(context: Context)`.The provided `client_fn` has signature: {'cid': <Parameter \"cid: str\">}. You can import the `Context` like this: `from flwr.common import Context`\n",
      "\u001b[36m(ClientAppActor pid=263068)\u001b[0m             This is a deprecated feature. It will be removed\n",
      "\u001b[36m(ClientAppActor pid=263068)\u001b[0m             entirely in future versions of Flower.\n",
      "Testing:  19%|█▉        | 19/98 [00:00<00:00, 187.07it/s]\n",
      "Testing:  39%|███▉      | 38/98 [00:00<00:00, 182.33it/s]\n",
      "Testing:  60%|██████    | 59/98 [00:00<00:00, 193.67it/s]\n",
      "Testing:  84%|████████▎ | 82/98 [00:00<00:00, 206.08it/s]\n",
      "Testing: 100%|██████████| 98/98 [00:00<00:00, 182.55it/s]\n"
     ]
    },
    {
     "name": "stdout",
     "output_type": "stream",
     "text": [
      "\u001b[36m(ClientAppActor pid=263069)\u001b[0m ✅ [Client 6] Finished training.\n",
      "\u001b[36m(ClientAppActor pid=263068)\u001b[0m ✅ [Client 1] Starting training for round 1...\n"
     ]
    },
    {
     "name": "stderr",
     "output_type": "stream",
     "text": [
      "Testing:   0%|          | 0/93 [00:00<?, ?it/s]\n",
      "Testing:  65%|██████▍   | 60/93 [00:00<00:00, 85.94it/s]\u001b[32m [repeated 7x across cluster]\u001b[0m\n",
      "Testing: 100%|██████████| 93/93 [00:01<00:00, 74.75it/s]\u001b[32m [repeated 2x across cluster]\u001b[0m\n"
     ]
    },
    {
     "name": "stdout",
     "output_type": "stream",
     "text": [
      "\u001b[36m(ClientAppActor pid=263068)\u001b[0m ✅ [Client 1] Finished training.\n"
     ]
    },
    {
     "name": "stderr",
     "output_type": "stream",
     "text": [
      "\u001b[36m(raylet)\u001b[0m Spilled 6750 MiB, 2 objects, write throughput 188 MiB/s.\n",
      "Testing:  85%|████████▍ | 79/93 [00:01<00:00, 88.68it/s]\u001b[32m [repeated 2x across cluster]\u001b[0m\n",
      "\u001b[36m(ClientAppActor pid=263069)\u001b[0m \u001b[93mWARNING \u001b[0m:   DEPRECATED FEATURE: `client_fn` now expects a signature `def client_fn(context: Context)`.The provided `client_fn` has signature: {'cid': <Parameter \"cid: str\">}. You can import the `Context` like this: `from flwr.common import Context`\n",
      "\u001b[36m(ClientAppActor pid=263069)\u001b[0m \n",
      "\u001b[36m(ClientAppActor pid=263069)\u001b[0m             This is a deprecated feature. It will be removed\n",
      "\u001b[36m(ClientAppActor pid=263069)\u001b[0m             entirely in future versions of Flower.\n",
      "\u001b[36m(ClientAppActor pid=263069)\u001b[0m         \n"
     ]
    },
    {
     "name": "stdout",
     "output_type": "stream",
     "text": [
      "\u001b[36m(ClientAppActor pid=263069)\u001b[0m ✅ [Client 11] Starting training for round 1...\n"
     ]
    },
    {
     "name": "stderr",
     "output_type": "stream",
     "text": [
      "Testing:   0%|          | 0/91 [00:00<?, ?it/s]\n",
      "\u001b[36m(raylet)\u001b[0m Spilled 10138 MiB, 4 objects, write throughput 253 MiB/s.\n",
      "Testing:  30%|██▉       | 27/91 [00:00<00:00, 269.55it/s]\n",
      "Testing:  64%|██████▎   | 58/91 [00:00<00:00, 288.65it/s]\n",
      "Testing: 100%|██████████| 91/91 [00:00<00:00, 286.81it/s]\n"
     ]
    },
    {
     "name": "stdout",
     "output_type": "stream",
     "text": [
      "\u001b[36m(ClientAppActor pid=263069)\u001b[0m ✅ [Client 11] Finished training.\n"
     ]
    },
    {
     "name": "stderr",
     "output_type": "stream",
     "text": [
      "\u001b[36m(ClientAppActor pid=263068)\u001b[0m \u001b[93mWARNING \u001b[0m:   DEPRECATED FEATURE: `client_fn` now expects a signature `def client_fn(context: Context)`.The provided `client_fn` has signature: {'cid': <Parameter \"cid: str\">}. You can import the `Context` like this: `from flwr.common import Context`\n",
      "\u001b[36m(ClientAppActor pid=263068)\u001b[0m \n",
      "\u001b[36m(ClientAppActor pid=263068)\u001b[0m             This is a deprecated feature. It will be removed\n",
      "\u001b[36m(ClientAppActor pid=263068)\u001b[0m             entirely in future versions of Flower.\n",
      "\u001b[36m(ClientAppActor pid=263068)\u001b[0m         \n"
     ]
    },
    {
     "name": "stdout",
     "output_type": "stream",
     "text": [
      "\u001b[36m(ClientAppActor pid=263068)\u001b[0m ✅ [Client 7] Starting training for round 1...\n"
     ]
    },
    {
     "name": "stderr",
     "output_type": "stream",
     "text": [
      "\u001b[36m(ClientAppActor pid=263069)\u001b[0m \n",
      "\u001b[36m(ClientAppActor pid=263069)\u001b[0m         \n",
      "Testing:   0%|          | 0/91 [00:00<?, ?it/s]\n",
      "\u001b[36m(ClientAppActor pid=263069)\u001b[0m \u001b[93mWARNING \u001b[0m:   DEPRECATED FEATURE: `client_fn` now expects a signature `def client_fn(context: Context)`.The provided `client_fn` has signature: {'cid': <Parameter \"cid: str\">}. You can import the `Context` like this: `from flwr.common import Context`\n",
      "\u001b[36m(ClientAppActor pid=263069)\u001b[0m             This is a deprecated feature. It will be removed\n",
      "\u001b[36m(ClientAppActor pid=263069)\u001b[0m             entirely in future versions of Flower.\n",
      "Testing:   8%|▊         | 7/91 [00:00<00:01, 67.52it/s]\n",
      "Testing:  16%|█▋        | 15/91 [00:00<00:01, 74.12it/s]\n",
      "Testing:  26%|██▋       | 24/91 [00:00<00:00, 77.98it/s]\n",
      "Testing:  36%|███▋      | 33/91 [00:00<00:00, 79.98it/s]\n",
      "Testing:  46%|████▌     | 42/91 [00:00<00:00, 82.01it/s]\n",
      "Testing:  59%|█████▉    | 54/91 [00:00<00:00, 94.12it/s]\n",
      "Testing:  70%|███████   | 64/91 [00:00<00:00, 94.50it/s]\n",
      "Testing:  82%|████████▏ | 75/91 [00:00<00:00, 96.13it/s]\n",
      "Testing: 100%|██████████| 91/91 [00:00<00:00, 91.45it/s] \n"
     ]
    },
    {
     "name": "stdout",
     "output_type": "stream",
     "text": [
      "\u001b[36m(ClientAppActor pid=263068)\u001b[0m ✅ [Client 7] Finished training.\n",
      "\u001b[36m(ClientAppActor pid=263069)\u001b[0m ✅ [Client 9] Starting training for round 1...\n"
     ]
    },
    {
     "name": "stderr",
     "output_type": "stream",
     "text": [
      "Testing: 100%|██████████| 92/92 [00:00<00:00, 237.02it/s]\n",
      "\u001b[92mINFO \u001b[0m:      aggregate_fit: received 0 results and 6 failures\n",
      "Testing: 100%|██████████| 91/91 [00:00<00:00, 169.96it/s]\n",
      "\u001b[92mINFO \u001b[0m:      fit progress: (1, 2.484785108775883, {'accuracy': 0.19553169379979218}, 70.92234350899889)\n",
      "\u001b[92mINFO \u001b[0m:      configure_evaluate: strategy sampled 12 clients (out of 12)\n"
     ]
    },
    {
     "name": "stdout",
     "output_type": "stream",
     "text": [
      "============================================================\n",
      "✅ ROUND 1 SUMMARY - Global Model Performance:\n",
      "   Loss: 2.4848 | Accuracy: 0.1955\n",
      "============================================================\n"
     ]
    },
    {
     "name": "stderr",
     "output_type": "stream",
     "text": [
      "\u001b[36m(raylet)\u001b[0m Spilled 16913 MiB, 8 objects, write throughput 300 MiB/s.\n",
      "\u001b[36m(ClientAppActor pid=263069)\u001b[0m \u001b[93mWARNING \u001b[0m:   DEPRECATED FEATURE: `client_fn` now expects a signature `def client_fn(context: Context)`.The provided `client_fn` has signature: {'cid': <Parameter \"cid: str\">}. You can import the `Context` like this: `from flwr.common import Context`\n",
      "\u001b[36m(ClientAppActor pid=263069)\u001b[0m \n",
      "\u001b[36m(ClientAppActor pid=263069)\u001b[0m             This is a deprecated feature. It will be removed\n",
      "\u001b[36m(ClientAppActor pid=263069)\u001b[0m             entirely in future versions of Flower.\n",
      "\u001b[36m(ClientAppActor pid=263069)\u001b[0m         \n"
     ]
    },
    {
     "name": "stdout",
     "output_type": "stream",
     "text": [
      "\u001b[36m(ClientAppActor pid=263069)\u001b[0m [Client 5] Starting evaluation...\n"
     ]
    },
    {
     "name": "stderr",
     "output_type": "stream",
     "text": [
      "Testing:   0%|          | 0/95 [00:00<?, ?it/s]\u001b[32m [repeated 2x across cluster]\u001b[0m\n",
      "Testing: 100%|██████████| 95/95 [00:00<00:00, 192.98it/s]\n",
      "Testing:  86%|████████▋ | 82/95 [00:00<00:00, 195.48it/s]\u001b[32m [repeated 7x across cluster]\u001b[0m\n"
     ]
    },
    {
     "name": "stdout",
     "output_type": "stream",
     "text": [
      "\u001b[36m(ClientAppActor pid=263069)\u001b[0m ✅ [Client 5] Evaluation results - Loss: 2.4855, Accuracy: 0.0078\n"
     ]
    },
    {
     "name": "stderr",
     "output_type": "stream",
     "text": [
      "\u001b[36m(ClientAppActor pid=263068)\u001b[0m \n",
      "\u001b[36m(ClientAppActor pid=263068)\u001b[0m         \n",
      "\u001b[36m(ClientAppActor pid=263068)\u001b[0m \u001b[93mWARNING \u001b[0m:   DEPRECATED FEATURE: `client_fn` now expects a signature `def client_fn(context: Context)`.The provided `client_fn` has signature: {'cid': <Parameter \"cid: str\">}. You can import the `Context` like this: `from flwr.common import Context`\n",
      "\u001b[36m(ClientAppActor pid=263068)\u001b[0m             This is a deprecated feature. It will be removed\n",
      "\u001b[36m(ClientAppActor pid=263068)\u001b[0m             entirely in future versions of Flower.\n",
      "Testing:   0%|          | 0/95 [00:00<?, ?it/s]\n"
     ]
    },
    {
     "name": "stdout",
     "output_type": "stream",
     "text": [
      "\u001b[36m(ClientAppActor pid=263069)\u001b[0m ✅ [Client 9] Finished training.\n",
      "\u001b[36m(ClientAppActor pid=263068)\u001b[0m [Client 3] Starting evaluation...\n"
     ]
    },
    {
     "name": "stderr",
     "output_type": "stream",
     "text": [
      "Testing:   7%|▋         | 7/95 [00:00<00:01, 60.56it/s]\n",
      "Testing:  16%|█▌        | 15/95 [00:00<00:01, 70.43it/s]\n",
      "Testing:  34%|███▎      | 32/95 [00:00<00:00, 112.26it/s]\n",
      "Testing:  52%|█████▏    | 49/95 [00:00<00:00, 133.93it/s]\n",
      "Testing:  76%|███████▌  | 72/95 [00:00<00:00, 166.63it/s]\n",
      "Testing: 100%|██████████| 95/95 [00:00<00:00, 149.82it/s]\n"
     ]
    },
    {
     "name": "stdout",
     "output_type": "stream",
     "text": [
      "\u001b[36m(ClientAppActor pid=263068)\u001b[0m ✅ [Client 3] Evaluation results - Loss: 2.4835, Accuracy: 0.1103\n",
      "\u001b[36m(ClientAppActor pid=263069)\u001b[0m [Client 11] Starting evaluation...\n"
     ]
    },
    {
     "name": "stderr",
     "output_type": "stream",
     "text": [
      "\u001b[36m(ClientAppActor pid=263069)\u001b[0m \u001b[93mWARNING \u001b[0m:   DEPRECATED FEATURE: `client_fn` now expects a signature `def client_fn(context: Context)`.The provided `client_fn` has signature: {'cid': <Parameter \"cid: str\">}. You can import the `Context` like this: `from flwr.common import Context`\n",
      "\u001b[36m(ClientAppActor pid=263069)\u001b[0m \n",
      "\u001b[36m(ClientAppActor pid=263069)\u001b[0m             This is a deprecated feature. It will be removed\n",
      "\u001b[36m(ClientAppActor pid=263069)\u001b[0m             entirely in future versions of Flower.\n",
      "\u001b[36m(ClientAppActor pid=263069)\u001b[0m         \n",
      "Testing:   0%|          | 0/91 [00:00<?, ?it/s]\n",
      "Testing:   2%|▏         | 2/91 [00:00<00:08, 10.52it/s]\n",
      "Testing:  10%|▉         | 9/91 [00:00<00:02, 35.91it/s]\n",
      "Testing:  18%|█▊        | 16/91 [00:00<00:01, 46.44it/s]\n",
      "Testing:  35%|███▌      | 32/91 [00:00<00:00, 84.26it/s]\n",
      "Testing: 100%|██████████| 91/91 [00:00<00:00, 130.54it/s]\n"
     ]
    },
    {
     "name": "stdout",
     "output_type": "stream",
     "text": [
      "\u001b[36m(ClientAppActor pid=263069)\u001b[0m ✅ [Client 11] Evaluation results - Loss: 2.4848, Accuracy: 0.1955\n"
     ]
    },
    {
     "name": "stderr",
     "output_type": "stream",
     "text": [
      "\u001b[36m(ClientAppActor pid=263068)\u001b[0m \n",
      "\u001b[36m(ClientAppActor pid=263068)\u001b[0m         \n",
      "Testing:   0%|          | 0/93 [00:00<?, ?it/s]\n",
      "\u001b[36m(ClientAppActor pid=263068)\u001b[0m \u001b[93mWARNING \u001b[0m:   DEPRECATED FEATURE: `client_fn` now expects a signature `def client_fn(context: Context)`.The provided `client_fn` has signature: {'cid': <Parameter \"cid: str\">}. You can import the `Context` like this: `from flwr.common import Context`\n",
      "\u001b[36m(ClientAppActor pid=263068)\u001b[0m             This is a deprecated feature. It will be removed\n",
      "\u001b[36m(ClientAppActor pid=263068)\u001b[0m             entirely in future versions of Flower.\n"
     ]
    },
    {
     "name": "stdout",
     "output_type": "stream",
     "text": [
      "\u001b[36m(ClientAppActor pid=263068)\u001b[0m [Client 1] Starting evaluation...\n"
     ]
    },
    {
     "name": "stderr",
     "output_type": "stream",
     "text": [
      "Testing: 100%|██████████| 93/93 [00:00<00:00, -451.29it/s]\n"
     ]
    },
    {
     "name": "stdout",
     "output_type": "stream",
     "text": [
      "\u001b[36m(ClientAppActor pid=263068)\u001b[0m ✅ [Client 1] Evaluation results - Loss: 2.4840, Accuracy: 0.1559\n"
     ]
    },
    {
     "name": "stderr",
     "output_type": "stream",
     "text": [
      "\u001b[36m(raylet)\u001b[0m Spilled 33802 MiB, 14 objects, write throughput 381 MiB/s.\n",
      "\u001b[36m(ClientAppActor pid=263069)\u001b[0m \u001b[93mWARNING \u001b[0m:   DEPRECATED FEATURE: `client_fn` now expects a signature `def client_fn(context: Context)`.The provided `client_fn` has signature: {'cid': <Parameter \"cid: str\">}. You can import the `Context` like this: `from flwr.common import Context`\n",
      "\u001b[36m(ClientAppActor pid=263069)\u001b[0m \n",
      "\u001b[36m(ClientAppActor pid=263069)\u001b[0m             This is a deprecated feature. It will be removed\n",
      "\u001b[36m(ClientAppActor pid=263069)\u001b[0m             entirely in future versions of Flower.\n",
      "\u001b[36m(ClientAppActor pid=263069)\u001b[0m         \n",
      "Testing:   0%|          | 0/83 [00:00<?, ?it/s]\n"
     ]
    },
    {
     "name": "stdout",
     "output_type": "stream",
     "text": [
      "\u001b[36m(ClientAppActor pid=263069)\u001b[0m [Client 10] Starting evaluation...\n"
     ]
    },
    {
     "name": "stderr",
     "output_type": "stream",
     "text": [
      "Testing:   7%|▋         | 6/83 [00:00<00:01, 55.33it/s]\n",
      "Testing:  17%|█▋        | 14/83 [00:00<00:01, 64.38it/s]\n",
      "Testing:  25%|██▌       | 21/83 [00:00<00:01, 61.83it/s]\n",
      "Testing:  51%|█████     | 42/83 [00:00<00:00, 114.21it/s]\n"
     ]
    },
    {
     "name": "stdout",
     "output_type": "stream",
     "text": [
      "\u001b[36m(ClientAppActor pid=263069)\u001b[0m ✅ [Client 10] Evaluation results - Loss: 2.4847, Accuracy: 0.1851\n"
     ]
    },
    {
     "name": "stderr",
     "output_type": "stream",
     "text": [
      "Testing: 100%|██████████| 83/83 [00:00<00:00, 144.17it/s]\n",
      "\u001b[36m(ClientAppActor pid=263068)\u001b[0m \n",
      "\u001b[36m(ClientAppActor pid=263068)\u001b[0m         \n",
      "\u001b[36m(ClientAppActor pid=263068)\u001b[0m \u001b[93mWARNING \u001b[0m:   DEPRECATED FEATURE: `client_fn` now expects a signature `def client_fn(context: Context)`.The provided `client_fn` has signature: {'cid': <Parameter \"cid: str\">}. You can import the `Context` like this: `from flwr.common import Context`\n",
      "\u001b[36m(ClientAppActor pid=263068)\u001b[0m             This is a deprecated feature. It will be removed\n",
      "\u001b[36m(ClientAppActor pid=263068)\u001b[0m             entirely in future versions of Flower.\n",
      "Testing:   0%|          | 0/93 [00:00<?, ?it/s]\n",
      "Testing:   9%|▊         | 8/93 [00:00<00:01, 66.98it/s]\n"
     ]
    },
    {
     "name": "stdout",
     "output_type": "stream",
     "text": [
      "\u001b[36m(ClientAppActor pid=263068)\u001b[0m [Client 4] Starting evaluation...\n"
     ]
    },
    {
     "name": "stderr",
     "output_type": "stream",
     "text": [
      "Testing:  23%|██▎       | 21/93 [00:00<00:00, 98.86it/s]\n",
      "Testing:  53%|█████▎    | 49/93 [00:00<00:00, 175.37it/s]\n",
      "Testing: 100%|██████████| 93/93 [00:00<00:00, 192.82it/s]\n"
     ]
    },
    {
     "name": "stdout",
     "output_type": "stream",
     "text": [
      "\u001b[36m(ClientAppActor pid=263068)\u001b[0m ✅ [Client 4] Evaluation results - Loss: 2.4843, Accuracy: 0.0137\n",
      "\u001b[36m(ClientAppActor pid=263069)\u001b[0m [Client 8] Starting evaluation...\n"
     ]
    },
    {
     "name": "stderr",
     "output_type": "stream",
     "text": [
      "\u001b[36m(ClientAppActor pid=263069)\u001b[0m \u001b[93mWARNING \u001b[0m:   DEPRECATED FEATURE: `client_fn` now expects a signature `def client_fn(context: Context)`.The provided `client_fn` has signature: {'cid': <Parameter \"cid: str\">}. You can import the `Context` like this: `from flwr.common import Context`\n",
      "\u001b[36m(ClientAppActor pid=263069)\u001b[0m \n",
      "\u001b[36m(ClientAppActor pid=263069)\u001b[0m             This is a deprecated feature. It will be removed\n",
      "\u001b[36m(ClientAppActor pid=263069)\u001b[0m             entirely in future versions of Flower.\n",
      "\u001b[36m(ClientAppActor pid=263069)\u001b[0m         \n",
      "Testing:   0%|          | 0/91 [00:00<?, ?it/s]\n",
      "Testing:   8%|▊         | 7/91 [00:00<00:01, 67.22it/s]\n",
      "Testing:  15%|█▌        | 14/91 [00:00<00:01, 67.33it/s]\n",
      "Testing:  23%|██▎       | 21/91 [00:00<00:01, 67.92it/s]\n",
      "Testing:  49%|████▉     | 45/91 [00:00<00:00, 134.21it/s]\n",
      "Testing:  84%|████████▎ | 76/91 [00:00<00:00, 196.49it/s]\n"
     ]
    },
    {
     "name": "stdout",
     "output_type": "stream",
     "text": [
      "\u001b[36m(ClientAppActor pid=263069)\u001b[0m ✅ [Client 8] Evaluation results - Loss: 2.4832, Accuracy: 0.0880\n"
     ]
    },
    {
     "name": "stderr",
     "output_type": "stream",
     "text": [
      "Testing: 100%|██████████| 91/91 [00:00<00:00, 160.84it/s]\n",
      "\u001b[36m(ClientAppActor pid=263068)\u001b[0m \n",
      "\u001b[36m(ClientAppActor pid=263068)\u001b[0m         \n",
      "\u001b[36m(ClientAppActor pid=263068)\u001b[0m \u001b[93mWARNING \u001b[0m:   DEPRECATED FEATURE: `client_fn` now expects a signature `def client_fn(context: Context)`.The provided `client_fn` has signature: {'cid': <Parameter \"cid: str\">}. You can import the `Context` like this: `from flwr.common import Context`\n",
      "\u001b[36m(ClientAppActor pid=263068)\u001b[0m             This is a deprecated feature. It will be removed\n",
      "\u001b[36m(ClientAppActor pid=263068)\u001b[0m             entirely in future versions of Flower.\n",
      "Testing:   0%|          | 0/92 [00:00<?, ?it/s]\n"
     ]
    },
    {
     "name": "stdout",
     "output_type": "stream",
     "text": [
      "\u001b[36m(ClientAppActor pid=263068)\u001b[0m [Client 9] Starting evaluation...\n"
     ]
    },
    {
     "name": "stderr",
     "output_type": "stream",
     "text": [
      "Testing:   8%|▊         | 7/92 [00:00<00:01, 66.92it/s]\n",
      "Testing:  17%|█▋        | 16/92 [00:00<00:00, 78.87it/s]\n",
      "Testing:  47%|████▋     | 43/92 [00:00<00:00, 163.41it/s]\n",
      "Testing:  78%|███████▊  | 72/92 [00:00<00:00, 212.40it/s]\n",
      "Testing: 100%|██████████| 92/92 [00:00<00:00, 188.86it/s]\n"
     ]
    },
    {
     "name": "stdout",
     "output_type": "stream",
     "text": [
      "\u001b[36m(ClientAppActor pid=263068)\u001b[0m ✅ [Client 9] Evaluation results - Loss: 2.4846, Accuracy: 0.0220\n"
     ]
    },
    {
     "name": "stderr",
     "output_type": "stream",
     "text": [
      "\u001b[36m(ClientAppActor pid=263069)\u001b[0m \u001b[93mWARNING \u001b[0m:   DEPRECATED FEATURE: `client_fn` now expects a signature `def client_fn(context: Context)`.The provided `client_fn` has signature: {'cid': <Parameter \"cid: str\">}. You can import the `Context` like this: `from flwr.common import Context`\n",
      "\u001b[36m(ClientAppActor pid=263069)\u001b[0m \n",
      "\u001b[36m(ClientAppActor pid=263069)\u001b[0m             This is a deprecated feature. It will be removed\n",
      "\u001b[36m(ClientAppActor pid=263069)\u001b[0m             entirely in future versions of Flower.\n",
      "\u001b[36m(ClientAppActor pid=263069)\u001b[0m         \n",
      "Testing:   0%|          | 0/98 [00:00<?, ?it/s]\n"
     ]
    },
    {
     "name": "stdout",
     "output_type": "stream",
     "text": [
      "\u001b[36m(ClientAppActor pid=263069)\u001b[0m [Client 6] Starting evaluation...\n"
     ]
    },
    {
     "name": "stderr",
     "output_type": "stream",
     "text": [
      "Testing:   7%|▋         | 7/98 [00:00<00:01, 63.64it/s]\n",
      "Testing:  14%|█▍        | 14/98 [00:00<00:01, 62.32it/s]\n",
      "Testing:  27%|██▋       | 26/98 [00:00<00:00, 86.80it/s]\n",
      "Testing:  57%|█████▋    | 56/98 [00:00<00:00, 166.65it/s]\n"
     ]
    },
    {
     "name": "stdout",
     "output_type": "stream",
     "text": [
      "\u001b[36m(ClientAppActor pid=263069)\u001b[0m ✅ [Client 6] Evaluation results - Loss: 2.4845, Accuracy: 0.0079\n"
     ]
    },
    {
     "name": "stderr",
     "output_type": "stream",
     "text": [
      "Testing: 100%|██████████| 98/98 [00:00<00:00, 170.96it/s]\n",
      "\u001b[36m(ClientAppActor pid=263068)\u001b[0m \n",
      "\u001b[36m(ClientAppActor pid=263068)\u001b[0m         \n",
      "\u001b[36m(ClientAppActor pid=263068)\u001b[0m \u001b[93mWARNING \u001b[0m:   DEPRECATED FEATURE: `client_fn` now expects a signature `def client_fn(context: Context)`.The provided `client_fn` has signature: {'cid': <Parameter \"cid: str\">}. You can import the `Context` like this: `from flwr.common import Context`\n",
      "\u001b[36m(ClientAppActor pid=263068)\u001b[0m             This is a deprecated feature. It will be removed\n",
      "\u001b[36m(ClientAppActor pid=263068)\u001b[0m             entirely in future versions of Flower.\n",
      "Testing:   0%|          | 0/93 [00:00<?, ?it/s]\n",
      "Testing:   8%|▊         | 7/93 [00:00<00:01, 68.52it/s]\n"
     ]
    },
    {
     "name": "stdout",
     "output_type": "stream",
     "text": [
      "\u001b[36m(ClientAppActor pid=263068)\u001b[0m [Client 2] Starting evaluation...\n"
     ]
    },
    {
     "name": "stderr",
     "output_type": "stream",
     "text": [
      "Testing:  16%|█▌        | 15/93 [00:00<00:01, 69.61it/s]\n",
      "Testing:  24%|██▎       | 22/93 [00:00<00:01, 68.83it/s]\n",
      "Testing:  45%|████▌     | 42/93 [00:00<00:00, 117.67it/s]\n",
      "Testing:  77%|███████▋  | 72/93 [00:00<00:00, 181.32it/s]\n",
      "Testing: 100%|██████████| 93/93 [00:00<00:00, 160.05it/s]\n"
     ]
    },
    {
     "name": "stdout",
     "output_type": "stream",
     "text": [
      "\u001b[36m(ClientAppActor pid=263068)\u001b[0m ✅ [Client 2] Evaluation results - Loss: 2.4850, Accuracy: 0.0059\n",
      "\u001b[36m(ClientAppActor pid=263069)\u001b[0m [Client 7] Starting evaluation...\n"
     ]
    },
    {
     "name": "stderr",
     "output_type": "stream",
     "text": [
      "\u001b[36m(ClientAppActor pid=263069)\u001b[0m \u001b[93mWARNING \u001b[0m:   DEPRECATED FEATURE: `client_fn` now expects a signature `def client_fn(context: Context)`.The provided `client_fn` has signature: {'cid': <Parameter \"cid: str\">}. You can import the `Context` like this: `from flwr.common import Context`\n",
      "\u001b[36m(ClientAppActor pid=263069)\u001b[0m \n",
      "\u001b[36m(ClientAppActor pid=263069)\u001b[0m             This is a deprecated feature. It will be removed\n",
      "\u001b[36m(ClientAppActor pid=263069)\u001b[0m             entirely in future versions of Flower.\n",
      "\u001b[36m(ClientAppActor pid=263069)\u001b[0m         \n",
      "Testing:   0%|          | 0/91 [00:00<?, ?it/s]\n",
      "Testing:   9%|▉         | 8/91 [00:00<00:01, 72.91it/s]\n",
      "Testing:  18%|█▊        | 16/91 [00:00<00:01, 74.36it/s]\n",
      "Testing:  51%|█████     | 46/91 [00:00<00:00, 171.19it/s]\n",
      "Testing: 100%|██████████| 91/91 [00:00<00:00, 194.46it/s]\n"
     ]
    },
    {
     "name": "stdout",
     "output_type": "stream",
     "text": [
      "\u001b[36m(ClientAppActor pid=263069)\u001b[0m ✅ [Client 7] Evaluation results - Loss: 2.4845, Accuracy: 0.0372\n"
     ]
    },
    {
     "name": "stderr",
     "output_type": "stream",
     "text": [
      "\u001b[36m(ClientAppActor pid=263068)\u001b[0m \n",
      "\u001b[36m(ClientAppActor pid=263068)\u001b[0m         \n",
      "\u001b[36m(ClientAppActor pid=263068)\u001b[0m \u001b[93mWARNING \u001b[0m:   DEPRECATED FEATURE: `client_fn` now expects a signature `def client_fn(context: Context)`.The provided `client_fn` has signature: {'cid': <Parameter \"cid: str\">}. You can import the `Context` like this: `from flwr.common import Context`\n",
      "\u001b[36m(ClientAppActor pid=263068)\u001b[0m             This is a deprecated feature. It will be removed\n",
      "\u001b[36m(ClientAppActor pid=263068)\u001b[0m             entirely in future versions of Flower.\n",
      "Testing:   0%|          | 0/93 [00:00<?, ?it/s]\n"
     ]
    },
    {
     "name": "stdout",
     "output_type": "stream",
     "text": [
      "\u001b[36m(ClientAppActor pid=263068)\u001b[0m [Client 0] Starting evaluation...\n"
     ]
    },
    {
     "name": "stderr",
     "output_type": "stream",
     "text": [
      "Testing:   9%|▊         | 8/93 [00:00<00:01, 74.66it/s]\n",
      "Testing:  17%|█▋        | 16/93 [00:00<00:01, 60.54it/s]\n",
      "Testing:  31%|███       | 29/93 [00:00<00:00, 87.27it/s]\n",
      "Testing:  58%|█████▊    | 54/93 [00:00<00:00, 144.08it/s]\n",
      "\u001b[92mINFO \u001b[0m:      aggregate_evaluate: received 12 results and 0 failures\n",
      "\u001b[93mWARNING \u001b[0m:   No evaluate_metrics_aggregation_fn provided\n",
      "\u001b[92mINFO \u001b[0m:      \n",
      "\u001b[92mINFO \u001b[0m:      [ROUND 2]\n",
      "\u001b[92mINFO \u001b[0m:      configure_fit: strategy sampled 6 clients (out of 12)\n",
      "\u001b[92mINFO \u001b[0m:      aggregate_fit: received 0 results and 6 failures\n",
      "Testing: 100%|██████████| 93/93 [00:00<00:00, 158.96it/s]\n"
     ]
    },
    {
     "name": "stdout",
     "output_type": "stream",
     "text": [
      "✅ --- Server received 12 evaluation results in round 1 ---\n",
      "✅ --- Pareto selection for round 2 chose clients: ['14315934176059193381', '3343832528087936700', '15868316647030128318', '10273312183111562667', '9722077455151739340', '6369163841238069563'] ---\n",
      "\u001b[36m(ClientAppActor pid=263068)\u001b[0m ✅ [Client 0] Evaluation results - Loss: 2.4839, Accuracy: 0.1977\n"
     ]
    },
    {
     "name": "stderr",
     "output_type": "stream",
     "text": [
      "Testing: 100%|██████████| 91/91 [00:00<00:00, 256.06it/s]\n",
      "\u001b[92mINFO \u001b[0m:      fit progress: (2, 2.484785108775883, {'accuracy': 0.19553169379979218}, 165.96317680299944)\n",
      "\u001b[92mINFO \u001b[0m:      configure_evaluate: strategy sampled 12 clients (out of 12)\n"
     ]
    },
    {
     "name": "stdout",
     "output_type": "stream",
     "text": [
      "============================================================\n",
      "✅ ROUND 2 SUMMARY - Global Model Performance:\n",
      "   Loss: 2.4848 | Accuracy: 0.1955\n",
      "============================================================\n"
     ]
    },
    {
     "name": "stderr",
     "output_type": "stream",
     "text": [
      "\u001b[36m(ClientAppActor pid=263068)\u001b[0m \u001b[93mWARNING \u001b[0m:   DEPRECATED FEATURE: `client_fn` now expects a signature `def client_fn(context: Context)`.The provided `client_fn` has signature: {'cid': <Parameter \"cid: str\">}. You can import the `Context` like this: `from flwr.common import Context`\n",
      "\u001b[36m(ClientAppActor pid=263068)\u001b[0m \n",
      "\u001b[36m(ClientAppActor pid=263068)\u001b[0m             This is a deprecated feature. It will be removed\n",
      "\u001b[36m(ClientAppActor pid=263068)\u001b[0m             entirely in future versions of Flower.\n",
      "\u001b[36m(ClientAppActor pid=263068)\u001b[0m         \n",
      "Testing:   0%|          | 0/91 [00:00<?, ?it/s]\n",
      "Testing:   8%|▊         | 7/91 [00:00<00:01, 62.82it/s]\n"
     ]
    },
    {
     "name": "stdout",
     "output_type": "stream",
     "text": [
      "\u001b[36m(ClientAppActor pid=263068)\u001b[0m [Client 8] Starting evaluation...\n"
     ]
    },
    {
     "name": "stderr",
     "output_type": "stream",
     "text": [
      "Testing:  15%|█▌        | 14/91 [00:00<00:01, 63.20it/s]\n",
      "Testing:  24%|██▍       | 22/91 [00:00<00:01, 67.73it/s]\n",
      "Testing:  58%|█████▊    | 53/91 [00:00<00:00, 156.04it/s]\n",
      "Testing:  82%|████████▏ | 75/91 [00:00<00:00, 177.42it/s]\n",
      "Testing: 100%|██████████| 91/91 [00:00<00:00, 151.50it/s]\n"
     ]
    },
    {
     "name": "stdout",
     "output_type": "stream",
     "text": [
      "\u001b[36m(ClientAppActor pid=263068)\u001b[0m ✅ [Client 8] Evaluation results - Loss: 2.4832, Accuracy: 0.0880\n",
      "\u001b[36m(ClientAppActor pid=263069)\u001b[0m [Client 4] Starting evaluation...\n"
     ]
    },
    {
     "name": "stderr",
     "output_type": "stream",
     "text": [
      "\u001b[36m(ClientAppActor pid=263069)\u001b[0m \n",
      "\u001b[36m(ClientAppActor pid=263069)\u001b[0m         \n",
      "\u001b[36m(ClientAppActor pid=263069)\u001b[0m \u001b[93mWARNING \u001b[0m:   DEPRECATED FEATURE: `client_fn` now expects a signature `def client_fn(context: Context)`.The provided `client_fn` has signature: {'cid': <Parameter \"cid: str\">}. You can import the `Context` like this: `from flwr.common import Context`\n",
      "\u001b[36m(ClientAppActor pid=263069)\u001b[0m             This is a deprecated feature. It will be removed\n",
      "\u001b[36m(ClientAppActor pid=263069)\u001b[0m             entirely in future versions of Flower.\n",
      "Testing:   0%|          | 0/93 [00:00<?, ?it/s]\n",
      "Testing:   8%|▊         | 7/93 [00:00<00:01, 60.24it/s]\n",
      "Testing:  16%|█▌        | 15/93 [00:00<00:01, 67.83it/s]\n",
      "Testing:  28%|██▊       | 26/93 [00:00<00:00, 84.88it/s]\n",
      "Testing:  47%|████▋     | 44/93 [00:00<00:00, 120.52it/s]\n",
      "Testing:  78%|███████▊  | 73/93 [00:00<00:00, 178.74it/s]\n"
     ]
    },
    {
     "name": "stdout",
     "output_type": "stream",
     "text": [
      "\u001b[36m(ClientAppActor pid=263069)\u001b[0m ✅ [Client 4] Evaluation results - Loss: 2.4843, Accuracy: 0.0137\n"
     ]
    },
    {
     "name": "stderr",
     "output_type": "stream",
     "text": [
      "Testing: 100%|██████████| 93/93 [00:00<00:00, 157.04it/s]\n",
      "\u001b[36m(raylet)\u001b[0m Spilled 67555 MiB, 24 objects, write throughput 401 MiB/s.\n",
      "\u001b[36m(ClientAppActor pid=263068)\u001b[0m \u001b[93mWARNING \u001b[0m:   DEPRECATED FEATURE: `client_fn` now expects a signature `def client_fn(context: Context)`.The provided `client_fn` has signature: {'cid': <Parameter \"cid: str\">}. You can import the `Context` like this: `from flwr.common import Context`\n",
      "\u001b[36m(ClientAppActor pid=263068)\u001b[0m \n",
      "\u001b[36m(ClientAppActor pid=263068)\u001b[0m             This is a deprecated feature. It will be removed\n",
      "\u001b[36m(ClientAppActor pid=263068)\u001b[0m             entirely in future versions of Flower.\n",
      "\u001b[36m(ClientAppActor pid=263068)\u001b[0m         \n",
      "Testing:   0%|          | 0/93 [00:00<?, ?it/s]\n"
     ]
    },
    {
     "name": "stdout",
     "output_type": "stream",
     "text": [
      "\u001b[36m(ClientAppActor pid=263068)\u001b[0m [Client 1] Starting evaluation...\n"
     ]
    },
    {
     "name": "stderr",
     "output_type": "stream",
     "text": [
      "Testing:   6%|▋         | 6/93 [00:00<00:01, 57.71it/s]\n",
      "Testing:  15%|█▌        | 14/93 [00:00<00:01, 70.12it/s]\n",
      "Testing:  24%|██▎       | 22/93 [00:00<00:01, 68.49it/s]\n",
      "Testing:  58%|█████▊    | 54/93 [00:00<00:00, 160.53it/s]\n",
      "Testing: 100%|██████████| 93/93 [00:00<00:00, 170.40it/s]\n"
     ]
    },
    {
     "name": "stdout",
     "output_type": "stream",
     "text": [
      "\u001b[36m(ClientAppActor pid=263068)\u001b[0m ✅ [Client 1] Evaluation results - Loss: 2.4840, Accuracy: 0.1559\n",
      "\u001b[36m(ClientAppActor pid=263069)\u001b[0m [Client 11] Starting evaluation...\n"
     ]
    },
    {
     "name": "stderr",
     "output_type": "stream",
     "text": [
      "\u001b[36m(ClientAppActor pid=263069)\u001b[0m \n",
      "\u001b[36m(ClientAppActor pid=263069)\u001b[0m         \n",
      "\u001b[36m(ClientAppActor pid=263069)\u001b[0m \u001b[93mWARNING \u001b[0m:   DEPRECATED FEATURE: `client_fn` now expects a signature `def client_fn(context: Context)`.The provided `client_fn` has signature: {'cid': <Parameter \"cid: str\">}. You can import the `Context` like this: `from flwr.common import Context`\n",
      "\u001b[36m(ClientAppActor pid=263069)\u001b[0m             This is a deprecated feature. It will be removed\n",
      "\u001b[36m(ClientAppActor pid=263069)\u001b[0m             entirely in future versions of Flower.\n",
      "Testing:   0%|          | 0/91 [00:00<?, ?it/s]\n",
      "Testing:   8%|▊         | 7/91 [00:00<00:01, 68.00it/s]\n",
      "Testing:  24%|██▍       | 22/91 [00:00<00:00, 115.19it/s]\n",
      "Testing:  59%|█████▉    | 54/91 [00:00<00:00, 206.20it/s]\n",
      "Testing: 100%|██████████| 91/91 [00:00<00:00, 215.00it/s]\n"
     ]
    },
    {
     "name": "stdout",
     "output_type": "stream",
     "text": [
      "\u001b[36m(ClientAppActor pid=263069)\u001b[0m ✅ [Client 11] Evaluation results - Loss: 2.4848, Accuracy: 0.1955\n"
     ]
    },
    {
     "name": "stderr",
     "output_type": "stream",
     "text": [
      "\u001b[36m(ClientAppActor pid=263068)\u001b[0m \u001b[93mWARNING \u001b[0m:   DEPRECATED FEATURE: `client_fn` now expects a signature `def client_fn(context: Context)`.The provided `client_fn` has signature: {'cid': <Parameter \"cid: str\">}. You can import the `Context` like this: `from flwr.common import Context`\n",
      "\u001b[36m(ClientAppActor pid=263068)\u001b[0m \n",
      "\u001b[36m(ClientAppActor pid=263068)\u001b[0m             This is a deprecated feature. It will be removed\n",
      "\u001b[36m(ClientAppActor pid=263068)\u001b[0m             entirely in future versions of Flower.\n",
      "\u001b[36m(ClientAppActor pid=263068)\u001b[0m         \n",
      "Testing:   0%|          | 0/95 [00:00<?, ?it/s]\n",
      "Testing:   8%|▊         | 8/95 [00:00<00:01, 71.90it/s]\n"
     ]
    },
    {
     "name": "stdout",
     "output_type": "stream",
     "text": [
      "\u001b[36m(ClientAppActor pid=263068)\u001b[0m [Client 5] Starting evaluation...\n"
     ]
    },
    {
     "name": "stderr",
     "output_type": "stream",
     "text": [
      "Testing:  17%|█▋        | 16/95 [00:00<00:01, 76.07it/s]\n",
      "Testing:  25%|██▌       | 24/95 [00:00<00:00, 72.31it/s]\n",
      "Testing:  59%|█████▉    | 56/95 [00:00<00:00, 163.43it/s]\n",
      "Testing:  92%|█████████▏| 87/95 [00:00<00:00, 212.40it/s]\n",
      "Testing: 100%|██████████| 95/95 [00:00<00:00, 170.09it/s]\n"
     ]
    },
    {
     "name": "stdout",
     "output_type": "stream",
     "text": [
      "\u001b[36m(ClientAppActor pid=263068)\u001b[0m ✅ [Client 5] Evaluation results - Loss: 2.4855, Accuracy: 0.0078\n",
      "\u001b[36m(ClientAppActor pid=263069)\u001b[0m [Client 6] Starting evaluation...\n"
     ]
    },
    {
     "name": "stderr",
     "output_type": "stream",
     "text": [
      "\u001b[36m(ClientAppActor pid=263069)\u001b[0m \n",
      "\u001b[36m(ClientAppActor pid=263069)\u001b[0m         \n",
      "\u001b[36m(ClientAppActor pid=263069)\u001b[0m \u001b[93mWARNING \u001b[0m:   DEPRECATED FEATURE: `client_fn` now expects a signature `def client_fn(context: Context)`.The provided `client_fn` has signature: {'cid': <Parameter \"cid: str\">}. You can import the `Context` like this: `from flwr.common import Context`\n",
      "\u001b[36m(ClientAppActor pid=263069)\u001b[0m             This is a deprecated feature. It will be removed\n",
      "\u001b[36m(ClientAppActor pid=263069)\u001b[0m             entirely in future versions of Flower.\n",
      "Testing:   0%|          | 0/98 [00:00<?, ?it/s]\n",
      "Testing:   8%|▊         | 8/98 [00:00<00:01, 74.85it/s]\n",
      "Testing:  16%|█▋        | 16/98 [00:00<00:01, 70.00it/s]\n",
      "Testing:  37%|███▋      | 36/98 [00:00<00:00, 124.80it/s]\n",
      "Testing:  69%|██████▉   | 68/98 [00:00<00:00, 198.15it/s]\n",
      "Testing: 100%|██████████| 98/98 [00:00<00:00, 188.59it/s]\n"
     ]
    },
    {
     "name": "stdout",
     "output_type": "stream",
     "text": [
      "\u001b[36m(ClientAppActor pid=263069)\u001b[0m ✅ [Client 6] Evaluation results - Loss: 2.4845, Accuracy: 0.0079\n"
     ]
    },
    {
     "name": "stderr",
     "output_type": "stream",
     "text": [
      "\u001b[36m(ClientAppActor pid=263068)\u001b[0m \u001b[93mWARNING \u001b[0m:   DEPRECATED FEATURE: `client_fn` now expects a signature `def client_fn(context: Context)`.The provided `client_fn` has signature: {'cid': <Parameter \"cid: str\">}. You can import the `Context` like this: `from flwr.common import Context`\n",
      "\u001b[36m(ClientAppActor pid=263068)\u001b[0m \n",
      "\u001b[36m(ClientAppActor pid=263068)\u001b[0m             This is a deprecated feature. It will be removed\n",
      "\u001b[36m(ClientAppActor pid=263068)\u001b[0m             entirely in future versions of Flower.\n",
      "\u001b[36m(ClientAppActor pid=263068)\u001b[0m         \n",
      "Testing:   0%|          | 0/83 [00:00<?, ?it/s]\n"
     ]
    },
    {
     "name": "stdout",
     "output_type": "stream",
     "text": [
      "\u001b[36m(ClientAppActor pid=263068)\u001b[0m [Client 10] Starting evaluation...\n"
     ]
    },
    {
     "name": "stderr",
     "output_type": "stream",
     "text": [
      "Testing:   8%|▊         | 7/83 [00:00<00:02, 28.98it/s]\n",
      "Testing:  16%|█▌        | 13/83 [00:00<00:01, 40.07it/s]\n",
      "Testing:  25%|██▌       | 21/83 [00:00<00:01, 53.42it/s]\n",
      "Testing:  36%|███▌      | 30/83 [00:00<00:00, 62.25it/s]\n",
      "Testing:  61%|██████▏   | 51/83 [00:00<00:00, 107.60it/s]\n",
      "Testing: 100%|██████████| 83/83 [00:00<00:00, 108.53it/s]\n"
     ]
    },
    {
     "name": "stdout",
     "output_type": "stream",
     "text": [
      "\u001b[36m(ClientAppActor pid=263068)\u001b[0m ✅ [Client 10] Evaluation results - Loss: 2.4847, Accuracy: 0.1851\n"
     ]
    },
    {
     "name": "stderr",
     "output_type": "stream",
     "text": [
      "\u001b[36m(ClientAppActor pid=263069)\u001b[0m \n",
      "\u001b[36m(ClientAppActor pid=263069)\u001b[0m         \n",
      "\u001b[36m(ClientAppActor pid=263069)\u001b[0m \u001b[93mWARNING \u001b[0m:   DEPRECATED FEATURE: `client_fn` now expects a signature `def client_fn(context: Context)`.The provided `client_fn` has signature: {'cid': <Parameter \"cid: str\">}. You can import the `Context` like this: `from flwr.common import Context`\n",
      "\u001b[36m(ClientAppActor pid=263069)\u001b[0m             This is a deprecated feature. It will be removed\n",
      "\u001b[36m(ClientAppActor pid=263069)\u001b[0m             entirely in future versions of Flower.\n",
      "Testing:   0%|          | 0/92 [00:00<?, ?it/s]\n"
     ]
    },
    {
     "name": "stdout",
     "output_type": "stream",
     "text": [
      "\u001b[36m(ClientAppActor pid=263069)\u001b[0m [Client 9] Starting evaluation...\n"
     ]
    },
    {
     "name": "stderr",
     "output_type": "stream",
     "text": [
      "Testing:   9%|▊         | 8/92 [00:00<00:01, 72.03it/s]\n",
      "Testing:  17%|█▋        | 16/92 [00:00<00:01, 65.83it/s]\n",
      "Testing:  33%|███▎      | 30/92 [00:00<00:00, 95.46it/s]\n",
      "Testing:  64%|██████▍   | 59/92 [00:00<00:00, 165.61it/s]\n"
     ]
    },
    {
     "name": "stdout",
     "output_type": "stream",
     "text": [
      "\u001b[36m(ClientAppActor pid=263069)\u001b[0m ✅ [Client 9] Evaluation results - Loss: 2.4846, Accuracy: 0.0220\n"
     ]
    },
    {
     "name": "stderr",
     "output_type": "stream",
     "text": [
      "Testing: 100%|██████████| 92/92 [00:00<00:00, 169.40it/s]\n",
      "\u001b[36m(ClientAppActor pid=263068)\u001b[0m \u001b[93mWARNING \u001b[0m:   DEPRECATED FEATURE: `client_fn` now expects a signature `def client_fn(context: Context)`.The provided `client_fn` has signature: {'cid': <Parameter \"cid: str\">}. You can import the `Context` like this: `from flwr.common import Context`\n",
      "\u001b[36m(ClientAppActor pid=263068)\u001b[0m \n",
      "\u001b[36m(ClientAppActor pid=263068)\u001b[0m             This is a deprecated feature. It will be removed\n",
      "\u001b[36m(ClientAppActor pid=263068)\u001b[0m             entirely in future versions of Flower.\n",
      "\u001b[36m(ClientAppActor pid=263068)\u001b[0m         \n",
      "Testing:   0%|          | 0/93 [00:00<?, ?it/s]\n",
      "Testing:   8%|▊         | 7/93 [00:00<00:01, 69.66it/s]\n"
     ]
    },
    {
     "name": "stdout",
     "output_type": "stream",
     "text": [
      "\u001b[36m(ClientAppActor pid=263068)\u001b[0m [Client 2] Starting evaluation...\n"
     ]
    },
    {
     "name": "stderr",
     "output_type": "stream",
     "text": [
      "Testing:  15%|█▌        | 14/93 [00:00<00:01, 69.48it/s]\n",
      "Testing:  23%|██▎       | 21/93 [00:00<00:01, 65.17it/s]\n",
      "Testing:  37%|███▋      | 34/93 [00:00<00:00, 89.58it/s]\n",
      "Testing:  57%|█████▋    | 53/93 [00:00<00:00, 123.82it/s]\n",
      "Testing: 100%|██████████| 93/93 [00:00<00:00, 137.21it/s]\n"
     ]
    },
    {
     "name": "stdout",
     "output_type": "stream",
     "text": [
      "\u001b[36m(ClientAppActor pid=263068)\u001b[0m ✅ [Client 2] Evaluation results - Loss: 2.4850, Accuracy: 0.0059\n"
     ]
    },
    {
     "name": "stderr",
     "output_type": "stream",
     "text": [
      "\u001b[36m(ClientAppActor pid=263069)\u001b[0m \n",
      "\u001b[36m(ClientAppActor pid=263069)\u001b[0m         \n",
      "\u001b[36m(ClientAppActor pid=263069)\u001b[0m \u001b[93mWARNING \u001b[0m:   DEPRECATED FEATURE: `client_fn` now expects a signature `def client_fn(context: Context)`.The provided `client_fn` has signature: {'cid': <Parameter \"cid: str\">}. You can import the `Context` like this: `from flwr.common import Context`\n",
      "\u001b[36m(ClientAppActor pid=263069)\u001b[0m             This is a deprecated feature. It will be removed\n",
      "\u001b[36m(ClientAppActor pid=263069)\u001b[0m             entirely in future versions of Flower.\n",
      "Testing:   0%|          | 0/91 [00:00<?, ?it/s]\n"
     ]
    },
    {
     "name": "stdout",
     "output_type": "stream",
     "text": [
      "\u001b[36m(ClientAppActor pid=263069)\u001b[0m [Client 7] Starting evaluation...\n"
     ]
    },
    {
     "name": "stderr",
     "output_type": "stream",
     "text": [
      "Testing:   8%|▊         | 7/91 [00:00<00:01, 69.24it/s]\n",
      "Testing:  15%|█▌        | 14/91 [00:00<00:01, 66.69it/s]\n",
      "Testing:  23%|██▎       | 21/91 [00:00<00:01, 63.49it/s]\n",
      "Testing:  46%|████▌     | 42/91 [00:00<00:00, 117.79it/s]\n",
      "Testing:  82%|████████▏ | 75/91 [00:00<00:00, 189.96it/s]\n",
      "Testing: 100%|██████████| 91/91 [00:00<00:00, 154.18it/s]\n"
     ]
    },
    {
     "name": "stdout",
     "output_type": "stream",
     "text": [
      "\u001b[36m(ClientAppActor pid=263069)\u001b[0m ✅ [Client 7] Evaluation results - Loss: 2.4845, Accuracy: 0.0372\n"
     ]
    },
    {
     "name": "stderr",
     "output_type": "stream",
     "text": [
      "\u001b[36m(ClientAppActor pid=263068)\u001b[0m \u001b[93mWARNING \u001b[0m:   DEPRECATED FEATURE: `client_fn` now expects a signature `def client_fn(context: Context)`.The provided `client_fn` has signature: {'cid': <Parameter \"cid: str\">}. You can import the `Context` like this: `from flwr.common import Context`\n",
      "\u001b[36m(ClientAppActor pid=263068)\u001b[0m \n",
      "\u001b[36m(ClientAppActor pid=263068)\u001b[0m             This is a deprecated feature. It will be removed\n",
      "\u001b[36m(ClientAppActor pid=263068)\u001b[0m             entirely in future versions of Flower.\n",
      "\u001b[36m(ClientAppActor pid=263068)\u001b[0m         \n",
      "Testing:   0%|          | 0/93 [00:00<?, ?it/s]\n",
      "Testing:   9%|▊         | 8/93 [00:00<00:01, 78.54it/s]\n"
     ]
    },
    {
     "name": "stdout",
     "output_type": "stream",
     "text": [
      "\u001b[36m(ClientAppActor pid=263068)\u001b[0m [Client 0] Starting evaluation...\n"
     ]
    },
    {
     "name": "stderr",
     "output_type": "stream",
     "text": [
      "Testing:  17%|█▋        | 16/93 [00:00<00:01, 72.37it/s]\n",
      "Testing:  26%|██▌       | 24/93 [00:00<00:00, 73.32it/s]\n",
      "Testing:  44%|████▍     | 41/93 [00:00<00:00, 109.15it/s]\n",
      "Testing:  78%|███████▊  | 73/93 [00:00<00:00, 180.55it/s]\n",
      "Testing: 100%|██████████| 93/93 [00:00<00:00, 158.96it/s]\n"
     ]
    },
    {
     "name": "stdout",
     "output_type": "stream",
     "text": [
      "\u001b[36m(ClientAppActor pid=263068)\u001b[0m ✅ [Client 0] Evaluation results - Loss: 2.4839, Accuracy: 0.1977\n"
     ]
    },
    {
     "name": "stderr",
     "output_type": "stream",
     "text": [
      "\u001b[36m(ClientAppActor pid=263069)\u001b[0m \n",
      "\u001b[36m(ClientAppActor pid=263069)\u001b[0m         \n",
      "\u001b[36m(ClientAppActor pid=263069)\u001b[0m \u001b[93mWARNING \u001b[0m:   DEPRECATED FEATURE: `client_fn` now expects a signature `def client_fn(context: Context)`.The provided `client_fn` has signature: {'cid': <Parameter \"cid: str\">}. You can import the `Context` like this: `from flwr.common import Context`\n",
      "\u001b[36m(ClientAppActor pid=263069)\u001b[0m             This is a deprecated feature. It will be removed\n",
      "\u001b[36m(ClientAppActor pid=263069)\u001b[0m             entirely in future versions of Flower.\n",
      "Testing:   0%|          | 0/95 [00:00<?, ?it/s]\n",
      "Testing:   7%|▋         | 7/95 [00:00<00:01, 61.18it/s]\n"
     ]
    },
    {
     "name": "stdout",
     "output_type": "stream",
     "text": [
      "\u001b[36m(ClientAppActor pid=263069)\u001b[0m [Client 3] Starting evaluation...\n"
     ]
    },
    {
     "name": "stderr",
     "output_type": "stream",
     "text": [
      "Testing:  15%|█▍        | 14/95 [00:00<00:01, 60.75it/s]\n",
      "Testing:  27%|██▋       | 26/95 [00:00<00:00, 84.93it/s]\n",
      "Testing: 100%|██████████| 95/95 [00:00<00:00, 179.20it/s]\n",
      "\u001b[92mINFO \u001b[0m:      aggregate_evaluate: received 12 results and 0 failures\n",
      "\u001b[92mINFO \u001b[0m:      \n",
      "\u001b[92mINFO \u001b[0m:      [ROUND 3]\n",
      "\u001b[92mINFO \u001b[0m:      configure_fit: strategy sampled 6 clients (out of 12)\n",
      "\u001b[92mINFO \u001b[0m:      aggregate_fit: received 0 results and 6 failures\n"
     ]
    },
    {
     "name": "stdout",
     "output_type": "stream",
     "text": [
      "\u001b[36m(ClientAppActor pid=263069)\u001b[0m ✅ [Client 3] Evaluation results - Loss: 2.4835, Accuracy: 0.1103\n",
      "✅ --- Server received 12 evaluation results in round 2 ---\n",
      "✅ --- Pareto selection for round 3 chose clients: ['3343832528087936700', '3516174158176321985', '7221885320893359682', '17572866915993216550', '6369163841238069563', '14315934176059193381'] ---\n"
     ]
    },
    {
     "name": "stderr",
     "output_type": "stream",
     "text": [
      "Testing: 100%|██████████| 91/91 [00:00<00:00, 307.58it/s]\n",
      "\u001b[92mINFO \u001b[0m:      fit progress: (3, 2.484785108775883, {'accuracy': 0.19553169379979218}, 265.39692732099866)\n",
      "\u001b[92mINFO \u001b[0m:      configure_evaluate: strategy sampled 12 clients (out of 12)\n"
     ]
    },
    {
     "name": "stdout",
     "output_type": "stream",
     "text": [
      "============================================================\n",
      "✅ ROUND 3 SUMMARY - Global Model Performance:\n",
      "   Loss: 2.4848 | Accuracy: 0.1955\n",
      "============================================================\n"
     ]
    },
    {
     "name": "stderr",
     "output_type": "stream",
     "text": [
      "\u001b[36m(ClientAppActor pid=263069)\u001b[0m \u001b[93mWARNING \u001b[0m:   DEPRECATED FEATURE: `client_fn` now expects a signature `def client_fn(context: Context)`.The provided `client_fn` has signature: {'cid': <Parameter \"cid: str\">}. You can import the `Context` like this: `from flwr.common import Context`\n",
      "\u001b[36m(ClientAppActor pid=263069)\u001b[0m \n",
      "\u001b[36m(ClientAppActor pid=263069)\u001b[0m             This is a deprecated feature. It will be removed\n",
      "\u001b[36m(ClientAppActor pid=263069)\u001b[0m             entirely in future versions of Flower.\n",
      "\u001b[36m(ClientAppActor pid=263069)\u001b[0m         \n",
      "Testing:   0%|          | 0/93 [00:00<?, ?it/s]\n"
     ]
    },
    {
     "name": "stdout",
     "output_type": "stream",
     "text": [
      "\u001b[36m(ClientAppActor pid=263069)\u001b[0m [Client 2] Starting evaluation...\n"
     ]
    },
    {
     "name": "stderr",
     "output_type": "stream",
     "text": [
      "Testing:   9%|▊         | 8/93 [00:00<00:01, 71.25it/s]\n",
      "Testing:  17%|█▋        | 16/93 [00:00<00:01, 61.37it/s]\n",
      "Testing:  44%|████▍     | 41/93 [00:00<00:00, 134.90it/s]\n",
      "Testing:  71%|███████   | 66/93 [00:00<00:00, 173.92it/s]\n"
     ]
    },
    {
     "name": "stdout",
     "output_type": "stream",
     "text": [
      "\u001b[36m(ClientAppActor pid=263069)\u001b[0m ✅ [Client 2] Evaluation results - Loss: 2.4850, Accuracy: 0.0059\n"
     ]
    },
    {
     "name": "stderr",
     "output_type": "stream",
     "text": [
      "Testing: 100%|██████████| 93/93 [00:00<00:00, 166.84it/s]\n",
      "\u001b[36m(ClientAppActor pid=263068)\u001b[0m \n",
      "\u001b[36m(ClientAppActor pid=263068)\u001b[0m         \n",
      "\u001b[36m(ClientAppActor pid=263068)\u001b[0m \u001b[93mWARNING \u001b[0m:   DEPRECATED FEATURE: `client_fn` now expects a signature `def client_fn(context: Context)`.The provided `client_fn` has signature: {'cid': <Parameter \"cid: str\">}. You can import the `Context` like this: `from flwr.common import Context`\n",
      "\u001b[36m(ClientAppActor pid=263068)\u001b[0m             This is a deprecated feature. It will be removed\n",
      "\u001b[36m(ClientAppActor pid=263068)\u001b[0m             entirely in future versions of Flower.\n",
      "Testing:   0%|          | 0/93 [00:00<?, ?it/s]\n",
      "Testing:   9%|▊         | 8/93 [00:00<00:01, 73.05it/s]\n"
     ]
    },
    {
     "name": "stdout",
     "output_type": "stream",
     "text": [
      "\u001b[36m(ClientAppActor pid=263068)\u001b[0m [Client 0] Starting evaluation...\n"
     ]
    },
    {
     "name": "stderr",
     "output_type": "stream",
     "text": [
      "Testing:  17%|█▋        | 16/93 [00:00<00:01, 73.50it/s]\n",
      "Testing:  26%|██▌       | 24/93 [00:00<00:01, 66.40it/s]\n",
      "Testing:  57%|█████▋    | 53/93 [00:00<00:00, 143.32it/s]\n",
      "Testing: 100%|██████████| 93/93 [00:00<00:00, 147.04it/s]\n"
     ]
    },
    {
     "name": "stdout",
     "output_type": "stream",
     "text": [
      "\u001b[36m(ClientAppActor pid=263068)\u001b[0m ✅ [Client 0] Evaluation results - Loss: 2.4839, Accuracy: 0.1977\n",
      "\u001b[36m(ClientAppActor pid=263069)\u001b[0m [Client 9] Starting evaluation...\n"
     ]
    },
    {
     "name": "stderr",
     "output_type": "stream",
     "text": [
      "\u001b[36m(ClientAppActor pid=263069)\u001b[0m \u001b[93mWARNING \u001b[0m:   DEPRECATED FEATURE: `client_fn` now expects a signature `def client_fn(context: Context)`.The provided `client_fn` has signature: {'cid': <Parameter \"cid: str\">}. You can import the `Context` like this: `from flwr.common import Context`\n",
      "\u001b[36m(ClientAppActor pid=263069)\u001b[0m \n",
      "\u001b[36m(ClientAppActor pid=263069)\u001b[0m             This is a deprecated feature. It will be removed\n",
      "\u001b[36m(ClientAppActor pid=263069)\u001b[0m             entirely in future versions of Flower.\n",
      "\u001b[36m(ClientAppActor pid=263069)\u001b[0m         \n",
      "Testing:   0%|          | 0/92 [00:00<?, ?it/s]\n",
      "Testing:   8%|▊         | 7/92 [00:00<00:01, 68.58it/s]\n",
      "Testing:  15%|█▌        | 14/92 [00:00<00:01, 67.06it/s]\n",
      "Testing:  46%|████▌     | 42/92 [00:00<00:00, 160.10it/s]\n",
      "Testing:  72%|███████▏  | 66/92 [00:00<00:00, 186.75it/s]\n",
      "Testing: 100%|██████████| 92/92 [00:00<00:00, 172.35it/s]\n"
     ]
    },
    {
     "name": "stdout",
     "output_type": "stream",
     "text": [
      "\u001b[36m(ClientAppActor pid=263069)\u001b[0m ✅ [Client 9] Evaluation results - Loss: 2.4846, Accuracy: 0.0220\n"
     ]
    },
    {
     "name": "stderr",
     "output_type": "stream",
     "text": [
      "\u001b[36m(ClientAppActor pid=263068)\u001b[0m \n",
      "\u001b[36m(ClientAppActor pid=263068)\u001b[0m         \n",
      "\u001b[36m(ClientAppActor pid=263068)\u001b[0m \u001b[93mWARNING \u001b[0m:   DEPRECATED FEATURE: `client_fn` now expects a signature `def client_fn(context: Context)`.The provided `client_fn` has signature: {'cid': <Parameter \"cid: str\">}. You can import the `Context` like this: `from flwr.common import Context`\n",
      "\u001b[36m(ClientAppActor pid=263068)\u001b[0m             This is a deprecated feature. It will be removed\n",
      "\u001b[36m(ClientAppActor pid=263068)\u001b[0m             entirely in future versions of Flower.\n",
      "Testing:   0%|          | 0/93 [00:00<?, ?it/s]\n"
     ]
    },
    {
     "name": "stdout",
     "output_type": "stream",
     "text": [
      "\u001b[36m(ClientAppActor pid=263068)\u001b[0m [Client 4] Starting evaluation...\n"
     ]
    },
    {
     "name": "stderr",
     "output_type": "stream",
     "text": [
      "Testing:   9%|▊         | 8/93 [00:00<00:01, 70.35it/s]\n",
      "Testing:  17%|█▋        | 16/93 [00:00<00:01, 68.04it/s]\n",
      "Testing:  34%|███▍      | 32/93 [00:00<00:00, 106.13it/s]\n",
      "Testing:  72%|███████▏  | 67/93 [00:00<00:00, 195.03it/s]\n",
      "Testing: 100%|██████████| 93/93 [00:00<00:00, 181.24it/s]\n"
     ]
    },
    {
     "name": "stdout",
     "output_type": "stream",
     "text": [
      "\u001b[36m(ClientAppActor pid=263068)\u001b[0m ✅ [Client 4] Evaluation results - Loss: 2.4843, Accuracy: 0.0137\n",
      "\u001b[36m(ClientAppActor pid=263069)\u001b[0m [Client 7] Starting evaluation...\n"
     ]
    },
    {
     "name": "stderr",
     "output_type": "stream",
     "text": [
      "\u001b[36m(ClientAppActor pid=263069)\u001b[0m \u001b[93mWARNING \u001b[0m:   DEPRECATED FEATURE: `client_fn` now expects a signature `def client_fn(context: Context)`.The provided `client_fn` has signature: {'cid': <Parameter \"cid: str\">}. You can import the `Context` like this: `from flwr.common import Context`\n",
      "\u001b[36m(ClientAppActor pid=263069)\u001b[0m \n",
      "\u001b[36m(ClientAppActor pid=263069)\u001b[0m             This is a deprecated feature. It will be removed\n",
      "\u001b[36m(ClientAppActor pid=263069)\u001b[0m             entirely in future versions of Flower.\n",
      "\u001b[36m(ClientAppActor pid=263069)\u001b[0m         \n",
      "Testing:   0%|          | 0/91 [00:00<?, ?it/s]\n",
      "Testing:   9%|▉         | 8/91 [00:00<00:01, 76.77it/s]\n",
      "Testing:  18%|█▊        | 16/91 [00:00<00:01, 71.66it/s]\n",
      "Testing:  26%|██▋       | 24/91 [00:00<00:00, 68.64it/s]\n",
      "Testing:  56%|█████▌    | 51/91 [00:00<00:00, 140.81it/s]\n",
      "Testing:  87%|████████▋ | 79/91 [00:00<00:00, 185.93it/s]\n"
     ]
    },
    {
     "name": "stdout",
     "output_type": "stream",
     "text": [
      "\u001b[36m(ClientAppActor pid=263069)\u001b[0m ✅ [Client 7] Evaluation results - Loss: 2.4845, Accuracy: 0.0372\n"
     ]
    },
    {
     "name": "stderr",
     "output_type": "stream",
     "text": [
      "Testing: 100%|██████████| 91/91 [00:00<00:00, 156.77it/s]\n",
      "\u001b[36m(ClientAppActor pid=263068)\u001b[0m \n",
      "\u001b[36m(ClientAppActor pid=263068)\u001b[0m         \n",
      "Testing:   0%|          | 0/83 [00:00<?, ?it/s]\n",
      "\u001b[36m(ClientAppActor pid=263068)\u001b[0m \u001b[93mWARNING \u001b[0m:   DEPRECATED FEATURE: `client_fn` now expects a signature `def client_fn(context: Context)`.The provided `client_fn` has signature: {'cid': <Parameter \"cid: str\">}. You can import the `Context` like this: `from flwr.common import Context`\n",
      "\u001b[36m(ClientAppActor pid=263068)\u001b[0m             This is a deprecated feature. It will be removed\n",
      "\u001b[36m(ClientAppActor pid=263068)\u001b[0m             entirely in future versions of Flower.\n",
      "Testing:  10%|▉         | 8/83 [00:00<00:01, 70.60it/s]\n"
     ]
    },
    {
     "name": "stdout",
     "output_type": "stream",
     "text": [
      "\u001b[36m(ClientAppActor pid=263068)\u001b[0m [Client 10] Starting evaluation...\n"
     ]
    },
    {
     "name": "stderr",
     "output_type": "stream",
     "text": [
      "Testing:  19%|█▉        | 16/83 [00:00<00:00, 72.99it/s]\n",
      "Testing:  29%|██▉       | 24/83 [00:00<00:00, 65.24it/s]\n",
      "Testing:  57%|█████▋    | 47/83 [00:00<00:00, 121.40it/s]\n",
      "Testing: 100%|██████████| 83/83 [00:00<00:00, 145.53it/s]\n"
     ]
    },
    {
     "name": "stdout",
     "output_type": "stream",
     "text": [
      "\u001b[36m(ClientAppActor pid=263068)\u001b[0m ✅ [Client 10] Evaluation results - Loss: 2.4847, Accuracy: 0.1851\n",
      "\u001b[36m(ClientAppActor pid=263069)\u001b[0m [Client 1] Starting evaluation...\n"
     ]
    },
    {
     "name": "stderr",
     "output_type": "stream",
     "text": [
      "\u001b[36m(ClientAppActor pid=263069)\u001b[0m \u001b[93mWARNING \u001b[0m:   DEPRECATED FEATURE: `client_fn` now expects a signature `def client_fn(context: Context)`.The provided `client_fn` has signature: {'cid': <Parameter \"cid: str\">}. You can import the `Context` like this: `from flwr.common import Context`\n",
      "\u001b[36m(ClientAppActor pid=263069)\u001b[0m \n",
      "\u001b[36m(ClientAppActor pid=263069)\u001b[0m             This is a deprecated feature. It will be removed\n",
      "\u001b[36m(ClientAppActor pid=263069)\u001b[0m             entirely in future versions of Flower.\n",
      "\u001b[36m(ClientAppActor pid=263069)\u001b[0m         \n",
      "Testing:   0%|          | 0/93 [00:00<?, ?it/s]\n",
      "Testing:   9%|▊         | 8/93 [00:00<00:01, 73.72it/s]\n",
      "Testing:  17%|█▋        | 16/93 [00:00<00:01, 65.14it/s]\n",
      "Testing:  51%|█████     | 47/93 [00:00<00:00, 163.93it/s]\n"
     ]
    },
    {
     "name": "stdout",
     "output_type": "stream",
     "text": [
      "\u001b[36m(ClientAppActor pid=263069)\u001b[0m ✅ [Client 1] Evaluation results - Loss: 2.4840, Accuracy: 0.1559\n"
     ]
    },
    {
     "name": "stderr",
     "output_type": "stream",
     "text": [
      "Testing: 100%|██████████| 93/93 [00:00<00:00, 184.78it/s]\n",
      "\u001b[36m(ClientAppActor pid=263068)\u001b[0m \n",
      "\u001b[36m(ClientAppActor pid=263068)\u001b[0m         \n",
      "\u001b[36m(ClientAppActor pid=263068)\u001b[0m \u001b[93mWARNING \u001b[0m:   DEPRECATED FEATURE: `client_fn` now expects a signature `def client_fn(context: Context)`.The provided `client_fn` has signature: {'cid': <Parameter \"cid: str\">}. You can import the `Context` like this: `from flwr.common import Context`\n",
      "\u001b[36m(ClientAppActor pid=263068)\u001b[0m             This is a deprecated feature. It will be removed\n",
      "\u001b[36m(ClientAppActor pid=263068)\u001b[0m             entirely in future versions of Flower.\n",
      "Testing:   0%|          | 0/91 [00:00<?, ?it/s]\n",
      "Testing:   8%|▊         | 7/91 [00:00<00:01, 65.37it/s]\n"
     ]
    },
    {
     "name": "stdout",
     "output_type": "stream",
     "text": [
      "\u001b[36m(ClientAppActor pid=263068)\u001b[0m [Client 8] Starting evaluation...\n"
     ]
    },
    {
     "name": "stderr",
     "output_type": "stream",
     "text": [
      "Testing:  15%|█▌        | 14/91 [00:00<00:01, 58.17it/s]\n",
      "Testing:  34%|███▍      | 31/91 [00:00<00:00, 102.80it/s]\n",
      "Testing:  69%|██████▉   | 63/91 [00:00<00:00, 182.42it/s]\n",
      "Testing: 100%|██████████| 91/91 [00:00<00:00, 168.10it/s]\n"
     ]
    },
    {
     "name": "stdout",
     "output_type": "stream",
     "text": [
      "\u001b[36m(ClientAppActor pid=263068)\u001b[0m ✅ [Client 8] Evaluation results - Loss: 2.4832, Accuracy: 0.0880\n"
     ]
    },
    {
     "name": "stderr",
     "output_type": "stream",
     "text": [
      "\u001b[36m(ClientAppActor pid=263069)\u001b[0m \u001b[93mWARNING \u001b[0m:   DEPRECATED FEATURE: `client_fn` now expects a signature `def client_fn(context: Context)`.The provided `client_fn` has signature: {'cid': <Parameter \"cid: str\">}. You can import the `Context` like this: `from flwr.common import Context`\n",
      "\u001b[36m(ClientAppActor pid=263069)\u001b[0m \n",
      "\u001b[36m(ClientAppActor pid=263069)\u001b[0m             This is a deprecated feature. It will be removed\n",
      "\u001b[36m(ClientAppActor pid=263069)\u001b[0m             entirely in future versions of Flower.\n",
      "\u001b[36m(ClientAppActor pid=263069)\u001b[0m         \n",
      "Testing:   0%|          | 0/95 [00:00<?, ?it/s]\n",
      "Testing:   7%|▋         | 7/95 [00:00<00:01, 61.32it/s]\n"
     ]
    },
    {
     "name": "stdout",
     "output_type": "stream",
     "text": [
      "\u001b[36m(ClientAppActor pid=263069)\u001b[0m [Client 5] Starting evaluation...\n"
     ]
    },
    {
     "name": "stderr",
     "output_type": "stream",
     "text": [
      "Testing:  15%|█▍        | 14/95 [00:00<00:01, 60.09it/s]\n",
      "Testing:  35%|███▍      | 33/95 [00:00<00:00, 113.63it/s]\n",
      "Testing:  64%|██████▍   | 61/95 [00:00<00:00, 173.20it/s]\n",
      "Testing: 100%|██████████| 95/95 [00:00<00:00, 171.22it/s]\n"
     ]
    },
    {
     "name": "stdout",
     "output_type": "stream",
     "text": [
      "\u001b[36m(ClientAppActor pid=263069)\u001b[0m ✅ [Client 5] Evaluation results - Loss: 2.4855, Accuracy: 0.0078\n"
     ]
    },
    {
     "name": "stderr",
     "output_type": "stream",
     "text": [
      "\u001b[36m(raylet)\u001b[0m Spilled 131686 MiB, 43 objects, write throughput 414 MiB/s.\n",
      "\u001b[36m(ClientAppActor pid=263068)\u001b[0m \u001b[93mWARNING \u001b[0m:   DEPRECATED FEATURE: `client_fn` now expects a signature `def client_fn(context: Context)`.The provided `client_fn` has signature: {'cid': <Parameter \"cid: str\">}. You can import the `Context` like this: `from flwr.common import Context`\n",
      "\u001b[36m(ClientAppActor pid=263068)\u001b[0m \n",
      "\u001b[36m(ClientAppActor pid=263068)\u001b[0m             This is a deprecated feature. It will be removed\n",
      "\u001b[36m(ClientAppActor pid=263068)\u001b[0m             entirely in future versions of Flower.\n",
      "\u001b[36m(ClientAppActor pid=263068)\u001b[0m         \n",
      "Testing:   0%|          | 0/91 [00:00<?, ?it/s]\n"
     ]
    },
    {
     "name": "stdout",
     "output_type": "stream",
     "text": [
      "\u001b[36m(ClientAppActor pid=263068)\u001b[0m [Client 11] Starting evaluation...\n"
     ]
    },
    {
     "name": "stderr",
     "output_type": "stream",
     "text": [
      "Testing:   9%|▉         | 8/91 [00:00<00:01, 75.28it/s]\n",
      "Testing:  18%|█▊        | 16/91 [00:00<00:01, 74.30it/s]\n",
      "Testing:  31%|███       | 28/91 [00:00<00:00, 92.34it/s]\n",
      "Testing:  65%|██████▍   | 59/91 [00:00<00:00, 172.60it/s]\n",
      "Testing: 100%|██████████| 91/91 [00:00<00:00, 173.22it/s]\n"
     ]
    },
    {
     "name": "stdout",
     "output_type": "stream",
     "text": [
      "\u001b[36m(ClientAppActor pid=263068)\u001b[0m ✅ [Client 11] Evaluation results - Loss: 2.4848, Accuracy: 0.1955\n",
      "\u001b[36m(ClientAppActor pid=263069)\u001b[0m [Client 3] Starting evaluation...\n"
     ]
    },
    {
     "name": "stderr",
     "output_type": "stream",
     "text": [
      "\u001b[36m(ClientAppActor pid=263069)\u001b[0m \n",
      "\u001b[36m(ClientAppActor pid=263069)\u001b[0m         \n",
      "\u001b[36m(ClientAppActor pid=263069)\u001b[0m \u001b[93mWARNING \u001b[0m:   DEPRECATED FEATURE: `client_fn` now expects a signature `def client_fn(context: Context)`.The provided `client_fn` has signature: {'cid': <Parameter \"cid: str\">}. You can import the `Context` like this: `from flwr.common import Context`\n",
      "\u001b[36m(ClientAppActor pid=263069)\u001b[0m             This is a deprecated feature. It will be removed\n",
      "\u001b[36m(ClientAppActor pid=263069)\u001b[0m             entirely in future versions of Flower.\n",
      "Testing:   0%|          | 0/95 [00:00<?, ?it/s]\n",
      "Testing:   7%|▋         | 7/95 [00:00<00:01, 63.84it/s]\n",
      "Testing:  20%|██        | 19/95 [00:00<00:00, 94.01it/s]\n",
      "Testing:  38%|███▊      | 36/95 [00:00<00:00, 75.94it/s]\n",
      "Testing:  64%|██████▍   | 61/95 [00:00<00:00, 123.41it/s]\n"
     ]
    },
    {
     "name": "stdout",
     "output_type": "stream",
     "text": [
      "\u001b[36m(ClientAppActor pid=263069)\u001b[0m ✅ [Client 3] Evaluation results - Loss: 2.4835, Accuracy: 0.1103\n"
     ]
    },
    {
     "name": "stderr",
     "output_type": "stream",
     "text": [
      "Testing: 100%|██████████| 95/95 [00:00<00:00, 142.15it/s]\n",
      "\u001b[36m(ClientAppActor pid=263068)\u001b[0m \u001b[93mWARNING \u001b[0m:   DEPRECATED FEATURE: `client_fn` now expects a signature `def client_fn(context: Context)`.The provided `client_fn` has signature: {'cid': <Parameter \"cid: str\">}. You can import the `Context` like this: `from flwr.common import Context`\n",
      "\u001b[36m(ClientAppActor pid=263068)\u001b[0m \n",
      "\u001b[36m(ClientAppActor pid=263068)\u001b[0m             This is a deprecated feature. It will be removed\n",
      "\u001b[36m(ClientAppActor pid=263068)\u001b[0m             entirely in future versions of Flower.\n",
      "\u001b[36m(ClientAppActor pid=263068)\u001b[0m         \n",
      "Testing:   0%|          | 0/98 [00:00<?, ?it/s]\n",
      "Testing:   8%|▊         | 8/98 [00:00<00:01, 71.37it/s]\n"
     ]
    },
    {
     "name": "stdout",
     "output_type": "stream",
     "text": [
      "\u001b[36m(ClientAppActor pid=263068)\u001b[0m [Client 6] Starting evaluation...\n"
     ]
    },
    {
     "name": "stderr",
     "output_type": "stream",
     "text": [
      "Testing:  16%|█▋        | 16/98 [00:00<00:01, 68.96it/s]\n",
      "Testing:  47%|████▋     | 46/98 [00:00<00:00, 165.81it/s]\n",
      "Testing:  85%|████████▍ | 83/98 [00:00<00:00, 239.87it/s]\n",
      "\u001b[92mINFO \u001b[0m:      aggregate_evaluate: received 12 results and 0 failures\n",
      "\u001b[92mINFO \u001b[0m:      \n",
      "\u001b[92mINFO \u001b[0m:      [ROUND 4]\n",
      "\u001b[92mINFO \u001b[0m:      configure_fit: strategy sampled 6 clients (out of 12)\n",
      "\u001b[92mINFO \u001b[0m:      aggregate_fit: received 0 results and 6 failures\n",
      "Testing: 100%|██████████| 98/98 [00:00<00:00, 195.34it/s]\n"
     ]
    },
    {
     "name": "stdout",
     "output_type": "stream",
     "text": [
      "✅ --- Server received 12 evaluation results in round 3 ---\n",
      "✅ --- Pareto selection for round 4 chose clients: ['9722077455151739340', '15868316647030128318', '17572866915993216550', '2884736955283487405', '7221885320893359682', '7288326149512088850'] ---\n",
      "\u001b[36m(ClientAppActor pid=263068)\u001b[0m ✅ [Client 6] Evaluation results - Loss: 2.4845, Accuracy: 0.0079\n"
     ]
    },
    {
     "name": "stderr",
     "output_type": "stream",
     "text": [
      "Testing: 100%|██████████| 91/91 [00:00<00:00, 273.24it/s]\n",
      "\u001b[92mINFO \u001b[0m:      fit progress: (4, 2.484785108775883, {'accuracy': 0.19553169379979218}, 364.8902537239992)\n",
      "\u001b[92mINFO \u001b[0m:      configure_evaluate: strategy sampled 12 clients (out of 12)\n"
     ]
    },
    {
     "name": "stdout",
     "output_type": "stream",
     "text": [
      "============================================================\n",
      "✅ ROUND 4 SUMMARY - Global Model Performance:\n",
      "   Loss: 2.4848 | Accuracy: 0.1955\n",
      "============================================================\n"
     ]
    },
    {
     "name": "stderr",
     "output_type": "stream",
     "text": [
      "\u001b[36m(ClientAppActor pid=263068)\u001b[0m \u001b[93mWARNING \u001b[0m:   DEPRECATED FEATURE: `client_fn` now expects a signature `def client_fn(context: Context)`.The provided `client_fn` has signature: {'cid': <Parameter \"cid: str\">}. You can import the `Context` like this: `from flwr.common import Context`\n",
      "\u001b[36m(ClientAppActor pid=263068)\u001b[0m \n",
      "\u001b[36m(ClientAppActor pid=263068)\u001b[0m             This is a deprecated feature. It will be removed\n",
      "\u001b[36m(ClientAppActor pid=263068)\u001b[0m             entirely in future versions of Flower.\n",
      "\u001b[36m(ClientAppActor pid=263068)\u001b[0m         \n",
      "Testing:   0%|          | 0/95 [00:00<?, ?it/s]\n",
      "Testing:   8%|▊         | 8/95 [00:00<00:01, 75.87it/s]\n"
     ]
    },
    {
     "name": "stdout",
     "output_type": "stream",
     "text": [
      "\u001b[36m(ClientAppActor pid=263068)\u001b[0m [Client 3] Starting evaluation...\n"
     ]
    },
    {
     "name": "stderr",
     "output_type": "stream",
     "text": [
      "Testing:  18%|█▊        | 17/95 [00:00<00:00, 80.38it/s]\n",
      "Testing:  27%|██▋       | 26/95 [00:00<00:00, 74.22it/s]\n",
      "Testing:  66%|██████▋   | 63/95 [00:00<00:00, 177.39it/s]\n",
      "Testing: 100%|██████████| 95/95 [00:00<00:00, 175.08it/s]\n"
     ]
    },
    {
     "name": "stdout",
     "output_type": "stream",
     "text": [
      "\u001b[36m(ClientAppActor pid=263068)\u001b[0m ✅ [Client 3] Evaluation results - Loss: 2.4835, Accuracy: 0.1103\n",
      "\u001b[36m(ClientAppActor pid=263069)\u001b[0m [Client 10] Starting evaluation...\n"
     ]
    },
    {
     "name": "stderr",
     "output_type": "stream",
     "text": [
      "\u001b[36m(ClientAppActor pid=263069)\u001b[0m \u001b[93mWARNING \u001b[0m:   DEPRECATED FEATURE: `client_fn` now expects a signature `def client_fn(context: Context)`.The provided `client_fn` has signature: {'cid': <Parameter \"cid: str\">}. You can import the `Context` like this: `from flwr.common import Context`\n",
      "\u001b[36m(ClientAppActor pid=263069)\u001b[0m \n",
      "\u001b[36m(ClientAppActor pid=263069)\u001b[0m             This is a deprecated feature. It will be removed\n",
      "\u001b[36m(ClientAppActor pid=263069)\u001b[0m             entirely in future versions of Flower.\n",
      "\u001b[36m(ClientAppActor pid=263069)\u001b[0m         \n",
      "Testing:   0%|          | 0/83 [00:00<?, ?it/s]\n",
      "Testing:   8%|▊         | 7/83 [00:00<00:01, 64.37it/s]\n",
      "Testing:  17%|█▋        | 14/83 [00:00<00:01, 66.14it/s]\n",
      "Testing:  31%|███▏      | 26/83 [00:00<00:00, 89.88it/s]\n",
      "Testing:  73%|███████▎  | 61/83 [00:00<00:00, 188.71it/s]\n",
      "Testing: 100%|██████████| 83/83 [00:00<00:00, 169.72it/s]\n"
     ]
    },
    {
     "name": "stdout",
     "output_type": "stream",
     "text": [
      "\u001b[36m(ClientAppActor pid=263069)\u001b[0m ✅ [Client 10] Evaluation results - Loss: 2.4847, Accuracy: 0.1851\n"
     ]
    },
    {
     "name": "stderr",
     "output_type": "stream",
     "text": [
      "\u001b[36m(ClientAppActor pid=263068)\u001b[0m \n",
      "\u001b[36m(ClientAppActor pid=263068)\u001b[0m         \n",
      "\u001b[36m(ClientAppActor pid=263068)\u001b[0m \u001b[93mWARNING \u001b[0m:   DEPRECATED FEATURE: `client_fn` now expects a signature `def client_fn(context: Context)`.The provided `client_fn` has signature: {'cid': <Parameter \"cid: str\">}. You can import the `Context` like this: `from flwr.common import Context`\n",
      "\u001b[36m(ClientAppActor pid=263068)\u001b[0m             This is a deprecated feature. It will be removed\n",
      "\u001b[36m(ClientAppActor pid=263068)\u001b[0m             entirely in future versions of Flower.\n",
      "Testing:   0%|          | 0/92 [00:00<?, ?it/s]\n",
      "Testing:   8%|▊         | 7/92 [00:00<00:01, 64.52it/s]\n"
     ]
    },
    {
     "name": "stdout",
     "output_type": "stream",
     "text": [
      "\u001b[36m(ClientAppActor pid=263068)\u001b[0m [Client 9] Starting evaluation...\n"
     ]
    },
    {
     "name": "stderr",
     "output_type": "stream",
     "text": [
      "Testing:  15%|█▌        | 14/92 [00:00<00:01, 64.27it/s]\n",
      "Testing:  29%|██▉       | 27/92 [00:00<00:00, 91.40it/s]\n",
      "Testing:  67%|██████▋   | 62/92 [00:00<00:00, 188.45it/s]\n",
      "Testing: 100%|██████████| 92/92 [00:00<00:00, 174.41it/s]\n"
     ]
    },
    {
     "name": "stdout",
     "output_type": "stream",
     "text": [
      "\u001b[36m(ClientAppActor pid=263068)\u001b[0m ✅ [Client 9] Evaluation results - Loss: 2.4846, Accuracy: 0.0220\n",
      "\u001b[36m(ClientAppActor pid=263069)\u001b[0m [Client 6] Starting evaluation...\n"
     ]
    },
    {
     "name": "stderr",
     "output_type": "stream",
     "text": [
      "\u001b[36m(ClientAppActor pid=263069)\u001b[0m \u001b[93mWARNING \u001b[0m:   DEPRECATED FEATURE: `client_fn` now expects a signature `def client_fn(context: Context)`.The provided `client_fn` has signature: {'cid': <Parameter \"cid: str\">}. You can import the `Context` like this: `from flwr.common import Context`\n",
      "\u001b[36m(ClientAppActor pid=263069)\u001b[0m \n",
      "\u001b[36m(ClientAppActor pid=263069)\u001b[0m             This is a deprecated feature. It will be removed\n",
      "\u001b[36m(ClientAppActor pid=263069)\u001b[0m             entirely in future versions of Flower.\n",
      "\u001b[36m(ClientAppActor pid=263069)\u001b[0m         \n",
      "Testing:   0%|          | 0/98 [00:00<?, ?it/s]\n",
      "Testing:   7%|▋         | 7/98 [00:00<00:01, 61.05it/s]\n",
      "Testing:  14%|█▍        | 14/98 [00:00<00:01, 63.72it/s]\n",
      "Testing:  31%|███       | 30/98 [00:00<00:00, 104.09it/s]\n",
      "Testing:  64%|██████▍   | 63/98 [00:00<00:00, 189.67it/s]\n"
     ]
    },
    {
     "name": "stdout",
     "output_type": "stream",
     "text": [
      "\u001b[36m(ClientAppActor pid=263069)\u001b[0m ✅ [Client 6] Evaluation results - Loss: 2.4845, Accuracy: 0.0079\n"
     ]
    },
    {
     "name": "stderr",
     "output_type": "stream",
     "text": [
      "Testing: 100%|██████████| 98/98 [00:00<00:00, 187.20it/s]\n",
      "\u001b[36m(ClientAppActor pid=263068)\u001b[0m \n",
      "\u001b[36m(ClientAppActor pid=263068)\u001b[0m         \n",
      "\u001b[36m(ClientAppActor pid=263068)\u001b[0m \u001b[93mWARNING \u001b[0m:   DEPRECATED FEATURE: `client_fn` now expects a signature `def client_fn(context: Context)`.The provided `client_fn` has signature: {'cid': <Parameter \"cid: str\">}. You can import the `Context` like this: `from flwr.common import Context`\n",
      "\u001b[36m(ClientAppActor pid=263068)\u001b[0m             This is a deprecated feature. It will be removed\n",
      "\u001b[36m(ClientAppActor pid=263068)\u001b[0m             entirely in future versions of Flower.\n",
      "Testing:   0%|          | 0/93 [00:00<?, ?it/s]\n"
     ]
    },
    {
     "name": "stdout",
     "output_type": "stream",
     "text": [
      "\u001b[36m(ClientAppActor pid=263068)\u001b[0m [Client 4] Starting evaluation...\n"
     ]
    },
    {
     "name": "stderr",
     "output_type": "stream",
     "text": [
      "Testing:   8%|▊         | 7/93 [00:00<00:01, 65.87it/s]\n",
      "Testing:  15%|█▌        | 14/93 [00:00<00:01, 65.70it/s]\n",
      "Testing:  45%|████▌     | 42/93 [00:00<00:00, 159.33it/s]\n",
      "Testing: 100%|██████████| 93/93 [00:00<00:00, 189.15it/s]\n"
     ]
    },
    {
     "name": "stdout",
     "output_type": "stream",
     "text": [
      "\u001b[36m(ClientAppActor pid=263068)\u001b[0m ✅ [Client 4] Evaluation results - Loss: 2.4843, Accuracy: 0.0137\n",
      "\u001b[36m(ClientAppActor pid=263069)\u001b[0m [Client 11] Starting evaluation...\n"
     ]
    },
    {
     "name": "stderr",
     "output_type": "stream",
     "text": [
      "\u001b[36m(ClientAppActor pid=263069)\u001b[0m \u001b[93mWARNING \u001b[0m:   DEPRECATED FEATURE: `client_fn` now expects a signature `def client_fn(context: Context)`.The provided `client_fn` has signature: {'cid': <Parameter \"cid: str\">}. You can import the `Context` like this: `from flwr.common import Context`\n",
      "\u001b[36m(ClientAppActor pid=263069)\u001b[0m \n",
      "\u001b[36m(ClientAppActor pid=263069)\u001b[0m             This is a deprecated feature. It will be removed\n",
      "\u001b[36m(ClientAppActor pid=263069)\u001b[0m             entirely in future versions of Flower.\n",
      "\u001b[36m(ClientAppActor pid=263069)\u001b[0m         \n",
      "Testing:   0%|          | 0/91 [00:00<?, ?it/s]\n",
      "Testing:   8%|▊         | 7/91 [00:00<00:01, 66.42it/s]\n",
      "Testing:  16%|█▋        | 15/91 [00:00<00:01, 69.62it/s]\n",
      "Testing:  24%|██▍       | 22/91 [00:00<00:01, 68.28it/s]\n",
      "Testing:  63%|██████▎   | 57/91 [00:00<00:00, 173.33it/s]\n",
      "Testing:  88%|████████▊ | 80/91 [00:00<00:00, 192.02it/s]\n"
     ]
    },
    {
     "name": "stdout",
     "output_type": "stream",
     "text": [
      "\u001b[36m(ClientAppActor pid=263069)\u001b[0m ✅ [Client 11] Evaluation results - Loss: 2.4848, Accuracy: 0.1955\n"
     ]
    },
    {
     "name": "stderr",
     "output_type": "stream",
     "text": [
      "Testing: 100%|██████████| 91/91 [00:00<00:00, 162.55it/s]\n",
      "\u001b[36m(ClientAppActor pid=263068)\u001b[0m \n",
      "\u001b[36m(ClientAppActor pid=263068)\u001b[0m         \n",
      "\u001b[36m(ClientAppActor pid=263068)\u001b[0m \u001b[93mWARNING \u001b[0m:   DEPRECATED FEATURE: `client_fn` now expects a signature `def client_fn(context: Context)`.The provided `client_fn` has signature: {'cid': <Parameter \"cid: str\">}. You can import the `Context` like this: `from flwr.common import Context`\n",
      "\u001b[36m(ClientAppActor pid=263068)\u001b[0m             This is a deprecated feature. It will be removed\n",
      "\u001b[36m(ClientAppActor pid=263068)\u001b[0m             entirely in future versions of Flower.\n",
      "Testing:   0%|          | 0/93 [00:00<?, ?it/s]\n"
     ]
    },
    {
     "name": "stdout",
     "output_type": "stream",
     "text": [
      "\u001b[36m(ClientAppActor pid=263068)\u001b[0m [Client 2] Starting evaluation...\n"
     ]
    },
    {
     "name": "stderr",
     "output_type": "stream",
     "text": [
      "Testing:   8%|▊         | 7/93 [00:00<00:01, 61.98it/s]\n",
      "Testing:  25%|██▍       | 23/93 [00:00<00:00, 115.15it/s]\n",
      "Testing:  53%|█████▎    | 49/93 [00:00<00:00, 174.87it/s]\n",
      "Testing: 100%|██████████| 93/93 [00:00<00:00, 199.69it/s]\n"
     ]
    },
    {
     "name": "stdout",
     "output_type": "stream",
     "text": [
      "\u001b[36m(ClientAppActor pid=263068)\u001b[0m ✅ [Client 2] Evaluation results - Loss: 2.4850, Accuracy: 0.0059\n"
     ]
    },
    {
     "name": "stderr",
     "output_type": "stream",
     "text": [
      "\u001b[36m(ClientAppActor pid=263069)\u001b[0m \u001b[93mWARNING \u001b[0m:   DEPRECATED FEATURE: `client_fn` now expects a signature `def client_fn(context: Context)`.The provided `client_fn` has signature: {'cid': <Parameter \"cid: str\">}. You can import the `Context` like this: `from flwr.common import Context`\n",
      "\u001b[36m(ClientAppActor pid=263069)\u001b[0m \n",
      "\u001b[36m(ClientAppActor pid=263069)\u001b[0m             This is a deprecated feature. It will be removed\n",
      "\u001b[36m(ClientAppActor pid=263069)\u001b[0m             entirely in future versions of Flower.\n",
      "\u001b[36m(ClientAppActor pid=263069)\u001b[0m         \n",
      "Testing:   0%|          | 0/93 [00:00<?, ?it/s]\n"
     ]
    },
    {
     "name": "stdout",
     "output_type": "stream",
     "text": [
      "\u001b[36m(ClientAppActor pid=263069)\u001b[0m [Client 0] Starting evaluation...\n"
     ]
    },
    {
     "name": "stderr",
     "output_type": "stream",
     "text": [
      "Testing:   8%|▊         | 7/93 [00:00<00:01, 63.29it/s]\n",
      "Testing:  15%|█▌        | 14/93 [00:00<00:01, 63.06it/s]\n",
      "Testing:  23%|██▎       | 21/93 [00:00<00:01, 62.08it/s]\n",
      "Testing:  49%|████▉     | 46/93 [00:00<00:00, 130.90it/s]\n"
     ]
    },
    {
     "name": "stdout",
     "output_type": "stream",
     "text": [
      "\u001b[36m(ClientAppActor pid=263069)\u001b[0m ✅ [Client 0] Evaluation results - Loss: 2.4839, Accuracy: 0.1977\n"
     ]
    },
    {
     "name": "stderr",
     "output_type": "stream",
     "text": [
      "Testing: 100%|██████████| 93/93 [00:00<00:00, 163.41it/s]\n",
      "\u001b[36m(ClientAppActor pid=263068)\u001b[0m \n",
      "\u001b[36m(ClientAppActor pid=263068)\u001b[0m         \n",
      "\u001b[36m(ClientAppActor pid=263068)\u001b[0m \u001b[93mWARNING \u001b[0m:   DEPRECATED FEATURE: `client_fn` now expects a signature `def client_fn(context: Context)`.The provided `client_fn` has signature: {'cid': <Parameter \"cid: str\">}. You can import the `Context` like this: `from flwr.common import Context`\n",
      "\u001b[36m(ClientAppActor pid=263068)\u001b[0m             This is a deprecated feature. It will be removed\n",
      "\u001b[36m(ClientAppActor pid=263068)\u001b[0m             entirely in future versions of Flower.\n",
      "Testing:   0%|          | 0/95 [00:00<?, ?it/s]\n"
     ]
    },
    {
     "name": "stdout",
     "output_type": "stream",
     "text": [
      "\u001b[36m(ClientAppActor pid=263068)\u001b[0m [Client 5] Starting evaluation...\n"
     ]
    },
    {
     "name": "stderr",
     "output_type": "stream",
     "text": [
      "Testing:   7%|▋         | 7/95 [00:00<00:01, 62.07it/s]\n",
      "Testing:  15%|█▍        | 14/95 [00:00<00:01, 60.77it/s]\n",
      "Testing:  43%|████▎     | 41/95 [00:00<00:00, 147.22it/s]\n",
      "Testing: 100%|██████████| 95/95 [00:00<00:00, 188.15it/s]\n"
     ]
    },
    {
     "name": "stdout",
     "output_type": "stream",
     "text": [
      "\u001b[36m(ClientAppActor pid=263068)\u001b[0m ✅ [Client 5] Evaluation results - Loss: 2.4855, Accuracy: 0.0078\n",
      "\u001b[36m(ClientAppActor pid=263069)\u001b[0m [Client 7] Starting evaluation...\n"
     ]
    },
    {
     "name": "stderr",
     "output_type": "stream",
     "text": [
      "\u001b[36m(ClientAppActor pid=263069)\u001b[0m \u001b[93mWARNING \u001b[0m:   DEPRECATED FEATURE: `client_fn` now expects a signature `def client_fn(context: Context)`.The provided `client_fn` has signature: {'cid': <Parameter \"cid: str\">}. You can import the `Context` like this: `from flwr.common import Context`\n",
      "\u001b[36m(ClientAppActor pid=263069)\u001b[0m \n",
      "\u001b[36m(ClientAppActor pid=263069)\u001b[0m             This is a deprecated feature. It will be removed\n",
      "\u001b[36m(ClientAppActor pid=263069)\u001b[0m             entirely in future versions of Flower.\n",
      "\u001b[36m(ClientAppActor pid=263069)\u001b[0m         \n",
      "Testing:   0%|          | 0/91 [00:00<?, ?it/s]\n",
      "Testing:   8%|▊         | 7/91 [00:00<00:01, 61.40it/s]\n",
      "Testing:  15%|█▌        | 14/91 [00:00<00:01, 63.93it/s]\n",
      "Testing:  23%|██▎       | 21/91 [00:00<00:01, 64.00it/s]\n",
      "Testing:  58%|█████▊    | 53/91 [00:00<00:00, 158.36it/s]\n",
      "Testing:  88%|████████▊ | 80/91 [00:00<00:00, 196.68it/s]\n"
     ]
    },
    {
     "name": "stdout",
     "output_type": "stream",
     "text": [
      "\u001b[36m(ClientAppActor pid=263069)\u001b[0m ✅ [Client 7] Evaluation results - Loss: 2.4845, Accuracy: 0.0372\n"
     ]
    },
    {
     "name": "stderr",
     "output_type": "stream",
     "text": [
      "Testing: 100%|██████████| 91/91 [00:00<00:00, 161.15it/s]\n",
      "\u001b[36m(ClientAppActor pid=263068)\u001b[0m \n",
      "\u001b[36m(ClientAppActor pid=263068)\u001b[0m         \n",
      "\u001b[36m(ClientAppActor pid=263068)\u001b[0m \u001b[93mWARNING \u001b[0m:   DEPRECATED FEATURE: `client_fn` now expects a signature `def client_fn(context: Context)`.The provided `client_fn` has signature: {'cid': <Parameter \"cid: str\">}. You can import the `Context` like this: `from flwr.common import Context`\n",
      "\u001b[36m(ClientAppActor pid=263068)\u001b[0m             This is a deprecated feature. It will be removed\n",
      "\u001b[36m(ClientAppActor pid=263068)\u001b[0m             entirely in future versions of Flower.\n",
      "Testing:   0%|          | 0/91 [00:00<?, ?it/s]\n"
     ]
    },
    {
     "name": "stdout",
     "output_type": "stream",
     "text": [
      "\u001b[36m(ClientAppActor pid=263068)\u001b[0m [Client 8] Starting evaluation...\n"
     ]
    },
    {
     "name": "stderr",
     "output_type": "stream",
     "text": [
      "Testing:   8%|▊         | 7/91 [00:00<00:01, 62.07it/s]\n",
      "Testing:  15%|█▌        | 14/91 [00:00<00:01, 60.19it/s]\n",
      "Testing:  48%|████▊     | 44/91 [00:00<00:00, 159.31it/s]\n",
      "Testing:  81%|████████▏ | 74/91 [00:00<00:00, 211.42it/s]\n",
      "Testing: 100%|██████████| 91/91 [00:00<00:00, 188.91it/s]\n"
     ]
    },
    {
     "name": "stdout",
     "output_type": "stream",
     "text": [
      "\u001b[36m(ClientAppActor pid=263068)\u001b[0m ✅ [Client 8] Evaluation results - Loss: 2.4832, Accuracy: 0.0880\n",
      "\u001b[36m(ClientAppActor pid=263069)\u001b[0m [Client 1] Starting evaluation...\n"
     ]
    },
    {
     "name": "stderr",
     "output_type": "stream",
     "text": [
      "\u001b[36m(ClientAppActor pid=263069)\u001b[0m \u001b[93mWARNING \u001b[0m:   DEPRECATED FEATURE: `client_fn` now expects a signature `def client_fn(context: Context)`.The provided `client_fn` has signature: {'cid': <Parameter \"cid: str\">}. You can import the `Context` like this: `from flwr.common import Context`\n",
      "\u001b[36m(ClientAppActor pid=263069)\u001b[0m \n",
      "\u001b[36m(ClientAppActor pid=263069)\u001b[0m             This is a deprecated feature. It will be removed\n",
      "\u001b[36m(ClientAppActor pid=263069)\u001b[0m             entirely in future versions of Flower.\n",
      "\u001b[36m(ClientAppActor pid=263069)\u001b[0m         \n",
      "Testing:   0%|          | 0/93 [00:00<?, ?it/s]\n",
      "Testing:   9%|▊         | 8/93 [00:00<00:01, 71.05it/s]\n",
      "Testing:  17%|█▋        | 16/93 [00:00<00:01, 67.82it/s]\n",
      "Testing:  43%|████▎     | 40/93 [00:00<00:00, 138.65it/s]\n",
      "Testing:  81%|████████  | 75/93 [00:00<00:00, 216.84it/s]\n",
      "\u001b[92mINFO \u001b[0m:      aggregate_evaluate: received 12 results and 0 failures\n",
      "\u001b[92mINFO \u001b[0m:      \n",
      "\u001b[92mINFO \u001b[0m:      [ROUND 5]\n",
      "\u001b[92mINFO \u001b[0m:      configure_fit: strategy sampled 6 clients (out of 12)\n",
      "\u001b[92mINFO \u001b[0m:      aggregate_fit: received 0 results and 6 failures\n"
     ]
    },
    {
     "name": "stdout",
     "output_type": "stream",
     "text": [
      "✅ --- Server received 12 evaluation results in round 4 ---\n",
      "✅ --- Pareto selection for round 5 chose clients: ['3516174158176321985', '2884736955283487405', '3343832528087936700', '7221885320893359682', '15868316647030128318', '15100500063491518048'] ---\n"
     ]
    },
    {
     "name": "stderr",
     "output_type": "stream",
     "text": [
      "Testing: 100%|██████████| 93/93 [00:00<00:00, 188.08it/s]ntAppActor pid=263069)\u001b[0m \n",
      "Testing:  29%|██▊       | 26/91 [00:00<00:00, 253.19it/s]"
     ]
    },
    {
     "name": "stdout",
     "output_type": "stream",
     "text": [
      "\u001b[36m(ClientAppActor pid=263069)\u001b[0m ✅ [Client 1] Evaluation results - Loss: 2.4840, Accuracy: 0.1559\n"
     ]
    },
    {
     "name": "stderr",
     "output_type": "stream",
     "text": [
      "Testing: 100%|██████████| 91/91 [00:00<00:00, 258.87it/s]\n",
      "\u001b[92mINFO \u001b[0m:      fit progress: (5, 2.484785108775883, {'accuracy': 0.19553169379979218}, 465.13141083699884)\n",
      "\u001b[92mINFO \u001b[0m:      configure_evaluate: strategy sampled 12 clients (out of 12)\n"
     ]
    },
    {
     "name": "stdout",
     "output_type": "stream",
     "text": [
      "============================================================\n",
      "✅ ROUND 5 SUMMARY - Global Model Performance:\n",
      "   Loss: 2.4848 | Accuracy: 0.1955\n",
      "============================================================\n",
      "\u001b[36m(ClientAppActor pid=263069)\u001b[0m [Client 11] Starting evaluation...\n"
     ]
    },
    {
     "name": "stderr",
     "output_type": "stream",
     "text": [
      "\u001b[36m(ClientAppActor pid=263069)\u001b[0m \u001b[93mWARNING \u001b[0m:   DEPRECATED FEATURE: `client_fn` now expects a signature `def client_fn(context: Context)`.The provided `client_fn` has signature: {'cid': <Parameter \"cid: str\">}. You can import the `Context` like this: `from flwr.common import Context`\n",
      "\u001b[36m(ClientAppActor pid=263069)\u001b[0m \n",
      "\u001b[36m(ClientAppActor pid=263069)\u001b[0m             This is a deprecated feature. It will be removed\n",
      "\u001b[36m(ClientAppActor pid=263069)\u001b[0m             entirely in future versions of Flower.\n",
      "\u001b[36m(ClientAppActor pid=263069)\u001b[0m         \n",
      "Testing:   0%|          | 0/91 [00:00<?, ?it/s]\n",
      "Testing:   9%|▉         | 8/91 [00:00<00:01, 72.41it/s]\n",
      "Testing:  18%|█▊        | 16/91 [00:00<00:01, 68.17it/s]\n",
      "Testing:  29%|██▊       | 26/91 [00:00<00:00, 81.40it/s]\n",
      "Testing:  53%|█████▎    | 48/91 [00:00<00:00, 130.99it/s]\n",
      "Testing:  85%|████████▍ | 77/91 [00:00<00:00, 184.18it/s]\n"
     ]
    },
    {
     "name": "stdout",
     "output_type": "stream",
     "text": [
      "\u001b[36m(ClientAppActor pid=263069)\u001b[0m ✅ [Client 11] Evaluation results - Loss: 2.4848, Accuracy: 0.1955\n"
     ]
    },
    {
     "name": "stderr",
     "output_type": "stream",
     "text": [
      "Testing: 100%|██████████| 91/91 [00:00<00:00, 157.89it/s]\n",
      "\u001b[36m(ClientAppActor pid=263068)\u001b[0m \u001b[93mWARNING \u001b[0m:   DEPRECATED FEATURE: `client_fn` now expects a signature `def client_fn(context: Context)`.The provided `client_fn` has signature: {'cid': <Parameter \"cid: str\">}. You can import the `Context` like this: `from flwr.common import Context`\n",
      "\u001b[36m(ClientAppActor pid=263068)\u001b[0m \n",
      "\u001b[36m(ClientAppActor pid=263068)\u001b[0m             This is a deprecated feature. It will be removed\n",
      "\u001b[36m(ClientAppActor pid=263068)\u001b[0m             entirely in future versions of Flower.\n",
      "\u001b[36m(ClientAppActor pid=263068)\u001b[0m         \n",
      "Testing:   0%|          | 0/93 [00:00<?, ?it/s]\n",
      "Testing:   5%|▌         | 5/93 [00:00<00:01, 46.00it/s]\n"
     ]
    },
    {
     "name": "stdout",
     "output_type": "stream",
     "text": [
      "\u001b[36m(ClientAppActor pid=263068)\u001b[0m [Client 4] Starting evaluation...\n"
     ]
    },
    {
     "name": "stderr",
     "output_type": "stream",
     "text": [
      "Testing:  13%|█▎        | 12/93 [00:00<00:01, 54.91it/s]\n",
      "Testing:  19%|█▉        | 18/93 [00:00<00:01, 56.37it/s]\n",
      "Testing:  46%|████▌     | 43/93 [00:00<00:00, 128.52it/s]\n",
      "Testing: 100%|██████████| 93/93 [00:00<00:00, 157.24it/s]\n"
     ]
    },
    {
     "name": "stdout",
     "output_type": "stream",
     "text": [
      "\u001b[36m(ClientAppActor pid=263068)\u001b[0m ✅ [Client 4] Evaluation results - Loss: 2.4843, Accuracy: 0.0137\n"
     ]
    },
    {
     "name": "stderr",
     "output_type": "stream",
     "text": [
      "\u001b[36m(ClientAppActor pid=263069)\u001b[0m \n",
      "\u001b[36m(ClientAppActor pid=263069)\u001b[0m         \n",
      "\u001b[36m(ClientAppActor pid=263069)\u001b[0m \u001b[93mWARNING \u001b[0m:   DEPRECATED FEATURE: `client_fn` now expects a signature `def client_fn(context: Context)`.The provided `client_fn` has signature: {'cid': <Parameter \"cid: str\">}. You can import the `Context` like this: `from flwr.common import Context`\n",
      "\u001b[36m(ClientAppActor pid=263069)\u001b[0m             This is a deprecated feature. It will be removed\n",
      "\u001b[36m(ClientAppActor pid=263069)\u001b[0m             entirely in future versions of Flower.\n",
      "Testing:   0%|          | 0/93 [00:00<?, ?it/s]\n"
     ]
    },
    {
     "name": "stdout",
     "output_type": "stream",
     "text": [
      "\u001b[36m(ClientAppActor pid=263069)\u001b[0m [Client 1] Starting evaluation...\n"
     ]
    },
    {
     "name": "stderr",
     "output_type": "stream",
     "text": [
      "Testing:   8%|▊         | 7/93 [00:00<00:01, 69.27it/s]\n",
      "Testing:  15%|█▌        | 14/93 [00:00<00:01, 59.38it/s]\n",
      "Testing:  31%|███       | 29/93 [00:00<00:01, 61.67it/s]\n",
      "Testing:  52%|█████▏    | 48/93 [00:00<00:00, 96.20it/s]\n",
      "Testing:  87%|████████▋ | 81/93 [00:00<00:00, 160.72it/s]\n"
     ]
    },
    {
     "name": "stdout",
     "output_type": "stream",
     "text": [
      "\u001b[36m(ClientAppActor pid=263069)\u001b[0m ✅ [Client 1] Evaluation results - Loss: 2.4840, Accuracy: 0.1559\n"
     ]
    },
    {
     "name": "stderr",
     "output_type": "stream",
     "text": [
      "Testing: 100%|██████████| 93/93 [00:00<00:00, 130.59it/s]\n",
      "\u001b[36m(ClientAppActor pid=263068)\u001b[0m \u001b[93mWARNING \u001b[0m:   DEPRECATED FEATURE: `client_fn` now expects a signature `def client_fn(context: Context)`.The provided `client_fn` has signature: {'cid': <Parameter \"cid: str\">}. You can import the `Context` like this: `from flwr.common import Context`\n",
      "\u001b[36m(ClientAppActor pid=263068)\u001b[0m \n",
      "\u001b[36m(ClientAppActor pid=263068)\u001b[0m             This is a deprecated feature. It will be removed\n",
      "\u001b[36m(ClientAppActor pid=263068)\u001b[0m             entirely in future versions of Flower.\n",
      "\u001b[36m(ClientAppActor pid=263068)\u001b[0m         \n",
      "Testing:   0%|          | 0/95 [00:00<?, ?it/s]\n"
     ]
    },
    {
     "name": "stdout",
     "output_type": "stream",
     "text": [
      "\u001b[36m(ClientAppActor pid=263068)\u001b[0m [Client 5] Starting evaluation...\n"
     ]
    },
    {
     "name": "stderr",
     "output_type": "stream",
     "text": [
      "Testing:   8%|▊         | 8/95 [00:00<00:01, 74.75it/s]\n",
      "Testing:  18%|█▊        | 17/95 [00:00<00:01, 72.63it/s]\n",
      "Testing:  38%|███▊      | 36/95 [00:00<00:00, 120.88it/s]\n",
      "Testing:  61%|██████    | 58/95 [00:00<00:00, 157.46it/s]\n",
      "Testing: 100%|██████████| 95/95 [00:00<00:00, 166.59it/s]\n"
     ]
    },
    {
     "name": "stdout",
     "output_type": "stream",
     "text": [
      "\u001b[36m(ClientAppActor pid=263068)\u001b[0m ✅ [Client 5] Evaluation results - Loss: 2.4855, Accuracy: 0.0078\n",
      "\u001b[36m(ClientAppActor pid=263069)\u001b[0m [Client 9] Starting evaluation...\n"
     ]
    },
    {
     "name": "stderr",
     "output_type": "stream",
     "text": [
      "\u001b[36m(ClientAppActor pid=263069)\u001b[0m \n",
      "\u001b[36m(ClientAppActor pid=263069)\u001b[0m         \n",
      "\u001b[36m(ClientAppActor pid=263069)\u001b[0m \u001b[93mWARNING \u001b[0m:   DEPRECATED FEATURE: `client_fn` now expects a signature `def client_fn(context: Context)`.The provided `client_fn` has signature: {'cid': <Parameter \"cid: str\">}. You can import the `Context` like this: `from flwr.common import Context`\n",
      "\u001b[36m(ClientAppActor pid=263069)\u001b[0m             This is a deprecated feature. It will be removed\n",
      "\u001b[36m(ClientAppActor pid=263069)\u001b[0m             entirely in future versions of Flower.\n",
      "Testing:   0%|          | 0/92 [00:00<?, ?it/s]\n",
      "Testing:   9%|▊         | 8/92 [00:00<00:01, 77.21it/s]\n",
      "Testing:  18%|█▊        | 17/92 [00:00<00:00, 83.89it/s]\n",
      "Testing:  28%|██▊       | 26/92 [00:00<00:00, 74.18it/s]\n",
      "Testing:  62%|██████▏   | 57/92 [00:00<00:00, 157.89it/s]\n"
     ]
    },
    {
     "name": "stdout",
     "output_type": "stream",
     "text": [
      "\u001b[36m(ClientAppActor pid=263069)\u001b[0m ✅ [Client 9] Evaluation results - Loss: 2.4846, Accuracy: 0.0220\n"
     ]
    },
    {
     "name": "stderr",
     "output_type": "stream",
     "text": [
      "Testing: 100%|██████████| 92/92 [00:00<00:00, 162.74it/s]\n",
      "\u001b[36m(ClientAppActor pid=263068)\u001b[0m \u001b[93mWARNING \u001b[0m:   DEPRECATED FEATURE: `client_fn` now expects a signature `def client_fn(context: Context)`.The provided `client_fn` has signature: {'cid': <Parameter \"cid: str\">}. You can import the `Context` like this: `from flwr.common import Context`\n",
      "\u001b[36m(ClientAppActor pid=263068)\u001b[0m \n",
      "\u001b[36m(ClientAppActor pid=263068)\u001b[0m             This is a deprecated feature. It will be removed\n",
      "\u001b[36m(ClientAppActor pid=263068)\u001b[0m             entirely in future versions of Flower.\n",
      "\u001b[36m(ClientAppActor pid=263068)\u001b[0m         \n",
      "Testing:   0%|          | 0/93 [00:00<?, ?it/s]\n"
     ]
    },
    {
     "name": "stdout",
     "output_type": "stream",
     "text": [
      "\u001b[36m(ClientAppActor pid=263068)\u001b[0m [Client 2] Starting evaluation...\n"
     ]
    },
    {
     "name": "stderr",
     "output_type": "stream",
     "text": [
      "Testing:  10%|▉         | 9/93 [00:00<00:01, 81.02it/s]\n",
      "Testing:  19%|█▉        | 18/93 [00:00<00:01, 72.43it/s]\n",
      "Testing:  52%|█████▏    | 48/93 [00:00<00:00, 162.88it/s]\n",
      "Testing:  82%|████████▏ | 76/93 [00:00<00:00, 203.68it/s]\n",
      "Testing: 100%|██████████| 93/93 [00:00<00:00, 186.11it/s]\n"
     ]
    },
    {
     "name": "stdout",
     "output_type": "stream",
     "text": [
      "\u001b[36m(ClientAppActor pid=263068)\u001b[0m ✅ [Client 2] Evaluation results - Loss: 2.4850, Accuracy: 0.0059\n"
     ]
    },
    {
     "name": "stderr",
     "output_type": "stream",
     "text": [
      "\u001b[36m(ClientAppActor pid=263069)\u001b[0m \n",
      "\u001b[36m(ClientAppActor pid=263069)\u001b[0m         \n",
      "\u001b[36m(ClientAppActor pid=263069)\u001b[0m \u001b[93mWARNING \u001b[0m:   DEPRECATED FEATURE: `client_fn` now expects a signature `def client_fn(context: Context)`.The provided `client_fn` has signature: {'cid': <Parameter \"cid: str\">}. You can import the `Context` like this: `from flwr.common import Context`\n",
      "\u001b[36m(ClientAppActor pid=263069)\u001b[0m             This is a deprecated feature. It will be removed\n",
      "\u001b[36m(ClientAppActor pid=263069)\u001b[0m             entirely in future versions of Flower.\n",
      "Testing:   0%|          | 0/91 [00:00<?, ?it/s]\n"
     ]
    },
    {
     "name": "stdout",
     "output_type": "stream",
     "text": [
      "\u001b[36m(ClientAppActor pid=263069)\u001b[0m [Client 8] Starting evaluation...\n"
     ]
    },
    {
     "name": "stderr",
     "output_type": "stream",
     "text": [
      "Testing:   9%|▉         | 8/91 [00:00<00:01, 71.93it/s]\n",
      "Testing:  18%|█▊        | 16/91 [00:00<00:01, 73.23it/s]\n",
      "Testing:  29%|██▊       | 26/91 [00:00<00:00, 84.00it/s]\n",
      "Testing:  65%|██████▍   | 59/91 [00:00<00:00, 176.02it/s]\n"
     ]
    },
    {
     "name": "stdout",
     "output_type": "stream",
     "text": [
      "\u001b[36m(ClientAppActor pid=263069)\u001b[0m ✅ [Client 8] Evaluation results - Loss: 2.4832, Accuracy: 0.0880\n"
     ]
    },
    {
     "name": "stderr",
     "output_type": "stream",
     "text": [
      "Testing: 100%|██████████| 91/91 [00:00<00:00, 176.08it/s]\n",
      "\u001b[36m(ClientAppActor pid=263068)\u001b[0m \u001b[93mWARNING \u001b[0m:   DEPRECATED FEATURE: `client_fn` now expects a signature `def client_fn(context: Context)`.The provided `client_fn` has signature: {'cid': <Parameter \"cid: str\">}. You can import the `Context` like this: `from flwr.common import Context`\n",
      "\u001b[36m(ClientAppActor pid=263068)\u001b[0m \n",
      "\u001b[36m(ClientAppActor pid=263068)\u001b[0m             This is a deprecated feature. It will be removed\n",
      "\u001b[36m(ClientAppActor pid=263068)\u001b[0m             entirely in future versions of Flower.\n",
      "\u001b[36m(ClientAppActor pid=263068)\u001b[0m         \n",
      "Testing:   0%|          | 0/93 [00:00<?, ?it/s]\n",
      "Testing:   9%|▊         | 8/93 [00:00<00:01, 76.68it/s]\n"
     ]
    },
    {
     "name": "stdout",
     "output_type": "stream",
     "text": [
      "\u001b[36m(ClientAppActor pid=263068)\u001b[0m [Client 0] Starting evaluation...\n"
     ]
    },
    {
     "name": "stderr",
     "output_type": "stream",
     "text": [
      "Testing:  18%|█▊        | 17/93 [00:00<00:00, 81.77it/s]\n",
      "Testing:  32%|███▏      | 30/93 [00:00<00:00, 103.12it/s]\n",
      "Testing:  68%|██████▊   | 63/93 [00:00<00:00, 189.80it/s]\n",
      "Testing: 100%|██████████| 93/93 [00:00<00:00, 181.78it/s]\n"
     ]
    },
    {
     "name": "stdout",
     "output_type": "stream",
     "text": [
      "\u001b[36m(ClientAppActor pid=263068)\u001b[0m ✅ [Client 0] Evaluation results - Loss: 2.4839, Accuracy: 0.1977\n"
     ]
    },
    {
     "name": "stderr",
     "output_type": "stream",
     "text": [
      "\u001b[36m(ClientAppActor pid=263069)\u001b[0m \n",
      "\u001b[36m(ClientAppActor pid=263069)\u001b[0m         \n",
      "\u001b[36m(ClientAppActor pid=263069)\u001b[0m \u001b[93mWARNING \u001b[0m:   DEPRECATED FEATURE: `client_fn` now expects a signature `def client_fn(context: Context)`.The provided `client_fn` has signature: {'cid': <Parameter \"cid: str\">}. You can import the `Context` like this: `from flwr.common import Context`\n",
      "\u001b[36m(ClientAppActor pid=263069)\u001b[0m             This is a deprecated feature. It will be removed\n",
      "\u001b[36m(ClientAppActor pid=263069)\u001b[0m             entirely in future versions of Flower.\n",
      "Testing:   0%|          | 0/83 [00:00<?, ?it/s]\n",
      "Testing:  11%|█         | 9/83 [00:00<00:00, 79.86it/s]\n"
     ]
    },
    {
     "name": "stdout",
     "output_type": "stream",
     "text": [
      "\u001b[36m(ClientAppActor pid=263069)\u001b[0m [Client 10] Starting evaluation...\n"
     ]
    },
    {
     "name": "stderr",
     "output_type": "stream",
     "text": [
      "Testing:  20%|██        | 17/83 [00:00<00:00, 67.70it/s]\n",
      "Testing:  30%|███       | 25/83 [00:00<00:00, 71.36it/s]\n",
      "Testing:  58%|█████▊    | 48/83 [00:00<00:00, 127.54it/s]\n",
      "Testing: 100%|██████████| 83/83 [00:00<00:00, 142.76it/s]\n"
     ]
    },
    {
     "name": "stdout",
     "output_type": "stream",
     "text": [
      "\u001b[36m(ClientAppActor pid=263069)\u001b[0m ✅ [Client 10] Evaluation results - Loss: 2.4847, Accuracy: 0.1851\n"
     ]
    },
    {
     "name": "stderr",
     "output_type": "stream",
     "text": [
      "\u001b[36m(ClientAppActor pid=263068)\u001b[0m \u001b[93mWARNING \u001b[0m:   DEPRECATED FEATURE: `client_fn` now expects a signature `def client_fn(context: Context)`.The provided `client_fn` has signature: {'cid': <Parameter \"cid: str\">}. You can import the `Context` like this: `from flwr.common import Context`\n",
      "\u001b[36m(ClientAppActor pid=263068)\u001b[0m \n",
      "\u001b[36m(ClientAppActor pid=263068)\u001b[0m             This is a deprecated feature. It will be removed\n",
      "\u001b[36m(ClientAppActor pid=263068)\u001b[0m             entirely in future versions of Flower.\n",
      "\u001b[36m(ClientAppActor pid=263068)\u001b[0m         \n",
      "Testing:   0%|          | 0/91 [00:00<?, ?it/s]\n",
      "Testing:  10%|▉         | 9/91 [00:00<00:00, 82.30it/s]\n"
     ]
    },
    {
     "name": "stdout",
     "output_type": "stream",
     "text": [
      "\u001b[36m(ClientAppActor pid=263068)\u001b[0m [Client 7] Starting evaluation...\n"
     ]
    },
    {
     "name": "stderr",
     "output_type": "stream",
     "text": [
      "Testing:  31%|███       | 28/91 [00:00<00:00, 87.98it/s]\n",
      "Testing:  66%|██████▌   | 60/91 [00:00<00:00, 173.63it/s]\n",
      "Testing: 100%|██████████| 91/91 [00:00<00:00, 173.50it/s]\n"
     ]
    },
    {
     "name": "stdout",
     "output_type": "stream",
     "text": [
      "\u001b[36m(ClientAppActor pid=263068)\u001b[0m ✅ [Client 7] Evaluation results - Loss: 2.4845, Accuracy: 0.0372\n",
      "\u001b[36m(ClientAppActor pid=263069)\u001b[0m [Client 3] Starting evaluation...\n"
     ]
    },
    {
     "name": "stderr",
     "output_type": "stream",
     "text": [
      "\u001b[36m(ClientAppActor pid=263069)\u001b[0m \n",
      "\u001b[36m(ClientAppActor pid=263069)\u001b[0m         \n",
      "Testing:   0%|          | 0/95 [00:00<?, ?it/s]\n",
      "\u001b[36m(ClientAppActor pid=263069)\u001b[0m \u001b[93mWARNING \u001b[0m:   DEPRECATED FEATURE: `client_fn` now expects a signature `def client_fn(context: Context)`.The provided `client_fn` has signature: {'cid': <Parameter \"cid: str\">}. You can import the `Context` like this: `from flwr.common import Context`\n",
      "\u001b[36m(ClientAppActor pid=263069)\u001b[0m             This is a deprecated feature. It will be removed\n",
      "\u001b[36m(ClientAppActor pid=263069)\u001b[0m             entirely in future versions of Flower.\n",
      "Testing:   8%|▊         | 8/95 [00:00<00:01, 73.71it/s]\n",
      "Testing:  19%|█▉        | 18/95 [00:00<00:00, 87.43it/s]\n",
      "Testing:  48%|████▊     | 46/95 [00:00<00:00, 172.12it/s]\n",
      "Testing: 100%|██████████| 95/95 [00:00<00:00, 208.33it/s]\n"
     ]
    },
    {
     "name": "stdout",
     "output_type": "stream",
     "text": [
      "\u001b[36m(ClientAppActor pid=263069)\u001b[0m ✅ [Client 3] Evaluation results - Loss: 2.4835, Accuracy: 0.1103\n"
     ]
    },
    {
     "name": "stderr",
     "output_type": "stream",
     "text": [
      "\u001b[36m(ClientAppActor pid=263068)\u001b[0m \u001b[93mWARNING \u001b[0m:   DEPRECATED FEATURE: `client_fn` now expects a signature `def client_fn(context: Context)`.The provided `client_fn` has signature: {'cid': <Parameter \"cid: str\">}. You can import the `Context` like this: `from flwr.common import Context`\n",
      "\u001b[36m(ClientAppActor pid=263068)\u001b[0m \n",
      "\u001b[36m(ClientAppActor pid=263068)\u001b[0m             This is a deprecated feature. It will be removed\n",
      "\u001b[36m(ClientAppActor pid=263068)\u001b[0m             entirely in future versions of Flower.\n",
      "\u001b[36m(ClientAppActor pid=263068)\u001b[0m         \n",
      "Testing:   0%|          | 0/98 [00:00<?, ?it/s]\n"
     ]
    },
    {
     "name": "stdout",
     "output_type": "stream",
     "text": [
      "\u001b[36m(ClientAppActor pid=263068)\u001b[0m [Client 6] Starting evaluation...\n"
     ]
    },
    {
     "name": "stderr",
     "output_type": "stream",
     "text": [
      "Testing:   9%|▉         | 9/98 [00:00<00:01, 84.01it/s]\n",
      "Testing:  18%|█▊        | 18/98 [00:00<00:01, 79.61it/s]\n",
      "Testing:  38%|███▊      | 37/98 [00:00<00:00, 125.41it/s]\n",
      "Testing:  71%|███████▏  | 70/98 [00:00<00:00, 201.49it/s]\n",
      "\u001b[92mINFO \u001b[0m:      aggregate_evaluate: received 12 results and 0 failures\n",
      "\u001b[92mINFO \u001b[0m:      \n",
      "\u001b[92mINFO \u001b[0m:      [ROUND 6]\n",
      "\u001b[92mINFO \u001b[0m:      configure_fit: strategy sampled 6 clients (out of 12)\n",
      "\u001b[92mINFO \u001b[0m:      aggregate_fit: received 0 results and 6 failures\n"
     ]
    },
    {
     "name": "stdout",
     "output_type": "stream",
     "text": [
      "✅ --- Server received 12 evaluation results in round 5 ---\n",
      "✅ --- Pareto selection for round 6 chose clients: ['9722077455151739340', '7221885320893359682', '15100500063491518048', '15868316647030128318', '14315934176059193381', '3516174158176321985'] ---\n"
     ]
    },
    {
     "name": "stderr",
     "output_type": "stream",
     "text": [
      "Testing: 100%|██████████| 98/98 [00:00<00:00, 192.64it/s]ntAppActor pid=263068)\u001b[0m \n",
      "Testing:  25%|██▌       | 23/91 [00:00<00:00, 229.55it/s]"
     ]
    },
    {
     "name": "stdout",
     "output_type": "stream",
     "text": [
      "\u001b[36m(ClientAppActor pid=263068)\u001b[0m ✅ [Client 6] Evaluation results - Loss: 2.4845, Accuracy: 0.0079\n"
     ]
    },
    {
     "name": "stderr",
     "output_type": "stream",
     "text": [
      "Testing: 100%|██████████| 91/91 [00:00<00:00, 264.38it/s]\n",
      "\u001b[92mINFO \u001b[0m:      fit progress: (6, 2.484785108775883, {'accuracy': 0.19553169379979218}, 564.9660924799991)\n",
      "\u001b[92mINFO \u001b[0m:      configure_evaluate: strategy sampled 12 clients (out of 12)\n"
     ]
    },
    {
     "name": "stdout",
     "output_type": "stream",
     "text": [
      "============================================================\n",
      "✅ ROUND 6 SUMMARY - Global Model Performance:\n",
      "   Loss: 2.4848 | Accuracy: 0.1955\n",
      "============================================================\n"
     ]
    },
    {
     "name": "stderr",
     "output_type": "stream",
     "text": [
      "\u001b[36m(ClientAppActor pid=263068)\u001b[0m \u001b[93mWARNING \u001b[0m:   DEPRECATED FEATURE: `client_fn` now expects a signature `def client_fn(context: Context)`.The provided `client_fn` has signature: {'cid': <Parameter \"cid: str\">}. You can import the `Context` like this: `from flwr.common import Context`\n",
      "\u001b[36m(ClientAppActor pid=263068)\u001b[0m \n",
      "\u001b[36m(ClientAppActor pid=263068)\u001b[0m             This is a deprecated feature. It will be removed\n",
      "\u001b[36m(ClientAppActor pid=263068)\u001b[0m             entirely in future versions of Flower.\n",
      "\u001b[36m(ClientAppActor pid=263068)\u001b[0m         \n",
      "Testing:   0%|          | 0/93 [00:00<?, ?it/s]\n"
     ]
    },
    {
     "name": "stdout",
     "output_type": "stream",
     "text": [
      "\u001b[36m(ClientAppActor pid=263068)\u001b[0m [Client 1] Starting evaluation...\n"
     ]
    },
    {
     "name": "stderr",
     "output_type": "stream",
     "text": [
      "Testing:   9%|▊         | 8/93 [00:00<00:01, 73.65it/s]\n",
      "Testing:  18%|█▊        | 17/93 [00:00<00:00, 79.28it/s]\n",
      "Testing:  27%|██▋       | 25/93 [00:00<00:00, 70.26it/s]\n",
      "Testing:  59%|█████▉    | 55/93 [00:00<00:00, 151.38it/s]\n",
      "Testing: 100%|██████████| 93/93 [00:00<00:00, 161.21it/s]\n"
     ]
    },
    {
     "name": "stdout",
     "output_type": "stream",
     "text": [
      "\u001b[36m(ClientAppActor pid=263068)\u001b[0m ✅ [Client 1] Evaluation results - Loss: 2.4840, Accuracy: 0.1559\n",
      "\u001b[36m(ClientAppActor pid=263069)\u001b[0m [Client 10] Starting evaluation...\n"
     ]
    },
    {
     "name": "stderr",
     "output_type": "stream",
     "text": [
      "\u001b[36m(ClientAppActor pid=263069)\u001b[0m \u001b[93mWARNING \u001b[0m:   DEPRECATED FEATURE: `client_fn` now expects a signature `def client_fn(context: Context)`.The provided `client_fn` has signature: {'cid': <Parameter \"cid: str\">}. You can import the `Context` like this: `from flwr.common import Context`\n",
      "\u001b[36m(ClientAppActor pid=263069)\u001b[0m \n",
      "\u001b[36m(ClientAppActor pid=263069)\u001b[0m             This is a deprecated feature. It will be removed\n",
      "\u001b[36m(ClientAppActor pid=263069)\u001b[0m             entirely in future versions of Flower.\n",
      "\u001b[36m(ClientAppActor pid=263069)\u001b[0m         \n",
      "Testing:   0%|          | 0/83 [00:00<?, ?it/s]\n",
      "Testing:   8%|▊         | 7/83 [00:00<00:01, 69.95it/s]\n",
      "Testing:  19%|█▉        | 16/83 [00:00<00:00, 78.82it/s]\n",
      "Testing:  31%|███▏      | 26/83 [00:00<00:00, 87.03it/s]\n",
      "Testing:  64%|██████▍   | 53/83 [00:00<00:00, 157.42it/s]\n"
     ]
    },
    {
     "name": "stdout",
     "output_type": "stream",
     "text": [
      "\u001b[36m(ClientAppActor pid=263069)\u001b[0m ✅ [Client 10] Evaluation results - Loss: 2.4847, Accuracy: 0.1851\n"
     ]
    },
    {
     "name": "stderr",
     "output_type": "stream",
     "text": [
      "Testing: 100%|██████████| 83/83 [00:00<00:00, 158.17it/s]\n",
      "\u001b[36m(ClientAppActor pid=263068)\u001b[0m \n",
      "\u001b[36m(ClientAppActor pid=263068)\u001b[0m         \n",
      "\u001b[36m(ClientAppActor pid=263068)\u001b[0m \u001b[93mWARNING \u001b[0m:   DEPRECATED FEATURE: `client_fn` now expects a signature `def client_fn(context: Context)`.The provided `client_fn` has signature: {'cid': <Parameter \"cid: str\">}. You can import the `Context` like this: `from flwr.common import Context`\n",
      "\u001b[36m(ClientAppActor pid=263068)\u001b[0m             This is a deprecated feature. It will be removed\n",
      "\u001b[36m(ClientAppActor pid=263068)\u001b[0m             entirely in future versions of Flower.\n",
      "Testing:   0%|          | 0/95 [00:00<?, ?it/s]\n",
      "Testing:   9%|▉         | 9/95 [00:00<00:01, 81.80it/s]\n"
     ]
    },
    {
     "name": "stdout",
     "output_type": "stream",
     "text": [
      "\u001b[36m(ClientAppActor pid=263068)\u001b[0m [Client 3] Starting evaluation...\n"
     ]
    },
    {
     "name": "stderr",
     "output_type": "stream",
     "text": [
      "Testing:  21%|██        | 20/95 [00:00<00:00, 97.02it/s]\n",
      "Testing:  47%|████▋     | 45/95 [00:00<00:00, 162.95it/s]\n",
      "Testing:  83%|████████▎ | 79/95 [00:00<00:00, 230.15it/s]\n",
      "Testing: 100%|██████████| 95/95 [00:00<00:00, 206.19it/s]\n"
     ]
    },
    {
     "name": "stdout",
     "output_type": "stream",
     "text": [
      "\u001b[36m(ClientAppActor pid=263068)\u001b[0m ✅ [Client 3] Evaluation results - Loss: 2.4835, Accuracy: 0.1103\n",
      "\u001b[36m(ClientAppActor pid=263069)\u001b[0m [Client 11] Starting evaluation...\n"
     ]
    },
    {
     "name": "stderr",
     "output_type": "stream",
     "text": [
      "\u001b[36m(ClientAppActor pid=263069)\u001b[0m \u001b[93mWARNING \u001b[0m:   DEPRECATED FEATURE: `client_fn` now expects a signature `def client_fn(context: Context)`.The provided `client_fn` has signature: {'cid': <Parameter \"cid: str\">}. You can import the `Context` like this: `from flwr.common import Context`\n",
      "\u001b[36m(ClientAppActor pid=263069)\u001b[0m \n",
      "\u001b[36m(ClientAppActor pid=263069)\u001b[0m             This is a deprecated feature. It will be removed\n",
      "\u001b[36m(ClientAppActor pid=263069)\u001b[0m             entirely in future versions of Flower.\n",
      "\u001b[36m(ClientAppActor pid=263069)\u001b[0m         \n",
      "Testing:   0%|          | 0/91 [00:00<?, ?it/s]\n",
      "Testing:   9%|▉         | 8/91 [00:00<00:01, 78.37it/s]\n",
      "Testing:  19%|█▊        | 17/91 [00:00<00:00, 81.74it/s]\n",
      "Testing:  29%|██▊       | 26/91 [00:00<00:00, 74.52it/s]\n",
      "Testing:  66%|██████▌   | 60/91 [00:00<00:00, 167.57it/s]\n",
      "Testing: 100%|██████████| 91/91 [00:00<00:00, 170.20it/s]\n"
     ]
    },
    {
     "name": "stdout",
     "output_type": "stream",
     "text": [
      "\u001b[36m(ClientAppActor pid=263069)\u001b[0m ✅ [Client 11] Evaluation results - Loss: 2.4848, Accuracy: 0.1955\n"
     ]
    },
    {
     "name": "stderr",
     "output_type": "stream",
     "text": [
      "\u001b[36m(ClientAppActor pid=263068)\u001b[0m \n",
      "\u001b[36m(ClientAppActor pid=263068)\u001b[0m         \n",
      "\u001b[36m(ClientAppActor pid=263068)\u001b[0m \u001b[93mWARNING \u001b[0m:   DEPRECATED FEATURE: `client_fn` now expects a signature `def client_fn(context: Context)`.The provided `client_fn` has signature: {'cid': <Parameter \"cid: str\">}. You can import the `Context` like this: `from flwr.common import Context`\n",
      "\u001b[36m(ClientAppActor pid=263068)\u001b[0m             This is a deprecated feature. It will be removed\n",
      "\u001b[36m(ClientAppActor pid=263068)\u001b[0m             entirely in future versions of Flower.\n",
      "Testing:   0%|          | 0/98 [00:00<?, ?it/s]\n",
      "Testing:   8%|▊         | 8/98 [00:00<00:01, 77.26it/s]\n"
     ]
    },
    {
     "name": "stdout",
     "output_type": "stream",
     "text": [
      "\u001b[36m(ClientAppActor pid=263068)\u001b[0m [Client 6] Starting evaluation...\n"
     ]
    },
    {
     "name": "stderr",
     "output_type": "stream",
     "text": [
      "Testing:  17%|█▋        | 17/98 [00:00<00:01, 80.21it/s]\n",
      "Testing:  27%|██▋       | 26/98 [00:00<00:01, 66.96it/s]\n",
      "Testing:  58%|█████▊    | 57/98 [00:00<00:00, 145.60it/s]\n",
      "Testing:  88%|████████▊ | 86/98 [00:00<00:00, 191.29it/s]\n",
      "Testing: 100%|██████████| 98/98 [00:00<00:00, 152.91it/s]\n"
     ]
    },
    {
     "name": "stdout",
     "output_type": "stream",
     "text": [
      "\u001b[36m(ClientAppActor pid=263068)\u001b[0m ✅ [Client 6] Evaluation results - Loss: 2.4845, Accuracy: 0.0079\n",
      "\u001b[36m(ClientAppActor pid=263069)\u001b[0m [Client 0] Starting evaluation...\n"
     ]
    },
    {
     "name": "stderr",
     "output_type": "stream",
     "text": [
      "\u001b[36m(ClientAppActor pid=263069)\u001b[0m \u001b[93mWARNING \u001b[0m:   DEPRECATED FEATURE: `client_fn` now expects a signature `def client_fn(context: Context)`.The provided `client_fn` has signature: {'cid': <Parameter \"cid: str\">}. You can import the `Context` like this: `from flwr.common import Context`\n",
      "\u001b[36m(ClientAppActor pid=263069)\u001b[0m \n",
      "\u001b[36m(ClientAppActor pid=263069)\u001b[0m             This is a deprecated feature. It will be removed\n",
      "\u001b[36m(ClientAppActor pid=263069)\u001b[0m             entirely in future versions of Flower.\n",
      "\u001b[36m(ClientAppActor pid=263069)\u001b[0m         \n",
      "Testing:   0%|          | 0/93 [00:00<?, ?it/s]\n",
      "Testing:  10%|▉         | 9/93 [00:00<00:01, 82.84it/s]\n",
      "Testing:  19%|█▉        | 18/93 [00:00<00:00, 81.38it/s]\n",
      "Testing:  34%|███▍      | 32/93 [00:00<00:00, 106.24it/s]\n",
      "Testing:  62%|██████▏   | 58/93 [00:00<00:00, 163.06it/s]\n"
     ]
    },
    {
     "name": "stdout",
     "output_type": "stream",
     "text": [
      "\u001b[36m(ClientAppActor pid=263069)\u001b[0m ✅ [Client 0] Evaluation results - Loss: 2.4839, Accuracy: 0.1977\n"
     ]
    },
    {
     "name": "stderr",
     "output_type": "stream",
     "text": [
      "Testing: 100%|██████████| 93/93 [00:00<00:00, 167.39it/s]\n",
      "\u001b[36m(ClientAppActor pid=263068)\u001b[0m \n",
      "\u001b[36m(ClientAppActor pid=263068)\u001b[0m         \n",
      "\u001b[36m(ClientAppActor pid=263068)\u001b[0m \u001b[93mWARNING \u001b[0m:   DEPRECATED FEATURE: `client_fn` now expects a signature `def client_fn(context: Context)`.The provided `client_fn` has signature: {'cid': <Parameter \"cid: str\">}. You can import the `Context` like this: `from flwr.common import Context`\n",
      "\u001b[36m(ClientAppActor pid=263068)\u001b[0m             This is a deprecated feature. It will be removed\n",
      "\u001b[36m(ClientAppActor pid=263068)\u001b[0m             entirely in future versions of Flower.\n",
      "Testing:   0%|          | 0/93 [00:00<?, ?it/s]\n",
      "Testing:   9%|▊         | 8/93 [00:00<00:01, 73.93it/s]\n"
     ]
    },
    {
     "name": "stdout",
     "output_type": "stream",
     "text": [
      "\u001b[36m(ClientAppActor pid=263068)\u001b[0m [Client 2] Starting evaluation...\n"
     ]
    },
    {
     "name": "stderr",
     "output_type": "stream",
     "text": [
      "Testing:  18%|█▊        | 17/93 [00:00<00:00, 80.22it/s]\n",
      "Testing:  28%|██▊       | 26/93 [00:00<00:00, 73.03it/s]\n",
      "Testing:  52%|█████▏    | 48/93 [00:00<00:00, 123.65it/s]\n",
      "Testing: 100%|██████████| 93/93 [00:00<00:00, 157.16it/s]\n"
     ]
    },
    {
     "name": "stdout",
     "output_type": "stream",
     "text": [
      "\u001b[36m(ClientAppActor pid=263068)\u001b[0m ✅ [Client 2] Evaluation results - Loss: 2.4850, Accuracy: 0.0059\n",
      "\u001b[36m(ClientAppActor pid=263069)\u001b[0m [Client 7] Starting evaluation...\n"
     ]
    },
    {
     "name": "stderr",
     "output_type": "stream",
     "text": [
      "\u001b[36m(ClientAppActor pid=263069)\u001b[0m \u001b[93mWARNING \u001b[0m:   DEPRECATED FEATURE: `client_fn` now expects a signature `def client_fn(context: Context)`.The provided `client_fn` has signature: {'cid': <Parameter \"cid: str\">}. You can import the `Context` like this: `from flwr.common import Context`\n",
      "\u001b[36m(ClientAppActor pid=263069)\u001b[0m \n",
      "\u001b[36m(ClientAppActor pid=263069)\u001b[0m             This is a deprecated feature. It will be removed\n",
      "\u001b[36m(ClientAppActor pid=263069)\u001b[0m             entirely in future versions of Flower.\n",
      "\u001b[36m(ClientAppActor pid=263069)\u001b[0m         \n",
      "Testing:   0%|          | 0/91 [00:00<?, ?it/s]\n",
      "Testing:  10%|▉         | 9/91 [00:00<00:01, 80.99it/s]\n",
      "Testing:  20%|█▉        | 18/91 [00:00<00:00, 81.95it/s]\n",
      "Testing:  30%|██▉       | 27/91 [00:00<00:00, 81.08it/s]\n",
      "Testing:  67%|██████▋   | 61/91 [00:00<00:00, 174.82it/s]\n"
     ]
    },
    {
     "name": "stdout",
     "output_type": "stream",
     "text": [
      "\u001b[36m(ClientAppActor pid=263069)\u001b[0m ✅ [Client 7] Evaluation results - Loss: 2.4845, Accuracy: 0.0372\n"
     ]
    },
    {
     "name": "stderr",
     "output_type": "stream",
     "text": [
      "Testing: 100%|██████████| 91/91 [00:00<00:00, 161.99it/s]\n",
      "\u001b[36m(ClientAppActor pid=263068)\u001b[0m \n",
      "\u001b[36m(ClientAppActor pid=263068)\u001b[0m         \n",
      "\u001b[36m(ClientAppActor pid=263068)\u001b[0m \u001b[93mWARNING \u001b[0m:   DEPRECATED FEATURE: `client_fn` now expects a signature `def client_fn(context: Context)`.The provided `client_fn` has signature: {'cid': <Parameter \"cid: str\">}. You can import the `Context` like this: `from flwr.common import Context`\n",
      "\u001b[36m(ClientAppActor pid=263068)\u001b[0m             This is a deprecated feature. It will be removed\n",
      "\u001b[36m(ClientAppActor pid=263068)\u001b[0m             entirely in future versions of Flower.\n",
      "Testing:   0%|          | 0/93 [00:00<?, ?it/s]\n"
     ]
    },
    {
     "name": "stdout",
     "output_type": "stream",
     "text": [
      "\u001b[36m(ClientAppActor pid=263068)\u001b[0m [Client 4] Starting evaluation...\n"
     ]
    },
    {
     "name": "stderr",
     "output_type": "stream",
     "text": [
      "Testing:  10%|▉         | 9/93 [00:00<00:01, 82.76it/s]\n",
      "Testing:  19%|█▉        | 18/93 [00:00<00:00, 80.79it/s]\n",
      "Testing:  29%|██▉       | 27/93 [00:00<00:00, 79.74it/s]\n",
      "Testing:  49%|████▉     | 46/93 [00:00<00:00, 119.26it/s]\n",
      "Testing: 100%|██████████| 93/93 [00:00<00:00, 161.25it/s]\n"
     ]
    },
    {
     "name": "stdout",
     "output_type": "stream",
     "text": [
      "\u001b[36m(ClientAppActor pid=263068)\u001b[0m ✅ [Client 4] Evaluation results - Loss: 2.4843, Accuracy: 0.0137\n",
      "\u001b[36m(ClientAppActor pid=263069)\u001b[0m [Client 5] Starting evaluation...\n"
     ]
    },
    {
     "name": "stderr",
     "output_type": "stream",
     "text": [
      "\u001b[36m(ClientAppActor pid=263069)\u001b[0m \u001b[93mWARNING \u001b[0m:   DEPRECATED FEATURE: `client_fn` now expects a signature `def client_fn(context: Context)`.The provided `client_fn` has signature: {'cid': <Parameter \"cid: str\">}. You can import the `Context` like this: `from flwr.common import Context`\n",
      "\u001b[36m(ClientAppActor pid=263069)\u001b[0m \n",
      "\u001b[36m(ClientAppActor pid=263069)\u001b[0m             This is a deprecated feature. It will be removed\n",
      "\u001b[36m(ClientAppActor pid=263069)\u001b[0m             entirely in future versions of Flower.\n",
      "\u001b[36m(ClientAppActor pid=263069)\u001b[0m         \n",
      "Testing:   0%|          | 0/95 [00:00<?, ?it/s]\n",
      "Testing:   8%|▊         | 8/95 [00:00<00:01, 74.18it/s]\n",
      "Testing:  17%|█▋        | 16/95 [00:00<00:01, 75.50it/s]\n",
      "Testing:  29%|██▉       | 28/95 [00:00<00:00, 95.12it/s]\n",
      "Testing:  67%|██████▋   | 64/95 [00:00<00:00, 196.42it/s]\n",
      "Testing: 100%|██████████| 95/95 [00:00<00:00, 186.93it/s]\n"
     ]
    },
    {
     "name": "stdout",
     "output_type": "stream",
     "text": [
      "\u001b[36m(ClientAppActor pid=263069)\u001b[0m ✅ [Client 5] Evaluation results - Loss: 2.4855, Accuracy: 0.0078\n"
     ]
    },
    {
     "name": "stderr",
     "output_type": "stream",
     "text": [
      "\u001b[36m(ClientAppActor pid=263068)\u001b[0m \n",
      "\u001b[36m(ClientAppActor pid=263068)\u001b[0m         \n",
      "\u001b[36m(ClientAppActor pid=263068)\u001b[0m \u001b[93mWARNING \u001b[0m:   DEPRECATED FEATURE: `client_fn` now expects a signature `def client_fn(context: Context)`.The provided `client_fn` has signature: {'cid': <Parameter \"cid: str\">}. You can import the `Context` like this: `from flwr.common import Context`\n",
      "\u001b[36m(ClientAppActor pid=263068)\u001b[0m             This is a deprecated feature. It will be removed\n",
      "\u001b[36m(ClientAppActor pid=263068)\u001b[0m             entirely in future versions of Flower.\n",
      "Testing:   0%|          | 0/92 [00:00<?, ?it/s]\n"
     ]
    },
    {
     "name": "stdout",
     "output_type": "stream",
     "text": [
      "\u001b[36m(ClientAppActor pid=263068)\u001b[0m [Client 9] Starting evaluation...\n"
     ]
    },
    {
     "name": "stderr",
     "output_type": "stream",
     "text": [
      "Testing:   8%|▊         | 7/92 [00:00<00:01, 68.44it/s]\n",
      "Testing:  16%|█▋        | 15/92 [00:00<00:01, 71.26it/s]\n",
      "Testing:  45%|████▍     | 41/92 [00:00<00:00, 153.82it/s]\n",
      "Testing: 100%|██████████| 92/92 [00:00<00:00, 193.70it/s]\n"
     ]
    },
    {
     "name": "stdout",
     "output_type": "stream",
     "text": [
      "\u001b[36m(ClientAppActor pid=263068)\u001b[0m ✅ [Client 9] Evaluation results - Loss: 2.4846, Accuracy: 0.0220\n"
     ]
    },
    {
     "name": "stderr",
     "output_type": "stream",
     "text": [
      "\u001b[36m(ClientAppActor pid=263069)\u001b[0m \u001b[93mWARNING \u001b[0m:   DEPRECATED FEATURE: `client_fn` now expects a signature `def client_fn(context: Context)`.The provided `client_fn` has signature: {'cid': <Parameter \"cid: str\">}. You can import the `Context` like this: `from flwr.common import Context`\n",
      "\u001b[36m(ClientAppActor pid=263069)\u001b[0m \n",
      "\u001b[36m(ClientAppActor pid=263069)\u001b[0m             This is a deprecated feature. It will be removed\n",
      "\u001b[36m(ClientAppActor pid=263069)\u001b[0m             entirely in future versions of Flower.\n",
      "\u001b[36m(ClientAppActor pid=263069)\u001b[0m         \n",
      "Testing:   0%|          | 0/91 [00:00<?, ?it/s]\n"
     ]
    },
    {
     "name": "stdout",
     "output_type": "stream",
     "text": [
      "\u001b[36m(ClientAppActor pid=263069)\u001b[0m [Client 8] Starting evaluation...\n"
     ]
    },
    {
     "name": "stderr",
     "output_type": "stream",
     "text": [
      "Testing:  10%|▉         | 9/91 [00:00<00:01, 81.19it/s]\n",
      "Testing:  20%|█▉        | 18/91 [00:00<00:01, 68.58it/s]\n",
      "Testing:  31%|███       | 28/91 [00:00<00:00, 80.48it/s]\n",
      "Testing:  64%|██████▎   | 58/91 [00:00<00:00, 157.21it/s]\n",
      "\u001b[92mINFO \u001b[0m:      aggregate_evaluate: received 12 results and 0 failures\n",
      "\u001b[92mINFO \u001b[0m:      \n",
      "\u001b[92mINFO \u001b[0m:      [ROUND 7]\n",
      "\u001b[92mINFO \u001b[0m:      configure_fit: strategy sampled 6 clients (out of 12)\n",
      "\u001b[92mINFO \u001b[0m:      aggregate_fit: received 0 results and 6 failures\n",
      "Testing: 100%|██████████| 91/91 [00:00<00:00, 163.37it/s]\n"
     ]
    },
    {
     "name": "stdout",
     "output_type": "stream",
     "text": [
      "✅ --- Server received 12 evaluation results in round 6 ---\n",
      "✅ --- Pareto selection for round 7 chose clients: ['6369163841238069563', '14315934176059193381', '10273312183111562667', '7221885320893359682', '15100500063491518048', '3343832528087936700'] ---\n",
      "\u001b[36m(ClientAppActor pid=263069)\u001b[0m ✅ [Client 8] Evaluation results - Loss: 2.4832, Accuracy: 0.0880\n"
     ]
    },
    {
     "name": "stderr",
     "output_type": "stream",
     "text": [
      "Testing: 100%|██████████| 91/91 [00:00<00:00, 290.97it/s]\n",
      "\u001b[92mINFO \u001b[0m:      fit progress: (7, 2.484785108775883, {'accuracy': 0.19553169379979218}, 669.5242825289988)\n",
      "\u001b[92mINFO \u001b[0m:      configure_evaluate: strategy sampled 12 clients (out of 12)\n"
     ]
    },
    {
     "name": "stdout",
     "output_type": "stream",
     "text": [
      "============================================================\n",
      "✅ ROUND 7 SUMMARY - Global Model Performance:\n",
      "   Loss: 2.4848 | Accuracy: 0.1955\n",
      "============================================================\n"
     ]
    },
    {
     "name": "stderr",
     "output_type": "stream",
     "text": [
      "\u001b[36m(raylet)\u001b[0m Spilled 263324 MiB, 82 objects, write throughput 417 MiB/s.\n"
     ]
    },
    {
     "name": "stdout",
     "output_type": "stream",
     "text": [
      "\u001b[36m(ClientAppActor pid=263069)\u001b[0m [Client 0] Starting evaluation...\n"
     ]
    },
    {
     "name": "stderr",
     "output_type": "stream",
     "text": [
      "\u001b[36m(ClientAppActor pid=263069)\u001b[0m \u001b[93mWARNING \u001b[0m:   DEPRECATED FEATURE: `client_fn` now expects a signature `def client_fn(context: Context)`.The provided `client_fn` has signature: {'cid': <Parameter \"cid: str\">}. You can import the `Context` like this: `from flwr.common import Context`\n",
      "\u001b[36m(ClientAppActor pid=263069)\u001b[0m \n",
      "\u001b[36m(ClientAppActor pid=263069)\u001b[0m             This is a deprecated feature. It will be removed\n",
      "\u001b[36m(ClientAppActor pid=263069)\u001b[0m             entirely in future versions of Flower.\n",
      "\u001b[36m(ClientAppActor pid=263069)\u001b[0m         \n",
      "Testing:   0%|          | 0/93 [00:00<?, ?it/s]\n",
      "Testing:   8%|▊         | 7/93 [00:00<00:01, 61.12it/s]\n",
      "Testing:  16%|█▌        | 15/93 [00:00<00:01, 71.56it/s]\n",
      "Testing:  25%|██▍       | 23/93 [00:00<00:00, 70.95it/s]\n",
      "Testing:  52%|█████▏    | 48/93 [00:00<00:00, 136.01it/s]\n"
     ]
    },
    {
     "name": "stdout",
     "output_type": "stream",
     "text": [
      "\u001b[36m(ClientAppActor pid=263069)\u001b[0m ✅ [Client 0] Evaluation results - Loss: 2.4839, Accuracy: 0.1977\n"
     ]
    },
    {
     "name": "stderr",
     "output_type": "stream",
     "text": [
      "Testing: 100%|██████████| 93/93 [00:00<00:00, 156.54it/s]\n",
      "\u001b[36m(ClientAppActor pid=263068)\u001b[0m \n",
      "\u001b[36m(ClientAppActor pid=263068)\u001b[0m         \n",
      "\u001b[36m(ClientAppActor pid=263068)\u001b[0m \u001b[93mWARNING \u001b[0m:   DEPRECATED FEATURE: `client_fn` now expects a signature `def client_fn(context: Context)`.The provided `client_fn` has signature: {'cid': <Parameter \"cid: str\">}. You can import the `Context` like this: `from flwr.common import Context`\n",
      "\u001b[36m(ClientAppActor pid=263068)\u001b[0m             This is a deprecated feature. It will be removed\n",
      "\u001b[36m(ClientAppActor pid=263068)\u001b[0m             entirely in future versions of Flower.\n",
      "Testing:   0%|          | 0/91 [00:00<?, ?it/s]\n"
     ]
    },
    {
     "name": "stdout",
     "output_type": "stream",
     "text": [
      "\u001b[36m(ClientAppActor pid=263068)\u001b[0m [Client 8] Starting evaluation...\n"
     ]
    },
    {
     "name": "stderr",
     "output_type": "stream",
     "text": [
      "Testing:  10%|▉         | 9/91 [00:00<00:00, 82.23it/s]\n",
      "Testing:  20%|█▉        | 18/91 [00:00<00:01, 66.86it/s]\n",
      "Testing:  46%|████▌     | 42/91 [00:00<00:00, 133.18it/s]\n",
      "Testing:  71%|███████▏  | 65/91 [00:00<00:00, 165.23it/s]\n",
      "Testing: 100%|██████████| 91/91 [00:00<00:00, 158.07it/s]\n"
     ]
    },
    {
     "name": "stdout",
     "output_type": "stream",
     "text": [
      "\u001b[36m(ClientAppActor pid=263068)\u001b[0m ✅ [Client 8] Evaluation results - Loss: 2.4832, Accuracy: 0.0880\n",
      "\u001b[36m(ClientAppActor pid=263069)\u001b[0m [Client 6] Starting evaluation...\n"
     ]
    },
    {
     "name": "stderr",
     "output_type": "stream",
     "text": [
      "\u001b[36m(ClientAppActor pid=263069)\u001b[0m \u001b[93mWARNING \u001b[0m:   DEPRECATED FEATURE: `client_fn` now expects a signature `def client_fn(context: Context)`.The provided `client_fn` has signature: {'cid': <Parameter \"cid: str\">}. You can import the `Context` like this: `from flwr.common import Context`\n",
      "\u001b[36m(ClientAppActor pid=263069)\u001b[0m \n",
      "\u001b[36m(ClientAppActor pid=263069)\u001b[0m             This is a deprecated feature. It will be removed\n",
      "\u001b[36m(ClientAppActor pid=263069)\u001b[0m             entirely in future versions of Flower.\n",
      "\u001b[36m(ClientAppActor pid=263069)\u001b[0m         \n",
      "Testing:   0%|          | 0/98 [00:00<?, ?it/s]\n",
      "Testing:   8%|▊         | 8/98 [00:00<00:01, 78.94it/s]\n",
      "Testing:  16%|█▋        | 16/98 [00:00<00:02, 40.49it/s]\n",
      "Testing:  22%|██▏       | 22/98 [00:00<00:01, 42.55it/s]\n",
      "Testing:  37%|███▋      | 36/98 [00:00<00:00, 69.05it/s]\n",
      "Testing:  54%|█████▍    | 53/98 [00:00<00:00, 96.37it/s]\n",
      "Testing:  72%|███████▏  | 71/98 [00:00<00:00, 119.24it/s]\n",
      "Testing:  90%|████████▉ | 88/98 [00:00<00:00, 132.01it/s]\n"
     ]
    },
    {
     "name": "stdout",
     "output_type": "stream",
     "text": [
      "\u001b[36m(ClientAppActor pid=263069)\u001b[0m ✅ [Client 6] Evaluation results - Loss: 2.4845, Accuracy: 0.0079\n"
     ]
    },
    {
     "name": "stderr",
     "output_type": "stream",
     "text": [
      "Testing: 100%|██████████| 98/98 [00:00<00:00, 101.23it/s]\n",
      "\u001b[36m(ClientAppActor pid=263068)\u001b[0m \n",
      "\u001b[36m(ClientAppActor pid=263068)\u001b[0m         \n",
      "\u001b[36m(ClientAppActor pid=263068)\u001b[0m \u001b[93mWARNING \u001b[0m:   DEPRECATED FEATURE: `client_fn` now expects a signature `def client_fn(context: Context)`.The provided `client_fn` has signature: {'cid': <Parameter \"cid: str\">}. You can import the `Context` like this: `from flwr.common import Context`\n",
      "\u001b[36m(ClientAppActor pid=263068)\u001b[0m             This is a deprecated feature. It will be removed\n",
      "\u001b[36m(ClientAppActor pid=263068)\u001b[0m             entirely in future versions of Flower.\n",
      "Testing:   0%|          | 0/93 [00:00<?, ?it/s]\n",
      "Testing:   9%|▊         | 8/93 [00:00<00:01, 74.31it/s]\n"
     ]
    },
    {
     "name": "stdout",
     "output_type": "stream",
     "text": [
      "\u001b[36m(ClientAppActor pid=263068)\u001b[0m [Client 1] Starting evaluation...\n"
     ]
    },
    {
     "name": "stderr",
     "output_type": "stream",
     "text": [
      "Testing:  17%|█▋        | 16/93 [00:00<00:01, 70.93it/s]\n",
      "Testing:  52%|█████▏    | 48/93 [00:00<00:00, 175.79it/s]\n",
      "Testing:  87%|████████▋ | 81/93 [00:00<00:00, 231.95it/s]\n",
      "Testing: 100%|██████████| 93/93 [00:00<00:00, 198.25it/s]\n"
     ]
    },
    {
     "name": "stdout",
     "output_type": "stream",
     "text": [
      "\u001b[36m(ClientAppActor pid=263068)\u001b[0m ✅ [Client 1] Evaluation results - Loss: 2.4840, Accuracy: 0.1559\n"
     ]
    },
    {
     "name": "stderr",
     "output_type": "stream",
     "text": [
      "\u001b[36m(ClientAppActor pid=263069)\u001b[0m \u001b[93mWARNING \u001b[0m:   DEPRECATED FEATURE: `client_fn` now expects a signature `def client_fn(context: Context)`.The provided `client_fn` has signature: {'cid': <Parameter \"cid: str\">}. You can import the `Context` like this: `from flwr.common import Context`\n",
      "\u001b[36m(ClientAppActor pid=263069)\u001b[0m \n",
      "\u001b[36m(ClientAppActor pid=263069)\u001b[0m             This is a deprecated feature. It will be removed\n",
      "\u001b[36m(ClientAppActor pid=263069)\u001b[0m             entirely in future versions of Flower.\n",
      "\u001b[36m(ClientAppActor pid=263069)\u001b[0m         \n",
      "Testing:   0%|          | 0/93 [00:00<?, ?it/s]\n"
     ]
    },
    {
     "name": "stdout",
     "output_type": "stream",
     "text": [
      "\u001b[36m(ClientAppActor pid=263069)\u001b[0m [Client 4] Starting evaluation...\n"
     ]
    },
    {
     "name": "stderr",
     "output_type": "stream",
     "text": [
      "Testing:  10%|▉         | 9/93 [00:00<00:00, 85.80it/s]\n",
      "Testing:  19%|█▉        | 18/93 [00:00<00:01, 71.42it/s]\n",
      "Testing:  48%|████▊     | 45/93 [00:00<00:00, 149.71it/s]\n",
      "Testing:  81%|████████  | 75/93 [00:00<00:00, 203.94it/s]\n"
     ]
    },
    {
     "name": "stdout",
     "output_type": "stream",
     "text": [
      "\u001b[36m(ClientAppActor pid=263069)\u001b[0m ✅ [Client 4] Evaluation results - Loss: 2.4843, Accuracy: 0.0137\n"
     ]
    },
    {
     "name": "stderr",
     "output_type": "stream",
     "text": [
      "Testing: 100%|██████████| 93/93 [00:00<00:00, 180.20it/s]\n",
      "\u001b[36m(ClientAppActor pid=263068)\u001b[0m \n",
      "\u001b[36m(ClientAppActor pid=263068)\u001b[0m         \n",
      "\u001b[36m(ClientAppActor pid=263068)\u001b[0m \u001b[93mWARNING \u001b[0m:   DEPRECATED FEATURE: `client_fn` now expects a signature `def client_fn(context: Context)`.The provided `client_fn` has signature: {'cid': <Parameter \"cid: str\">}. You can import the `Context` like this: `from flwr.common import Context`\n",
      "\u001b[36m(ClientAppActor pid=263068)\u001b[0m             This is a deprecated feature. It will be removed\n",
      "\u001b[36m(ClientAppActor pid=263068)\u001b[0m             entirely in future versions of Flower.\n",
      "Testing:   0%|          | 0/91 [00:00<?, ?it/s]\n",
      "Testing:   9%|▉         | 8/91 [00:00<00:01, 79.89it/s]\n"
     ]
    },
    {
     "name": "stdout",
     "output_type": "stream",
     "text": [
      "\u001b[36m(ClientAppActor pid=263068)\u001b[0m [Client 11] Starting evaluation...\n"
     ]
    },
    {
     "name": "stderr",
     "output_type": "stream",
     "text": [
      "Testing:  19%|█▊        | 17/91 [00:00<00:00, 80.97it/s]\n",
      "Testing:  29%|██▊       | 26/91 [00:00<00:00, 76.10it/s]\n",
      "Testing:  66%|██████▌   | 60/91 [00:00<00:00, 170.87it/s]\n",
      "Testing: 100%|██████████| 91/91 [00:00<00:00, 150.26it/s]\n"
     ]
    },
    {
     "name": "stdout",
     "output_type": "stream",
     "text": [
      "\u001b[36m(ClientAppActor pid=263068)\u001b[0m ✅ [Client 11] Evaluation results - Loss: 2.4848, Accuracy: 0.1955\n"
     ]
    },
    {
     "name": "stderr",
     "output_type": "stream",
     "text": [
      "\u001b[36m(ClientAppActor pid=263069)\u001b[0m \u001b[93mWARNING \u001b[0m:   DEPRECATED FEATURE: `client_fn` now expects a signature `def client_fn(context: Context)`.The provided `client_fn` has signature: {'cid': <Parameter \"cid: str\">}. You can import the `Context` like this: `from flwr.common import Context`\n",
      "\u001b[36m(ClientAppActor pid=263069)\u001b[0m \n",
      "\u001b[36m(ClientAppActor pid=263069)\u001b[0m             This is a deprecated feature. It will be removed\n",
      "\u001b[36m(ClientAppActor pid=263069)\u001b[0m             entirely in future versions of Flower.\n",
      "\u001b[36m(ClientAppActor pid=263069)\u001b[0m         \n",
      "Testing:   0%|          | 0/83 [00:00<?, ?it/s]\n",
      "Testing:  10%|▉         | 8/83 [00:00<00:01, 74.72it/s]\n"
     ]
    },
    {
     "name": "stdout",
     "output_type": "stream",
     "text": [
      "\u001b[36m(ClientAppActor pid=263069)\u001b[0m [Client 10] Starting evaluation...\n"
     ]
    },
    {
     "name": "stderr",
     "output_type": "stream",
     "text": [
      "Testing:  25%|██▌       | 21/83 [00:00<00:00, 104.99it/s]\n",
      "Testing:  61%|██████▏   | 51/83 [00:00<00:00, 191.93it/s]\n"
     ]
    },
    {
     "name": "stdout",
     "output_type": "stream",
     "text": [
      "\u001b[36m(ClientAppActor pid=263069)\u001b[0m ✅ [Client 10] Evaluation results - Loss: 2.4847, Accuracy: 0.1851\n"
     ]
    },
    {
     "name": "stderr",
     "output_type": "stream",
     "text": [
      "Testing: 100%|██████████| 83/83 [00:00<00:00, 203.87it/s]\n",
      "\u001b[36m(ClientAppActor pid=263068)\u001b[0m \n",
      "\u001b[36m(ClientAppActor pid=263068)\u001b[0m         \n",
      "\u001b[36m(ClientAppActor pid=263068)\u001b[0m \u001b[93mWARNING \u001b[0m:   DEPRECATED FEATURE: `client_fn` now expects a signature `def client_fn(context: Context)`.The provided `client_fn` has signature: {'cid': <Parameter \"cid: str\">}. You can import the `Context` like this: `from flwr.common import Context`\n",
      "\u001b[36m(ClientAppActor pid=263068)\u001b[0m             This is a deprecated feature. It will be removed\n",
      "\u001b[36m(ClientAppActor pid=263068)\u001b[0m             entirely in future versions of Flower.\n",
      "Testing:   0%|          | 0/92 [00:00<?, ?it/s]\n"
     ]
    },
    {
     "name": "stdout",
     "output_type": "stream",
     "text": [
      "\u001b[36m(ClientAppActor pid=263068)\u001b[0m [Client 9] Starting evaluation...\n"
     ]
    },
    {
     "name": "stderr",
     "output_type": "stream",
     "text": [
      "Testing:   9%|▊         | 8/92 [00:00<00:01, 71.08it/s]\n",
      "Testing:  18%|█▊        | 17/92 [00:00<00:01, 72.97it/s]\n",
      "Testing:  27%|██▋       | 25/92 [00:00<00:01, 64.03it/s]\n",
      "Testing:  55%|█████▌    | 51/92 [00:00<00:00, 128.22it/s]\n",
      "Testing:  85%|████████▍ | 78/92 [00:00<00:00, 173.39it/s]\n",
      "Testing: 100%|██████████| 92/92 [00:00<00:00, 143.08it/s]\n"
     ]
    },
    {
     "name": "stdout",
     "output_type": "stream",
     "text": [
      "\u001b[36m(ClientAppActor pid=263068)\u001b[0m ✅ [Client 9] Evaluation results - Loss: 2.4846, Accuracy: 0.0220\n",
      "\u001b[36m(ClientAppActor pid=263069)\u001b[0m [Client 2] Starting evaluation...\n"
     ]
    },
    {
     "name": "stderr",
     "output_type": "stream",
     "text": [
      "\u001b[36m(ClientAppActor pid=263069)\u001b[0m \u001b[93mWARNING \u001b[0m:   DEPRECATED FEATURE: `client_fn` now expects a signature `def client_fn(context: Context)`.The provided `client_fn` has signature: {'cid': <Parameter \"cid: str\">}. You can import the `Context` like this: `from flwr.common import Context`\n",
      "\u001b[36m(ClientAppActor pid=263069)\u001b[0m \n",
      "\u001b[36m(ClientAppActor pid=263069)\u001b[0m             This is a deprecated feature. It will be removed\n",
      "\u001b[36m(ClientAppActor pid=263069)\u001b[0m             entirely in future versions of Flower.\n",
      "\u001b[36m(ClientAppActor pid=263069)\u001b[0m         \n",
      "Testing:   0%|          | 0/93 [00:00<?, ?it/s]\n",
      "Testing:   9%|▊         | 8/93 [00:00<00:01, 77.65it/s]\n",
      "Testing:  17%|█▋        | 16/93 [00:00<00:01, 76.50it/s]\n",
      "Testing:  27%|██▋       | 25/93 [00:00<00:00, 81.89it/s]\n",
      "Testing:  59%|█████▉    | 55/93 [00:00<00:00, 164.53it/s]\n",
      "Testing: 100%|██████████| 93/93 [00:00<00:00, 172.38it/s]\n"
     ]
    },
    {
     "name": "stdout",
     "output_type": "stream",
     "text": [
      "\u001b[36m(ClientAppActor pid=263069)\u001b[0m ✅ [Client 2] Evaluation results - Loss: 2.4850, Accuracy: 0.0059\n"
     ]
    },
    {
     "name": "stderr",
     "output_type": "stream",
     "text": [
      "\u001b[36m(ClientAppActor pid=263068)\u001b[0m \n",
      "\u001b[36m(ClientAppActor pid=263068)\u001b[0m         \n",
      "\u001b[36m(ClientAppActor pid=263068)\u001b[0m \u001b[93mWARNING \u001b[0m:   DEPRECATED FEATURE: `client_fn` now expects a signature `def client_fn(context: Context)`.The provided `client_fn` has signature: {'cid': <Parameter \"cid: str\">}. You can import the `Context` like this: `from flwr.common import Context`\n",
      "\u001b[36m(ClientAppActor pid=263068)\u001b[0m             This is a deprecated feature. It will be removed\n",
      "\u001b[36m(ClientAppActor pid=263068)\u001b[0m             entirely in future versions of Flower.\n",
      "Testing:   0%|          | 0/95 [00:00<?, ?it/s]\n",
      "Testing:   8%|▊         | 8/95 [00:00<00:01, 76.44it/s]\n"
     ]
    },
    {
     "name": "stdout",
     "output_type": "stream",
     "text": [
      "\u001b[36m(ClientAppActor pid=263068)\u001b[0m [Client 5] Starting evaluation...\n"
     ]
    },
    {
     "name": "stderr",
     "output_type": "stream",
     "text": [
      "Testing:  18%|█▊        | 17/95 [00:00<00:00, 78.43it/s]\n",
      "Testing:  26%|██▋       | 25/95 [00:00<00:01, 68.69it/s]\n",
      "Testing:  66%|██████▋   | 63/95 [00:00<00:00, 176.98it/s]\n",
      "Testing: 100%|██████████| 95/95 [00:00<00:00, 169.47it/s]\n"
     ]
    },
    {
     "name": "stdout",
     "output_type": "stream",
     "text": [
      "\u001b[36m(ClientAppActor pid=263068)\u001b[0m ✅ [Client 5] Evaluation results - Loss: 2.4855, Accuracy: 0.0078\n"
     ]
    },
    {
     "name": "stderr",
     "output_type": "stream",
     "text": [
      "\u001b[36m(ClientAppActor pid=263069)\u001b[0m \u001b[93mWARNING \u001b[0m:   DEPRECATED FEATURE: `client_fn` now expects a signature `def client_fn(context: Context)`.The provided `client_fn` has signature: {'cid': <Parameter \"cid: str\">}. You can import the `Context` like this: `from flwr.common import Context`\n",
      "\u001b[36m(ClientAppActor pid=263069)\u001b[0m \n",
      "\u001b[36m(ClientAppActor pid=263069)\u001b[0m             This is a deprecated feature. It will be removed\n",
      "\u001b[36m(ClientAppActor pid=263069)\u001b[0m             entirely in future versions of Flower.\n",
      "\u001b[36m(ClientAppActor pid=263069)\u001b[0m         \n",
      "Testing:   0%|          | 0/95 [00:00<?, ?it/s]\n"
     ]
    },
    {
     "name": "stdout",
     "output_type": "stream",
     "text": [
      "\u001b[36m(ClientAppActor pid=263069)\u001b[0m [Client 3] Starting evaluation...\n"
     ]
    },
    {
     "name": "stderr",
     "output_type": "stream",
     "text": [
      "Testing:   8%|▊         | 8/95 [00:00<00:01, 76.08it/s]\n",
      "Testing:  20%|██        | 19/95 [00:00<00:00, 93.54it/s]\n",
      "Testing:  55%|█████▍    | 52/95 [00:00<00:00, 197.65it/s]\n",
      "Testing: 100%|██████████| 95/95 [00:00<00:00, 212.60it/s]\n"
     ]
    },
    {
     "name": "stdout",
     "output_type": "stream",
     "text": [
      "\u001b[36m(ClientAppActor pid=263069)\u001b[0m ✅ [Client 3] Evaluation results - Loss: 2.4835, Accuracy: 0.1103\n"
     ]
    },
    {
     "name": "stderr",
     "output_type": "stream",
     "text": [
      "\u001b[36m(ClientAppActor pid=263068)\u001b[0m \n",
      "\u001b[36m(ClientAppActor pid=263068)\u001b[0m         \n",
      "\u001b[36m(ClientAppActor pid=263068)\u001b[0m \u001b[93mWARNING \u001b[0m:   DEPRECATED FEATURE: `client_fn` now expects a signature `def client_fn(context: Context)`.The provided `client_fn` has signature: {'cid': <Parameter \"cid: str\">}. You can import the `Context` like this: `from flwr.common import Context`\n",
      "\u001b[36m(ClientAppActor pid=263068)\u001b[0m             This is a deprecated feature. It will be removed\n",
      "\u001b[36m(ClientAppActor pid=263068)\u001b[0m             entirely in future versions of Flower.\n",
      "Testing:   0%|          | 0/91 [00:00<?, ?it/s]\n",
      "Testing:   9%|▉         | 8/91 [00:00<00:01, 77.77it/s]\n"
     ]
    },
    {
     "name": "stdout",
     "output_type": "stream",
     "text": [
      "\u001b[36m(ClientAppActor pid=263068)\u001b[0m [Client 7] Starting evaluation...\n"
     ]
    },
    {
     "name": "stderr",
     "output_type": "stream",
     "text": [
      "Testing:  19%|█▊        | 17/91 [00:00<00:00, 81.52it/s]\n",
      "Testing:  29%|██▊       | 26/91 [00:00<00:00, 75.07it/s]\n",
      "Testing:  69%|██████▉   | 63/91 [00:00<00:00, 180.52it/s]\n",
      "Testing: 100%|██████████| 91/91 [00:00<00:00, 164.60it/s]\n",
      "\u001b[92mINFO \u001b[0m:      aggregate_evaluate: received 12 results and 0 failures\n",
      "\u001b[92mINFO \u001b[0m:      \n",
      "\u001b[92mINFO \u001b[0m:      [ROUND 8]\n",
      "\u001b[92mINFO \u001b[0m:      configure_fit: strategy sampled 6 clients (out of 12)\n",
      "\u001b[92mINFO \u001b[0m:      aggregate_fit: received 0 results and 6 failures\n"
     ]
    },
    {
     "name": "stdout",
     "output_type": "stream",
     "text": [
      "\u001b[36m(ClientAppActor pid=263068)\u001b[0m ✅ [Client 7] Evaluation results - Loss: 2.4845, Accuracy: 0.0372\n",
      "✅ --- Server received 12 evaluation results in round 7 ---\n",
      "✅ --- Pareto selection for round 8 chose clients: ['15100500063491518048', '15868316647030128318', '10273312183111562667', '9722077455151739340', '14315934176059193381', '3343832528087936700'] ---\n"
     ]
    },
    {
     "name": "stderr",
     "output_type": "stream",
     "text": [
      "Testing: 100%|██████████| 91/91 [00:00<00:00, 283.95it/s]\n",
      "\u001b[92mINFO \u001b[0m:      fit progress: (8, 2.484785108775883, {'accuracy': 0.19553169379979218}, 769.5058490909996)\n",
      "\u001b[92mINFO \u001b[0m:      configure_evaluate: strategy sampled 12 clients (out of 12)\n"
     ]
    },
    {
     "name": "stdout",
     "output_type": "stream",
     "text": [
      "============================================================\n",
      "✅ ROUND 8 SUMMARY - Global Model Performance:\n",
      "   Loss: 2.4848 | Accuracy: 0.1955\n",
      "============================================================\n"
     ]
    },
    {
     "name": "stderr",
     "output_type": "stream",
     "text": [
      "\u001b[36m(ClientAppActor pid=263068)\u001b[0m \u001b[93mWARNING \u001b[0m:   DEPRECATED FEATURE: `client_fn` now expects a signature `def client_fn(context: Context)`.The provided `client_fn` has signature: {'cid': <Parameter \"cid: str\">}. You can import the `Context` like this: `from flwr.common import Context`\n",
      "\u001b[36m(ClientAppActor pid=263068)\u001b[0m \n",
      "\u001b[36m(ClientAppActor pid=263068)\u001b[0m             This is a deprecated feature. It will be removed\n",
      "\u001b[36m(ClientAppActor pid=263068)\u001b[0m             entirely in future versions of Flower.\n",
      "\u001b[36m(ClientAppActor pid=263068)\u001b[0m         \n",
      "Testing:   0%|          | 0/98 [00:00<?, ?it/s]\n"
     ]
    },
    {
     "name": "stdout",
     "output_type": "stream",
     "text": [
      "\u001b[36m(ClientAppActor pid=263068)\u001b[0m [Client 6] Starting evaluation...\n"
     ]
    },
    {
     "name": "stderr",
     "output_type": "stream",
     "text": [
      "Testing:   9%|▉         | 9/98 [00:00<00:01, 82.36it/s]\n",
      "Testing:  18%|█▊        | 18/98 [00:00<00:00, 85.80it/s]\n",
      "Testing:  40%|███▉      | 39/98 [00:00<00:00, 139.97it/s]\n",
      "Testing:  70%|███████   | 69/98 [00:00<00:00, 201.09it/s]\n",
      "Testing: 100%|██████████| 98/98 [00:00<00:00, 191.28it/s]\n"
     ]
    },
    {
     "name": "stdout",
     "output_type": "stream",
     "text": [
      "\u001b[36m(ClientAppActor pid=263068)\u001b[0m ✅ [Client 6] Evaluation results - Loss: 2.4845, Accuracy: 0.0079\n",
      "\u001b[36m(ClientAppActor pid=263069)\u001b[0m [Client 3] Starting evaluation...\n"
     ]
    },
    {
     "name": "stderr",
     "output_type": "stream",
     "text": [
      "\u001b[36m(ClientAppActor pid=263069)\u001b[0m \n",
      "\u001b[36m(ClientAppActor pid=263069)\u001b[0m         \n",
      "\u001b[36m(ClientAppActor pid=263069)\u001b[0m \u001b[93mWARNING \u001b[0m:   DEPRECATED FEATURE: `client_fn` now expects a signature `def client_fn(context: Context)`.The provided `client_fn` has signature: {'cid': <Parameter \"cid: str\">}. You can import the `Context` like this: `from flwr.common import Context`\n",
      "\u001b[36m(ClientAppActor pid=263069)\u001b[0m             This is a deprecated feature. It will be removed\n",
      "\u001b[36m(ClientAppActor pid=263069)\u001b[0m             entirely in future versions of Flower.\n",
      "Testing:   0%|          | 0/95 [00:00<?, ?it/s]\n",
      "Testing:   8%|▊         | 8/95 [00:00<00:01, 79.44it/s]\n",
      "Testing:  17%|█▋        | 16/95 [00:00<00:01, 78.55it/s]\n",
      "Testing:  32%|███▏      | 30/95 [00:00<00:00, 105.31it/s]\n",
      "Testing:  72%|███████▏  | 68/95 [00:00<00:00, 210.84it/s]\n",
      "Testing: 100%|██████████| 95/95 [00:00<00:00, 194.04it/s]\n"
     ]
    },
    {
     "name": "stdout",
     "output_type": "stream",
     "text": [
      "\u001b[36m(ClientAppActor pid=263069)\u001b[0m ✅ [Client 3] Evaluation results - Loss: 2.4835, Accuracy: 0.1103\n"
     ]
    },
    {
     "name": "stderr",
     "output_type": "stream",
     "text": [
      "\u001b[36m(ClientAppActor pid=263068)\u001b[0m \u001b[93mWARNING \u001b[0m:   DEPRECATED FEATURE: `client_fn` now expects a signature `def client_fn(context: Context)`.The provided `client_fn` has signature: {'cid': <Parameter \"cid: str\">}. You can import the `Context` like this: `from flwr.common import Context`\n",
      "\u001b[36m(ClientAppActor pid=263068)\u001b[0m \n",
      "\u001b[36m(ClientAppActor pid=263068)\u001b[0m             This is a deprecated feature. It will be removed\n",
      "\u001b[36m(ClientAppActor pid=263068)\u001b[0m             entirely in future versions of Flower.\n",
      "\u001b[36m(ClientAppActor pid=263068)\u001b[0m         \n",
      "Testing:   0%|          | 0/93 [00:00<?, ?it/s]\n"
     ]
    },
    {
     "name": "stdout",
     "output_type": "stream",
     "text": [
      "\u001b[36m(ClientAppActor pid=263068)\u001b[0m [Client 4] Starting evaluation...\n"
     ]
    },
    {
     "name": "stderr",
     "output_type": "stream",
     "text": [
      "Testing:   9%|▊         | 8/93 [00:00<00:01, 79.88it/s]\n",
      "Testing:  17%|█▋        | 16/93 [00:00<00:00, 78.93it/s]\n",
      "Testing:  51%|█████     | 47/93 [00:00<00:00, 183.15it/s]\n",
      "Testing: 100%|██████████| 93/93 [00:00<00:00, 195.62it/s]\n"
     ]
    },
    {
     "name": "stdout",
     "output_type": "stream",
     "text": [
      "\u001b[36m(ClientAppActor pid=263068)\u001b[0m ✅ [Client 4] Evaluation results - Loss: 2.4843, Accuracy: 0.0137\n",
      "\u001b[36m(ClientAppActor pid=263069)\u001b[0m [Client 5] Starting evaluation...\n"
     ]
    },
    {
     "name": "stderr",
     "output_type": "stream",
     "text": [
      "\u001b[36m(ClientAppActor pid=263069)\u001b[0m \n",
      "\u001b[36m(ClientAppActor pid=263069)\u001b[0m         \n",
      "\u001b[36m(ClientAppActor pid=263069)\u001b[0m \u001b[93mWARNING \u001b[0m:   DEPRECATED FEATURE: `client_fn` now expects a signature `def client_fn(context: Context)`.The provided `client_fn` has signature: {'cid': <Parameter \"cid: str\">}. You can import the `Context` like this: `from flwr.common import Context`\n",
      "\u001b[36m(ClientAppActor pid=263069)\u001b[0m             This is a deprecated feature. It will be removed\n",
      "\u001b[36m(ClientAppActor pid=263069)\u001b[0m             entirely in future versions of Flower.\n",
      "Testing:   0%|          | 0/95 [00:00<?, ?it/s]\n",
      "Testing:   8%|▊         | 8/95 [00:00<00:01, 75.61it/s]\n",
      "Testing:  17%|█▋        | 16/95 [00:00<00:01, 77.64it/s]\n",
      "Testing:  26%|██▋       | 25/95 [00:00<00:00, 73.72it/s]\n",
      "Testing:  64%|██████▍   | 61/95 [00:00<00:00, 176.46it/s]\n",
      "Testing: 100%|██████████| 95/95 [00:00<00:00, 175.99it/s]\n"
     ]
    },
    {
     "name": "stdout",
     "output_type": "stream",
     "text": [
      "\u001b[36m(ClientAppActor pid=263069)\u001b[0m ✅ [Client 5] Evaluation results - Loss: 2.4855, Accuracy: 0.0078\n"
     ]
    },
    {
     "name": "stderr",
     "output_type": "stream",
     "text": [
      "\u001b[36m(ClientAppActor pid=263068)\u001b[0m \u001b[93mWARNING \u001b[0m:   DEPRECATED FEATURE: `client_fn` now expects a signature `def client_fn(context: Context)`.The provided `client_fn` has signature: {'cid': <Parameter \"cid: str\">}. You can import the `Context` like this: `from flwr.common import Context`\n",
      "\u001b[36m(ClientAppActor pid=263068)\u001b[0m \n",
      "\u001b[36m(ClientAppActor pid=263068)\u001b[0m             This is a deprecated feature. It will be removed\n",
      "\u001b[36m(ClientAppActor pid=263068)\u001b[0m             entirely in future versions of Flower.\n",
      "\u001b[36m(ClientAppActor pid=263068)\u001b[0m         \n",
      "Testing:   0%|          | 0/91 [00:00<?, ?it/s]\n"
     ]
    },
    {
     "name": "stdout",
     "output_type": "stream",
     "text": [
      "\u001b[36m(ClientAppActor pid=263068)\u001b[0m [Client 7] Starting evaluation...\n"
     ]
    },
    {
     "name": "stderr",
     "output_type": "stream",
     "text": [
      "Testing:   9%|▉         | 8/91 [00:00<00:01, 79.11it/s]\n",
      "Testing:  21%|██        | 19/91 [00:00<00:00, 95.86it/s]\n",
      "Testing:  57%|█████▋    | 52/91 [00:00<00:00, 199.99it/s]\n",
      "Testing: 100%|██████████| 91/91 [00:00<00:00, 195.44it/s]\n"
     ]
    },
    {
     "name": "stdout",
     "output_type": "stream",
     "text": [
      "\u001b[36m(ClientAppActor pid=263068)\u001b[0m ✅ [Client 7] Evaluation results - Loss: 2.4845, Accuracy: 0.0372\n"
     ]
    },
    {
     "name": "stderr",
     "output_type": "stream",
     "text": [
      "\u001b[36m(ClientAppActor pid=263069)\u001b[0m \n",
      "\u001b[36m(ClientAppActor pid=263069)\u001b[0m         \n",
      "\u001b[36m(ClientAppActor pid=263069)\u001b[0m \u001b[93mWARNING \u001b[0m:   DEPRECATED FEATURE: `client_fn` now expects a signature `def client_fn(context: Context)`.The provided `client_fn` has signature: {'cid': <Parameter \"cid: str\">}. You can import the `Context` like this: `from flwr.common import Context`\n",
      "\u001b[36m(ClientAppActor pid=263069)\u001b[0m             This is a deprecated feature. It will be removed\n",
      "\u001b[36m(ClientAppActor pid=263069)\u001b[0m             entirely in future versions of Flower.\n",
      "Testing:   0%|          | 0/92 [00:00<?, ?it/s]\n"
     ]
    },
    {
     "name": "stdout",
     "output_type": "stream",
     "text": [
      "\u001b[36m(ClientAppActor pid=263069)\u001b[0m [Client 9] Starting evaluation...\n"
     ]
    },
    {
     "name": "stderr",
     "output_type": "stream",
     "text": [
      "Testing:  10%|▉         | 9/92 [00:00<00:01, 81.86it/s]\n",
      "Testing:  20%|█▉        | 18/92 [00:00<00:01, 70.33it/s]\n",
      "Testing:  55%|█████▌    | 51/92 [00:00<00:00, 173.15it/s]\n",
      "Testing:  85%|████████▍ | 78/92 [00:00<00:00, 207.23it/s]\n"
     ]
    },
    {
     "name": "stdout",
     "output_type": "stream",
     "text": [
      "\u001b[36m(ClientAppActor pid=263069)\u001b[0m ✅ [Client 9] Evaluation results - Loss: 2.4846, Accuracy: 0.0220\n"
     ]
    },
    {
     "name": "stderr",
     "output_type": "stream",
     "text": [
      "Testing: 100%|██████████| 92/92 [00:00<00:00, 178.51it/s]\n",
      "\u001b[36m(ClientAppActor pid=263068)\u001b[0m \u001b[93mWARNING \u001b[0m:   DEPRECATED FEATURE: `client_fn` now expects a signature `def client_fn(context: Context)`.The provided `client_fn` has signature: {'cid': <Parameter \"cid: str\">}. You can import the `Context` like this: `from flwr.common import Context`\n",
      "\u001b[36m(ClientAppActor pid=263068)\u001b[0m \n",
      "\u001b[36m(ClientAppActor pid=263068)\u001b[0m             This is a deprecated feature. It will be removed\n",
      "\u001b[36m(ClientAppActor pid=263068)\u001b[0m             entirely in future versions of Flower.\n",
      "\u001b[36m(ClientAppActor pid=263068)\u001b[0m         \n",
      "Testing:   0%|          | 0/93 [00:00<?, ?it/s]\n"
     ]
    },
    {
     "name": "stdout",
     "output_type": "stream",
     "text": [
      "\u001b[36m(ClientAppActor pid=263068)\u001b[0m [Client 1] Starting evaluation...\n"
     ]
    },
    {
     "name": "stderr",
     "output_type": "stream",
     "text": [
      "Testing:   9%|▊         | 8/93 [00:00<00:01, 79.70it/s]\n",
      "Testing:  18%|█▊        | 17/93 [00:00<00:01, 66.78it/s]\n",
      "Testing:  51%|█████     | 47/93 [00:00<00:00, 157.30it/s]\n",
      "Testing:  83%|████████▎ | 77/93 [00:00<00:00, 207.64it/s]\n",
      "Testing: 100%|██████████| 93/93 [00:00<00:00, 184.82it/s]\n"
     ]
    },
    {
     "name": "stdout",
     "output_type": "stream",
     "text": [
      "\u001b[36m(ClientAppActor pid=263068)\u001b[0m ✅ [Client 1] Evaluation results - Loss: 2.4840, Accuracy: 0.1559\n",
      "\u001b[36m(ClientAppActor pid=263069)\u001b[0m [Client 8] Starting evaluation...\n"
     ]
    },
    {
     "name": "stderr",
     "output_type": "stream",
     "text": [
      "\u001b[36m(ClientAppActor pid=263069)\u001b[0m \n",
      "\u001b[36m(ClientAppActor pid=263069)\u001b[0m         \n",
      "\u001b[36m(ClientAppActor pid=263069)\u001b[0m \u001b[93mWARNING \u001b[0m:   DEPRECATED FEATURE: `client_fn` now expects a signature `def client_fn(context: Context)`.The provided `client_fn` has signature: {'cid': <Parameter \"cid: str\">}. You can import the `Context` like this: `from flwr.common import Context`\n",
      "\u001b[36m(ClientAppActor pid=263069)\u001b[0m             This is a deprecated feature. It will be removed\n",
      "\u001b[36m(ClientAppActor pid=263069)\u001b[0m             entirely in future versions of Flower.\n",
      "Testing:   0%|          | 0/91 [00:00<?, ?it/s]\n",
      "Testing:  10%|▉         | 9/91 [00:00<00:00, 82.18it/s]\n",
      "Testing:  20%|█▉        | 18/91 [00:00<00:00, 81.16it/s]\n",
      "Testing:  34%|███▍      | 31/91 [00:00<00:00, 100.95it/s]\n",
      "Testing:  71%|███████▏  | 65/91 [00:00<00:00, 190.64it/s]\n"
     ]
    },
    {
     "name": "stdout",
     "output_type": "stream",
     "text": [
      "\u001b[36m(ClientAppActor pid=263069)\u001b[0m ✅ [Client 8] Evaluation results - Loss: 2.4832, Accuracy: 0.0880\n"
     ]
    },
    {
     "name": "stderr",
     "output_type": "stream",
     "text": [
      "Testing: 100%|██████████| 91/91 [00:00<00:00, 175.05it/s]\n",
      "\u001b[36m(ClientAppActor pid=263068)\u001b[0m \u001b[93mWARNING \u001b[0m:   DEPRECATED FEATURE: `client_fn` now expects a signature `def client_fn(context: Context)`.The provided `client_fn` has signature: {'cid': <Parameter \"cid: str\">}. You can import the `Context` like this: `from flwr.common import Context`\n",
      "\u001b[36m(ClientAppActor pid=263068)\u001b[0m \n",
      "\u001b[36m(ClientAppActor pid=263068)\u001b[0m             This is a deprecated feature. It will be removed\n",
      "\u001b[36m(ClientAppActor pid=263068)\u001b[0m             entirely in future versions of Flower.\n",
      "\u001b[36m(ClientAppActor pid=263068)\u001b[0m         \n",
      "Testing:   0%|          | 0/93 [00:00<?, ?it/s]\n"
     ]
    },
    {
     "name": "stdout",
     "output_type": "stream",
     "text": [
      "\u001b[36m(ClientAppActor pid=263068)\u001b[0m [Client 0] Starting evaluation...\n"
     ]
    },
    {
     "name": "stderr",
     "output_type": "stream",
     "text": [
      "Testing:   9%|▊         | 8/93 [00:00<00:01, 76.06it/s]\n",
      "Testing:  18%|█▊        | 17/93 [00:00<00:00, 78.03it/s]\n",
      "Testing:  46%|████▌     | 43/93 [00:00<00:00, 156.07it/s]\n",
      "Testing: 100%|██████████| 93/93 [00:00<00:00, 193.20it/s]\n"
     ]
    },
    {
     "name": "stdout",
     "output_type": "stream",
     "text": [
      "\u001b[36m(ClientAppActor pid=263068)\u001b[0m ✅ [Client 0] Evaluation results - Loss: 2.4839, Accuracy: 0.1977\n",
      "\u001b[36m(ClientAppActor pid=263069)\u001b[0m [Client 2] Starting evaluation...\n"
     ]
    },
    {
     "name": "stderr",
     "output_type": "stream",
     "text": [
      "\u001b[36m(ClientAppActor pid=263069)\u001b[0m \n",
      "\u001b[36m(ClientAppActor pid=263069)\u001b[0m         \n",
      "\u001b[36m(ClientAppActor pid=263069)\u001b[0m \u001b[93mWARNING \u001b[0m:   DEPRECATED FEATURE: `client_fn` now expects a signature `def client_fn(context: Context)`.The provided `client_fn` has signature: {'cid': <Parameter \"cid: str\">}. You can import the `Context` like this: `from flwr.common import Context`\n",
      "\u001b[36m(ClientAppActor pid=263069)\u001b[0m             This is a deprecated feature. It will be removed\n",
      "\u001b[36m(ClientAppActor pid=263069)\u001b[0m             entirely in future versions of Flower.\n",
      "Testing:   0%|          | 0/93 [00:00<?, ?it/s]\n",
      "Testing:   9%|▊         | 8/93 [00:00<00:01, 75.32it/s]\n",
      "Testing:  18%|█▊        | 17/93 [00:00<00:00, 80.60it/s]\n",
      "Testing:  28%|██▊       | 26/93 [00:00<00:00, 73.30it/s]\n",
      "Testing:  53%|█████▎    | 49/93 [00:00<00:00, 127.73it/s]\n"
     ]
    },
    {
     "name": "stdout",
     "output_type": "stream",
     "text": [
      "\u001b[36m(ClientAppActor pid=263069)\u001b[0m ✅ [Client 2] Evaluation results - Loss: 2.4850, Accuracy: 0.0059\n"
     ]
    },
    {
     "name": "stderr",
     "output_type": "stream",
     "text": [
      "Testing: 100%|██████████| 93/93 [00:00<00:00, 155.24it/s]\n",
      "\u001b[36m(ClientAppActor pid=263068)\u001b[0m \u001b[93mWARNING \u001b[0m:   DEPRECATED FEATURE: `client_fn` now expects a signature `def client_fn(context: Context)`.The provided `client_fn` has signature: {'cid': <Parameter \"cid: str\">}. You can import the `Context` like this: `from flwr.common import Context`\n",
      "\u001b[36m(ClientAppActor pid=263068)\u001b[0m \n",
      "\u001b[36m(ClientAppActor pid=263068)\u001b[0m             This is a deprecated feature. It will be removed\n",
      "\u001b[36m(ClientAppActor pid=263068)\u001b[0m             entirely in future versions of Flower.\n",
      "\u001b[36m(ClientAppActor pid=263068)\u001b[0m         \n",
      "Testing:   0%|          | 0/83 [00:00<?, ?it/s]\n",
      "Testing:  11%|█         | 9/83 [00:00<00:00, 80.55it/s]\n"
     ]
    },
    {
     "name": "stdout",
     "output_type": "stream",
     "text": [
      "\u001b[36m(ClientAppActor pid=263068)\u001b[0m [Client 10] Starting evaluation...\n"
     ]
    },
    {
     "name": "stderr",
     "output_type": "stream",
     "text": [
      "Testing:  22%|██▏       | 18/83 [00:00<00:00, 85.41it/s]\n",
      "Testing:  33%|███▎      | 27/83 [00:00<00:00, 74.28it/s]\n",
      "Testing:  73%|███████▎  | 61/83 [00:00<00:00, 167.21it/s]\n",
      "Testing: 100%|██████████| 83/83 [00:00<00:00, 152.88it/s]\n"
     ]
    },
    {
     "name": "stdout",
     "output_type": "stream",
     "text": [
      "\u001b[36m(ClientAppActor pid=263068)\u001b[0m ✅ [Client 10] Evaluation results - Loss: 2.4847, Accuracy: 0.1851\n"
     ]
    },
    {
     "name": "stderr",
     "output_type": "stream",
     "text": [
      "\u001b[36m(ClientAppActor pid=263069)\u001b[0m \n",
      "\u001b[36m(ClientAppActor pid=263069)\u001b[0m         \n",
      "\u001b[36m(ClientAppActor pid=263069)\u001b[0m \u001b[93mWARNING \u001b[0m:   DEPRECATED FEATURE: `client_fn` now expects a signature `def client_fn(context: Context)`.The provided `client_fn` has signature: {'cid': <Parameter \"cid: str\">}. You can import the `Context` like this: `from flwr.common import Context`\n",
      "\u001b[36m(ClientAppActor pid=263069)\u001b[0m             This is a deprecated feature. It will be removed\n",
      "\u001b[36m(ClientAppActor pid=263069)\u001b[0m             entirely in future versions of Flower.\n",
      "Testing:   0%|          | 0/91 [00:00<?, ?it/s]\n"
     ]
    },
    {
     "name": "stdout",
     "output_type": "stream",
     "text": [
      "\u001b[36m(ClientAppActor pid=263069)\u001b[0m [Client 11] Starting evaluation...\n"
     ]
    },
    {
     "name": "stderr",
     "output_type": "stream",
     "text": [
      "Testing:   9%|▉         | 8/91 [00:00<00:01, 75.48it/s]\n",
      "Testing:  18%|█▊        | 16/91 [00:00<00:00, 78.05it/s]\n",
      "Testing:  32%|███▏      | 29/91 [00:00<00:00, 100.78it/s]\n",
      "Testing:  63%|██████▎   | 57/91 [00:00<00:00, 170.47it/s]\n",
      "\u001b[92mINFO \u001b[0m:      aggregate_evaluate: received 12 results and 0 failures\n",
      "\u001b[92mINFO \u001b[0m:      \n",
      "\u001b[92mINFO \u001b[0m:      [ROUND 9]\n",
      "\u001b[92mINFO \u001b[0m:      configure_fit: strategy sampled 6 clients (out of 12)\n",
      "\u001b[92mINFO \u001b[0m:      aggregate_fit: received 0 results and 6 failures\n"
     ]
    },
    {
     "name": "stdout",
     "output_type": "stream",
     "text": [
      "✅ --- Server received 12 evaluation results in round 8 ---\n",
      "✅ --- Pareto selection for round 9 chose clients: ['3343832528087936700', '15868316647030128318', '17572866915993216550', '14315934176059193381', '10273312183111562667', '9722077455151739340'] ---\n"
     ]
    },
    {
     "name": "stderr",
     "output_type": "stream",
     "text": [
      "Testing: 100%|██████████| 91/91 [00:00<00:00, 176.56it/s]ntAppActor pid=263069)\u001b[0m \n",
      "Testing:  27%|██▋       | 25/91 [00:00<00:00, 244.94it/s]"
     ]
    },
    {
     "name": "stdout",
     "output_type": "stream",
     "text": [
      "\u001b[36m(ClientAppActor pid=263069)\u001b[0m ✅ [Client 11] Evaluation results - Loss: 2.4848, Accuracy: 0.1955\n"
     ]
    },
    {
     "name": "stderr",
     "output_type": "stream",
     "text": [
      "Testing: 100%|██████████| 91/91 [00:00<00:00, 274.83it/s]\n",
      "\u001b[92mINFO \u001b[0m:      fit progress: (9, 2.484785108775883, {'accuracy': 0.19553169379979218}, 869.2782899589984)\n",
      "\u001b[92mINFO \u001b[0m:      configure_evaluate: strategy sampled 12 clients (out of 12)\n"
     ]
    },
    {
     "name": "stdout",
     "output_type": "stream",
     "text": [
      "============================================================\n",
      "✅ ROUND 9 SUMMARY - Global Model Performance:\n",
      "   Loss: 2.4848 | Accuracy: 0.1955\n",
      "============================================================\n",
      "\u001b[36m(ClientAppActor pid=263069)\u001b[0m [Client 2] Starting evaluation...\n"
     ]
    },
    {
     "name": "stderr",
     "output_type": "stream",
     "text": [
      "\u001b[36m(ClientAppActor pid=263069)\u001b[0m \u001b[93mWARNING \u001b[0m:   DEPRECATED FEATURE: `client_fn` now expects a signature `def client_fn(context: Context)`.The provided `client_fn` has signature: {'cid': <Parameter \"cid: str\">}. You can import the `Context` like this: `from flwr.common import Context`\n",
      "\u001b[36m(ClientAppActor pid=263069)\u001b[0m \n",
      "\u001b[36m(ClientAppActor pid=263069)\u001b[0m             This is a deprecated feature. It will be removed\n",
      "\u001b[36m(ClientAppActor pid=263069)\u001b[0m             entirely in future versions of Flower.\n",
      "\u001b[36m(ClientAppActor pid=263069)\u001b[0m         \n",
      "Testing:   0%|          | 0/93 [00:00<?, ?it/s]\n",
      "Testing:   9%|▊         | 8/93 [00:00<00:01, 71.18it/s]\n",
      "Testing:  17%|█▋        | 16/93 [00:00<00:01, 74.29it/s]\n",
      "Testing:  29%|██▉       | 27/93 [00:00<00:00, 89.48it/s]\n",
      "Testing:  61%|██████▏   | 57/93 [00:00<00:00, 169.55it/s]\n",
      "Testing: 100%|██████████| 93/93 [00:00<00:00, 177.63it/s]\n"
     ]
    },
    {
     "name": "stdout",
     "output_type": "stream",
     "text": [
      "\u001b[36m(ClientAppActor pid=263069)\u001b[0m ✅ [Client 2] Evaluation results - Loss: 2.4850, Accuracy: 0.0059\n"
     ]
    },
    {
     "name": "stderr",
     "output_type": "stream",
     "text": [
      "\u001b[36m(ClientAppActor pid=263068)\u001b[0m \n",
      "\u001b[36m(ClientAppActor pid=263068)\u001b[0m         \n",
      "Testing:   0%|          | 0/93 [00:00<?, ?it/s]\n",
      "\u001b[36m(ClientAppActor pid=263068)\u001b[0m \u001b[93mWARNING \u001b[0m:   DEPRECATED FEATURE: `client_fn` now expects a signature `def client_fn(context: Context)`.The provided `client_fn` has signature: {'cid': <Parameter \"cid: str\">}. You can import the `Context` like this: `from flwr.common import Context`\n",
      "\u001b[36m(ClientAppActor pid=263068)\u001b[0m             This is a deprecated feature. It will be removed\n",
      "\u001b[36m(ClientAppActor pid=263068)\u001b[0m             entirely in future versions of Flower.\n",
      "Testing:   8%|▊         | 7/93 [00:00<00:01, 66.74it/s]\n"
     ]
    },
    {
     "name": "stdout",
     "output_type": "stream",
     "text": [
      "\u001b[36m(ClientAppActor pid=263068)\u001b[0m [Client 0] Starting evaluation...\n"
     ]
    },
    {
     "name": "stderr",
     "output_type": "stream",
     "text": [
      "Testing:  16%|█▌        | 15/93 [00:00<00:01, 68.91it/s]\n",
      "Testing:  43%|████▎     | 40/93 [00:00<00:00, 145.32it/s]\n",
      "Testing:  77%|███████▋  | 72/93 [00:00<00:00, 208.96it/s]\n",
      "Testing: 100%|██████████| 93/93 [00:00<00:00, 187.95it/s]\n"
     ]
    },
    {
     "name": "stdout",
     "output_type": "stream",
     "text": [
      "\u001b[36m(ClientAppActor pid=263068)\u001b[0m ✅ [Client 0] Evaluation results - Loss: 2.4839, Accuracy: 0.1977\n"
     ]
    },
    {
     "name": "stderr",
     "output_type": "stream",
     "text": [
      "\u001b[36m(ClientAppActor pid=263069)\u001b[0m \u001b[93mWARNING \u001b[0m:   DEPRECATED FEATURE: `client_fn` now expects a signature `def client_fn(context: Context)`.The provided `client_fn` has signature: {'cid': <Parameter \"cid: str\">}. You can import the `Context` like this: `from flwr.common import Context`\n",
      "\u001b[36m(ClientAppActor pid=263069)\u001b[0m \n",
      "\u001b[36m(ClientAppActor pid=263069)\u001b[0m             This is a deprecated feature. It will be removed\n",
      "\u001b[36m(ClientAppActor pid=263069)\u001b[0m             entirely in future versions of Flower.\n",
      "\u001b[36m(ClientAppActor pid=263069)\u001b[0m         \n",
      "Testing:   0%|          | 0/91 [00:00<?, ?it/s]\n"
     ]
    },
    {
     "name": "stdout",
     "output_type": "stream",
     "text": [
      "\u001b[36m(ClientAppActor pid=263069)\u001b[0m [Client 7] Starting evaluation...\n"
     ]
    },
    {
     "name": "stderr",
     "output_type": "stream",
     "text": [
      "Testing:   8%|▊         | 7/91 [00:00<00:01, 68.07it/s]\n",
      "Testing:  16%|█▋        | 15/91 [00:00<00:01, 71.11it/s]\n",
      "Testing:  25%|██▌       | 23/91 [00:00<00:00, 68.50it/s]\n",
      "Testing:  59%|█████▉    | 54/91 [00:00<00:00, 154.84it/s]\n"
     ]
    },
    {
     "name": "stdout",
     "output_type": "stream",
     "text": [
      "\u001b[36m(ClientAppActor pid=263069)\u001b[0m ✅ [Client 7] Evaluation results - Loss: 2.4845, Accuracy: 0.0372\n"
     ]
    },
    {
     "name": "stderr",
     "output_type": "stream",
     "text": [
      "Testing: 100%|██████████| 91/91 [00:00<00:00, 159.04it/s]\n",
      "\u001b[36m(ClientAppActor pid=263068)\u001b[0m \n",
      "\u001b[36m(ClientAppActor pid=263068)\u001b[0m         \n",
      "\u001b[36m(ClientAppActor pid=263068)\u001b[0m \u001b[93mWARNING \u001b[0m:   DEPRECATED FEATURE: `client_fn` now expects a signature `def client_fn(context: Context)`.The provided `client_fn` has signature: {'cid': <Parameter \"cid: str\">}. You can import the `Context` like this: `from flwr.common import Context`\n",
      "\u001b[36m(ClientAppActor pid=263068)\u001b[0m             This is a deprecated feature. It will be removed\n",
      "\u001b[36m(ClientAppActor pid=263068)\u001b[0m             entirely in future versions of Flower.\n",
      "Testing:   0%|          | 0/98 [00:00<?, ?it/s]\n",
      "Testing:   7%|▋         | 7/98 [00:00<00:01, 67.70it/s]\n"
     ]
    },
    {
     "name": "stdout",
     "output_type": "stream",
     "text": [
      "\u001b[36m(ClientAppActor pid=263068)\u001b[0m [Client 6] Starting evaluation...\n"
     ]
    },
    {
     "name": "stderr",
     "output_type": "stream",
     "text": [
      "Testing:  15%|█▌        | 15/98 [00:00<00:01, 72.28it/s]\n",
      "Testing:  23%|██▎       | 23/98 [00:00<00:01, 66.97it/s]\n",
      "Testing:  59%|█████▉    | 58/98 [00:00<00:00, 168.01it/s]\n",
      "Testing: 100%|██████████| 98/98 [00:00<00:00, 164.31it/s]\n"
     ]
    },
    {
     "name": "stdout",
     "output_type": "stream",
     "text": [
      "\u001b[36m(ClientAppActor pid=263068)\u001b[0m ✅ [Client 6] Evaluation results - Loss: 2.4845, Accuracy: 0.0079\n",
      "\u001b[36m(ClientAppActor pid=263069)\u001b[0m [Client 4] Starting evaluation...\n"
     ]
    },
    {
     "name": "stderr",
     "output_type": "stream",
     "text": [
      "\u001b[36m(ClientAppActor pid=263069)\u001b[0m \u001b[93mWARNING \u001b[0m:   DEPRECATED FEATURE: `client_fn` now expects a signature `def client_fn(context: Context)`.The provided `client_fn` has signature: {'cid': <Parameter \"cid: str\">}. You can import the `Context` like this: `from flwr.common import Context`\n",
      "\u001b[36m(ClientAppActor pid=263069)\u001b[0m \n",
      "\u001b[36m(ClientAppActor pid=263069)\u001b[0m             This is a deprecated feature. It will be removed\n",
      "\u001b[36m(ClientAppActor pid=263069)\u001b[0m             entirely in future versions of Flower.\n",
      "\u001b[36m(ClientAppActor pid=263069)\u001b[0m         \n",
      "Testing:   0%|          | 0/93 [00:00<?, ?it/s]\n",
      "Testing:   8%|▊         | 7/93 [00:00<00:01, 65.30it/s]\n",
      "Testing:  15%|█▌        | 14/93 [00:00<00:01, 64.19it/s]\n",
      "Testing:  26%|██▌       | 24/93 [00:00<00:00, 79.71it/s]\n",
      "Testing:  60%|██████    | 56/93 [00:00<00:00, 171.21it/s]\n",
      "Testing: 100%|██████████| 93/93 [00:00<00:00, 175.67it/s]\n"
     ]
    },
    {
     "name": "stdout",
     "output_type": "stream",
     "text": [
      "\u001b[36m(ClientAppActor pid=263069)\u001b[0m ✅ [Client 4] Evaluation results - Loss: 2.4843, Accuracy: 0.0137\n"
     ]
    },
    {
     "name": "stderr",
     "output_type": "stream",
     "text": [
      "\u001b[36m(ClientAppActor pid=263068)\u001b[0m \n",
      "\u001b[36m(ClientAppActor pid=263068)\u001b[0m         \n",
      "\u001b[36m(ClientAppActor pid=263068)\u001b[0m \u001b[93mWARNING \u001b[0m:   DEPRECATED FEATURE: `client_fn` now expects a signature `def client_fn(context: Context)`.The provided `client_fn` has signature: {'cid': <Parameter \"cid: str\">}. You can import the `Context` like this: `from flwr.common import Context`\n",
      "\u001b[36m(ClientAppActor pid=263068)\u001b[0m             This is a deprecated feature. It will be removed\n",
      "\u001b[36m(ClientAppActor pid=263068)\u001b[0m             entirely in future versions of Flower.\n",
      "Testing:   0%|          | 0/95 [00:00<?, ?it/s]\n",
      "Testing:   7%|▋         | 7/95 [00:00<00:01, 68.48it/s]\n"
     ]
    },
    {
     "name": "stdout",
     "output_type": "stream",
     "text": [
      "\u001b[36m(ClientAppActor pid=263068)\u001b[0m [Client 5] Starting evaluation...\n"
     ]
    },
    {
     "name": "stderr",
     "output_type": "stream",
     "text": [
      "Testing:  16%|█▌        | 15/95 [00:00<00:01, 72.37it/s]\n",
      "Testing:  24%|██▍       | 23/95 [00:00<00:01, 61.54it/s]\n",
      "Testing:  61%|██████    | 58/95 [00:00<00:00, 158.95it/s]\n",
      "Testing: 100%|██████████| 95/95 [00:00<00:00, 157.60it/s]\n"
     ]
    },
    {
     "name": "stdout",
     "output_type": "stream",
     "text": [
      "\u001b[36m(ClientAppActor pid=263068)\u001b[0m ✅ [Client 5] Evaluation results - Loss: 2.4855, Accuracy: 0.0078\n",
      "\u001b[36m(ClientAppActor pid=263069)\u001b[0m [Client 11] Starting evaluation...\n"
     ]
    },
    {
     "name": "stderr",
     "output_type": "stream",
     "text": [
      "\u001b[36m(ClientAppActor pid=263069)\u001b[0m \u001b[93mWARNING \u001b[0m:   DEPRECATED FEATURE: `client_fn` now expects a signature `def client_fn(context: Context)`.The provided `client_fn` has signature: {'cid': <Parameter \"cid: str\">}. You can import the `Context` like this: `from flwr.common import Context`\n",
      "\u001b[36m(ClientAppActor pid=263069)\u001b[0m \n",
      "\u001b[36m(ClientAppActor pid=263069)\u001b[0m             This is a deprecated feature. It will be removed\n",
      "\u001b[36m(ClientAppActor pid=263069)\u001b[0m             entirely in future versions of Flower.\n",
      "\u001b[36m(ClientAppActor pid=263069)\u001b[0m         \n",
      "Testing:   0%|          | 0/91 [00:00<?, ?it/s]\n",
      "Testing:   9%|▉         | 8/91 [00:00<00:01, 72.80it/s]\n",
      "Testing:  18%|█▊        | 16/91 [00:00<00:01, 74.48it/s]\n",
      "Testing:  26%|██▋       | 24/91 [00:00<00:01, 63.28it/s]\n",
      "Testing:  48%|████▊     | 44/91 [00:00<00:00, 109.67it/s]\n",
      "Testing:  75%|███████▍  | 68/91 [00:00<00:00, 151.05it/s]\n",
      "Testing: 100%|██████████| 91/91 [00:00<00:00, 141.18it/s]\n"
     ]
    },
    {
     "name": "stdout",
     "output_type": "stream",
     "text": [
      "\u001b[36m(ClientAppActor pid=263069)\u001b[0m ✅ [Client 11] Evaluation results - Loss: 2.4848, Accuracy: 0.1955\n"
     ]
    },
    {
     "name": "stderr",
     "output_type": "stream",
     "text": [
      "\u001b[36m(ClientAppActor pid=263068)\u001b[0m \n",
      "\u001b[36m(ClientAppActor pid=263068)\u001b[0m         \n",
      "\u001b[36m(ClientAppActor pid=263068)\u001b[0m \u001b[93mWARNING \u001b[0m:   DEPRECATED FEATURE: `client_fn` now expects a signature `def client_fn(context: Context)`.The provided `client_fn` has signature: {'cid': <Parameter \"cid: str\">}. You can import the `Context` like this: `from flwr.common import Context`\n",
      "\u001b[36m(ClientAppActor pid=263068)\u001b[0m             This is a deprecated feature. It will be removed\n",
      "\u001b[36m(ClientAppActor pid=263068)\u001b[0m             entirely in future versions of Flower.\n",
      "Testing:   0%|          | 0/95 [00:00<?, ?it/s]\n"
     ]
    },
    {
     "name": "stdout",
     "output_type": "stream",
     "text": [
      "\u001b[36m(ClientAppActor pid=263068)\u001b[0m [Client 3] Starting evaluation...\n"
     ]
    },
    {
     "name": "stderr",
     "output_type": "stream",
     "text": [
      "Testing:   7%|▋         | 7/95 [00:00<00:01, 69.67it/s]\n",
      "Testing:  15%|█▍        | 14/95 [00:00<00:01, 69.38it/s]\n",
      "Testing:  27%|██▋       | 26/95 [00:00<00:00, 91.79it/s]\n",
      "Testing:  59%|█████▉    | 56/95 [00:00<00:00, 172.58it/s]\n",
      "Testing:  82%|████████▏ | 78/95 [00:00<00:00, 187.96it/s]\n",
      "Testing: 100%|██████████| 95/95 [00:00<00:00, 164.08it/s]\n"
     ]
    },
    {
     "name": "stdout",
     "output_type": "stream",
     "text": [
      "\u001b[36m(ClientAppActor pid=263068)\u001b[0m ✅ [Client 3] Evaluation results - Loss: 2.4835, Accuracy: 0.1103\n",
      "\u001b[36m(ClientAppActor pid=263069)\u001b[0m [Client 8] Starting evaluation...\n"
     ]
    },
    {
     "name": "stderr",
     "output_type": "stream",
     "text": [
      "\u001b[36m(ClientAppActor pid=263069)\u001b[0m \u001b[93mWARNING \u001b[0m:   DEPRECATED FEATURE: `client_fn` now expects a signature `def client_fn(context: Context)`.The provided `client_fn` has signature: {'cid': <Parameter \"cid: str\">}. You can import the `Context` like this: `from flwr.common import Context`\n",
      "\u001b[36m(ClientAppActor pid=263069)\u001b[0m \n",
      "\u001b[36m(ClientAppActor pid=263069)\u001b[0m             This is a deprecated feature. It will be removed\n",
      "\u001b[36m(ClientAppActor pid=263069)\u001b[0m             entirely in future versions of Flower.\n",
      "\u001b[36m(ClientAppActor pid=263069)\u001b[0m         \n",
      "Testing:   0%|          | 0/91 [00:00<?, ?it/s]\n",
      "Testing:   8%|▊         | 7/91 [00:00<00:01, 69.30it/s]\n",
      "Testing:  16%|█▋        | 15/91 [00:00<00:01, 69.39it/s]\n",
      "Testing:  25%|██▌       | 23/91 [00:00<00:00, 70.97it/s]\n",
      "Testing:  57%|█████▋    | 52/91 [00:00<00:00, 152.23it/s]\n",
      "Testing: 100%|██████████| 91/91 [00:00<00:00, 164.22it/s]\n"
     ]
    },
    {
     "name": "stdout",
     "output_type": "stream",
     "text": [
      "\u001b[36m(ClientAppActor pid=263069)\u001b[0m ✅ [Client 8] Evaluation results - Loss: 2.4832, Accuracy: 0.0880\n"
     ]
    },
    {
     "name": "stderr",
     "output_type": "stream",
     "text": [
      "\u001b[36m(ClientAppActor pid=263068)\u001b[0m \n",
      "\u001b[36m(ClientAppActor pid=263068)\u001b[0m         \n",
      "\u001b[36m(ClientAppActor pid=263068)\u001b[0m \u001b[93mWARNING \u001b[0m:   DEPRECATED FEATURE: `client_fn` now expects a signature `def client_fn(context: Context)`.The provided `client_fn` has signature: {'cid': <Parameter \"cid: str\">}. You can import the `Context` like this: `from flwr.common import Context`\n",
      "\u001b[36m(ClientAppActor pid=263068)\u001b[0m             This is a deprecated feature. It will be removed\n",
      "\u001b[36m(ClientAppActor pid=263068)\u001b[0m             entirely in future versions of Flower.\n",
      "Testing:   0%|          | 0/83 [00:00<?, ?it/s]\n"
     ]
    },
    {
     "name": "stdout",
     "output_type": "stream",
     "text": [
      "\u001b[36m(ClientAppActor pid=263068)\u001b[0m [Client 10] Starting evaluation...\n"
     ]
    },
    {
     "name": "stderr",
     "output_type": "stream",
     "text": [
      "Testing:  10%|▉         | 8/83 [00:00<00:01, 72.97it/s]\n",
      "Testing:  19%|█▉        | 16/83 [00:00<00:00, 72.11it/s]\n",
      "Testing:  33%|███▎      | 27/83 [00:00<00:00, 87.79it/s]\n",
      "Testing:  67%|██████▋   | 56/83 [00:00<00:00, 162.30it/s]\n",
      "Testing: 100%|██████████| 83/83 [00:00<00:00, 162.65it/s]\n"
     ]
    },
    {
     "name": "stdout",
     "output_type": "stream",
     "text": [
      "\u001b[36m(ClientAppActor pid=263068)\u001b[0m ✅ [Client 10] Evaluation results - Loss: 2.4847, Accuracy: 0.1851\n",
      "\u001b[36m(ClientAppActor pid=263069)\u001b[0m [Client 9] Starting evaluation...\n"
     ]
    },
    {
     "name": "stderr",
     "output_type": "stream",
     "text": [
      "\u001b[36m(ClientAppActor pid=263069)\u001b[0m \u001b[93mWARNING \u001b[0m:   DEPRECATED FEATURE: `client_fn` now expects a signature `def client_fn(context: Context)`.The provided `client_fn` has signature: {'cid': <Parameter \"cid: str\">}. You can import the `Context` like this: `from flwr.common import Context`\n",
      "\u001b[36m(ClientAppActor pid=263069)\u001b[0m \n",
      "\u001b[36m(ClientAppActor pid=263069)\u001b[0m             This is a deprecated feature. It will be removed\n",
      "\u001b[36m(ClientAppActor pid=263069)\u001b[0m             entirely in future versions of Flower.\n",
      "\u001b[36m(ClientAppActor pid=263069)\u001b[0m         \n",
      "Testing:   0%|          | 0/92 [00:00<?, ?it/s]\n",
      "Testing:   8%|▊         | 7/92 [00:00<00:01, 69.70it/s]\n",
      "Testing:  16%|█▋        | 15/92 [00:00<00:01, 38.88it/s]\n",
      "Testing:  52%|█████▏    | 48/92 [00:00<00:00, 125.57it/s]\n"
     ]
    },
    {
     "name": "stdout",
     "output_type": "stream",
     "text": [
      "\u001b[36m(ClientAppActor pid=263069)\u001b[0m ✅ [Client 9] Evaluation results - Loss: 2.4846, Accuracy: 0.0220\n"
     ]
    },
    {
     "name": "stderr",
     "output_type": "stream",
     "text": [
      "Testing: 100%|██████████| 92/92 [00:00<00:00, 155.09it/s]\n",
      "\u001b[36m(ClientAppActor pid=263068)\u001b[0m \n",
      "\u001b[36m(ClientAppActor pid=263068)\u001b[0m         \n",
      "\u001b[36m(ClientAppActor pid=263068)\u001b[0m \u001b[93mWARNING \u001b[0m:   DEPRECATED FEATURE: `client_fn` now expects a signature `def client_fn(context: Context)`.The provided `client_fn` has signature: {'cid': <Parameter \"cid: str\">}. You can import the `Context` like this: `from flwr.common import Context`\n",
      "\u001b[36m(ClientAppActor pid=263068)\u001b[0m             This is a deprecated feature. It will be removed\n",
      "\u001b[36m(ClientAppActor pid=263068)\u001b[0m             entirely in future versions of Flower.\n",
      "Testing:   0%|          | 0/93 [00:00<?, ?it/s]\n"
     ]
    },
    {
     "name": "stdout",
     "output_type": "stream",
     "text": [
      "\u001b[36m(ClientAppActor pid=263068)\u001b[0m [Client 1] Starting evaluation...\n"
     ]
    },
    {
     "name": "stderr",
     "output_type": "stream",
     "text": [
      "Testing:   9%|▊         | 8/93 [00:00<00:01, 71.29it/s]\n",
      "Testing:  17%|█▋        | 16/93 [00:00<00:01, 73.42it/s]\n",
      "Testing:  26%|██▌       | 24/93 [00:00<00:01, 68.22it/s]\n",
      "Testing:  47%|████▋     | 44/93 [00:00<00:00, 114.78it/s]\n",
      "\u001b[92mINFO \u001b[0m:      aggregate_evaluate: received 12 results and 0 failures\n",
      "\u001b[92mINFO \u001b[0m:      \n",
      "\u001b[92mINFO \u001b[0m:      [ROUND 10]\n",
      "\u001b[92mINFO \u001b[0m:      configure_fit: strategy sampled 6 clients (out of 12)\n",
      "\u001b[92mINFO \u001b[0m:      aggregate_fit: received 0 results and 6 failures\n",
      "Testing: 100%|██████████| 93/93 [00:00<00:00, 155.80it/s]\n"
     ]
    },
    {
     "name": "stdout",
     "output_type": "stream",
     "text": [
      "✅ --- Server received 12 evaluation results in round 9 ---\n",
      "✅ --- Pareto selection for round 10 chose clients: ['9722077455151739340', '14315934176059193381', '3343832528087936700', '15100500063491518048', '17572866915993216550', '2884736955283487405'] ---\n",
      "\u001b[36m(ClientAppActor pid=263068)\u001b[0m ✅ [Client 1] Evaluation results - Loss: 2.4840, Accuracy: 0.1559\n"
     ]
    },
    {
     "name": "stderr",
     "output_type": "stream",
     "text": [
      "Testing: 100%|██████████| 91/91 [00:00<00:00, 260.44it/s]\n",
      "\u001b[92mINFO \u001b[0m:      fit progress: (10, 2.484785108775883, {'accuracy': 0.19553169379979218}, 969.9367985939989)\n",
      "\u001b[92mINFO \u001b[0m:      configure_evaluate: strategy sampled 12 clients (out of 12)\n"
     ]
    },
    {
     "name": "stdout",
     "output_type": "stream",
     "text": [
      "============================================================\n",
      "✅ ROUND 10 SUMMARY - Global Model Performance:\n",
      "   Loss: 2.4848 | Accuracy: 0.1955\n",
      "============================================================\n"
     ]
    },
    {
     "name": "stderr",
     "output_type": "stream",
     "text": [
      "\u001b[36m(ClientAppActor pid=263068)\u001b[0m \u001b[93mWARNING \u001b[0m:   DEPRECATED FEATURE: `client_fn` now expects a signature `def client_fn(context: Context)`.The provided `client_fn` has signature: {'cid': <Parameter \"cid: str\">}. You can import the `Context` like this: `from flwr.common import Context`\n",
      "\u001b[36m(ClientAppActor pid=263068)\u001b[0m \n",
      "\u001b[36m(ClientAppActor pid=263068)\u001b[0m             This is a deprecated feature. It will be removed\n",
      "\u001b[36m(ClientAppActor pid=263068)\u001b[0m             entirely in future versions of Flower.\n",
      "\u001b[36m(ClientAppActor pid=263068)\u001b[0m         \n",
      "Testing:   0%|          | 0/95 [00:00<?, ?it/s]\n",
      "Testing:   7%|▋         | 7/95 [00:00<00:01, 69.84it/s]\n"
     ]
    },
    {
     "name": "stdout",
     "output_type": "stream",
     "text": [
      "\u001b[36m(ClientAppActor pid=263068)\u001b[0m [Client 3] Starting evaluation...\n"
     ]
    },
    {
     "name": "stderr",
     "output_type": "stream",
     "text": [
      "Testing:  16%|█▌        | 15/95 [00:00<00:01, 69.86it/s]\n",
      "Testing:  23%|██▎       | 22/95 [00:00<00:01, 65.26it/s]\n",
      "Testing:  62%|██████▏   | 59/95 [00:00<00:00, 176.79it/s]\n",
      "Testing:  92%|█████████▏| 87/95 [00:00<00:00, 210.50it/s]\n",
      "Testing: 100%|██████████| 95/95 [00:00<00:00, 170.83it/s]\n"
     ]
    },
    {
     "name": "stdout",
     "output_type": "stream",
     "text": [
      "\u001b[36m(ClientAppActor pid=263068)\u001b[0m ✅ [Client 3] Evaluation results - Loss: 2.4835, Accuracy: 0.1103\n",
      "\u001b[36m(ClientAppActor pid=263069)\u001b[0m [Client 7] Starting evaluation...\n"
     ]
    },
    {
     "name": "stderr",
     "output_type": "stream",
     "text": [
      "\u001b[36m(ClientAppActor pid=263069)\u001b[0m \n",
      "\u001b[36m(ClientAppActor pid=263069)\u001b[0m         \n",
      "Testing:   0%|          | 0/91 [00:00<?, ?it/s]\n",
      "\u001b[36m(ClientAppActor pid=263069)\u001b[0m \u001b[93mWARNING \u001b[0m:   DEPRECATED FEATURE: `client_fn` now expects a signature `def client_fn(context: Context)`.The provided `client_fn` has signature: {'cid': <Parameter \"cid: str\">}. You can import the `Context` like this: `from flwr.common import Context`\n",
      "\u001b[36m(ClientAppActor pid=263069)\u001b[0m             This is a deprecated feature. It will be removed\n",
      "\u001b[36m(ClientAppActor pid=263069)\u001b[0m             entirely in future versions of Flower.\n",
      "Testing:   8%|▊         | 7/91 [00:00<00:01, 68.09it/s]\n",
      "Testing:  15%|█▌        | 14/91 [00:00<00:01, 69.09it/s]\n",
      "Testing:  23%|██▎       | 21/91 [00:00<00:01, 64.53it/s]\n",
      "Testing:  46%|████▌     | 42/91 [00:00<00:00, 118.41it/s]\n",
      "Testing:  71%|███████▏  | 65/91 [00:00<00:00, 156.16it/s]\n"
     ]
    },
    {
     "name": "stdout",
     "output_type": "stream",
     "text": [
      "\u001b[36m(ClientAppActor pid=263069)\u001b[0m ✅ [Client 7] Evaluation results - Loss: 2.4845, Accuracy: 0.0372\n"
     ]
    },
    {
     "name": "stderr",
     "output_type": "stream",
     "text": [
      "Testing: 100%|██████████| 91/91 [00:00<00:00, 151.25it/s]\n",
      "\u001b[36m(ClientAppActor pid=263068)\u001b[0m \u001b[93mWARNING \u001b[0m:   DEPRECATED FEATURE: `client_fn` now expects a signature `def client_fn(context: Context)`.The provided `client_fn` has signature: {'cid': <Parameter \"cid: str\">}. You can import the `Context` like this: `from flwr.common import Context`\n",
      "\u001b[36m(ClientAppActor pid=263068)\u001b[0m \n",
      "\u001b[36m(ClientAppActor pid=263068)\u001b[0m             This is a deprecated feature. It will be removed\n",
      "\u001b[36m(ClientAppActor pid=263068)\u001b[0m             entirely in future versions of Flower.\n",
      "\u001b[36m(ClientAppActor pid=263068)\u001b[0m         \n",
      "Testing:   0%|          | 0/95 [00:00<?, ?it/s]\n",
      "Testing:   7%|▋         | 7/95 [00:00<00:01, 68.29it/s]\n"
     ]
    },
    {
     "name": "stdout",
     "output_type": "stream",
     "text": [
      "\u001b[36m(ClientAppActor pid=263068)\u001b[0m [Client 5] Starting evaluation...\n"
     ]
    },
    {
     "name": "stderr",
     "output_type": "stream",
     "text": [
      "Testing:  15%|█▍        | 14/95 [00:00<00:01, 67.05it/s]\n",
      "Testing:  22%|██▏       | 21/95 [00:00<00:01, 67.99it/s]\n",
      "Testing:  59%|█████▉    | 56/95 [00:00<00:00, 175.79it/s]\n",
      "Testing:  88%|████████▊ | 84/95 [00:00<00:00, 211.97it/s]\n",
      "Testing: 100%|██████████| 95/95 [00:00<00:00, 173.90it/s]\n"
     ]
    },
    {
     "name": "stdout",
     "output_type": "stream",
     "text": [
      "\u001b[36m(ClientAppActor pid=263068)\u001b[0m ✅ [Client 5] Evaluation results - Loss: 2.4855, Accuracy: 0.0078\n"
     ]
    },
    {
     "name": "stderr",
     "output_type": "stream",
     "text": [
      "\u001b[36m(ClientAppActor pid=263069)\u001b[0m \n",
      "\u001b[36m(ClientAppActor pid=263069)\u001b[0m         \n",
      "\u001b[36m(ClientAppActor pid=263069)\u001b[0m \u001b[93mWARNING \u001b[0m:   DEPRECATED FEATURE: `client_fn` now expects a signature `def client_fn(context: Context)`.The provided `client_fn` has signature: {'cid': <Parameter \"cid: str\">}. You can import the `Context` like this: `from flwr.common import Context`\n",
      "\u001b[36m(ClientAppActor pid=263069)\u001b[0m             This is a deprecated feature. It will be removed\n",
      "\u001b[36m(ClientAppActor pid=263069)\u001b[0m             entirely in future versions of Flower.\n",
      "Testing:   0%|          | 0/93 [00:00<?, ?it/s]\n"
     ]
    },
    {
     "name": "stdout",
     "output_type": "stream",
     "text": [
      "\u001b[36m(ClientAppActor pid=263069)\u001b[0m [Client 4] Starting evaluation...\n"
     ]
    },
    {
     "name": "stderr",
     "output_type": "stream",
     "text": [
      "Testing:   9%|▊         | 8/93 [00:00<00:01, 71.09it/s]\n",
      "Testing:  17%|█▋        | 16/93 [00:00<00:01, 66.22it/s]\n",
      "Testing:  25%|██▍       | 23/93 [00:00<00:01, 59.98it/s]\n",
      "Testing:  48%|████▊     | 45/93 [00:00<00:00, 113.81it/s]\n",
      "Testing:  81%|████████  | 75/93 [00:00<00:00, 173.76it/s]\n",
      "Testing: 100%|██████████| 93/93 [00:00<00:00, 141.19it/s]\n"
     ]
    },
    {
     "name": "stdout",
     "output_type": "stream",
     "text": [
      "\u001b[36m(ClientAppActor pid=263069)\u001b[0m ✅ [Client 4] Evaluation results - Loss: 2.4843, Accuracy: 0.0137\n"
     ]
    },
    {
     "name": "stderr",
     "output_type": "stream",
     "text": [
      "\u001b[36m(ClientAppActor pid=263068)\u001b[0m \u001b[93mWARNING \u001b[0m:   DEPRECATED FEATURE: `client_fn` now expects a signature `def client_fn(context: Context)`.The provided `client_fn` has signature: {'cid': <Parameter \"cid: str\">}. You can import the `Context` like this: `from flwr.common import Context`\n",
      "\u001b[36m(ClientAppActor pid=263068)\u001b[0m \n",
      "\u001b[36m(ClientAppActor pid=263068)\u001b[0m             This is a deprecated feature. It will be removed\n",
      "\u001b[36m(ClientAppActor pid=263068)\u001b[0m             entirely in future versions of Flower.\n",
      "\u001b[36m(ClientAppActor pid=263068)\u001b[0m         \n",
      "Testing:   0%|          | 0/92 [00:00<?, ?it/s]\n"
     ]
    },
    {
     "name": "stdout",
     "output_type": "stream",
     "text": [
      "\u001b[36m(ClientAppActor pid=263068)\u001b[0m [Client 9] Starting evaluation...\n"
     ]
    },
    {
     "name": "stderr",
     "output_type": "stream",
     "text": [
      "Testing:   8%|▊         | 7/92 [00:00<00:01, 68.00it/s]\n",
      "Testing:  16%|█▋        | 15/92 [00:00<00:01, 54.02it/s]\n",
      "Testing:  40%|████      | 37/92 [00:00<00:00, 115.17it/s]\n",
      "Testing:  74%|███████▍  | 68/92 [00:00<00:00, 181.05it/s]\n",
      "Testing: 100%|██████████| 92/92 [00:00<00:00, 169.72it/s]\n"
     ]
    },
    {
     "name": "stdout",
     "output_type": "stream",
     "text": [
      "\u001b[36m(ClientAppActor pid=263068)\u001b[0m ✅ [Client 9] Evaluation results - Loss: 2.4846, Accuracy: 0.0220\n",
      "\u001b[36m(ClientAppActor pid=263069)\u001b[0m [Client 8] Starting evaluation...\n"
     ]
    },
    {
     "name": "stderr",
     "output_type": "stream",
     "text": [
      "\u001b[36m(ClientAppActor pid=263069)\u001b[0m \n",
      "\u001b[36m(ClientAppActor pid=263069)\u001b[0m         \n",
      "\u001b[36m(ClientAppActor pid=263069)\u001b[0m \u001b[93mWARNING \u001b[0m:   DEPRECATED FEATURE: `client_fn` now expects a signature `def client_fn(context: Context)`.The provided `client_fn` has signature: {'cid': <Parameter \"cid: str\">}. You can import the `Context` like this: `from flwr.common import Context`\n",
      "\u001b[36m(ClientAppActor pid=263069)\u001b[0m             This is a deprecated feature. It will be removed\n",
      "\u001b[36m(ClientAppActor pid=263069)\u001b[0m             entirely in future versions of Flower.\n",
      "Testing:   0%|          | 0/91 [00:00<?, ?it/s]\n",
      "Testing:   8%|▊         | 7/91 [00:00<00:01, 66.50it/s]\n",
      "Testing:  15%|█▌        | 14/91 [00:00<00:01, 63.26it/s]\n",
      "Testing:  23%|██▎       | 21/91 [00:00<00:01, 63.73it/s]\n",
      "Testing:  58%|█████▊    | 53/91 [00:00<00:00, 157.65it/s]\n",
      "Testing: 100%|██████████| 91/91 [00:00<00:00, 156.15it/s]\n"
     ]
    },
    {
     "name": "stdout",
     "output_type": "stream",
     "text": [
      "\u001b[36m(ClientAppActor pid=263069)\u001b[0m ✅ [Client 8] Evaluation results - Loss: 2.4832, Accuracy: 0.0880\n"
     ]
    },
    {
     "name": "stderr",
     "output_type": "stream",
     "text": [
      "\u001b[36m(ClientAppActor pid=263068)\u001b[0m \u001b[93mWARNING \u001b[0m:   DEPRECATED FEATURE: `client_fn` now expects a signature `def client_fn(context: Context)`.The provided `client_fn` has signature: {'cid': <Parameter \"cid: str\">}. You can import the `Context` like this: `from flwr.common import Context`\n",
      "\u001b[36m(ClientAppActor pid=263068)\u001b[0m \n",
      "\u001b[36m(ClientAppActor pid=263068)\u001b[0m             This is a deprecated feature. It will be removed\n",
      "\u001b[36m(ClientAppActor pid=263068)\u001b[0m             entirely in future versions of Flower.\n",
      "\u001b[36m(ClientAppActor pid=263068)\u001b[0m         \n",
      "Testing:   0%|          | 0/83 [00:00<?, ?it/s]\n",
      "Testing:   8%|▊         | 7/83 [00:00<00:01, 62.64it/s]\n"
     ]
    },
    {
     "name": "stdout",
     "output_type": "stream",
     "text": [
      "\u001b[36m(ClientAppActor pid=263068)\u001b[0m [Client 10] Starting evaluation...\n"
     ]
    },
    {
     "name": "stderr",
     "output_type": "stream",
     "text": [
      "Testing:  17%|█▋        | 14/83 [00:00<00:01, 62.90it/s]\n",
      "Testing:  27%|██▋       | 22/83 [00:00<00:00, 69.73it/s]\n",
      "Testing:  67%|██████▋   | 56/83 [00:00<00:00, 170.95it/s]\n",
      "Testing:  92%|█████████▏| 76/83 [00:00<00:00, 178.37it/s]\n",
      "Testing: 100%|██████████| 83/83 [00:00<00:00, 148.74it/s]\n"
     ]
    },
    {
     "name": "stdout",
     "output_type": "stream",
     "text": [
      "\u001b[36m(ClientAppActor pid=263068)\u001b[0m ✅ [Client 10] Evaluation results - Loss: 2.4847, Accuracy: 0.1851\n",
      "\u001b[36m(ClientAppActor pid=263069)\u001b[0m [Client 6] Starting evaluation...\n"
     ]
    },
    {
     "name": "stderr",
     "output_type": "stream",
     "text": [
      "\u001b[36m(ClientAppActor pid=263069)\u001b[0m \n",
      "\u001b[36m(ClientAppActor pid=263069)\u001b[0m         \n",
      "\u001b[36m(ClientAppActor pid=263069)\u001b[0m \u001b[93mWARNING \u001b[0m:   DEPRECATED FEATURE: `client_fn` now expects a signature `def client_fn(context: Context)`.The provided `client_fn` has signature: {'cid': <Parameter \"cid: str\">}. You can import the `Context` like this: `from flwr.common import Context`\n",
      "\u001b[36m(ClientAppActor pid=263069)\u001b[0m             This is a deprecated feature. It will be removed\n",
      "\u001b[36m(ClientAppActor pid=263069)\u001b[0m             entirely in future versions of Flower.\n",
      "Testing:   0%|          | 0/98 [00:00<?, ?it/s]\n",
      "Testing:   8%|▊         | 8/98 [00:00<00:01, 72.24it/s]\n",
      "Testing:  16%|█▋        | 16/98 [00:00<00:01, 71.00it/s]\n",
      "Testing:  24%|██▍       | 24/98 [00:00<00:01, 69.61it/s]\n",
      "Testing:  58%|█████▊    | 57/98 [00:00<00:00, 162.32it/s]\n"
     ]
    },
    {
     "name": "stdout",
     "output_type": "stream",
     "text": [
      "\u001b[36m(ClientAppActor pid=263069)\u001b[0m ✅ [Client 6] Evaluation results - Loss: 2.4845, Accuracy: 0.0079\n"
     ]
    },
    {
     "name": "stderr",
     "output_type": "stream",
     "text": [
      "Testing: 100%|██████████| 98/98 [00:00<00:00, 166.16it/s]\n",
      "\u001b[36m(ClientAppActor pid=263068)\u001b[0m \u001b[93mWARNING \u001b[0m:   DEPRECATED FEATURE: `client_fn` now expects a signature `def client_fn(context: Context)`.The provided `client_fn` has signature: {'cid': <Parameter \"cid: str\">}. You can import the `Context` like this: `from flwr.common import Context`\n",
      "\u001b[36m(ClientAppActor pid=263068)\u001b[0m \n",
      "\u001b[36m(ClientAppActor pid=263068)\u001b[0m             This is a deprecated feature. It will be removed\n",
      "\u001b[36m(ClientAppActor pid=263068)\u001b[0m             entirely in future versions of Flower.\n",
      "\u001b[36m(ClientAppActor pid=263068)\u001b[0m         \n",
      "Testing:   0%|          | 0/93 [00:00<?, ?it/s]\n"
     ]
    },
    {
     "name": "stdout",
     "output_type": "stream",
     "text": [
      "\u001b[36m(ClientAppActor pid=263068)\u001b[0m [Client 1] Starting evaluation...\n"
     ]
    },
    {
     "name": "stderr",
     "output_type": "stream",
     "text": [
      "Testing:   8%|▊         | 7/93 [00:00<00:01, 69.65it/s]\n",
      "Testing:  16%|█▌        | 15/93 [00:00<00:01, 73.50it/s]\n",
      "Testing:  25%|██▍       | 23/93 [00:00<00:01, 62.55it/s]\n",
      "Testing:  58%|█████▊    | 54/93 [00:00<00:00, 146.21it/s]\n",
      "Testing: 100%|██████████| 93/93 [00:00<00:00, 162.37it/s]\n"
     ]
    },
    {
     "name": "stdout",
     "output_type": "stream",
     "text": [
      "\u001b[36m(ClientAppActor pid=263068)\u001b[0m ✅ [Client 1] Evaluation results - Loss: 2.4840, Accuracy: 0.1559\n"
     ]
    },
    {
     "name": "stderr",
     "output_type": "stream",
     "text": [
      "\u001b[36m(ClientAppActor pid=263069)\u001b[0m \n",
      "\u001b[36m(ClientAppActor pid=263069)\u001b[0m         \n",
      "\u001b[36m(ClientAppActor pid=263069)\u001b[0m \u001b[93mWARNING \u001b[0m:   DEPRECATED FEATURE: `client_fn` now expects a signature `def client_fn(context: Context)`.The provided `client_fn` has signature: {'cid': <Parameter \"cid: str\">}. You can import the `Context` like this: `from flwr.common import Context`\n",
      "\u001b[36m(ClientAppActor pid=263069)\u001b[0m             This is a deprecated feature. It will be removed\n",
      "\u001b[36m(ClientAppActor pid=263069)\u001b[0m             entirely in future versions of Flower.\n",
      "Testing:   0%|          | 0/93 [00:00<?, ?it/s]\n",
      "Testing:   8%|▊         | 7/93 [00:00<00:01, 69.74it/s]\n"
     ]
    },
    {
     "name": "stdout",
     "output_type": "stream",
     "text": [
      "\u001b[36m(ClientAppActor pid=263069)\u001b[0m [Client 2] Starting evaluation...\n"
     ]
    },
    {
     "name": "stderr",
     "output_type": "stream",
     "text": [
      "Testing:  16%|█▌        | 15/93 [00:00<00:01, 69.94it/s]\n"
     ]
    },
    {
     "name": "stdout",
     "output_type": "stream",
     "text": [
      "\u001b[36m(ClientAppActor pid=263069)\u001b[0m ✅ [Client 2] Evaluation results - Loss: 2.4850, Accuracy: 0.0059\n"
     ]
    },
    {
     "name": "stderr",
     "output_type": "stream",
     "text": [
      "Testing: 100%|██████████| 93/93 [00:00<00:00, -515.63it/s]\n",
      "\u001b[36m(ClientAppActor pid=263068)\u001b[0m \u001b[93mWARNING \u001b[0m:   DEPRECATED FEATURE: `client_fn` now expects a signature `def client_fn(context: Context)`.The provided `client_fn` has signature: {'cid': <Parameter \"cid: str\">}. You can import the `Context` like this: `from flwr.common import Context`\n",
      "\u001b[36m(ClientAppActor pid=263068)\u001b[0m \n",
      "\u001b[36m(ClientAppActor pid=263068)\u001b[0m             This is a deprecated feature. It will be removed\n",
      "\u001b[36m(ClientAppActor pid=263068)\u001b[0m             entirely in future versions of Flower.\n",
      "\u001b[36m(ClientAppActor pid=263068)\u001b[0m         \n",
      "Testing:   0%|          | 0/91 [00:00<?, ?it/s]\n",
      "Testing:   9%|▉         | 8/91 [00:00<00:01, 74.07it/s]\n"
     ]
    },
    {
     "name": "stdout",
     "output_type": "stream",
     "text": [
      "\u001b[36m(ClientAppActor pid=263068)\u001b[0m [Client 11] Starting evaluation...\n"
     ]
    },
    {
     "name": "stderr",
     "output_type": "stream",
     "text": [
      "Testing:  18%|█▊        | 16/91 [00:00<00:01, 69.80it/s]\n",
      "Testing:  25%|██▌       | 23/91 [00:00<00:01, 67.44it/s]\n",
      "Testing:  67%|██████▋   | 61/91 [00:00<00:00, 181.08it/s]\n",
      "Testing: 100%|██████████| 91/91 [00:00<00:00, 169.77it/s]\n"
     ]
    },
    {
     "name": "stdout",
     "output_type": "stream",
     "text": [
      "\u001b[36m(ClientAppActor pid=263068)\u001b[0m ✅ [Client 11] Evaluation results - Loss: 2.4848, Accuracy: 0.1955\n",
      "\u001b[36m(ClientAppActor pid=263069)\u001b[0m [Client 0] Starting evaluation...\n"
     ]
    },
    {
     "name": "stderr",
     "output_type": "stream",
     "text": [
      "\u001b[36m(ClientAppActor pid=263069)\u001b[0m \n",
      "\u001b[36m(ClientAppActor pid=263069)\u001b[0m         \n",
      "Testing:   0%|          | 0/93 [00:00<?, ?it/s]\n",
      "\u001b[36m(ClientAppActor pid=263069)\u001b[0m \u001b[93mWARNING \u001b[0m:   DEPRECATED FEATURE: `client_fn` now expects a signature `def client_fn(context: Context)`.The provided `client_fn` has signature: {'cid': <Parameter \"cid: str\">}. You can import the `Context` like this: `from flwr.common import Context`\n",
      "\u001b[36m(ClientAppActor pid=263069)\u001b[0m             This is a deprecated feature. It will be removed\n",
      "\u001b[36m(ClientAppActor pid=263069)\u001b[0m             entirely in future versions of Flower.\n",
      "Testing:   8%|▊         | 7/93 [00:00<00:01, 68.65it/s]\n",
      "Testing:  16%|█▌        | 15/93 [00:00<00:01, 69.13it/s]\n",
      "Testing:  40%|███▉      | 37/93 [00:00<00:00, 132.47it/s]\n",
      "Testing:  71%|███████   | 66/93 [00:00<00:00, 191.71it/s]\n",
      "\u001b[92mINFO \u001b[0m:      aggregate_evaluate: received 12 results and 0 failures\n",
      "\u001b[92mINFO \u001b[0m:      \n",
      "\u001b[92mINFO \u001b[0m:      [ROUND 11]\n",
      "\u001b[92mINFO \u001b[0m:      configure_fit: strategy sampled 6 clients (out of 12)\n",
      "\u001b[92mINFO \u001b[0m:      aggregate_fit: received 0 results and 6 failures\n"
     ]
    },
    {
     "name": "stdout",
     "output_type": "stream",
     "text": [
      "✅ --- Server received 12 evaluation results in round 10 ---\n",
      "✅ --- Pareto selection for round 11 chose clients: ['9722077455151739340', '7288326149512088850', '14315934176059193381', '15100500063491518048', '7221885320893359682', '3343832528087936700'] ---\n"
     ]
    },
    {
     "name": "stderr",
     "output_type": "stream",
     "text": [
      "Testing: 100%|██████████| 93/93 [00:00<00:00, 173.06it/s]ntAppActor pid=263069)\u001b[0m \n",
      "Testing:  25%|██▌       | 23/91 [00:00<00:00, 228.38it/s]"
     ]
    },
    {
     "name": "stdout",
     "output_type": "stream",
     "text": [
      "\u001b[36m(ClientAppActor pid=263069)\u001b[0m ✅ [Client 0] Evaluation results - Loss: 2.4839, Accuracy: 0.1977\n"
     ]
    },
    {
     "name": "stderr",
     "output_type": "stream",
     "text": [
      "Testing: 100%|██████████| 91/91 [00:00<00:00, 242.51it/s]\n",
      "\u001b[92mINFO \u001b[0m:      fit progress: (11, 2.484785108775883, {'accuracy': 0.19553169379979218}, 1070.3969124649993)\n",
      "\u001b[92mINFO \u001b[0m:      configure_evaluate: strategy sampled 12 clients (out of 12)\n"
     ]
    },
    {
     "name": "stdout",
     "output_type": "stream",
     "text": [
      "============================================================\n",
      "✅ ROUND 11 SUMMARY - Global Model Performance:\n",
      "   Loss: 2.4848 | Accuracy: 0.1955\n",
      "============================================================\n"
     ]
    },
    {
     "name": "stderr",
     "output_type": "stream",
     "text": [
      "\u001b[36m(ClientAppActor pid=263069)\u001b[0m \u001b[93mWARNING \u001b[0m:   DEPRECATED FEATURE: `client_fn` now expects a signature `def client_fn(context: Context)`.The provided `client_fn` has signature: {'cid': <Parameter \"cid: str\">}. You can import the `Context` like this: `from flwr.common import Context`\n",
      "\u001b[36m(ClientAppActor pid=263069)\u001b[0m \n",
      "\u001b[36m(ClientAppActor pid=263069)\u001b[0m             This is a deprecated feature. It will be removed\n",
      "\u001b[36m(ClientAppActor pid=263069)\u001b[0m             entirely in future versions of Flower.\n",
      "\u001b[36m(ClientAppActor pid=263069)\u001b[0m         \n",
      "Testing:   0%|          | 0/95 [00:00<?, ?it/s]\n"
     ]
    },
    {
     "name": "stdout",
     "output_type": "stream",
     "text": [
      "\u001b[36m(ClientAppActor pid=263069)\u001b[0m [Client 5] Starting evaluation...\n"
     ]
    },
    {
     "name": "stderr",
     "output_type": "stream",
     "text": [
      "Testing:   7%|▋         | 7/95 [00:00<00:01, 69.68it/s]\n",
      "Testing:  15%|█▍        | 14/95 [00:00<00:01, 61.48it/s]\n",
      "Testing:  39%|███▉      | 37/95 [00:00<00:00, 132.06it/s]\n",
      "Testing:  67%|██████▋   | 64/95 [00:00<00:00, 182.48it/s]\n"
     ]
    },
    {
     "name": "stdout",
     "output_type": "stream",
     "text": [
      "\u001b[36m(ClientAppActor pid=263069)\u001b[0m ✅ [Client 5] Evaluation results - Loss: 2.4855, Accuracy: 0.0078\n"
     ]
    },
    {
     "name": "stderr",
     "output_type": "stream",
     "text": [
      "Testing: 100%|██████████| 95/95 [00:00<00:00, 180.42it/s]\n",
      "\u001b[36m(ClientAppActor pid=263068)\u001b[0m \n",
      "\u001b[36m(ClientAppActor pid=263068)\u001b[0m         \n",
      "\u001b[36m(ClientAppActor pid=263068)\u001b[0m \u001b[93mWARNING \u001b[0m:   DEPRECATED FEATURE: `client_fn` now expects a signature `def client_fn(context: Context)`.The provided `client_fn` has signature: {'cid': <Parameter \"cid: str\">}. You can import the `Context` like this: `from flwr.common import Context`\n",
      "\u001b[36m(ClientAppActor pid=263068)\u001b[0m             This is a deprecated feature. It will be removed\n",
      "\u001b[36m(ClientAppActor pid=263068)\u001b[0m             entirely in future versions of Flower.\n",
      "Testing:   0%|          | 0/93 [00:00<?, ?it/s]\n",
      "Testing:   8%|▊         | 7/93 [00:00<00:01, 69.40it/s]\n"
     ]
    },
    {
     "name": "stdout",
     "output_type": "stream",
     "text": [
      "\u001b[36m(ClientAppActor pid=263068)\u001b[0m [Client 2] Starting evaluation...\n"
     ]
    },
    {
     "name": "stderr",
     "output_type": "stream",
     "text": [
      "Testing:  16%|█▌        | 15/93 [00:00<00:01, 74.24it/s]\n",
      "Testing:  25%|██▍       | 23/93 [00:00<00:00, 72.94it/s]\n",
      "Testing:  49%|████▉     | 46/93 [00:00<00:00, 132.38it/s]\n",
      "Testing:  76%|███████▋  | 71/93 [00:00<00:00, 171.52it/s]\n",
      "Testing: 100%|██████████| 93/93 [00:00<00:00, 156.24it/s]\n"
     ]
    },
    {
     "name": "stdout",
     "output_type": "stream",
     "text": [
      "\u001b[36m(ClientAppActor pid=263068)\u001b[0m ✅ [Client 2] Evaluation results - Loss: 2.4850, Accuracy: 0.0059\n",
      "\u001b[36m(ClientAppActor pid=263069)\u001b[0m [Client 3] Starting evaluation...\n"
     ]
    },
    {
     "name": "stderr",
     "output_type": "stream",
     "text": [
      "\u001b[36m(ClientAppActor pid=263069)\u001b[0m \u001b[93mWARNING \u001b[0m:   DEPRECATED FEATURE: `client_fn` now expects a signature `def client_fn(context: Context)`.The provided `client_fn` has signature: {'cid': <Parameter \"cid: str\">}. You can import the `Context` like this: `from flwr.common import Context`\n",
      "\u001b[36m(ClientAppActor pid=263069)\u001b[0m \n",
      "\u001b[36m(ClientAppActor pid=263069)\u001b[0m             This is a deprecated feature. It will be removed\n",
      "\u001b[36m(ClientAppActor pid=263069)\u001b[0m             entirely in future versions of Flower.\n",
      "\u001b[36m(ClientAppActor pid=263069)\u001b[0m         \n",
      "Testing:   7%|▋         | 7/95 [00:00<00:01, 69.97it/s]\n",
      "Testing:  15%|█▍        | 14/95 [00:00<00:01, 66.84it/s]\n",
      "Testing:  31%|███       | 29/95 [00:00<00:00, 102.83it/s]\n"
     ]
    },
    {
     "name": "stdout",
     "output_type": "stream",
     "text": [
      "\u001b[36m(ClientAppActor pid=263069)\u001b[0m ✅ [Client 3] Evaluation results - Loss: 2.4835, Accuracy: 0.1103\n"
     ]
    },
    {
     "name": "stderr",
     "output_type": "stream",
     "text": [
      "Testing: 100%|██████████| 95/95 [00:00<00:00, 194.61it/s]\n",
      "\u001b[36m(ClientAppActor pid=263068)\u001b[0m \n",
      "\u001b[36m(ClientAppActor pid=263068)\u001b[0m         \n",
      "Testing:   0%|          | 0/92 [00:00<?, ?it/s]\n",
      "\u001b[36m(ClientAppActor pid=263068)\u001b[0m \u001b[93mWARNING \u001b[0m:   DEPRECATED FEATURE: `client_fn` now expects a signature `def client_fn(context: Context)`.The provided `client_fn` has signature: {'cid': <Parameter \"cid: str\">}. You can import the `Context` like this: `from flwr.common import Context`\n",
      "\u001b[36m(ClientAppActor pid=263068)\u001b[0m             This is a deprecated feature. It will be removed\n",
      "\u001b[36m(ClientAppActor pid=263068)\u001b[0m             entirely in future versions of Flower.\n"
     ]
    },
    {
     "name": "stdout",
     "output_type": "stream",
     "text": [
      "\u001b[36m(ClientAppActor pid=263068)\u001b[0m [Client 9] Starting evaluation...\n"
     ]
    },
    {
     "name": "stderr",
     "output_type": "stream",
     "text": [
      "Testing:   9%|▊         | 8/92 [00:00<00:01, 69.55it/s]\n",
      "Testing:  17%|█▋        | 16/92 [00:00<00:01, 70.82it/s]\n",
      "Testing:  26%|██▌       | 24/92 [00:00<00:01, 65.40it/s]\n",
      "Testing:  57%|█████▋    | 52/92 [00:00<00:00, 138.26it/s]\n",
      "Testing: 100%|██████████| 92/92 [00:00<00:00, 158.76it/s]\n"
     ]
    },
    {
     "name": "stdout",
     "output_type": "stream",
     "text": [
      "\u001b[36m(ClientAppActor pid=263068)\u001b[0m ✅ [Client 9] Evaluation results - Loss: 2.4846, Accuracy: 0.0220\n"
     ]
    },
    {
     "name": "stderr",
     "output_type": "stream",
     "text": [
      "\u001b[36m(ClientAppActor pid=263069)\u001b[0m \u001b[93mWARNING \u001b[0m:   DEPRECATED FEATURE: `client_fn` now expects a signature `def client_fn(context: Context)`.The provided `client_fn` has signature: {'cid': <Parameter \"cid: str\">}. You can import the `Context` like this: `from flwr.common import Context`\n",
      "\u001b[36m(ClientAppActor pid=263069)\u001b[0m \n",
      "\u001b[36m(ClientAppActor pid=263069)\u001b[0m             This is a deprecated feature. It will be removed\n",
      "\u001b[36m(ClientAppActor pid=263069)\u001b[0m             entirely in future versions of Flower.\n",
      "\u001b[36m(ClientAppActor pid=263069)\u001b[0m         \n",
      "Testing:   0%|          | 0/91 [00:00<?, ?it/s]\n"
     ]
    },
    {
     "name": "stdout",
     "output_type": "stream",
     "text": [
      "\u001b[36m(ClientAppActor pid=263069)\u001b[0m [Client 7] Starting evaluation...\n"
     ]
    },
    {
     "name": "stderr",
     "output_type": "stream",
     "text": [
      "Testing:   5%|▌         | 5/91 [00:00<00:01, 49.06it/s]\n",
      "Testing:  11%|█         | 10/91 [00:00<00:02, 40.17it/s]\n",
      "Testing:  36%|███▋      | 33/91 [00:00<00:00, 115.50it/s]\n",
      "Testing:  57%|█████▋    | 52/91 [00:00<00:00, 141.98it/s]\n",
      "Testing:  87%|████████▋ | 79/91 [00:00<00:00, 184.09it/s]\n",
      "Testing: 100%|██████████| 91/91 [00:00<00:00, 153.32it/s]\n"
     ]
    },
    {
     "name": "stdout",
     "output_type": "stream",
     "text": [
      "\u001b[36m(ClientAppActor pid=263069)\u001b[0m ✅ [Client 7] Evaluation results - Loss: 2.4845, Accuracy: 0.0372\n"
     ]
    },
    {
     "name": "stderr",
     "output_type": "stream",
     "text": [
      "\u001b[36m(ClientAppActor pid=263068)\u001b[0m \n",
      "\u001b[36m(ClientAppActor pid=263068)\u001b[0m         \n",
      "\u001b[36m(ClientAppActor pid=263068)\u001b[0m \u001b[93mWARNING \u001b[0m:   DEPRECATED FEATURE: `client_fn` now expects a signature `def client_fn(context: Context)`.The provided `client_fn` has signature: {'cid': <Parameter \"cid: str\">}. You can import the `Context` like this: `from flwr.common import Context`\n",
      "\u001b[36m(ClientAppActor pid=263068)\u001b[0m             This is a deprecated feature. It will be removed\n",
      "\u001b[36m(ClientAppActor pid=263068)\u001b[0m             entirely in future versions of Flower.\n",
      "Testing:   0%|          | 0/91 [00:00<?, ?it/s]\n",
      "Testing:   9%|▉         | 8/91 [00:00<00:01, 70.28it/s]\n"
     ]
    },
    {
     "name": "stdout",
     "output_type": "stream",
     "text": [
      "\u001b[36m(ClientAppActor pid=263068)\u001b[0m [Client 8] Starting evaluation...\n"
     ]
    },
    {
     "name": "stderr",
     "output_type": "stream",
     "text": [
      "Testing:  18%|█▊        | 16/91 [00:00<00:01, 70.46it/s]\n",
      "Testing:  43%|████▎     | 39/91 [00:00<00:00, 137.26it/s]\n",
      "Testing:  80%|████████  | 73/91 [00:00<00:00, 212.41it/s]\n",
      "Testing: 100%|██████████| 91/91 [00:00<00:00, 184.49it/s]\n"
     ]
    },
    {
     "name": "stdout",
     "output_type": "stream",
     "text": [
      "\u001b[36m(ClientAppActor pid=263068)\u001b[0m ✅ [Client 8] Evaluation results - Loss: 2.4832, Accuracy: 0.0880\n"
     ]
    },
    {
     "name": "stderr",
     "output_type": "stream",
     "text": [
      "\u001b[36m(ClientAppActor pid=263069)\u001b[0m \u001b[93mWARNING \u001b[0m:   DEPRECATED FEATURE: `client_fn` now expects a signature `def client_fn(context: Context)`.The provided `client_fn` has signature: {'cid': <Parameter \"cid: str\">}. You can import the `Context` like this: `from flwr.common import Context`\n",
      "\u001b[36m(ClientAppActor pid=263069)\u001b[0m \n",
      "\u001b[36m(ClientAppActor pid=263069)\u001b[0m             This is a deprecated feature. It will be removed\n",
      "\u001b[36m(ClientAppActor pid=263069)\u001b[0m             entirely in future versions of Flower.\n",
      "\u001b[36m(ClientAppActor pid=263069)\u001b[0m         \n",
      "Testing:   0%|          | 0/91 [00:00<?, ?it/s]\n"
     ]
    },
    {
     "name": "stdout",
     "output_type": "stream",
     "text": [
      "\u001b[36m(ClientAppActor pid=263069)\u001b[0m [Client 11] Starting evaluation...\n"
     ]
    },
    {
     "name": "stderr",
     "output_type": "stream",
     "text": [
      "Testing:   9%|▉         | 8/91 [00:00<00:01, 71.84it/s]\n",
      "Testing:  18%|█▊        | 16/91 [00:00<00:01, 58.26it/s]\n",
      "Testing:  46%|████▌     | 42/91 [00:00<00:00, 132.98it/s]\n",
      "Testing:  73%|███████▎  | 66/91 [00:00<00:00, 170.02it/s]\n"
     ]
    },
    {
     "name": "stdout",
     "output_type": "stream",
     "text": [
      "\u001b[36m(ClientAppActor pid=263069)\u001b[0m ✅ [Client 11] Evaluation results - Loss: 2.4848, Accuracy: 0.1955\n"
     ]
    },
    {
     "name": "stderr",
     "output_type": "stream",
     "text": [
      "Testing: 100%|██████████| 91/91 [00:00<00:00, 167.85it/s]\n",
      "\u001b[36m(ClientAppActor pid=263068)\u001b[0m \n",
      "\u001b[36m(ClientAppActor pid=263068)\u001b[0m         \n",
      "\u001b[36m(ClientAppActor pid=263068)\u001b[0m \u001b[93mWARNING \u001b[0m:   DEPRECATED FEATURE: `client_fn` now expects a signature `def client_fn(context: Context)`.The provided `client_fn` has signature: {'cid': <Parameter \"cid: str\">}. You can import the `Context` like this: `from flwr.common import Context`\n",
      "\u001b[36m(ClientAppActor pid=263068)\u001b[0m             This is a deprecated feature. It will be removed\n",
      "\u001b[36m(ClientAppActor pid=263068)\u001b[0m             entirely in future versions of Flower.\n",
      "Testing:   0%|          | 0/93 [00:00<?, ?it/s]\n",
      "Testing:   8%|▊         | 7/93 [00:00<00:01, 68.75it/s]\n"
     ]
    },
    {
     "name": "stdout",
     "output_type": "stream",
     "text": [
      "\u001b[36m(ClientAppActor pid=263068)\u001b[0m [Client 4] Starting evaluation...\n"
     ]
    },
    {
     "name": "stderr",
     "output_type": "stream",
     "text": [
      "Testing:  15%|█▌        | 14/93 [00:00<00:01, 68.68it/s]\n",
      "Testing:  32%|███▏      | 30/93 [00:00<00:00, 109.24it/s]\n",
      "Testing:  68%|██████▊   | 63/93 [00:00<00:00, 193.68it/s]\n",
      "Testing: 100%|██████████| 93/93 [00:00<00:00, 183.39it/s]\n"
     ]
    },
    {
     "name": "stdout",
     "output_type": "stream",
     "text": [
      "\u001b[36m(ClientAppActor pid=263068)\u001b[0m ✅ [Client 4] Evaluation results - Loss: 2.4843, Accuracy: 0.0137\n",
      "\u001b[36m(ClientAppActor pid=263069)\u001b[0m [Client 6] Starting evaluation...\n"
     ]
    },
    {
     "name": "stderr",
     "output_type": "stream",
     "text": [
      "\u001b[36m(ClientAppActor pid=263069)\u001b[0m \u001b[93mWARNING \u001b[0m:   DEPRECATED FEATURE: `client_fn` now expects a signature `def client_fn(context: Context)`.The provided `client_fn` has signature: {'cid': <Parameter \"cid: str\">}. You can import the `Context` like this: `from flwr.common import Context`\n",
      "\u001b[36m(ClientAppActor pid=263069)\u001b[0m \n",
      "\u001b[36m(ClientAppActor pid=263069)\u001b[0m             This is a deprecated feature. It will be removed\n",
      "\u001b[36m(ClientAppActor pid=263069)\u001b[0m             entirely in future versions of Flower.\n",
      "\u001b[36m(ClientAppActor pid=263069)\u001b[0m         \n",
      "Testing:   0%|          | 0/98 [00:00<?, ?it/s]\n",
      "Testing:   8%|▊         | 8/98 [00:00<00:01, 76.04it/s]\n",
      "Testing:  16%|█▋        | 16/98 [00:00<00:01, 72.95it/s]\n",
      "Testing:  24%|██▍       | 24/98 [00:00<00:01, 66.47it/s]\n",
      "Testing:  44%|████▍     | 43/98 [00:00<00:00, 108.89it/s]\n",
      "Testing:  76%|███████▌  | 74/98 [00:00<00:00, 175.42it/s]\n",
      "Testing: 100%|██████████| 98/98 [00:00<00:00, 154.76it/s]\n"
     ]
    },
    {
     "name": "stdout",
     "output_type": "stream",
     "text": [
      "\u001b[36m(ClientAppActor pid=263069)\u001b[0m ✅ [Client 6] Evaluation results - Loss: 2.4845, Accuracy: 0.0079\n"
     ]
    },
    {
     "name": "stderr",
     "output_type": "stream",
     "text": [
      "\u001b[36m(ClientAppActor pid=263068)\u001b[0m \n",
      "\u001b[36m(ClientAppActor pid=263068)\u001b[0m         \n",
      "\u001b[36m(ClientAppActor pid=263068)\u001b[0m \u001b[93mWARNING \u001b[0m:   DEPRECATED FEATURE: `client_fn` now expects a signature `def client_fn(context: Context)`.The provided `client_fn` has signature: {'cid': <Parameter \"cid: str\">}. You can import the `Context` like this: `from flwr.common import Context`\n",
      "\u001b[36m(ClientAppActor pid=263068)\u001b[0m             This is a deprecated feature. It will be removed\n",
      "\u001b[36m(ClientAppActor pid=263068)\u001b[0m             entirely in future versions of Flower.\n",
      "Testing:   0%|          | 0/93 [00:00<?, ?it/s]\n"
     ]
    },
    {
     "name": "stdout",
     "output_type": "stream",
     "text": [
      "\u001b[36m(ClientAppActor pid=263068)\u001b[0m [Client 0] Starting evaluation...\n"
     ]
    },
    {
     "name": "stderr",
     "output_type": "stream",
     "text": [
      "Testing:   9%|▊         | 8/93 [00:00<00:01, 73.12it/s]\n",
      "Testing:  17%|█▋        | 16/93 [00:00<00:01, 53.57it/s]\n",
      "Testing:  52%|█████▏    | 48/93 [00:00<00:00, 149.36it/s]\n",
      "Testing: 100%|██████████| 93/93 [00:00<00:00, 177.26it/s]\n"
     ]
    },
    {
     "name": "stdout",
     "output_type": "stream",
     "text": [
      "\u001b[36m(ClientAppActor pid=263068)\u001b[0m ✅ [Client 0] Evaluation results - Loss: 2.4839, Accuracy: 0.1977\n"
     ]
    },
    {
     "name": "stderr",
     "output_type": "stream",
     "text": [
      "\u001b[36m(ClientAppActor pid=263069)\u001b[0m \u001b[93mWARNING \u001b[0m:   DEPRECATED FEATURE: `client_fn` now expects a signature `def client_fn(context: Context)`.The provided `client_fn` has signature: {'cid': <Parameter \"cid: str\">}. You can import the `Context` like this: `from flwr.common import Context`\n",
      "\u001b[36m(ClientAppActor pid=263069)\u001b[0m \n",
      "\u001b[36m(ClientAppActor pid=263069)\u001b[0m             This is a deprecated feature. It will be removed\n",
      "\u001b[36m(ClientAppActor pid=263069)\u001b[0m             entirely in future versions of Flower.\n",
      "\u001b[36m(ClientAppActor pid=263069)\u001b[0m         \n",
      "Testing:   0%|          | 0/93 [00:00<?, ?it/s]\n"
     ]
    },
    {
     "name": "stdout",
     "output_type": "stream",
     "text": [
      "\u001b[36m(ClientAppActor pid=263069)\u001b[0m [Client 1] Starting evaluation...\n"
     ]
    },
    {
     "name": "stderr",
     "output_type": "stream",
     "text": [
      "Testing:   8%|▊         | 7/93 [00:00<00:01, 66.24it/s]\n",
      "Testing:  15%|█▌        | 14/93 [00:00<00:01, 63.99it/s]\n",
      "Testing:  23%|██▎       | 21/93 [00:00<00:01, 56.90it/s]\n",
      "Testing:  42%|████▏     | 39/93 [00:00<00:00, 98.83it/s]\n",
      "Testing:  74%|███████▍  | 69/93 [00:00<00:00, 164.97it/s]\n",
      "Testing: 100%|██████████| 93/93 [00:00<00:00, 146.86it/s]\n"
     ]
    },
    {
     "name": "stdout",
     "output_type": "stream",
     "text": [
      "\u001b[36m(ClientAppActor pid=263069)\u001b[0m ✅ [Client 1] Evaluation results - Loss: 2.4840, Accuracy: 0.1559\n"
     ]
    },
    {
     "name": "stderr",
     "output_type": "stream",
     "text": [
      "\u001b[36m(ClientAppActor pid=263068)\u001b[0m \n",
      "\u001b[36m(ClientAppActor pid=263068)\u001b[0m         \n",
      "\u001b[36m(ClientAppActor pid=263068)\u001b[0m \u001b[93mWARNING \u001b[0m:   DEPRECATED FEATURE: `client_fn` now expects a signature `def client_fn(context: Context)`.The provided `client_fn` has signature: {'cid': <Parameter \"cid: str\">}. You can import the `Context` like this: `from flwr.common import Context`\n",
      "\u001b[36m(ClientAppActor pid=263068)\u001b[0m             This is a deprecated feature. It will be removed\n",
      "\u001b[36m(ClientAppActor pid=263068)\u001b[0m             entirely in future versions of Flower.\n",
      "Testing:   0%|          | 0/83 [00:00<?, ?it/s]\n"
     ]
    },
    {
     "name": "stdout",
     "output_type": "stream",
     "text": [
      "\u001b[36m(ClientAppActor pid=263068)\u001b[0m [Client 10] Starting evaluation...\n"
     ]
    },
    {
     "name": "stderr",
     "output_type": "stream",
     "text": [
      "Testing:  10%|▉         | 8/83 [00:00<00:01, 71.78it/s]\n",
      "Testing:  19%|█▉        | 16/83 [00:00<00:00, 70.22it/s]\n",
      "Testing:  35%|███▍      | 29/83 [00:00<00:00, 95.16it/s]\n",
      "Testing:  73%|███████▎  | 61/83 [00:00<00:00, 178.04it/s]\n",
      "\u001b[92mINFO \u001b[0m:      aggregate_evaluate: received 12 results and 0 failures\n",
      "\u001b[92mINFO \u001b[0m:      \n",
      "\u001b[92mINFO \u001b[0m:      [ROUND 12]\n",
      "\u001b[92mINFO \u001b[0m:      configure_fit: strategy sampled 6 clients (out of 12)\n",
      "\u001b[92mINFO \u001b[0m:      aggregate_fit: received 0 results and 6 failures\n"
     ]
    },
    {
     "name": "stdout",
     "output_type": "stream",
     "text": [
      "✅ --- Server received 12 evaluation results in round 11 ---\n",
      "✅ --- Pareto selection for round 12 chose clients: ['2884736955283487405', '15100500063491518048', '6369163841238069563', '10273312183111562667', '14315934176059193381', '3516174158176321985'] ---\n"
     ]
    },
    {
     "name": "stderr",
     "output_type": "stream",
     "text": [
      "Testing: 100%|██████████| 83/83 [00:00<00:00, 165.50it/s]ntAppActor pid=263068)\u001b[0m \n",
      "Testing:  26%|██▋       | 24/91 [00:00<00:00, 232.36it/s]"
     ]
    },
    {
     "name": "stdout",
     "output_type": "stream",
     "text": [
      "\u001b[36m(ClientAppActor pid=263068)\u001b[0m ✅ [Client 10] Evaluation results - Loss: 2.4847, Accuracy: 0.1851\n"
     ]
    },
    {
     "name": "stderr",
     "output_type": "stream",
     "text": [
      "Testing: 100%|██████████| 91/91 [00:00<00:00, 263.78it/s]\n",
      "\u001b[92mINFO \u001b[0m:      fit progress: (12, 2.484785108775883, {'accuracy': 0.19553169379979218}, 1171.6863994759988)\n",
      "\u001b[92mINFO \u001b[0m:      configure_evaluate: strategy sampled 12 clients (out of 12)\n"
     ]
    },
    {
     "name": "stdout",
     "output_type": "stream",
     "text": [
      "============================================================\n",
      "✅ ROUND 12 SUMMARY - Global Model Performance:\n",
      "   Loss: 2.4848 | Accuracy: 0.1955\n",
      "============================================================\n"
     ]
    },
    {
     "name": "stderr",
     "output_type": "stream",
     "text": [
      "\u001b[36m(ClientAppActor pid=263068)\u001b[0m \u001b[93mWARNING \u001b[0m:   DEPRECATED FEATURE: `client_fn` now expects a signature `def client_fn(context: Context)`.The provided `client_fn` has signature: {'cid': <Parameter \"cid: str\">}. You can import the `Context` like this: `from flwr.common import Context`\n",
      "\u001b[36m(ClientAppActor pid=263068)\u001b[0m \n",
      "\u001b[36m(ClientAppActor pid=263068)\u001b[0m             This is a deprecated feature. It will be removed\n",
      "\u001b[36m(ClientAppActor pid=263068)\u001b[0m             entirely in future versions of Flower.\n",
      "\u001b[36m(ClientAppActor pid=263068)\u001b[0m         \n",
      "Testing:   0%|          | 0/91 [00:00<?, ?it/s]\n"
     ]
    },
    {
     "name": "stdout",
     "output_type": "stream",
     "text": [
      "\u001b[36m(ClientAppActor pid=263068)\u001b[0m [Client 11] Starting evaluation...\n"
     ]
    },
    {
     "name": "stderr",
     "output_type": "stream",
     "text": [
      "Testing:   9%|▉         | 8/91 [00:00<00:01, 70.20it/s]\n",
      "Testing:  18%|█▊        | 16/91 [00:00<00:00, 75.61it/s]\n",
      "Testing:  26%|██▋       | 24/91 [00:00<00:00, 77.37it/s]\n",
      "Testing:  43%|████▎     | 39/91 [00:00<00:00, 102.87it/s]\n",
      "Testing:  76%|███████▌  | 69/91 [00:00<00:00, 170.41it/s]\n",
      "Testing: 100%|██████████| 91/91 [00:00<00:00, 155.23it/s]\n"
     ]
    },
    {
     "name": "stdout",
     "output_type": "stream",
     "text": [
      "\u001b[36m(ClientAppActor pid=263068)\u001b[0m ✅ [Client 11] Evaluation results - Loss: 2.4848, Accuracy: 0.1955\n",
      "\u001b[36m(ClientAppActor pid=263069)\u001b[0m [Client 2] Starting evaluation...\n"
     ]
    },
    {
     "name": "stderr",
     "output_type": "stream",
     "text": [
      "\u001b[36m(ClientAppActor pid=263069)\u001b[0m \n",
      "\u001b[36m(ClientAppActor pid=263069)\u001b[0m         \n",
      "\u001b[36m(ClientAppActor pid=263069)\u001b[0m \u001b[93mWARNING \u001b[0m:   DEPRECATED FEATURE: `client_fn` now expects a signature `def client_fn(context: Context)`.The provided `client_fn` has signature: {'cid': <Parameter \"cid: str\">}. You can import the `Context` like this: `from flwr.common import Context`\n",
      "\u001b[36m(ClientAppActor pid=263069)\u001b[0m             This is a deprecated feature. It will be removed\n",
      "\u001b[36m(ClientAppActor pid=263069)\u001b[0m             entirely in future versions of Flower.\n",
      "Testing:   0%|          | 0/93 [00:00<?, ?it/s]\n",
      "Testing:   8%|▊         | 7/93 [00:00<00:01, 68.19it/s]\n",
      "Testing:  16%|█▌        | 15/93 [00:00<00:01, 69.72it/s]\n",
      "Testing:  42%|████▏     | 39/93 [00:00<00:00, 143.78it/s]\n",
      "Testing: 100%|██████████| 93/93 [00:00<00:00, 199.26it/s]\n"
     ]
    },
    {
     "name": "stdout",
     "output_type": "stream",
     "text": [
      "\u001b[36m(ClientAppActor pid=263069)\u001b[0m ✅ [Client 2] Evaluation results - Loss: 2.4850, Accuracy: 0.0059\n"
     ]
    },
    {
     "name": "stderr",
     "output_type": "stream",
     "text": [
      "\u001b[36m(ClientAppActor pid=263068)\u001b[0m \u001b[93mWARNING \u001b[0m:   DEPRECATED FEATURE: `client_fn` now expects a signature `def client_fn(context: Context)`.The provided `client_fn` has signature: {'cid': <Parameter \"cid: str\">}. You can import the `Context` like this: `from flwr.common import Context`\n",
      "\u001b[36m(ClientAppActor pid=263068)\u001b[0m \n",
      "\u001b[36m(ClientAppActor pid=263068)\u001b[0m             This is a deprecated feature. It will be removed\n",
      "\u001b[36m(ClientAppActor pid=263068)\u001b[0m             entirely in future versions of Flower.\n",
      "\u001b[36m(ClientAppActor pid=263068)\u001b[0m         \n",
      "Testing:   0%|          | 0/91 [00:00<?, ?it/s]\n"
     ]
    },
    {
     "name": "stdout",
     "output_type": "stream",
     "text": [
      "\u001b[36m(ClientAppActor pid=263068)\u001b[0m [Client 7] Starting evaluation...\n"
     ]
    },
    {
     "name": "stderr",
     "output_type": "stream",
     "text": [
      "Testing:   9%|▉         | 8/91 [00:00<00:01, 71.91it/s]\n",
      "Testing:  18%|█▊        | 16/91 [00:00<00:01, 71.24it/s]\n",
      "Testing:  33%|███▎      | 30/91 [00:00<00:00, 99.68it/s]\n",
      "Testing:  70%|███████   | 64/91 [00:00<00:00, 188.82it/s]\n",
      "Testing: 100%|██████████| 91/91 [00:00<00:00, 173.49it/s]\n"
     ]
    },
    {
     "name": "stdout",
     "output_type": "stream",
     "text": [
      "\u001b[36m(ClientAppActor pid=263068)\u001b[0m ✅ [Client 7] Evaluation results - Loss: 2.4845, Accuracy: 0.0372\n"
     ]
    },
    {
     "name": "stderr",
     "output_type": "stream",
     "text": [
      "\u001b[36m(ClientAppActor pid=263069)\u001b[0m \n",
      "\u001b[36m(ClientAppActor pid=263069)\u001b[0m         \n",
      "\u001b[36m(ClientAppActor pid=263069)\u001b[0m \u001b[93mWARNING \u001b[0m:   DEPRECATED FEATURE: `client_fn` now expects a signature `def client_fn(context: Context)`.The provided `client_fn` has signature: {'cid': <Parameter \"cid: str\">}. You can import the `Context` like this: `from flwr.common import Context`\n",
      "\u001b[36m(ClientAppActor pid=263069)\u001b[0m             This is a deprecated feature. It will be removed\n",
      "\u001b[36m(ClientAppActor pid=263069)\u001b[0m             entirely in future versions of Flower.\n",
      "Testing:   0%|          | 0/91 [00:00<?, ?it/s]\n"
     ]
    },
    {
     "name": "stdout",
     "output_type": "stream",
     "text": [
      "\u001b[36m(ClientAppActor pid=263069)\u001b[0m [Client 8] Starting evaluation...\n"
     ]
    },
    {
     "name": "stderr",
     "output_type": "stream",
     "text": [
      "Testing:   8%|▊         | 7/91 [00:00<00:01, 62.98it/s]\n",
      "Testing:  15%|█▌        | 14/91 [00:00<00:01, 66.87it/s]\n",
      "Testing:  24%|██▍       | 22/91 [00:00<00:00, 70.14it/s]\n",
      "Testing:  38%|███▊      | 35/91 [00:00<00:00, 92.64it/s]\n",
      "Testing:  75%|███████▍  | 68/91 [00:00<00:00, 174.62it/s]\n",
      "Testing: 100%|██████████| 91/91 [00:00<00:00, 151.41it/s]\n"
     ]
    },
    {
     "name": "stdout",
     "output_type": "stream",
     "text": [
      "\u001b[36m(ClientAppActor pid=263069)\u001b[0m ✅ [Client 8] Evaluation results - Loss: 2.4832, Accuracy: 0.0880\n"
     ]
    },
    {
     "name": "stderr",
     "output_type": "stream",
     "text": [
      "\u001b[36m(ClientAppActor pid=263068)\u001b[0m \u001b[93mWARNING \u001b[0m:   DEPRECATED FEATURE: `client_fn` now expects a signature `def client_fn(context: Context)`.The provided `client_fn` has signature: {'cid': <Parameter \"cid: str\">}. You can import the `Context` like this: `from flwr.common import Context`\n",
      "\u001b[36m(ClientAppActor pid=263068)\u001b[0m \n",
      "\u001b[36m(ClientAppActor pid=263068)\u001b[0m             This is a deprecated feature. It will be removed\n",
      "\u001b[36m(ClientAppActor pid=263068)\u001b[0m             entirely in future versions of Flower.\n",
      "\u001b[36m(ClientAppActor pid=263068)\u001b[0m         \n",
      "Testing:   0%|          | 0/92 [00:00<?, ?it/s]\n",
      "Testing:   8%|▊         | 7/92 [00:00<00:01, 66.05it/s]\n"
     ]
    },
    {
     "name": "stdout",
     "output_type": "stream",
     "text": [
      "\u001b[36m(ClientAppActor pid=263068)\u001b[0m [Client 9] Starting evaluation...\n"
     ]
    },
    {
     "name": "stderr",
     "output_type": "stream",
     "text": [
      "Testing:  16%|█▋        | 15/92 [00:00<00:01, 69.23it/s]\n",
      "Testing:  26%|██▌       | 24/92 [00:00<00:00, 75.03it/s]\n",
      "Testing:  50%|█████     | 46/92 [00:00<00:00, 127.98it/s]\n",
      "Testing:  87%|████████▋ | 80/92 [00:00<00:00, 199.81it/s]\n",
      "Testing: 100%|██████████| 92/92 [00:00<00:00, 160.79it/s]\n"
     ]
    },
    {
     "name": "stdout",
     "output_type": "stream",
     "text": [
      "\u001b[36m(ClientAppActor pid=263068)\u001b[0m ✅ [Client 9] Evaluation results - Loss: 2.4846, Accuracy: 0.0220\n",
      "\u001b[36m(ClientAppActor pid=263069)\u001b[0m [Client 4] Starting evaluation...\n"
     ]
    },
    {
     "name": "stderr",
     "output_type": "stream",
     "text": [
      "\u001b[36m(ClientAppActor pid=263069)\u001b[0m \n",
      "\u001b[36m(ClientAppActor pid=263069)\u001b[0m         \n",
      "\u001b[36m(ClientAppActor pid=263069)\u001b[0m \u001b[93mWARNING \u001b[0m:   DEPRECATED FEATURE: `client_fn` now expects a signature `def client_fn(context: Context)`.The provided `client_fn` has signature: {'cid': <Parameter \"cid: str\">}. You can import the `Context` like this: `from flwr.common import Context`\n",
      "\u001b[36m(ClientAppActor pid=263069)\u001b[0m             This is a deprecated feature. It will be removed\n",
      "\u001b[36m(ClientAppActor pid=263069)\u001b[0m             entirely in future versions of Flower.\n",
      "Testing:   0%|          | 0/93 [00:00<?, ?it/s]\n",
      "Testing:   8%|▊         | 7/93 [00:00<00:01, 69.74it/s]\n",
      "Testing:  15%|█▌        | 14/93 [00:00<00:01, 69.03it/s]\n",
      "Testing:  44%|████▍     | 41/93 [00:00<00:00, 158.43it/s]\n",
      "Testing:  71%|███████   | 66/93 [00:00<00:00, 191.64it/s]\n",
      "Testing: 100%|██████████| 93/93 [00:00<00:00, 184.16it/s]\n"
     ]
    },
    {
     "name": "stdout",
     "output_type": "stream",
     "text": [
      "\u001b[36m(ClientAppActor pid=263069)\u001b[0m ✅ [Client 4] Evaluation results - Loss: 2.4843, Accuracy: 0.0137\n"
     ]
    },
    {
     "name": "stderr",
     "output_type": "stream",
     "text": [
      "\u001b[36m(ClientAppActor pid=263068)\u001b[0m \u001b[93mWARNING \u001b[0m:   DEPRECATED FEATURE: `client_fn` now expects a signature `def client_fn(context: Context)`.The provided `client_fn` has signature: {'cid': <Parameter \"cid: str\">}. You can import the `Context` like this: `from flwr.common import Context`\n",
      "\u001b[36m(ClientAppActor pid=263068)\u001b[0m \n",
      "\u001b[36m(ClientAppActor pid=263068)\u001b[0m             This is a deprecated feature. It will be removed\n",
      "\u001b[36m(ClientAppActor pid=263068)\u001b[0m             entirely in future versions of Flower.\n",
      "\u001b[36m(ClientAppActor pid=263068)\u001b[0m         \n",
      "Testing:   0%|          | 0/98 [00:00<?, ?it/s]\n"
     ]
    },
    {
     "name": "stdout",
     "output_type": "stream",
     "text": [
      "\u001b[36m(ClientAppActor pid=263068)\u001b[0m [Client 6] Starting evaluation...\n"
     ]
    },
    {
     "name": "stderr",
     "output_type": "stream",
     "text": [
      "Testing:   7%|▋         | 7/98 [00:00<00:01, 63.11it/s]\n",
      "Testing:  14%|█▍        | 14/98 [00:00<00:01, 66.10it/s]\n",
      "Testing:  23%|██▎       | 23/98 [00:00<00:01, 73.54it/s]\n",
      "Testing:  37%|███▋      | 36/98 [00:00<00:00, 94.36it/s]\n",
      "Testing:  72%|███████▏  | 71/98 [00:00<00:00, 182.08it/s]\n",
      "Testing: 100%|██████████| 98/98 [00:00<00:00, 161.70it/s]\n"
     ]
    },
    {
     "name": "stdout",
     "output_type": "stream",
     "text": [
      "\u001b[36m(ClientAppActor pid=263068)\u001b[0m ✅ [Client 6] Evaluation results - Loss: 2.4845, Accuracy: 0.0079\n",
      "\u001b[36m(ClientAppActor pid=263069)\u001b[0m [Client 5] Starting evaluation...\n"
     ]
    },
    {
     "name": "stderr",
     "output_type": "stream",
     "text": [
      "\u001b[36m(ClientAppActor pid=263069)\u001b[0m \n",
      "\u001b[36m(ClientAppActor pid=263069)\u001b[0m         \n",
      "\u001b[36m(ClientAppActor pid=263069)\u001b[0m \u001b[93mWARNING \u001b[0m:   DEPRECATED FEATURE: `client_fn` now expects a signature `def client_fn(context: Context)`.The provided `client_fn` has signature: {'cid': <Parameter \"cid: str\">}. You can import the `Context` like this: `from flwr.common import Context`\n",
      "\u001b[36m(ClientAppActor pid=263069)\u001b[0m             This is a deprecated feature. It will be removed\n",
      "\u001b[36m(ClientAppActor pid=263069)\u001b[0m             entirely in future versions of Flower.\n",
      "Testing:   0%|          | 0/95 [00:00<?, ?it/s]\n",
      "Testing:   7%|▋         | 7/95 [00:00<00:01, 68.70it/s]\n",
      "Testing:  15%|█▍        | 14/95 [00:00<00:01, 67.02it/s]\n",
      "Testing:  51%|█████     | 48/95 [00:00<00:00, 187.57it/s]\n",
      "Testing: 100%|██████████| 95/95 [00:00<00:00, 201.46it/s]\n"
     ]
    },
    {
     "name": "stdout",
     "output_type": "stream",
     "text": [
      "\u001b[36m(ClientAppActor pid=263069)\u001b[0m ✅ [Client 5] Evaluation results - Loss: 2.4855, Accuracy: 0.0078\n"
     ]
    },
    {
     "name": "stderr",
     "output_type": "stream",
     "text": [
      "\u001b[36m(ClientAppActor pid=263068)\u001b[0m \u001b[93mWARNING \u001b[0m:   DEPRECATED FEATURE: `client_fn` now expects a signature `def client_fn(context: Context)`.The provided `client_fn` has signature: {'cid': <Parameter \"cid: str\">}. You can import the `Context` like this: `from flwr.common import Context`\n",
      "\u001b[36m(ClientAppActor pid=263068)\u001b[0m \n",
      "\u001b[36m(ClientAppActor pid=263068)\u001b[0m             This is a deprecated feature. It will be removed\n",
      "\u001b[36m(ClientAppActor pid=263068)\u001b[0m             entirely in future versions of Flower.\n",
      "\u001b[36m(ClientAppActor pid=263068)\u001b[0m         \n",
      "Testing:   0%|          | 0/93 [00:00<?, ?it/s]\n",
      "Testing:   9%|▊         | 8/93 [00:00<00:01, 72.43it/s]\n"
     ]
    },
    {
     "name": "stdout",
     "output_type": "stream",
     "text": [
      "\u001b[36m(ClientAppActor pid=263068)\u001b[0m [Client 1] Starting evaluation...\n"
     ]
    },
    {
     "name": "stderr",
     "output_type": "stream",
     "text": [
      "Testing:  17%|█▋        | 16/93 [00:00<00:01, 72.96it/s]\n",
      "Testing:  27%|██▋       | 25/93 [00:00<00:00, 77.15it/s]\n",
      "Testing:  45%|████▌     | 42/93 [00:00<00:00, 110.94it/s]\n",
      "Testing:  78%|███████▊  | 73/93 [00:00<00:00, 179.13it/s]\n",
      "Testing: 100%|██████████| 93/93 [00:00<00:00, 157.60it/s]\n"
     ]
    },
    {
     "name": "stdout",
     "output_type": "stream",
     "text": [
      "\u001b[36m(ClientAppActor pid=263068)\u001b[0m ✅ [Client 1] Evaluation results - Loss: 2.4840, Accuracy: 0.1559\n",
      "\u001b[36m(ClientAppActor pid=263069)\u001b[0m [Client 10] Starting evaluation...\n"
     ]
    },
    {
     "name": "stderr",
     "output_type": "stream",
     "text": [
      "\u001b[36m(ClientAppActor pid=263069)\u001b[0m \n",
      "\u001b[36m(ClientAppActor pid=263069)\u001b[0m         \n",
      "\u001b[36m(ClientAppActor pid=263069)\u001b[0m \u001b[93mWARNING \u001b[0m:   DEPRECATED FEATURE: `client_fn` now expects a signature `def client_fn(context: Context)`.The provided `client_fn` has signature: {'cid': <Parameter \"cid: str\">}. You can import the `Context` like this: `from flwr.common import Context`\n",
      "\u001b[36m(ClientAppActor pid=263069)\u001b[0m             This is a deprecated feature. It will be removed\n",
      "\u001b[36m(ClientAppActor pid=263069)\u001b[0m             entirely in future versions of Flower.\n",
      "Testing:   0%|          | 0/83 [00:00<?, ?it/s]\n",
      "Testing:   8%|▊         | 7/83 [00:00<00:01, 67.37it/s]\n",
      "Testing:  18%|█▊        | 15/83 [00:00<00:00, 72.09it/s]\n",
      "Testing:  28%|██▊       | 23/83 [00:00<00:00, 75.03it/s]\n",
      "Testing:  45%|████▍     | 37/83 [00:00<00:00, 99.77it/s]\n"
     ]
    },
    {
     "name": "stdout",
     "output_type": "stream",
     "text": [
      "\u001b[36m(ClientAppActor pid=263069)\u001b[0m ✅ [Client 10] Evaluation results - Loss: 2.4847, Accuracy: 0.1851\n"
     ]
    },
    {
     "name": "stderr",
     "output_type": "stream",
     "text": [
      "Testing: 100%|██████████| 83/83 [00:00<00:00, 146.61it/s]\n",
      "\u001b[36m(ClientAppActor pid=263068)\u001b[0m \u001b[93mWARNING \u001b[0m:   DEPRECATED FEATURE: `client_fn` now expects a signature `def client_fn(context: Context)`.The provided `client_fn` has signature: {'cid': <Parameter \"cid: str\">}. You can import the `Context` like this: `from flwr.common import Context`\n",
      "\u001b[36m(ClientAppActor pid=263068)\u001b[0m \n",
      "\u001b[36m(ClientAppActor pid=263068)\u001b[0m             This is a deprecated feature. It will be removed\n",
      "\u001b[36m(ClientAppActor pid=263068)\u001b[0m             entirely in future versions of Flower.\n",
      "\u001b[36m(ClientAppActor pid=263068)\u001b[0m         \n",
      "Testing:   0%|          | 0/95 [00:00<?, ?it/s]\n",
      "Testing:   8%|▊         | 8/95 [00:00<00:01, 73.08it/s]\n"
     ]
    },
    {
     "name": "stdout",
     "output_type": "stream",
     "text": [
      "\u001b[36m(ClientAppActor pid=263068)\u001b[0m [Client 3] Starting evaluation...\n"
     ]
    },
    {
     "name": "stderr",
     "output_type": "stream",
     "text": [
      "Testing:  17%|█▋        | 16/95 [00:00<00:01, 71.67it/s]\n",
      "Testing:  39%|███▉      | 37/95 [00:00<00:00, 130.26it/s]\n",
      "Testing:  72%|███████▏  | 68/95 [00:00<00:00, 197.02it/s]\n",
      "Testing: 100%|██████████| 95/95 [00:00<00:00, 185.93it/s]\n"
     ]
    },
    {
     "name": "stdout",
     "output_type": "stream",
     "text": [
      "\u001b[36m(ClientAppActor pid=263068)\u001b[0m ✅ [Client 3] Evaluation results - Loss: 2.4835, Accuracy: 0.1103\n"
     ]
    },
    {
     "name": "stderr",
     "output_type": "stream",
     "text": [
      "\u001b[36m(ClientAppActor pid=263069)\u001b[0m \n",
      "\u001b[36m(ClientAppActor pid=263069)\u001b[0m         \n",
      "\u001b[36m(ClientAppActor pid=263069)\u001b[0m \u001b[93mWARNING \u001b[0m:   DEPRECATED FEATURE: `client_fn` now expects a signature `def client_fn(context: Context)`.The provided `client_fn` has signature: {'cid': <Parameter \"cid: str\">}. You can import the `Context` like this: `from flwr.common import Context`\n",
      "\u001b[36m(ClientAppActor pid=263069)\u001b[0m             This is a deprecated feature. It will be removed\n",
      "\u001b[36m(ClientAppActor pid=263069)\u001b[0m             entirely in future versions of Flower.\n",
      "Testing:   0%|          | 0/93 [00:00<?, ?it/s]\n"
     ]
    },
    {
     "name": "stdout",
     "output_type": "stream",
     "text": [
      "\u001b[36m(ClientAppActor pid=263069)\u001b[0m [Client 0] Starting evaluation...\n"
     ]
    },
    {
     "name": "stderr",
     "output_type": "stream",
     "text": [
      "Testing:   9%|▊         | 8/93 [00:00<00:01, 73.31it/s]\n",
      "Testing:  17%|█▋        | 16/93 [00:00<00:01, 72.24it/s]\n",
      "Testing:  26%|██▌       | 24/93 [00:00<00:00, 74.89it/s]\n",
      "Testing:  55%|█████▍    | 51/93 [00:00<00:00, 147.40it/s]\n",
      "\u001b[92mINFO \u001b[0m:      aggregate_evaluate: received 12 results and 0 failures\n",
      "\u001b[92mINFO \u001b[0m:      \n",
      "\u001b[92mINFO \u001b[0m:      [ROUND 13]\n",
      "\u001b[92mINFO \u001b[0m:      configure_fit: strategy sampled 6 clients (out of 12)\n",
      "\u001b[92mINFO \u001b[0m:      aggregate_fit: received 0 results and 6 failures\n",
      "Testing: 100%|██████████| 93/93 [00:00<00:00, 168.35it/s]\n"
     ]
    },
    {
     "name": "stdout",
     "output_type": "stream",
     "text": [
      "✅ --- Server received 12 evaluation results in round 12 ---\n",
      "✅ --- Pareto selection for round 13 chose clients: ['10273312183111562667', '15100500063491518048', '7288326149512088850', '7221885320893359682', '14315934176059193381', '3516174158176321985'] ---\n",
      "\u001b[36m(ClientAppActor pid=263069)\u001b[0m ✅ [Client 0] Evaluation results - Loss: 2.4839, Accuracy: 0.1977\n"
     ]
    },
    {
     "name": "stderr",
     "output_type": "stream",
     "text": [
      "Testing: 100%|██████████| 91/91 [00:00<00:00, 291.99it/s]\n",
      "\u001b[92mINFO \u001b[0m:      fit progress: (13, 2.484785108775883, {'accuracy': 0.19553169379979218}, 1272.903094849)\n",
      "\u001b[92mINFO \u001b[0m:      configure_evaluate: strategy sampled 12 clients (out of 12)\n"
     ]
    },
    {
     "name": "stdout",
     "output_type": "stream",
     "text": [
      "============================================================\n",
      "✅ ROUND 13 SUMMARY - Global Model Performance:\n",
      "   Loss: 2.4848 | Accuracy: 0.1955\n",
      "============================================================\n",
      "\u001b[36m(ClientAppActor pid=263069)\u001b[0m [Client 11] Starting evaluation...\n"
     ]
    },
    {
     "name": "stderr",
     "output_type": "stream",
     "text": [
      "\u001b[36m(ClientAppActor pid=263069)\u001b[0m \u001b[93mWARNING \u001b[0m:   DEPRECATED FEATURE: `client_fn` now expects a signature `def client_fn(context: Context)`.The provided `client_fn` has signature: {'cid': <Parameter \"cid: str\">}. You can import the `Context` like this: `from flwr.common import Context`\n",
      "\u001b[36m(ClientAppActor pid=263069)\u001b[0m \n",
      "\u001b[36m(ClientAppActor pid=263069)\u001b[0m             This is a deprecated feature. It will be removed\n",
      "\u001b[36m(ClientAppActor pid=263069)\u001b[0m             entirely in future versions of Flower.\n",
      "\u001b[36m(ClientAppActor pid=263069)\u001b[0m         \n",
      "Testing:   0%|          | 0/91 [00:00<?, ?it/s]\n",
      "Testing:   8%|▊         | 7/91 [00:00<00:01, 69.76it/s]\n",
      "Testing:  16%|█▋        | 15/91 [00:00<00:01, 73.90it/s]\n",
      "Testing:  55%|█████▍    | 50/91 [00:00<00:00, 197.87it/s]\n",
      "Testing:  85%|████████▍ | 77/91 [00:00<00:00, 226.02it/s]\n",
      "Testing: 100%|██████████| 91/91 [00:00<00:00, 204.61it/s]\n"
     ]
    },
    {
     "name": "stdout",
     "output_type": "stream",
     "text": [
      "\u001b[36m(ClientAppActor pid=263069)\u001b[0m ✅ [Client 11] Evaluation results - Loss: 2.4848, Accuracy: 0.1955\n"
     ]
    },
    {
     "name": "stderr",
     "output_type": "stream",
     "text": [
      "\u001b[36m(ClientAppActor pid=263068)\u001b[0m \n",
      "\u001b[36m(ClientAppActor pid=263068)\u001b[0m         \n",
      "\u001b[36m(ClientAppActor pid=263068)\u001b[0m \u001b[93mWARNING \u001b[0m:   DEPRECATED FEATURE: `client_fn` now expects a signature `def client_fn(context: Context)`.The provided `client_fn` has signature: {'cid': <Parameter \"cid: str\">}. You can import the `Context` like this: `from flwr.common import Context`\n",
      "\u001b[36m(ClientAppActor pid=263068)\u001b[0m             This is a deprecated feature. It will be removed\n",
      "\u001b[36m(ClientAppActor pid=263068)\u001b[0m             entirely in future versions of Flower.\n",
      "Testing:   0%|          | 0/93 [00:00<?, ?it/s]\n"
     ]
    },
    {
     "name": "stdout",
     "output_type": "stream",
     "text": [
      "\u001b[36m(ClientAppActor pid=263068)\u001b[0m [Client 2] Starting evaluation...\n"
     ]
    },
    {
     "name": "stderr",
     "output_type": "stream",
     "text": [
      "Testing:   9%|▊         | 8/93 [00:00<00:01, 70.77it/s]\n",
      "Testing:  17%|█▋        | 16/93 [00:00<00:01, 69.65it/s]\n",
      "Testing:  56%|█████▌    | 52/93 [00:00<00:00, 190.84it/s]\n",
      "Testing: 100%|██████████| 93/93 [00:00<00:00, 204.60it/s]\n"
     ]
    },
    {
     "name": "stdout",
     "output_type": "stream",
     "text": [
      "\u001b[36m(ClientAppActor pid=263068)\u001b[0m ✅ [Client 2] Evaluation results - Loss: 2.4850, Accuracy: 0.0059\n",
      "\u001b[36m(ClientAppActor pid=263069)\u001b[0m [Client 0] Starting evaluation...\n"
     ]
    },
    {
     "name": "stderr",
     "output_type": "stream",
     "text": [
      "\u001b[36m(ClientAppActor pid=263069)\u001b[0m \u001b[93mWARNING \u001b[0m:   DEPRECATED FEATURE: `client_fn` now expects a signature `def client_fn(context: Context)`.The provided `client_fn` has signature: {'cid': <Parameter \"cid: str\">}. You can import the `Context` like this: `from flwr.common import Context`\n",
      "\u001b[36m(ClientAppActor pid=263069)\u001b[0m \n",
      "\u001b[36m(ClientAppActor pid=263069)\u001b[0m             This is a deprecated feature. It will be removed\n",
      "\u001b[36m(ClientAppActor pid=263069)\u001b[0m             entirely in future versions of Flower.\n",
      "\u001b[36m(ClientAppActor pid=263069)\u001b[0m         \n",
      "Testing:   0%|          | 0/93 [00:00<?, ?it/s]\n",
      "Testing:   9%|▊         | 8/93 [00:00<00:01, 64.29it/s]\n",
      "Testing:  16%|█▌        | 15/93 [00:00<00:01, 63.26it/s]\n",
      "Testing:  25%|██▍       | 23/93 [00:00<00:01, 67.86it/s]\n",
      "Testing:  56%|█████▌    | 52/93 [00:00<00:00, 148.51it/s]\n"
     ]
    },
    {
     "name": "stdout",
     "output_type": "stream",
     "text": [
      "\u001b[36m(ClientAppActor pid=263069)\u001b[0m ✅ [Client 0] Evaluation results - Loss: 2.4839, Accuracy: 0.1977\n"
     ]
    },
    {
     "name": "stderr",
     "output_type": "stream",
     "text": [
      "Testing: 100%|██████████| 93/93 [00:00<00:00, 165.93it/s]\n",
      "\u001b[36m(ClientAppActor pid=263068)\u001b[0m \n",
      "\u001b[36m(ClientAppActor pid=263068)\u001b[0m         \n",
      "\u001b[36m(ClientAppActor pid=263068)\u001b[0m \u001b[93mWARNING \u001b[0m:   DEPRECATED FEATURE: `client_fn` now expects a signature `def client_fn(context: Context)`.The provided `client_fn` has signature: {'cid': <Parameter \"cid: str\">}. You can import the `Context` like this: `from flwr.common import Context`\n",
      "\u001b[36m(ClientAppActor pid=263068)\u001b[0m             This is a deprecated feature. It will be removed\n",
      "\u001b[36m(ClientAppActor pid=263068)\u001b[0m             entirely in future versions of Flower.\n",
      "Testing:   0%|          | 0/98 [00:00<?, ?it/s]\n"
     ]
    },
    {
     "name": "stdout",
     "output_type": "stream",
     "text": [
      "\u001b[36m(ClientAppActor pid=263068)\u001b[0m [Client 6] Starting evaluation...\n"
     ]
    },
    {
     "name": "stderr",
     "output_type": "stream",
     "text": [
      "Testing:   8%|▊         | 8/98 [00:00<00:01, 71.03it/s]\n",
      "Testing:  16%|█▋        | 16/98 [00:00<00:01, 73.80it/s]\n",
      "Testing:  26%|██▌       | 25/98 [00:00<00:00, 78.75it/s]\n",
      "Testing:  53%|█████▎    | 52/98 [00:00<00:00, 150.03it/s]\n",
      "Testing:  76%|███████▌  | 74/98 [00:00<00:00, 174.18it/s]\n",
      "Testing: 100%|██████████| 98/98 [00:00<00:00, 164.88it/s]\n"
     ]
    },
    {
     "name": "stdout",
     "output_type": "stream",
     "text": [
      "\u001b[36m(ClientAppActor pid=263068)\u001b[0m ✅ [Client 6] Evaluation results - Loss: 2.4845, Accuracy: 0.0079\n",
      "\u001b[36m(ClientAppActor pid=263069)\u001b[0m [Client 8] Starting evaluation...\n"
     ]
    },
    {
     "name": "stderr",
     "output_type": "stream",
     "text": [
      "\u001b[36m(ClientAppActor pid=263069)\u001b[0m \u001b[93mWARNING \u001b[0m:   DEPRECATED FEATURE: `client_fn` now expects a signature `def client_fn(context: Context)`.The provided `client_fn` has signature: {'cid': <Parameter \"cid: str\">}. You can import the `Context` like this: `from flwr.common import Context`\n",
      "\u001b[36m(ClientAppActor pid=263069)\u001b[0m \n",
      "\u001b[36m(ClientAppActor pid=263069)\u001b[0m             This is a deprecated feature. It will be removed\n",
      "\u001b[36m(ClientAppActor pid=263069)\u001b[0m             entirely in future versions of Flower.\n",
      "\u001b[36m(ClientAppActor pid=263069)\u001b[0m         \n",
      "Testing:   0%|          | 0/91 [00:00<?, ?it/s]\n",
      "Testing:   8%|▊         | 7/91 [00:00<00:01, 68.67it/s]\n",
      "Testing:  16%|█▋        | 15/91 [00:00<00:01, 69.15it/s]\n",
      "Testing:  56%|█████▌    | 51/91 [00:00<00:00, 193.80it/s]\n",
      "Testing: 100%|██████████| 91/91 [00:00<00:00, 210.29it/s]\n"
     ]
    },
    {
     "name": "stdout",
     "output_type": "stream",
     "text": [
      "\u001b[36m(ClientAppActor pid=263069)\u001b[0m ✅ [Client 8] Evaluation results - Loss: 2.4832, Accuracy: 0.0880\n"
     ]
    },
    {
     "name": "stderr",
     "output_type": "stream",
     "text": [
      "\u001b[36m(ClientAppActor pid=263068)\u001b[0m \n",
      "\u001b[36m(ClientAppActor pid=263068)\u001b[0m         \n",
      "\u001b[36m(ClientAppActor pid=263068)\u001b[0m \u001b[93mWARNING \u001b[0m:   DEPRECATED FEATURE: `client_fn` now expects a signature `def client_fn(context: Context)`.The provided `client_fn` has signature: {'cid': <Parameter \"cid: str\">}. You can import the `Context` like this: `from flwr.common import Context`\n",
      "\u001b[36m(ClientAppActor pid=263068)\u001b[0m             This is a deprecated feature. It will be removed\n",
      "\u001b[36m(ClientAppActor pid=263068)\u001b[0m             entirely in future versions of Flower.\n",
      "Testing:   0%|          | 0/83 [00:00<?, ?it/s]\n"
     ]
    },
    {
     "name": "stdout",
     "output_type": "stream",
     "text": [
      "\u001b[36m(ClientAppActor pid=263068)\u001b[0m [Client 10] Starting evaluation...\n"
     ]
    },
    {
     "name": "stderr",
     "output_type": "stream",
     "text": [
      "Testing:  10%|▉         | 8/83 [00:00<00:01, 71.48it/s]\n",
      "Testing:  19%|█▉        | 16/83 [00:00<00:00, 70.53it/s]\n",
      "Testing:  47%|████▋     | 39/83 [00:00<00:00, 137.95it/s]\n",
      "Testing: 100%|██████████| 83/83 [00:00<00:00, 175.11it/s]\n"
     ]
    },
    {
     "name": "stdout",
     "output_type": "stream",
     "text": [
      "\u001b[36m(ClientAppActor pid=263068)\u001b[0m ✅ [Client 10] Evaluation results - Loss: 2.4847, Accuracy: 0.1851\n"
     ]
    },
    {
     "name": "stderr",
     "output_type": "stream",
     "text": [
      "\u001b[36m(raylet)\u001b[0m Spilled 526600 MiB, 160 objects, write throughput 420 MiB/s.\n",
      "\u001b[36m(ClientAppActor pid=263069)\u001b[0m \u001b[93mWARNING \u001b[0m:   DEPRECATED FEATURE: `client_fn` now expects a signature `def client_fn(context: Context)`.The provided `client_fn` has signature: {'cid': <Parameter \"cid: str\">}. You can import the `Context` like this: `from flwr.common import Context`\n",
      "\u001b[36m(ClientAppActor pid=263069)\u001b[0m \n",
      "\u001b[36m(ClientAppActor pid=263069)\u001b[0m             This is a deprecated feature. It will be removed\n",
      "\u001b[36m(ClientAppActor pid=263069)\u001b[0m             entirely in future versions of Flower.\n",
      "\u001b[36m(ClientAppActor pid=263069)\u001b[0m         \n",
      "Testing:   0%|          | 0/92 [00:00<?, ?it/s]\n"
     ]
    },
    {
     "name": "stdout",
     "output_type": "stream",
     "text": [
      "\u001b[36m(ClientAppActor pid=263069)\u001b[0m [Client 9] Starting evaluation...\n"
     ]
    },
    {
     "name": "stderr",
     "output_type": "stream",
     "text": [
      "Testing:   8%|▊         | 7/92 [00:00<00:01, 63.35it/s]\n",
      "Testing:  16%|█▋        | 15/92 [00:00<00:01, 69.18it/s]\n",
      "Testing:  25%|██▌       | 23/92 [00:00<00:00, 70.26it/s]\n",
      "Testing:  60%|█████▉    | 55/92 [00:00<00:00, 161.57it/s]\n"
     ]
    },
    {
     "name": "stdout",
     "output_type": "stream",
     "text": [
      "\u001b[36m(ClientAppActor pid=263069)\u001b[0m ✅ [Client 9] Evaluation results - Loss: 2.4846, Accuracy: 0.0220\n"
     ]
    },
    {
     "name": "stderr",
     "output_type": "stream",
     "text": [
      "Testing: 100%|██████████| 92/92 [00:00<00:00, 163.26it/s]\n",
      "\u001b[36m(ClientAppActor pid=263068)\u001b[0m \n",
      "\u001b[36m(ClientAppActor pid=263068)\u001b[0m         \n",
      "\u001b[36m(ClientAppActor pid=263068)\u001b[0m \u001b[93mWARNING \u001b[0m:   DEPRECATED FEATURE: `client_fn` now expects a signature `def client_fn(context: Context)`.The provided `client_fn` has signature: {'cid': <Parameter \"cid: str\">}. You can import the `Context` like this: `from flwr.common import Context`\n",
      "\u001b[36m(ClientAppActor pid=263068)\u001b[0m             This is a deprecated feature. It will be removed\n",
      "\u001b[36m(ClientAppActor pid=263068)\u001b[0m             entirely in future versions of Flower.\n",
      "Testing:   0%|          | 0/93 [00:00<?, ?it/s]\n"
     ]
    },
    {
     "name": "stdout",
     "output_type": "stream",
     "text": [
      "\u001b[36m(ClientAppActor pid=263068)\u001b[0m [Client 1] Starting evaluation...\n"
     ]
    },
    {
     "name": "stderr",
     "output_type": "stream",
     "text": [
      "Testing:   8%|▊         | 7/93 [00:00<00:01, 68.85it/s]\n",
      "Testing:  16%|█▌        | 15/93 [00:00<00:01, 71.66it/s]\n",
      "Testing:  25%|██▍       | 23/93 [00:00<00:00, 75.10it/s]\n",
      "Testing:  35%|███▌      | 33/93 [00:00<00:00, 84.55it/s]\n",
      "Testing:  53%|█████▎    | 49/93 [00:00<00:00, 109.37it/s]\n",
      "Testing:  73%|███████▎  | 68/93 [00:00<00:00, 135.57it/s]\n",
      "Testing: 100%|██████████| 93/93 [00:00<00:00, 124.60it/s]\n"
     ]
    },
    {
     "name": "stdout",
     "output_type": "stream",
     "text": [
      "\u001b[36m(ClientAppActor pid=263068)\u001b[0m ✅ [Client 1] Evaluation results - Loss: 2.4840, Accuracy: 0.1559\n",
      "\u001b[36m(ClientAppActor pid=263069)\u001b[0m [Client 7] Starting evaluation...\n"
     ]
    },
    {
     "name": "stderr",
     "output_type": "stream",
     "text": [
      "\u001b[36m(ClientAppActor pid=263069)\u001b[0m \u001b[93mWARNING \u001b[0m:   DEPRECATED FEATURE: `client_fn` now expects a signature `def client_fn(context: Context)`.The provided `client_fn` has signature: {'cid': <Parameter \"cid: str\">}. You can import the `Context` like this: `from flwr.common import Context`\n",
      "\u001b[36m(ClientAppActor pid=263069)\u001b[0m \n",
      "\u001b[36m(ClientAppActor pid=263069)\u001b[0m             This is a deprecated feature. It will be removed\n",
      "\u001b[36m(ClientAppActor pid=263069)\u001b[0m             entirely in future versions of Flower.\n",
      "\u001b[36m(ClientAppActor pid=263069)\u001b[0m         \n",
      "Testing:   0%|          | 0/91 [00:00<?, ?it/s]\n",
      "Testing:   9%|▉         | 8/91 [00:00<00:01, 71.33it/s]\n",
      "Testing:  18%|█▊        | 16/91 [00:00<00:01, 74.60it/s]\n",
      "Testing:  26%|██▋       | 24/91 [00:00<00:00, 74.76it/s]\n",
      "Testing:  48%|████▊     | 44/91 [00:00<00:00, 121.53it/s]\n",
      "Testing:  71%|███████▏  | 65/91 [00:00<00:00, 150.68it/s]\n"
     ]
    },
    {
     "name": "stdout",
     "output_type": "stream",
     "text": [
      "\u001b[36m(ClientAppActor pid=263069)\u001b[0m ✅ [Client 7] Evaluation results - Loss: 2.4845, Accuracy: 0.0372\n"
     ]
    },
    {
     "name": "stderr",
     "output_type": "stream",
     "text": [
      "Testing: 100%|██████████| 91/91 [00:00<00:00, 149.18it/s]\n",
      "\u001b[36m(ClientAppActor pid=263068)\u001b[0m \n",
      "\u001b[36m(ClientAppActor pid=263068)\u001b[0m         \n",
      "Testing:   0%|          | 0/95 [00:00<?, ?it/s]\n",
      "\u001b[36m(ClientAppActor pid=263068)\u001b[0m \u001b[93mWARNING \u001b[0m:   DEPRECATED FEATURE: `client_fn` now expects a signature `def client_fn(context: Context)`.The provided `client_fn` has signature: {'cid': <Parameter \"cid: str\">}. You can import the `Context` like this: `from flwr.common import Context`\n",
      "\u001b[36m(ClientAppActor pid=263068)\u001b[0m             This is a deprecated feature. It will be removed\n",
      "\u001b[36m(ClientAppActor pid=263068)\u001b[0m             entirely in future versions of Flower.\n",
      "Testing:   7%|▋         | 7/95 [00:00<00:01, 69.60it/s]\n"
     ]
    },
    {
     "name": "stdout",
     "output_type": "stream",
     "text": [
      "\u001b[36m(ClientAppActor pid=263068)\u001b[0m [Client 3] Starting evaluation...\n"
     ]
    },
    {
     "name": "stderr",
     "output_type": "stream",
     "text": [
      "Testing:  16%|█▌        | 15/95 [00:00<00:01, 71.02it/s]\n",
      "Testing:  40%|████      | 38/95 [00:00<00:00, 137.58it/s]\n",
      "Testing:  74%|███████▎  | 70/95 [00:00<00:00, 205.03it/s]\n",
      "Testing: 100%|██████████| 95/95 [00:00<00:00, 191.21it/s]\n"
     ]
    },
    {
     "name": "stdout",
     "output_type": "stream",
     "text": [
      "\u001b[36m(ClientAppActor pid=263068)\u001b[0m ✅ [Client 3] Evaluation results - Loss: 2.4835, Accuracy: 0.1103\n",
      "\u001b[36m(ClientAppActor pid=263069)\u001b[0m [Client 4] Starting evaluation...\n"
     ]
    },
    {
     "name": "stderr",
     "output_type": "stream",
     "text": [
      "\u001b[36m(ClientAppActor pid=263069)\u001b[0m \u001b[93mWARNING \u001b[0m:   DEPRECATED FEATURE: `client_fn` now expects a signature `def client_fn(context: Context)`.The provided `client_fn` has signature: {'cid': <Parameter \"cid: str\">}. You can import the `Context` like this: `from flwr.common import Context`\n",
      "\u001b[36m(ClientAppActor pid=263069)\u001b[0m \n",
      "\u001b[36m(ClientAppActor pid=263069)\u001b[0m             This is a deprecated feature. It will be removed\n",
      "\u001b[36m(ClientAppActor pid=263069)\u001b[0m             entirely in future versions of Flower.\n",
      "\u001b[36m(ClientAppActor pid=263069)\u001b[0m         \n",
      "Testing:   0%|          | 0/93 [00:00<?, ?it/s]\n",
      "Testing:   9%|▊         | 8/93 [00:00<00:01, 72.80it/s]\n",
      "Testing:  17%|█▋        | 16/93 [00:00<00:01, 71.36it/s]\n",
      "Testing:  26%|██▌       | 24/93 [00:00<00:00, 73.04it/s]\n",
      "Testing:  63%|██████▎   | 59/93 [00:00<00:00, 175.34it/s]\n"
     ]
    },
    {
     "name": "stdout",
     "output_type": "stream",
     "text": [
      "\u001b[36m(ClientAppActor pid=263069)\u001b[0m ✅ [Client 4] Evaluation results - Loss: 2.4843, Accuracy: 0.0137\n"
     ]
    },
    {
     "name": "stderr",
     "output_type": "stream",
     "text": [
      "Testing: 100%|██████████| 93/93 [00:00<00:00, 176.66it/s]\n",
      "\u001b[36m(ClientAppActor pid=263068)\u001b[0m \n",
      "\u001b[36m(ClientAppActor pid=263068)\u001b[0m         \n",
      "Testing:   0%|          | 0/95 [00:00<?, ?it/s]\n",
      "\u001b[36m(ClientAppActor pid=263068)\u001b[0m \u001b[93mWARNING \u001b[0m:   DEPRECATED FEATURE: `client_fn` now expects a signature `def client_fn(context: Context)`.The provided `client_fn` has signature: {'cid': <Parameter \"cid: str\">}. You can import the `Context` like this: `from flwr.common import Context`\n",
      "\u001b[36m(ClientAppActor pid=263068)\u001b[0m             This is a deprecated feature. It will be removed\n",
      "\u001b[36m(ClientAppActor pid=263068)\u001b[0m             entirely in future versions of Flower.\n",
      "Testing:   8%|▊         | 8/95 [00:00<00:01, 73.81it/s]\n"
     ]
    },
    {
     "name": "stdout",
     "output_type": "stream",
     "text": [
      "\u001b[36m(ClientAppActor pid=263068)\u001b[0m [Client 5] Starting evaluation...\n"
     ]
    },
    {
     "name": "stderr",
     "output_type": "stream",
     "text": [
      "Testing:  17%|█▋        | 16/95 [00:00<00:01, 72.57it/s]\n",
      "Testing:  36%|███▌      | 34/95 [00:00<00:00, 118.77it/s]\n",
      "Testing:  75%|███████▍  | 71/95 [00:00<00:00, 214.30it/s]\n",
      "\u001b[92mINFO \u001b[0m:      aggregate_evaluate: received 12 results and 0 failures\n",
      "\u001b[92mINFO \u001b[0m:      \n",
      "\u001b[92mINFO \u001b[0m:      [ROUND 14]\n",
      "\u001b[92mINFO \u001b[0m:      configure_fit: strategy sampled 6 clients (out of 12)\n",
      "\u001b[92mINFO \u001b[0m:      aggregate_fit: received 0 results and 6 failures\n",
      "Testing: 100%|██████████| 95/95 [00:00<00:00, 189.27it/s]\n"
     ]
    },
    {
     "name": "stdout",
     "output_type": "stream",
     "text": [
      "✅ --- Server received 12 evaluation results in round 13 ---\n",
      "✅ --- Pareto selection for round 14 chose clients: ['7221885320893359682', '14315934176059193381', '3516174158176321985', '9722077455151739340', '17572866915993216550', '6369163841238069563'] ---\n",
      "\u001b[36m(ClientAppActor pid=263068)\u001b[0m ✅ [Client 5] Evaluation results - Loss: 2.4855, Accuracy: 0.0078\n"
     ]
    },
    {
     "name": "stderr",
     "output_type": "stream",
     "text": [
      "Testing: 100%|██████████| 91/91 [00:00<00:00, 307.00it/s]\n",
      "\u001b[92mINFO \u001b[0m:      fit progress: (14, 2.484785108775883, {'accuracy': 0.19553169379979218}, 1376.3459801089994)\n",
      "\u001b[92mINFO \u001b[0m:      configure_evaluate: strategy sampled 12 clients (out of 12)\n"
     ]
    },
    {
     "name": "stdout",
     "output_type": "stream",
     "text": [
      "============================================================\n",
      "✅ ROUND 14 SUMMARY - Global Model Performance:\n",
      "   Loss: 2.4848 | Accuracy: 0.1955\n",
      "============================================================\n"
     ]
    },
    {
     "name": "stderr",
     "output_type": "stream",
     "text": [
      "\u001b[36m(ClientAppActor pid=263068)\u001b[0m \u001b[93mWARNING \u001b[0m:   DEPRECATED FEATURE: `client_fn` now expects a signature `def client_fn(context: Context)`.The provided `client_fn` has signature: {'cid': <Parameter \"cid: str\">}. You can import the `Context` like this: `from flwr.common import Context`\n",
      "\u001b[36m(ClientAppActor pid=263068)\u001b[0m \n",
      "\u001b[36m(ClientAppActor pid=263068)\u001b[0m             This is a deprecated feature. It will be removed\n",
      "\u001b[36m(ClientAppActor pid=263068)\u001b[0m             entirely in future versions of Flower.\n",
      "\u001b[36m(ClientAppActor pid=263068)\u001b[0m         \n",
      "Testing:   0%|          | 0/91 [00:00<?, ?it/s]\n",
      "Testing:   9%|▉         | 8/91 [00:00<00:01, 71.46it/s]\n"
     ]
    },
    {
     "name": "stdout",
     "output_type": "stream",
     "text": [
      "\u001b[36m(ClientAppActor pid=263068)\u001b[0m [Client 11] Starting evaluation...\n"
     ]
    },
    {
     "name": "stderr",
     "output_type": "stream",
     "text": [
      "Testing:  18%|█▊        | 16/91 [00:00<00:01, 74.05it/s]\n",
      "Testing:  35%|███▌      | 32/91 [00:00<00:00, 110.09it/s]\n",
      "Testing:  69%|██████▉   | 63/91 [00:00<00:00, 184.27it/s]\n",
      "Testing: 100%|██████████| 91/91 [00:00<00:00, 180.18it/s]\n"
     ]
    },
    {
     "name": "stdout",
     "output_type": "stream",
     "text": [
      "\u001b[36m(ClientAppActor pid=263068)\u001b[0m ✅ [Client 11] Evaluation results - Loss: 2.4848, Accuracy: 0.1955\n",
      "\u001b[36m(ClientAppActor pid=263069)\u001b[0m [Client 2] Starting evaluation...\n"
     ]
    },
    {
     "name": "stderr",
     "output_type": "stream",
     "text": [
      "\u001b[36m(ClientAppActor pid=263069)\u001b[0m \n",
      "\u001b[36m(ClientAppActor pid=263069)\u001b[0m         \n",
      "\u001b[36m(ClientAppActor pid=263069)\u001b[0m \u001b[93mWARNING \u001b[0m:   DEPRECATED FEATURE: `client_fn` now expects a signature `def client_fn(context: Context)`.The provided `client_fn` has signature: {'cid': <Parameter \"cid: str\">}. You can import the `Context` like this: `from flwr.common import Context`\n",
      "\u001b[36m(ClientAppActor pid=263069)\u001b[0m             This is a deprecated feature. It will be removed\n",
      "\u001b[36m(ClientAppActor pid=263069)\u001b[0m             entirely in future versions of Flower.\n",
      "Testing:   0%|          | 0/93 [00:00<?, ?it/s]\n",
      "Testing:   9%|▊         | 8/93 [00:00<00:01, 71.72it/s]\n",
      "Testing:  17%|█▋        | 16/93 [00:00<00:01, 39.57it/s]\n",
      "Testing:  27%|██▋       | 25/93 [00:00<00:01, 53.01it/s]\n",
      "Testing:  37%|███▋      | 34/93 [00:00<00:00, 63.26it/s]\n",
      "Testing:  72%|███████▏  | 67/93 [00:00<00:00, 140.05it/s]\n"
     ]
    },
    {
     "name": "stdout",
     "output_type": "stream",
     "text": [
      "\u001b[36m(ClientAppActor pid=263069)\u001b[0m ✅ [Client 2] Evaluation results - Loss: 2.4850, Accuracy: 0.0059\n"
     ]
    },
    {
     "name": "stderr",
     "output_type": "stream",
     "text": [
      "Testing: 100%|██████████| 93/93 [00:00<00:00, 122.31it/s]\n",
      "\u001b[36m(ClientAppActor pid=263068)\u001b[0m \u001b[93mWARNING \u001b[0m:   DEPRECATED FEATURE: `client_fn` now expects a signature `def client_fn(context: Context)`.The provided `client_fn` has signature: {'cid': <Parameter \"cid: str\">}. You can import the `Context` like this: `from flwr.common import Context`\n",
      "\u001b[36m(ClientAppActor pid=263068)\u001b[0m \n",
      "\u001b[36m(ClientAppActor pid=263068)\u001b[0m             This is a deprecated feature. It will be removed\n",
      "\u001b[36m(ClientAppActor pid=263068)\u001b[0m             entirely in future versions of Flower.\n",
      "\u001b[36m(ClientAppActor pid=263068)\u001b[0m         \n",
      "Testing:   0%|          | 0/93 [00:00<?, ?it/s]\n",
      "Testing:   8%|▊         | 7/93 [00:00<00:01, 68.28it/s]\n"
     ]
    },
    {
     "name": "stdout",
     "output_type": "stream",
     "text": [
      "\u001b[36m(ClientAppActor pid=263068)\u001b[0m [Client 1] Starting evaluation...\n"
     ]
    },
    {
     "name": "stderr",
     "output_type": "stream",
     "text": [
      "Testing:  15%|█▌        | 14/93 [00:00<00:01, 69.24it/s]\n",
      "Testing:  34%|███▍      | 32/93 [00:00<00:00, 118.98it/s]\n",
      "Testing:  66%|██████▌   | 61/93 [00:00<00:00, 185.12it/s]\n",
      "Testing: 100%|██████████| 93/93 [00:00<00:00, 166.98it/s]\n"
     ]
    },
    {
     "name": "stdout",
     "output_type": "stream",
     "text": [
      "\u001b[36m(ClientAppActor pid=263068)\u001b[0m ✅ [Client 1] Evaluation results - Loss: 2.4840, Accuracy: 0.1559\n",
      "\u001b[36m(ClientAppActor pid=263069)\u001b[0m [Client 7] Starting evaluation...\n"
     ]
    },
    {
     "name": "stderr",
     "output_type": "stream",
     "text": [
      "\u001b[36m(ClientAppActor pid=263069)\u001b[0m \n",
      "\u001b[36m(ClientAppActor pid=263069)\u001b[0m         \n",
      "\u001b[36m(ClientAppActor pid=263069)\u001b[0m \u001b[93mWARNING \u001b[0m:   DEPRECATED FEATURE: `client_fn` now expects a signature `def client_fn(context: Context)`.The provided `client_fn` has signature: {'cid': <Parameter \"cid: str\">}. You can import the `Context` like this: `from flwr.common import Context`\n",
      "\u001b[36m(ClientAppActor pid=263069)\u001b[0m             This is a deprecated feature. It will be removed\n",
      "\u001b[36m(ClientAppActor pid=263069)\u001b[0m             entirely in future versions of Flower.\n",
      "Testing:   0%|          | 0/91 [00:00<?, ?it/s]\n",
      "Testing:   8%|▊         | 7/91 [00:00<00:01, 65.01it/s]\n",
      "Testing:  16%|█▋        | 15/91 [00:00<00:01, 68.38it/s]\n",
      "Testing:  35%|███▌      | 32/91 [00:00<00:00, 111.21it/s]\n",
      "Testing: 100%|██████████| 91/91 [00:00<00:00, 183.76it/s]\n"
     ]
    },
    {
     "name": "stdout",
     "output_type": "stream",
     "text": [
      "\u001b[36m(ClientAppActor pid=263069)\u001b[0m ✅ [Client 7] Evaluation results - Loss: 2.4845, Accuracy: 0.0372\n"
     ]
    },
    {
     "name": "stderr",
     "output_type": "stream",
     "text": [
      "\u001b[36m(ClientAppActor pid=263068)\u001b[0m \u001b[93mWARNING \u001b[0m:   DEPRECATED FEATURE: `client_fn` now expects a signature `def client_fn(context: Context)`.The provided `client_fn` has signature: {'cid': <Parameter \"cid: str\">}. You can import the `Context` like this: `from flwr.common import Context`\n",
      "\u001b[36m(ClientAppActor pid=263068)\u001b[0m \n",
      "\u001b[36m(ClientAppActor pid=263068)\u001b[0m             This is a deprecated feature. It will be removed\n",
      "\u001b[36m(ClientAppActor pid=263068)\u001b[0m             entirely in future versions of Flower.\n",
      "\u001b[36m(ClientAppActor pid=263068)\u001b[0m         \n",
      "Testing:   0%|          | 0/98 [00:00<?, ?it/s]\n"
     ]
    },
    {
     "name": "stdout",
     "output_type": "stream",
     "text": [
      "\u001b[36m(ClientAppActor pid=263068)\u001b[0m [Client 6] Starting evaluation...\n"
     ]
    },
    {
     "name": "stderr",
     "output_type": "stream",
     "text": [
      "Testing:   8%|▊         | 8/98 [00:00<00:01, 70.03it/s]\n",
      "Testing:  16%|█▋        | 16/98 [00:00<00:01, 70.39it/s]\n",
      "Testing:  24%|██▍       | 24/98 [00:00<00:01, 69.77it/s]\n",
      "Testing:  55%|█████▌    | 54/98 [00:00<00:00, 151.74it/s]\n",
      "Testing:  79%|███████▊  | 77/98 [00:00<00:00, 178.19it/s]\n",
      "Testing: 100%|██████████| 98/98 [00:00<00:00, 152.16it/s]\n"
     ]
    },
    {
     "name": "stdout",
     "output_type": "stream",
     "text": [
      "\u001b[36m(ClientAppActor pid=263068)\u001b[0m ✅ [Client 6] Evaluation results - Loss: 2.4845, Accuracy: 0.0079\n",
      "\u001b[36m(ClientAppActor pid=263069)\u001b[0m [Client 5] Starting evaluation...\n"
     ]
    },
    {
     "name": "stderr",
     "output_type": "stream",
     "text": [
      "\u001b[36m(ClientAppActor pid=263069)\u001b[0m \n",
      "\u001b[36m(ClientAppActor pid=263069)\u001b[0m         \n",
      "\u001b[36m(ClientAppActor pid=263069)\u001b[0m \u001b[93mWARNING \u001b[0m:   DEPRECATED FEATURE: `client_fn` now expects a signature `def client_fn(context: Context)`.The provided `client_fn` has signature: {'cid': <Parameter \"cid: str\">}. You can import the `Context` like this: `from flwr.common import Context`\n",
      "\u001b[36m(ClientAppActor pid=263069)\u001b[0m             This is a deprecated feature. It will be removed\n",
      "\u001b[36m(ClientAppActor pid=263069)\u001b[0m             entirely in future versions of Flower.\n",
      "Testing:   0%|          | 0/95 [00:00<?, ?it/s]\n",
      "Testing:   7%|▋         | 7/95 [00:00<00:01, 66.34it/s]\n",
      "Testing:  37%|███▋      | 35/95 [00:00<00:00, 131.32it/s]\n",
      "Testing:  64%|██████▍   | 61/95 [00:00<00:00, 178.93it/s]\n",
      "Testing:  98%|█████████▊| 93/95 [00:00<00:00, 228.15it/s]\n"
     ]
    },
    {
     "name": "stdout",
     "output_type": "stream",
     "text": [
      "\u001b[36m(ClientAppActor pid=263069)\u001b[0m ✅ [Client 5] Evaluation results - Loss: 2.4855, Accuracy: 0.0078\n"
     ]
    },
    {
     "name": "stderr",
     "output_type": "stream",
     "text": [
      "Testing: 100%|██████████| 95/95 [00:00<00:00, 182.18it/s]\n",
      "\u001b[36m(ClientAppActor pid=263068)\u001b[0m \u001b[93mWARNING \u001b[0m:   DEPRECATED FEATURE: `client_fn` now expects a signature `def client_fn(context: Context)`.The provided `client_fn` has signature: {'cid': <Parameter \"cid: str\">}. You can import the `Context` like this: `from flwr.common import Context`\n",
      "\u001b[36m(ClientAppActor pid=263068)\u001b[0m \n",
      "\u001b[36m(ClientAppActor pid=263068)\u001b[0m             This is a deprecated feature. It will be removed\n",
      "\u001b[36m(ClientAppActor pid=263068)\u001b[0m             entirely in future versions of Flower.\n",
      "\u001b[36m(ClientAppActor pid=263068)\u001b[0m         \n",
      "Testing:   0%|          | 0/93 [00:00<?, ?it/s]\n"
     ]
    },
    {
     "name": "stdout",
     "output_type": "stream",
     "text": [
      "\u001b[36m(ClientAppActor pid=263068)\u001b[0m [Client 0] Starting evaluation...\n"
     ]
    },
    {
     "name": "stderr",
     "output_type": "stream",
     "text": [
      "Testing:   9%|▊         | 8/93 [00:00<00:01, 73.19it/s]\n",
      "Testing:  17%|█▋        | 16/93 [00:00<00:01, 71.88it/s]\n",
      "Testing:  27%|██▋       | 25/93 [00:00<00:00, 77.32it/s]\n",
      "Testing:  37%|███▋      | 34/93 [00:00<00:00, 81.85it/s]\n",
      "Testing:  71%|███████   | 66/93 [00:00<00:00, 164.02it/s]\n",
      "Testing: 100%|██████████| 93/93 [00:00<00:00, 153.75it/s]\n"
     ]
    },
    {
     "name": "stdout",
     "output_type": "stream",
     "text": [
      "\u001b[36m(ClientAppActor pid=263068)\u001b[0m ✅ [Client 0] Evaluation results - Loss: 2.4839, Accuracy: 0.1977\n"
     ]
    },
    {
     "name": "stderr",
     "output_type": "stream",
     "text": [
      "\u001b[36m(ClientAppActor pid=263069)\u001b[0m \n",
      "\u001b[36m(ClientAppActor pid=263069)\u001b[0m         \n",
      "\u001b[36m(ClientAppActor pid=263069)\u001b[0m \u001b[93mWARNING \u001b[0m:   DEPRECATED FEATURE: `client_fn` now expects a signature `def client_fn(context: Context)`.The provided `client_fn` has signature: {'cid': <Parameter \"cid: str\">}. You can import the `Context` like this: `from flwr.common import Context`\n",
      "\u001b[36m(ClientAppActor pid=263069)\u001b[0m             This is a deprecated feature. It will be removed\n",
      "\u001b[36m(ClientAppActor pid=263069)\u001b[0m             entirely in future versions of Flower.\n",
      "Testing:   0%|          | 0/91 [00:00<?, ?it/s]\n"
     ]
    },
    {
     "name": "stdout",
     "output_type": "stream",
     "text": [
      "\u001b[36m(ClientAppActor pid=263069)\u001b[0m [Client 8] Starting evaluation...\n"
     ]
    },
    {
     "name": "stderr",
     "output_type": "stream",
     "text": [
      "Testing:   9%|▉         | 8/91 [00:00<00:01, 73.26it/s]\n",
      "Testing:  18%|█▊        | 16/91 [00:00<00:01, 72.68it/s]\n",
      "Testing:  51%|█████     | 46/91 [00:00<00:00, 170.67it/s]\n",
      "Testing: 100%|██████████| 91/91 [00:00<00:00, 196.02it/s]\n"
     ]
    },
    {
     "name": "stdout",
     "output_type": "stream",
     "text": [
      "\u001b[36m(ClientAppActor pid=263069)\u001b[0m ✅ [Client 8] Evaluation results - Loss: 2.4832, Accuracy: 0.0880\n"
     ]
    },
    {
     "name": "stderr",
     "output_type": "stream",
     "text": [
      "\u001b[36m(ClientAppActor pid=263068)\u001b[0m \u001b[93mWARNING \u001b[0m:   DEPRECATED FEATURE: `client_fn` now expects a signature `def client_fn(context: Context)`.The provided `client_fn` has signature: {'cid': <Parameter \"cid: str\">}. You can import the `Context` like this: `from flwr.common import Context`\n",
      "\u001b[36m(ClientAppActor pid=263068)\u001b[0m \n",
      "\u001b[36m(ClientAppActor pid=263068)\u001b[0m             This is a deprecated feature. It will be removed\n",
      "\u001b[36m(ClientAppActor pid=263068)\u001b[0m             entirely in future versions of Flower.\n",
      "\u001b[36m(ClientAppActor pid=263068)\u001b[0m         \n",
      "Testing:   0%|          | 0/83 [00:00<?, ?it/s]\n"
     ]
    },
    {
     "name": "stdout",
     "output_type": "stream",
     "text": [
      "\u001b[36m(ClientAppActor pid=263068)\u001b[0m [Client 10] Starting evaluation...\n"
     ]
    },
    {
     "name": "stderr",
     "output_type": "stream",
     "text": [
      "Testing:   8%|▊         | 7/83 [00:00<00:01, 64.88it/s]\n",
      "Testing:  17%|█▋        | 14/83 [00:00<00:01, 65.61it/s]\n",
      "Testing:  28%|██▊       | 23/83 [00:00<00:00, 75.01it/s]\n",
      "Testing:  41%|████      | 34/83 [00:00<00:00, 88.02it/s]\n",
      "Testing: 100%|██████████| 83/83 [00:00<00:00, 145.34it/s]\n"
     ]
    },
    {
     "name": "stdout",
     "output_type": "stream",
     "text": [
      "\u001b[36m(ClientAppActor pid=263068)\u001b[0m ✅ [Client 10] Evaluation results - Loss: 2.4847, Accuracy: 0.1851\n"
     ]
    },
    {
     "name": "stderr",
     "output_type": "stream",
     "text": [
      "\u001b[36m(ClientAppActor pid=263069)\u001b[0m \n",
      "\u001b[36m(ClientAppActor pid=263069)\u001b[0m         \n",
      "\u001b[36m(ClientAppActor pid=263069)\u001b[0m \u001b[93mWARNING \u001b[0m:   DEPRECATED FEATURE: `client_fn` now expects a signature `def client_fn(context: Context)`.The provided `client_fn` has signature: {'cid': <Parameter \"cid: str\">}. You can import the `Context` like this: `from flwr.common import Context`\n",
      "\u001b[36m(ClientAppActor pid=263069)\u001b[0m             This is a deprecated feature. It will be removed\n",
      "\u001b[36m(ClientAppActor pid=263069)\u001b[0m             entirely in future versions of Flower.\n",
      "Testing:   0%|          | 0/92 [00:00<?, ?it/s]\n",
      "Testing:   9%|▊         | 8/92 [00:00<00:01, 70.12it/s]\n"
     ]
    },
    {
     "name": "stdout",
     "output_type": "stream",
     "text": [
      "\u001b[36m(ClientAppActor pid=263069)\u001b[0m [Client 9] Starting evaluation...\n"
     ]
    },
    {
     "name": "stderr",
     "output_type": "stream",
     "text": [
      "Testing:  17%|█▋        | 16/92 [00:00<00:01, 72.01it/s]\n",
      "Testing:  27%|██▋       | 25/92 [00:00<00:00, 75.80it/s]\n",
      "Testing:  38%|███▊      | 35/92 [00:00<00:00, 84.12it/s]\n",
      "Testing:  73%|███████▎  | 67/92 [00:00<00:00, 165.07it/s]\n"
     ]
    },
    {
     "name": "stdout",
     "output_type": "stream",
     "text": [
      "\u001b[36m(ClientAppActor pid=263069)\u001b[0m ✅ [Client 9] Evaluation results - Loss: 2.4846, Accuracy: 0.0220\n"
     ]
    },
    {
     "name": "stderr",
     "output_type": "stream",
     "text": [
      "Testing: 100%|██████████| 92/92 [00:00<00:00, 150.18it/s]\n",
      "\u001b[36m(ClientAppActor pid=263068)\u001b[0m \u001b[93mWARNING \u001b[0m:   DEPRECATED FEATURE: `client_fn` now expects a signature `def client_fn(context: Context)`.The provided `client_fn` has signature: {'cid': <Parameter \"cid: str\">}. You can import the `Context` like this: `from flwr.common import Context`\n",
      "\u001b[36m(ClientAppActor pid=263068)\u001b[0m \n",
      "\u001b[36m(ClientAppActor pid=263068)\u001b[0m             This is a deprecated feature. It will be removed\n",
      "\u001b[36m(ClientAppActor pid=263068)\u001b[0m             entirely in future versions of Flower.\n",
      "\u001b[36m(ClientAppActor pid=263068)\u001b[0m         \n",
      "Testing:   0%|          | 0/93 [00:00<?, ?it/s]\n"
     ]
    },
    {
     "name": "stdout",
     "output_type": "stream",
     "text": [
      "\u001b[36m(ClientAppActor pid=263068)\u001b[0m [Client 4] Starting evaluation...\n"
     ]
    },
    {
     "name": "stderr",
     "output_type": "stream",
     "text": [
      "Testing:   9%|▊         | 8/93 [00:00<00:01, 68.97it/s]\n",
      "Testing:  16%|█▌        | 15/93 [00:00<00:01, 67.42it/s]\n",
      "Testing:  44%|████▍     | 41/93 [00:00<00:00, 150.47it/s]\n",
      "Testing:  80%|███████▉  | 74/93 [00:00<00:00, 218.38it/s]\n",
      "Testing: 100%|██████████| 93/93 [00:00<00:00, 183.46it/s]\n"
     ]
    },
    {
     "name": "stdout",
     "output_type": "stream",
     "text": [
      "\u001b[36m(ClientAppActor pid=263068)\u001b[0m ✅ [Client 4] Evaluation results - Loss: 2.4843, Accuracy: 0.0137\n",
      "\u001b[36m(ClientAppActor pid=263069)\u001b[0m [Client 3] Starting evaluation...\n"
     ]
    },
    {
     "name": "stderr",
     "output_type": "stream",
     "text": [
      "\u001b[36m(ClientAppActor pid=263069)\u001b[0m \n",
      "\u001b[36m(ClientAppActor pid=263069)\u001b[0m         \n",
      "\u001b[36m(ClientAppActor pid=263069)\u001b[0m \u001b[93mWARNING \u001b[0m:   DEPRECATED FEATURE: `client_fn` now expects a signature `def client_fn(context: Context)`.The provided `client_fn` has signature: {'cid': <Parameter \"cid: str\">}. You can import the `Context` like this: `from flwr.common import Context`\n",
      "\u001b[36m(ClientAppActor pid=263069)\u001b[0m             This is a deprecated feature. It will be removed\n",
      "\u001b[36m(ClientAppActor pid=263069)\u001b[0m             entirely in future versions of Flower.\n",
      "Testing:   0%|          | 0/95 [00:00<?, ?it/s]\n",
      "Testing:   8%|▊         | 8/95 [00:00<00:01, 71.02it/s]\n",
      "Testing:  17%|█▋        | 16/95 [00:00<00:01, 68.04it/s]\n",
      "Testing:  42%|████▏     | 40/95 [00:00<00:00, 138.60it/s]\n",
      "Testing:  81%|████████  | 77/95 [00:00<00:00, 224.12it/s]\n",
      "\u001b[92mINFO \u001b[0m:      aggregate_evaluate: received 12 results and 0 failures\n",
      "\u001b[92mINFO \u001b[0m:      \n",
      "\u001b[92mINFO \u001b[0m:      [ROUND 15]\n",
      "\u001b[92mINFO \u001b[0m:      configure_fit: strategy sampled 6 clients (out of 12)\n",
      "\u001b[92mINFO \u001b[0m:      aggregate_fit: received 0 results and 6 failures\n"
     ]
    },
    {
     "name": "stdout",
     "output_type": "stream",
     "text": [
      "✅ --- Server received 12 evaluation results in round 14 ---\n",
      "✅ --- Pareto selection for round 15 chose clients: ['6369163841238069563', '2884736955283487405', '15868316647030128318', '3343832528087936700', '14315934176059193381', '7288326149512088850'] ---\n"
     ]
    },
    {
     "name": "stderr",
     "output_type": "stream",
     "text": [
      "Testing: 100%|██████████| 95/95 [00:00<00:00, 194.67it/s]ntAppActor pid=263069)\u001b[0m \n",
      "Testing:  32%|███▏      | 29/91 [00:00<00:00, 288.19it/s]"
     ]
    },
    {
     "name": "stdout",
     "output_type": "stream",
     "text": [
      "\u001b[36m(ClientAppActor pid=263069)\u001b[0m ✅ [Client 3] Evaluation results - Loss: 2.4835, Accuracy: 0.1103\n"
     ]
    },
    {
     "name": "stderr",
     "output_type": "stream",
     "text": [
      "Testing: 100%|██████████| 91/91 [00:00<00:00, 267.13it/s]\n",
      "\u001b[92mINFO \u001b[0m:      fit progress: (15, 2.484785108775883, {'accuracy': 0.19553169379979218}, 1482.6966367540008)\n",
      "\u001b[92mINFO \u001b[0m:      configure_evaluate: strategy sampled 12 clients (out of 12)\n"
     ]
    },
    {
     "name": "stdout",
     "output_type": "stream",
     "text": [
      "============================================================\n",
      "✅ ROUND 15 SUMMARY - Global Model Performance:\n",
      "   Loss: 2.4848 | Accuracy: 0.1955\n",
      "============================================================\n",
      "\u001b[36m(ClientAppActor pid=263069)\u001b[0m [Client 2] Starting evaluation...\n"
     ]
    },
    {
     "name": "stderr",
     "output_type": "stream",
     "text": [
      "\u001b[36m(ClientAppActor pid=263069)\u001b[0m \u001b[93mWARNING \u001b[0m:   DEPRECATED FEATURE: `client_fn` now expects a signature `def client_fn(context: Context)`.The provided `client_fn` has signature: {'cid': <Parameter \"cid: str\">}. You can import the `Context` like this: `from flwr.common import Context`\n",
      "\u001b[36m(ClientAppActor pid=263069)\u001b[0m \n",
      "\u001b[36m(ClientAppActor pid=263069)\u001b[0m             This is a deprecated feature. It will be removed\n",
      "\u001b[36m(ClientAppActor pid=263069)\u001b[0m             entirely in future versions of Flower.\n",
      "\u001b[36m(ClientAppActor pid=263069)\u001b[0m         \n",
      "Testing:   0%|          | 0/93 [00:00<?, ?it/s]\n",
      "Testing:   9%|▊         | 8/93 [00:00<00:01, 72.65it/s]\n",
      "Testing:  17%|█▋        | 16/93 [00:00<00:01, 75.68it/s]\n",
      "Testing:  26%|██▌       | 24/93 [00:00<00:00, 77.12it/s]\n",
      "Testing:  48%|████▊     | 45/93 [00:00<00:00, 128.39it/s]\n",
      "Testing:  82%|████████▏ | 76/93 [00:00<00:00, 191.23it/s]\n"
     ]
    },
    {
     "name": "stdout",
     "output_type": "stream",
     "text": [
      "\u001b[36m(ClientAppActor pid=263069)\u001b[0m ✅ [Client 2] Evaluation results - Loss: 2.4850, Accuracy: 0.0059\n"
     ]
    },
    {
     "name": "stderr",
     "output_type": "stream",
     "text": [
      "Testing: 100%|██████████| 93/93 [00:00<00:00, 158.67it/s]\n",
      "\u001b[36m(ClientAppActor pid=263068)\u001b[0m \n",
      "\u001b[36m(ClientAppActor pid=263068)\u001b[0m         \n",
      "\u001b[36m(ClientAppActor pid=263068)\u001b[0m \u001b[93mWARNING \u001b[0m:   DEPRECATED FEATURE: `client_fn` now expects a signature `def client_fn(context: Context)`.The provided `client_fn` has signature: {'cid': <Parameter \"cid: str\">}. You can import the `Context` like this: `from flwr.common import Context`\n",
      "\u001b[36m(ClientAppActor pid=263068)\u001b[0m             This is a deprecated feature. It will be removed\n",
      "\u001b[36m(ClientAppActor pid=263068)\u001b[0m             entirely in future versions of Flower.\n",
      "Testing:   0%|          | 0/93 [00:00<?, ?it/s]\n",
      "Testing:   8%|▊         | 7/93 [00:00<00:01, 69.74it/s]\n"
     ]
    },
    {
     "name": "stdout",
     "output_type": "stream",
     "text": [
      "\u001b[36m(ClientAppActor pid=263068)\u001b[0m [Client 4] Starting evaluation...\n"
     ]
    },
    {
     "name": "stderr",
     "output_type": "stream",
     "text": [
      "Testing:  16%|█▌        | 15/93 [00:00<00:01, 70.11it/s]\n",
      "Testing:  27%|██▋       | 25/93 [00:00<00:00, 82.96it/s]\n",
      "Testing:  66%|██████▌   | 61/93 [00:00<00:00, 187.25it/s]\n",
      "Testing: 100%|██████████| 93/93 [00:00<00:00, 180.06it/s]\n"
     ]
    },
    {
     "name": "stdout",
     "output_type": "stream",
     "text": [
      "\u001b[36m(ClientAppActor pid=263068)\u001b[0m ✅ [Client 4] Evaluation results - Loss: 2.4843, Accuracy: 0.0137\n",
      "\u001b[36m(ClientAppActor pid=263069)\u001b[0m [Client 0] Starting evaluation...\n"
     ]
    },
    {
     "name": "stderr",
     "output_type": "stream",
     "text": [
      "\u001b[36m(ClientAppActor pid=263069)\u001b[0m \u001b[93mWARNING \u001b[0m:   DEPRECATED FEATURE: `client_fn` now expects a signature `def client_fn(context: Context)`.The provided `client_fn` has signature: {'cid': <Parameter \"cid: str\">}. You can import the `Context` like this: `from flwr.common import Context`\n",
      "\u001b[36m(ClientAppActor pid=263069)\u001b[0m \n",
      "\u001b[36m(ClientAppActor pid=263069)\u001b[0m             This is a deprecated feature. It will be removed\n",
      "\u001b[36m(ClientAppActor pid=263069)\u001b[0m             entirely in future versions of Flower.\n",
      "\u001b[36m(ClientAppActor pid=263069)\u001b[0m         \n",
      "Testing:   0%|          | 0/93 [00:00<?, ?it/s]\n",
      "Testing:   9%|▊         | 8/93 [00:00<00:01, 70.80it/s]\n",
      "Testing:  17%|█▋        | 16/93 [00:00<00:01, 71.07it/s]\n",
      "Testing:  47%|████▋     | 44/93 [00:00<00:00, 160.10it/s]\n"
     ]
    },
    {
     "name": "stdout",
     "output_type": "stream",
     "text": [
      "\u001b[36m(ClientAppActor pid=263069)\u001b[0m ✅ [Client 0] Evaluation results - Loss: 2.4839, Accuracy: 0.1977\n"
     ]
    },
    {
     "name": "stderr",
     "output_type": "stream",
     "text": [
      "Testing: 100%|██████████| 93/93 [00:00<00:00, 196.02it/s]\n",
      "\u001b[36m(ClientAppActor pid=263068)\u001b[0m \n",
      "\u001b[36m(ClientAppActor pid=263068)\u001b[0m         \n",
      "Testing:   0%|          | 0/92 [00:00<?, ?it/s]\n",
      "\u001b[36m(ClientAppActor pid=263068)\u001b[0m \u001b[93mWARNING \u001b[0m:   DEPRECATED FEATURE: `client_fn` now expects a signature `def client_fn(context: Context)`.The provided `client_fn` has signature: {'cid': <Parameter \"cid: str\">}. You can import the `Context` like this: `from flwr.common import Context`\n",
      "\u001b[36m(ClientAppActor pid=263068)\u001b[0m             This is a deprecated feature. It will be removed\n",
      "\u001b[36m(ClientAppActor pid=263068)\u001b[0m             entirely in future versions of Flower.\n",
      "Testing:   8%|▊         | 7/92 [00:00<00:01, 65.35it/s]\n"
     ]
    },
    {
     "name": "stdout",
     "output_type": "stream",
     "text": [
      "\u001b[36m(ClientAppActor pid=263068)\u001b[0m [Client 9] Starting evaluation...\n"
     ]
    },
    {
     "name": "stderr",
     "output_type": "stream",
     "text": [
      "Testing:  15%|█▌        | 14/92 [00:00<00:01, 67.58it/s]\n",
      "Testing:  49%|████▉     | 45/92 [00:00<00:00, 175.41it/s]\n",
      "Testing: 100%|██████████| 92/92 [00:00<00:00, 211.46it/s]\n"
     ]
    },
    {
     "name": "stdout",
     "output_type": "stream",
     "text": [
      "\u001b[36m(ClientAppActor pid=263068)\u001b[0m ✅ [Client 9] Evaluation results - Loss: 2.4846, Accuracy: 0.0220\n",
      "\u001b[36m(ClientAppActor pid=263069)\u001b[0m [Client 8] Starting evaluation...\n"
     ]
    },
    {
     "name": "stderr",
     "output_type": "stream",
     "text": [
      "\u001b[36m(ClientAppActor pid=263069)\u001b[0m \u001b[93mWARNING \u001b[0m:   DEPRECATED FEATURE: `client_fn` now expects a signature `def client_fn(context: Context)`.The provided `client_fn` has signature: {'cid': <Parameter \"cid: str\">}. You can import the `Context` like this: `from flwr.common import Context`\n",
      "\u001b[36m(ClientAppActor pid=263069)\u001b[0m \n",
      "\u001b[36m(ClientAppActor pid=263069)\u001b[0m             This is a deprecated feature. It will be removed\n",
      "\u001b[36m(ClientAppActor pid=263069)\u001b[0m             entirely in future versions of Flower.\n",
      "\u001b[36m(ClientAppActor pid=263069)\u001b[0m         \n",
      "Testing:   0%|          | 0/91 [00:00<?, ?it/s]\n",
      "Testing:   9%|▉         | 8/91 [00:00<00:01, 74.96it/s]\n",
      "Testing:  18%|█▊        | 16/91 [00:00<00:01, 74.59it/s]\n",
      "Testing:  26%|██▋       | 24/91 [00:00<00:00, 76.69it/s]\n",
      "Testing:  45%|████▌     | 41/91 [00:00<00:00, 111.50it/s]\n",
      "Testing:  82%|████████▏ | 75/91 [00:00<00:00, 190.56it/s]\n"
     ]
    },
    {
     "name": "stdout",
     "output_type": "stream",
     "text": [
      "\u001b[36m(ClientAppActor pid=263069)\u001b[0m ✅ [Client 8] Evaluation results - Loss: 2.4832, Accuracy: 0.0880\n"
     ]
    },
    {
     "name": "stderr",
     "output_type": "stream",
     "text": [
      "Testing: 100%|██████████| 91/91 [00:00<00:00, 161.48it/s]\n",
      "\u001b[36m(ClientAppActor pid=263068)\u001b[0m \n",
      "\u001b[36m(ClientAppActor pid=263068)\u001b[0m         \n",
      "Testing:   0%|          | 0/93 [00:00<?, ?it/s]\n",
      "\u001b[36m(ClientAppActor pid=263068)\u001b[0m \u001b[93mWARNING \u001b[0m:   DEPRECATED FEATURE: `client_fn` now expects a signature `def client_fn(context: Context)`.The provided `client_fn` has signature: {'cid': <Parameter \"cid: str\">}. You can import the `Context` like this: `from flwr.common import Context`\n",
      "\u001b[36m(ClientAppActor pid=263068)\u001b[0m             This is a deprecated feature. It will be removed\n",
      "\u001b[36m(ClientAppActor pid=263068)\u001b[0m             entirely in future versions of Flower.\n",
      "Testing:   9%|▊         | 8/93 [00:00<00:01, 70.51it/s]\n"
     ]
    },
    {
     "name": "stdout",
     "output_type": "stream",
     "text": [
      "\u001b[36m(ClientAppActor pid=263068)\u001b[0m [Client 1] Starting evaluation...\n"
     ]
    },
    {
     "name": "stderr",
     "output_type": "stream",
     "text": [
      "Testing:  18%|█▊        | 17/93 [00:00<00:00, 80.34it/s]\n",
      "Testing:  52%|█████▏    | 48/93 [00:00<00:00, 178.61it/s]\n",
      "Testing:  76%|███████▋  | 71/93 [00:00<00:00, 197.13it/s]\n",
      "Testing: 100%|██████████| 93/93 [00:00<00:00, 187.99it/s]\n"
     ]
    },
    {
     "name": "stdout",
     "output_type": "stream",
     "text": [
      "\u001b[36m(ClientAppActor pid=263068)\u001b[0m ✅ [Client 1] Evaluation results - Loss: 2.4840, Accuracy: 0.1559\n",
      "\u001b[36m(ClientAppActor pid=263069)\u001b[0m [Client 5] Starting evaluation...\n"
     ]
    },
    {
     "name": "stderr",
     "output_type": "stream",
     "text": [
      "\u001b[36m(ClientAppActor pid=263069)\u001b[0m \u001b[93mWARNING \u001b[0m:   DEPRECATED FEATURE: `client_fn` now expects a signature `def client_fn(context: Context)`.The provided `client_fn` has signature: {'cid': <Parameter \"cid: str\">}. You can import the `Context` like this: `from flwr.common import Context`\n",
      "\u001b[36m(ClientAppActor pid=263069)\u001b[0m \n",
      "\u001b[36m(ClientAppActor pid=263069)\u001b[0m             This is a deprecated feature. It will be removed\n",
      "\u001b[36m(ClientAppActor pid=263069)\u001b[0m             entirely in future versions of Flower.\n",
      "\u001b[36m(ClientAppActor pid=263069)\u001b[0m         \n",
      "Testing:   0%|          | 0/95 [00:00<?, ?it/s]\n",
      "Testing:   7%|▋         | 7/95 [00:00<00:01, 68.21it/s]\n",
      "Testing:  16%|█▌        | 15/95 [00:00<00:01, 70.81it/s]\n",
      "Testing:  24%|██▍       | 23/95 [00:00<00:00, 72.61it/s]\n",
      "Testing:  52%|█████▏    | 49/95 [00:00<00:00, 142.93it/s]\n",
      "Testing:  88%|████████▊ | 84/95 [00:00<00:00, 215.30it/s]\n"
     ]
    },
    {
     "name": "stdout",
     "output_type": "stream",
     "text": [
      "\u001b[36m(ClientAppActor pid=263069)\u001b[0m ✅ [Client 5] Evaluation results - Loss: 2.4855, Accuracy: 0.0078\n"
     ]
    },
    {
     "name": "stderr",
     "output_type": "stream",
     "text": [
      "Testing: 100%|██████████| 95/95 [00:00<00:00, 172.52it/s]\n",
      "\u001b[36m(ClientAppActor pid=263068)\u001b[0m \n",
      "\u001b[36m(ClientAppActor pid=263068)\u001b[0m         \n",
      "Testing:   0%|          | 0/91 [00:00<?, ?it/s]\n",
      "\u001b[36m(ClientAppActor pid=263068)\u001b[0m \u001b[93mWARNING \u001b[0m:   DEPRECATED FEATURE: `client_fn` now expects a signature `def client_fn(context: Context)`.The provided `client_fn` has signature: {'cid': <Parameter \"cid: str\">}. You can import the `Context` like this: `from flwr.common import Context`\n",
      "\u001b[36m(ClientAppActor pid=263068)\u001b[0m             This is a deprecated feature. It will be removed\n",
      "\u001b[36m(ClientAppActor pid=263068)\u001b[0m             entirely in future versions of Flower.\n",
      "Testing:   9%|▉         | 8/91 [00:00<00:01, 70.69it/s]\n"
     ]
    },
    {
     "name": "stdout",
     "output_type": "stream",
     "text": [
      "\u001b[36m(ClientAppActor pid=263068)\u001b[0m [Client 11] Starting evaluation...\n"
     ]
    },
    {
     "name": "stderr",
     "output_type": "stream",
     "text": [
      "Testing:  18%|█▊        | 16/91 [00:00<00:01, 73.05it/s]\n",
      "Testing:  26%|██▋       | 24/91 [00:00<00:00, 72.31it/s]\n",
      "Testing:  53%|█████▎    | 48/91 [00:00<00:00, 134.43it/s]\n",
      "Testing:  84%|████████▎ | 76/91 [00:00<00:00, 183.06it/s]\n",
      "Testing: 100%|██████████| 91/91 [00:00<00:00, 155.86it/s]\n"
     ]
    },
    {
     "name": "stdout",
     "output_type": "stream",
     "text": [
      "\u001b[36m(ClientAppActor pid=263068)\u001b[0m ✅ [Client 11] Evaluation results - Loss: 2.4848, Accuracy: 0.1955\n",
      "\u001b[36m(ClientAppActor pid=263069)\u001b[0m [Client 10] Starting evaluation...\n"
     ]
    },
    {
     "name": "stderr",
     "output_type": "stream",
     "text": [
      "\u001b[36m(ClientAppActor pid=263069)\u001b[0m \u001b[93mWARNING \u001b[0m:   DEPRECATED FEATURE: `client_fn` now expects a signature `def client_fn(context: Context)`.The provided `client_fn` has signature: {'cid': <Parameter \"cid: str\">}. You can import the `Context` like this: `from flwr.common import Context`\n",
      "\u001b[36m(ClientAppActor pid=263069)\u001b[0m \n",
      "\u001b[36m(ClientAppActor pid=263069)\u001b[0m             This is a deprecated feature. It will be removed\n",
      "\u001b[36m(ClientAppActor pid=263069)\u001b[0m             entirely in future versions of Flower.\n",
      "\u001b[36m(ClientAppActor pid=263069)\u001b[0m         \n",
      "Testing:   0%|          | 0/83 [00:00<?, ?it/s]\n",
      "Testing:   8%|▊         | 7/83 [00:00<00:01, 63.07it/s]\n",
      "Testing:  18%|█▊        | 15/83 [00:00<00:00, 70.40it/s]\n",
      "Testing:  28%|██▊       | 23/83 [00:00<00:00, 72.66it/s]\n",
      "Testing:  64%|██████▍   | 53/83 [00:00<00:00, 158.43it/s]\n"
     ]
    },
    {
     "name": "stdout",
     "output_type": "stream",
     "text": [
      "\u001b[36m(ClientAppActor pid=263069)\u001b[0m ✅ [Client 10] Evaluation results - Loss: 2.4847, Accuracy: 0.1851\n"
     ]
    },
    {
     "name": "stderr",
     "output_type": "stream",
     "text": [
      "Testing: 100%|██████████| 83/83 [00:00<00:00, 161.58it/s]\n",
      "\u001b[36m(ClientAppActor pid=263068)\u001b[0m \n",
      "\u001b[36m(ClientAppActor pid=263068)\u001b[0m         \n",
      "\u001b[36m(ClientAppActor pid=263068)\u001b[0m \u001b[93mWARNING \u001b[0m:   DEPRECATED FEATURE: `client_fn` now expects a signature `def client_fn(context: Context)`.The provided `client_fn` has signature: {'cid': <Parameter \"cid: str\">}. You can import the `Context` like this: `from flwr.common import Context`\n",
      "\u001b[36m(ClientAppActor pid=263068)\u001b[0m             This is a deprecated feature. It will be removed\n",
      "\u001b[36m(ClientAppActor pid=263068)\u001b[0m             entirely in future versions of Flower.\n",
      "Testing:   0%|          | 0/98 [00:00<?, ?it/s]\n",
      "Testing:   7%|▋         | 7/98 [00:00<00:01, 67.96it/s]\n"
     ]
    },
    {
     "name": "stdout",
     "output_type": "stream",
     "text": [
      "\u001b[36m(ClientAppActor pid=263068)\u001b[0m [Client 6] Starting evaluation...\n"
     ]
    },
    {
     "name": "stderr",
     "output_type": "stream",
     "text": [
      "Testing:  15%|█▌        | 15/98 [00:00<00:01, 71.60it/s]\n",
      "Testing:  23%|██▎       | 23/98 [00:00<00:01, 73.28it/s]\n",
      "Testing:  50%|█████     | 49/98 [00:00<00:00, 143.01it/s]\n",
      "Testing:  83%|████████▎ | 81/98 [00:00<00:00, 203.69it/s]\n",
      "Testing: 100%|██████████| 98/98 [00:00<00:00, 172.93it/s]\n"
     ]
    },
    {
     "name": "stdout",
     "output_type": "stream",
     "text": [
      "\u001b[36m(ClientAppActor pid=263068)\u001b[0m ✅ [Client 6] Evaluation results - Loss: 2.4845, Accuracy: 0.0079\n",
      "\u001b[36m(ClientAppActor pid=263069)\u001b[0m [Client 7] Starting evaluation...\n"
     ]
    },
    {
     "name": "stderr",
     "output_type": "stream",
     "text": [
      "\u001b[36m(ClientAppActor pid=263069)\u001b[0m \u001b[93mWARNING \u001b[0m:   DEPRECATED FEATURE: `client_fn` now expects a signature `def client_fn(context: Context)`.The provided `client_fn` has signature: {'cid': <Parameter \"cid: str\">}. You can import the `Context` like this: `from flwr.common import Context`\n",
      "\u001b[36m(ClientAppActor pid=263069)\u001b[0m \n",
      "\u001b[36m(ClientAppActor pid=263069)\u001b[0m             This is a deprecated feature. It will be removed\n",
      "\u001b[36m(ClientAppActor pid=263069)\u001b[0m             entirely in future versions of Flower.\n",
      "\u001b[36m(ClientAppActor pid=263069)\u001b[0m         \n",
      "Testing:   0%|          | 0/91 [00:00<?, ?it/s]\n",
      "Testing:   9%|▉         | 8/91 [00:00<00:01, 69.08it/s]\n",
      "Testing:  18%|█▊        | 16/91 [00:00<00:01, 70.12it/s]\n",
      "Testing:  40%|███▉      | 36/91 [00:00<00:00, 124.09it/s]\n",
      "Testing: 100%|██████████| 91/91 [00:00<00:00, 185.83it/s]\n"
     ]
    },
    {
     "name": "stdout",
     "output_type": "stream",
     "text": [
      "\u001b[36m(ClientAppActor pid=263069)\u001b[0m ✅ [Client 7] Evaluation results - Loss: 2.4845, Accuracy: 0.0372\n"
     ]
    },
    {
     "name": "stderr",
     "output_type": "stream",
     "text": [
      "\u001b[36m(ClientAppActor pid=263068)\u001b[0m \n",
      "\u001b[36m(ClientAppActor pid=263068)\u001b[0m         \n",
      "\u001b[36m(ClientAppActor pid=263068)\u001b[0m \u001b[93mWARNING \u001b[0m:   DEPRECATED FEATURE: `client_fn` now expects a signature `def client_fn(context: Context)`.The provided `client_fn` has signature: {'cid': <Parameter \"cid: str\">}. You can import the `Context` like this: `from flwr.common import Context`\n",
      "\u001b[36m(ClientAppActor pid=263068)\u001b[0m             This is a deprecated feature. It will be removed\n",
      "\u001b[36m(ClientAppActor pid=263068)\u001b[0m             entirely in future versions of Flower.\n",
      "Testing:   0%|          | 0/95 [00:00<?, ?it/s]\n"
     ]
    },
    {
     "name": "stdout",
     "output_type": "stream",
     "text": [
      "\u001b[36m(ClientAppActor pid=263068)\u001b[0m [Client 3] Starting evaluation...\n"
     ]
    },
    {
     "name": "stderr",
     "output_type": "stream",
     "text": [
      "Testing:   7%|▋         | 7/95 [00:00<00:01, 66.61it/s]\n",
      "Testing:  16%|█▌        | 15/95 [00:00<00:01, 70.32it/s]\n",
      "Testing:  26%|██▋       | 25/95 [00:00<00:00, 82.37it/s]\n",
      "Testing:  62%|██████▏   | 59/95 [00:00<00:00, 179.70it/s]\n",
      "\u001b[92mINFO \u001b[0m:      aggregate_evaluate: received 12 results and 0 failures\n",
      "\u001b[92mINFO \u001b[0m:      \n",
      "\u001b[92mINFO \u001b[0m:      [ROUND 16]\n",
      "\u001b[92mINFO \u001b[0m:      configure_fit: strategy sampled 6 clients (out of 12)\n",
      "\u001b[92mINFO \u001b[0m:      aggregate_fit: received 0 results and 6 failures\n"
     ]
    },
    {
     "name": "stdout",
     "output_type": "stream",
     "text": [
      "✅ --- Server received 12 evaluation results in round 15 ---\n",
      "✅ --- Pareto selection for round 16 chose clients: ['9722077455151739340', '2884736955283487405', '10273312183111562667', '7288326149512088850', '3343832528087936700', '15868316647030128318'] ---\n"
     ]
    },
    {
     "name": "stderr",
     "output_type": "stream",
     "text": [
      "Testing: 100%|██████████| 95/95 [00:00<00:00, 182.46it/s]ntAppActor pid=263068)\u001b[0m \n",
      "Testing:  20%|█▉        | 18/91 [00:00<00:00, 175.27it/s]"
     ]
    },
    {
     "name": "stdout",
     "output_type": "stream",
     "text": [
      "\u001b[36m(ClientAppActor pid=263068)\u001b[0m ✅ [Client 3] Evaluation results - Loss: 2.4835, Accuracy: 0.1103\n"
     ]
    },
    {
     "name": "stderr",
     "output_type": "stream",
     "text": [
      "Testing: 100%|██████████| 91/91 [00:00<00:00, 231.88it/s]\n",
      "\u001b[92mINFO \u001b[0m:      fit progress: (16, 2.484785108775883, {'accuracy': 0.19553169379979218}, 1589.1387543399978)\n",
      "\u001b[92mINFO \u001b[0m:      configure_evaluate: strategy sampled 12 clients (out of 12)\n"
     ]
    },
    {
     "name": "stdout",
     "output_type": "stream",
     "text": [
      "============================================================\n",
      "✅ ROUND 16 SUMMARY - Global Model Performance:\n",
      "   Loss: 2.4848 | Accuracy: 0.1955\n",
      "============================================================\n"
     ]
    },
    {
     "name": "stderr",
     "output_type": "stream",
     "text": [
      "\u001b[36m(ClientAppActor pid=263068)\u001b[0m \u001b[93mWARNING \u001b[0m:   DEPRECATED FEATURE: `client_fn` now expects a signature `def client_fn(context: Context)`.The provided `client_fn` has signature: {'cid': <Parameter \"cid: str\">}. You can import the `Context` like this: `from flwr.common import Context`\n",
      "\u001b[36m(ClientAppActor pid=263068)\u001b[0m \n",
      "\u001b[36m(ClientAppActor pid=263068)\u001b[0m             This is a deprecated feature. It will be removed\n",
      "\u001b[36m(ClientAppActor pid=263068)\u001b[0m             entirely in future versions of Flower.\n",
      "\u001b[36m(ClientAppActor pid=263068)\u001b[0m         \n",
      "Testing:   0%|          | 0/91 [00:00<?, ?it/s]\n"
     ]
    },
    {
     "name": "stdout",
     "output_type": "stream",
     "text": [
      "\u001b[36m(ClientAppActor pid=263068)\u001b[0m [Client 8] Starting evaluation...\n"
     ]
    },
    {
     "name": "stderr",
     "output_type": "stream",
     "text": [
      "Testing:   8%|▊         | 7/91 [00:00<00:01, 69.33it/s]\n",
      "Testing:  15%|█▌        | 14/91 [00:00<00:01, 69.64it/s]\n",
      "Testing:  24%|██▍       | 22/91 [00:00<00:00, 71.98it/s]\n",
      "Testing:  33%|███▎      | 30/91 [00:00<00:01, 50.84it/s]\n",
      "Testing:  68%|██████▊   | 62/91 [00:00<00:00, 123.93it/s]\n",
      "Testing: 100%|██████████| 91/91 [00:00<00:00, 126.18it/s]\n"
     ]
    },
    {
     "name": "stdout",
     "output_type": "stream",
     "text": [
      "\u001b[36m(ClientAppActor pid=263068)\u001b[0m ✅ [Client 8] Evaluation results - Loss: 2.4832, Accuracy: 0.0880\n",
      "\u001b[36m(ClientAppActor pid=263069)\u001b[0m [Client 2] Starting evaluation...\n"
     ]
    },
    {
     "name": "stderr",
     "output_type": "stream",
     "text": [
      "\u001b[36m(ClientAppActor pid=263069)\u001b[0m \n",
      "\u001b[36m(ClientAppActor pid=263069)\u001b[0m         \n",
      "\u001b[36m(ClientAppActor pid=263069)\u001b[0m \u001b[93mWARNING \u001b[0m:   DEPRECATED FEATURE: `client_fn` now expects a signature `def client_fn(context: Context)`.The provided `client_fn` has signature: {'cid': <Parameter \"cid: str\">}. You can import the `Context` like this: `from flwr.common import Context`\n",
      "\u001b[36m(ClientAppActor pid=263069)\u001b[0m             This is a deprecated feature. It will be removed\n",
      "\u001b[36m(ClientAppActor pid=263069)\u001b[0m             entirely in future versions of Flower.\n",
      "Testing:   0%|          | 0/93 [00:00<?, ?it/s]\n",
      "Testing:   8%|▊         | 7/93 [00:00<00:01, 62.77it/s]\n",
      "Testing:  16%|█▌        | 15/93 [00:00<00:01, 69.53it/s]\n",
      "Testing:  25%|██▍       | 23/93 [00:00<00:00, 72.71it/s]\n",
      "Testing:  44%|████▍     | 41/93 [00:00<00:00, 112.88it/s]\n",
      "Testing:  81%|████████  | 75/93 [00:00<00:00, 191.05it/s]\n"
     ]
    },
    {
     "name": "stdout",
     "output_type": "stream",
     "text": [
      "\u001b[36m(ClientAppActor pid=263069)\u001b[0m ✅ [Client 2] Evaluation results - Loss: 2.4850, Accuracy: 0.0059\n"
     ]
    },
    {
     "name": "stderr",
     "output_type": "stream",
     "text": [
      "Testing: 100%|██████████| 93/93 [00:00<00:00, 159.58it/s]\n",
      "\u001b[36m(ClientAppActor pid=263068)\u001b[0m \u001b[93mWARNING \u001b[0m:   DEPRECATED FEATURE: `client_fn` now expects a signature `def client_fn(context: Context)`.The provided `client_fn` has signature: {'cid': <Parameter \"cid: str\">}. You can import the `Context` like this: `from flwr.common import Context`\n",
      "\u001b[36m(ClientAppActor pid=263068)\u001b[0m \n",
      "\u001b[36m(ClientAppActor pid=263068)\u001b[0m             This is a deprecated feature. It will be removed\n",
      "\u001b[36m(ClientAppActor pid=263068)\u001b[0m             entirely in future versions of Flower.\n",
      "\u001b[36m(ClientAppActor pid=263068)\u001b[0m         \n",
      "Testing:   0%|          | 0/95 [00:00<?, ?it/s]\n"
     ]
    },
    {
     "name": "stdout",
     "output_type": "stream",
     "text": [
      "\u001b[36m(ClientAppActor pid=263068)\u001b[0m [Client 3] Starting evaluation...\n"
     ]
    },
    {
     "name": "stderr",
     "output_type": "stream",
     "text": [
      "Testing:   8%|▊         | 8/95 [00:00<00:01, 71.63it/s]\n",
      "Testing:  17%|█▋        | 16/95 [00:00<00:01, 70.60it/s]\n",
      "Testing:  35%|███▍      | 33/95 [00:00<00:00, 111.89it/s]\n",
      "Testing:  63%|██████▎   | 60/95 [00:00<00:00, 169.49it/s]\n",
      "Testing: 100%|██████████| 95/95 [00:00<00:00, 180.67it/s]\n"
     ]
    },
    {
     "name": "stdout",
     "output_type": "stream",
     "text": [
      "\u001b[36m(ClientAppActor pid=263068)\u001b[0m ✅ [Client 3] Evaluation results - Loss: 2.4835, Accuracy: 0.1103\n"
     ]
    },
    {
     "name": "stderr",
     "output_type": "stream",
     "text": [
      "\u001b[36m(ClientAppActor pid=263069)\u001b[0m \n",
      "\u001b[36m(ClientAppActor pid=263069)\u001b[0m         \n",
      "\u001b[36m(ClientAppActor pid=263069)\u001b[0m \u001b[93mWARNING \u001b[0m:   DEPRECATED FEATURE: `client_fn` now expects a signature `def client_fn(context: Context)`.The provided `client_fn` has signature: {'cid': <Parameter \"cid: str\">}. You can import the `Context` like this: `from flwr.common import Context`\n",
      "\u001b[36m(ClientAppActor pid=263069)\u001b[0m             This is a deprecated feature. It will be removed\n",
      "\u001b[36m(ClientAppActor pid=263069)\u001b[0m             entirely in future versions of Flower.\n",
      "Testing:   0%|          | 0/98 [00:00<?, ?it/s]\n"
     ]
    },
    {
     "name": "stdout",
     "output_type": "stream",
     "text": [
      "\u001b[36m(ClientAppActor pid=263069)\u001b[0m [Client 6] Starting evaluation...\n"
     ]
    },
    {
     "name": "stderr",
     "output_type": "stream",
     "text": [
      "Testing:   7%|▋         | 7/98 [00:00<00:01, 69.58it/s]\n",
      "Testing:  15%|█▌        | 15/98 [00:00<00:01, 69.95it/s]\n",
      "Testing:  37%|███▋      | 36/98 [00:00<00:00, 129.21it/s]\n",
      "Testing:  68%|██████▊   | 67/98 [00:00<00:00, 196.79it/s]\n"
     ]
    },
    {
     "name": "stdout",
     "output_type": "stream",
     "text": [
      "\u001b[36m(ClientAppActor pid=263069)\u001b[0m ✅ [Client 6] Evaluation results - Loss: 2.4845, Accuracy: 0.0079\n"
     ]
    },
    {
     "name": "stderr",
     "output_type": "stream",
     "text": [
      "Testing: 100%|██████████| 98/98 [00:00<00:00, 186.66it/s]\n",
      "\u001b[36m(ClientAppActor pid=263068)\u001b[0m \u001b[93mWARNING \u001b[0m:   DEPRECATED FEATURE: `client_fn` now expects a signature `def client_fn(context: Context)`.The provided `client_fn` has signature: {'cid': <Parameter \"cid: str\">}. You can import the `Context` like this: `from flwr.common import Context`\n",
      "\u001b[36m(ClientAppActor pid=263068)\u001b[0m \n",
      "\u001b[36m(ClientAppActor pid=263068)\u001b[0m             This is a deprecated feature. It will be removed\n",
      "\u001b[36m(ClientAppActor pid=263068)\u001b[0m             entirely in future versions of Flower.\n",
      "\u001b[36m(ClientAppActor pid=263068)\u001b[0m         \n",
      "Testing:   0%|          | 0/93 [00:00<?, ?it/s]\n"
     ]
    },
    {
     "name": "stdout",
     "output_type": "stream",
     "text": [
      "\u001b[36m(ClientAppActor pid=263068)\u001b[0m [Client 4] Starting evaluation...\n"
     ]
    },
    {
     "name": "stderr",
     "output_type": "stream",
     "text": [
      "Testing:   9%|▊         | 8/93 [00:00<00:01, 74.51it/s]\n",
      "Testing:  17%|█▋        | 16/93 [00:00<00:01, 72.74it/s]\n",
      "Testing:  26%|██▌       | 24/93 [00:00<00:00, 70.82it/s]\n",
      "Testing:  58%|█████▊    | 54/93 [00:00<00:00, 153.67it/s]\n",
      "Testing: 100%|██████████| 93/93 [00:00<00:00, 169.64it/s]\n"
     ]
    },
    {
     "name": "stdout",
     "output_type": "stream",
     "text": [
      "\u001b[36m(ClientAppActor pid=263068)\u001b[0m ✅ [Client 4] Evaluation results - Loss: 2.4843, Accuracy: 0.0137\n",
      "\u001b[36m(ClientAppActor pid=263069)\u001b[0m [Client 0] Starting evaluation...\n"
     ]
    },
    {
     "name": "stderr",
     "output_type": "stream",
     "text": [
      "\u001b[36m(ClientAppActor pid=263069)\u001b[0m \n",
      "\u001b[36m(ClientAppActor pid=263069)\u001b[0m         \n",
      "\u001b[36m(ClientAppActor pid=263069)\u001b[0m \u001b[93mWARNING \u001b[0m:   DEPRECATED FEATURE: `client_fn` now expects a signature `def client_fn(context: Context)`.The provided `client_fn` has signature: {'cid': <Parameter \"cid: str\">}. You can import the `Context` like this: `from flwr.common import Context`\n",
      "\u001b[36m(ClientAppActor pid=263069)\u001b[0m             This is a deprecated feature. It will be removed\n",
      "\u001b[36m(ClientAppActor pid=263069)\u001b[0m             entirely in future versions of Flower.\n",
      "Testing:   0%|          | 0/93 [00:00<?, ?it/s]\n",
      "Testing:   8%|▊         | 7/93 [00:00<00:01, 67.86it/s]\n",
      "Testing:  16%|█▌        | 15/93 [00:00<00:01, 71.77it/s]\n",
      "Testing:  25%|██▍       | 23/93 [00:00<00:00, 71.31it/s]\n",
      "Testing:  56%|█████▌    | 52/93 [00:00<00:00, 152.27it/s]\n",
      "Testing: 100%|██████████| 93/93 [00:00<00:00, 171.89it/s]\n"
     ]
    },
    {
     "name": "stdout",
     "output_type": "stream",
     "text": [
      "\u001b[36m(ClientAppActor pid=263069)\u001b[0m ✅ [Client 0] Evaluation results - Loss: 2.4839, Accuracy: 0.1977\n"
     ]
    },
    {
     "name": "stderr",
     "output_type": "stream",
     "text": [
      "\u001b[36m(ClientAppActor pid=263068)\u001b[0m \u001b[93mWARNING \u001b[0m:   DEPRECATED FEATURE: `client_fn` now expects a signature `def client_fn(context: Context)`.The provided `client_fn` has signature: {'cid': <Parameter \"cid: str\">}. You can import the `Context` like this: `from flwr.common import Context`\n",
      "\u001b[36m(ClientAppActor pid=263068)\u001b[0m \n",
      "\u001b[36m(ClientAppActor pid=263068)\u001b[0m             This is a deprecated feature. It will be removed\n",
      "\u001b[36m(ClientAppActor pid=263068)\u001b[0m             entirely in future versions of Flower.\n",
      "\u001b[36m(ClientAppActor pid=263068)\u001b[0m         \n",
      "Testing:   0%|          | 0/93 [00:00<?, ?it/s]\n"
     ]
    },
    {
     "name": "stdout",
     "output_type": "stream",
     "text": [
      "\u001b[36m(ClientAppActor pid=263068)\u001b[0m [Client 1] Starting evaluation...\n"
     ]
    },
    {
     "name": "stderr",
     "output_type": "stream",
     "text": [
      "Testing:   9%|▊         | 8/93 [00:00<00:01, 69.39it/s]\n",
      "Testing:  17%|█▋        | 16/93 [00:00<00:01, 70.09it/s]\n",
      "Testing:  45%|████▌     | 42/93 [00:00<00:00, 149.64it/s]\n",
      "Testing:  71%|███████   | 66/93 [00:00<00:00, 182.68it/s]\n",
      "Testing: 100%|██████████| 93/93 [00:00<00:00, 164.82it/s]\n"
     ]
    },
    {
     "name": "stdout",
     "output_type": "stream",
     "text": [
      "\u001b[36m(ClientAppActor pid=263068)\u001b[0m ✅ [Client 1] Evaluation results - Loss: 2.4840, Accuracy: 0.1559\n"
     ]
    },
    {
     "name": "stderr",
     "output_type": "stream",
     "text": [
      "\u001b[36m(ClientAppActor pid=263069)\u001b[0m \n",
      "\u001b[36m(ClientAppActor pid=263069)\u001b[0m         \n",
      "\u001b[36m(ClientAppActor pid=263069)\u001b[0m \u001b[93mWARNING \u001b[0m:   DEPRECATED FEATURE: `client_fn` now expects a signature `def client_fn(context: Context)`.The provided `client_fn` has signature: {'cid': <Parameter \"cid: str\">}. You can import the `Context` like this: `from flwr.common import Context`\n",
      "\u001b[36m(ClientAppActor pid=263069)\u001b[0m             This is a deprecated feature. It will be removed\n",
      "\u001b[36m(ClientAppActor pid=263069)\u001b[0m             entirely in future versions of Flower.\n",
      "Testing:   0%|          | 0/95 [00:00<?, ?it/s]\n"
     ]
    },
    {
     "name": "stdout",
     "output_type": "stream",
     "text": [
      "\u001b[36m(ClientAppActor pid=263069)\u001b[0m [Client 5] Starting evaluation...\n"
     ]
    },
    {
     "name": "stderr",
     "output_type": "stream",
     "text": [
      "Testing:   7%|▋         | 7/95 [00:00<00:01, 68.61it/s]\n",
      "Testing:  15%|█▍        | 14/95 [00:00<00:01, 67.78it/s]\n",
      "Testing:  23%|██▎       | 22/95 [00:00<00:00, 73.13it/s]\n",
      "Testing:  36%|███▌      | 34/95 [00:00<00:00, 89.98it/s]\n",
      "Testing:  68%|██████▊   | 65/95 [00:00<00:00, 166.86it/s]\n",
      "Testing: 100%|██████████| 95/95 [00:00<00:00, 158.01it/s]\n"
     ]
    },
    {
     "name": "stdout",
     "output_type": "stream",
     "text": [
      "\u001b[36m(ClientAppActor pid=263069)\u001b[0m ✅ [Client 5] Evaluation results - Loss: 2.4855, Accuracy: 0.0078\n"
     ]
    },
    {
     "name": "stderr",
     "output_type": "stream",
     "text": [
      "\u001b[36m(ClientAppActor pid=263068)\u001b[0m \u001b[93mWARNING \u001b[0m:   DEPRECATED FEATURE: `client_fn` now expects a signature `def client_fn(context: Context)`.The provided `client_fn` has signature: {'cid': <Parameter \"cid: str\">}. You can import the `Context` like this: `from flwr.common import Context`\n",
      "\u001b[36m(ClientAppActor pid=263068)\u001b[0m \n",
      "\u001b[36m(ClientAppActor pid=263068)\u001b[0m             This is a deprecated feature. It will be removed\n",
      "\u001b[36m(ClientAppActor pid=263068)\u001b[0m             entirely in future versions of Flower.\n",
      "\u001b[36m(ClientAppActor pid=263068)\u001b[0m         \n",
      "Testing:   0%|          | 0/83 [00:00<?, ?it/s]\n",
      "Testing:  10%|▉         | 8/83 [00:00<00:01, 71.61it/s]\n"
     ]
    },
    {
     "name": "stdout",
     "output_type": "stream",
     "text": [
      "\u001b[36m(ClientAppActor pid=263068)\u001b[0m [Client 10] Starting evaluation...\n"
     ]
    },
    {
     "name": "stderr",
     "output_type": "stream",
     "text": [
      "Testing:  19%|█▉        | 16/83 [00:00<00:00, 74.94it/s]\n",
      "Testing:  30%|███       | 25/83 [00:00<00:00, 80.08it/s]\n",
      "Testing:  60%|██████    | 50/83 [00:00<00:00, 143.97it/s]\n",
      "Testing:  88%|████████▊ | 73/83 [00:00<00:00, 170.86it/s]\n",
      "Testing: 100%|██████████| 83/83 [00:00<00:00, 148.46it/s]\n"
     ]
    },
    {
     "name": "stdout",
     "output_type": "stream",
     "text": [
      "\u001b[36m(ClientAppActor pid=263068)\u001b[0m ✅ [Client 10] Evaluation results - Loss: 2.4847, Accuracy: 0.1851\n",
      "\u001b[36m(ClientAppActor pid=263069)\u001b[0m [Client 7] Starting evaluation...\n"
     ]
    },
    {
     "name": "stderr",
     "output_type": "stream",
     "text": [
      "\u001b[36m(ClientAppActor pid=263069)\u001b[0m \n",
      "\u001b[36m(ClientAppActor pid=263069)\u001b[0m         \n",
      "\u001b[36m(ClientAppActor pid=263069)\u001b[0m \u001b[93mWARNING \u001b[0m:   DEPRECATED FEATURE: `client_fn` now expects a signature `def client_fn(context: Context)`.The provided `client_fn` has signature: {'cid': <Parameter \"cid: str\">}. You can import the `Context` like this: `from flwr.common import Context`\n",
      "\u001b[36m(ClientAppActor pid=263069)\u001b[0m             This is a deprecated feature. It will be removed\n",
      "\u001b[36m(ClientAppActor pid=263069)\u001b[0m             entirely in future versions of Flower.\n",
      "Testing:   0%|          | 0/91 [00:00<?, ?it/s]\n",
      "Testing:   8%|▊         | 7/91 [00:00<00:01, 69.07it/s]\n",
      "Testing:  15%|█▌        | 14/91 [00:00<00:01, 67.35it/s]\n",
      "Testing:  24%|██▍       | 22/91 [00:00<00:00, 72.87it/s]\n",
      "Testing:  58%|█████▊    | 53/91 [00:00<00:00, 163.41it/s]\n"
     ]
    },
    {
     "name": "stdout",
     "output_type": "stream",
     "text": [
      "\u001b[36m(ClientAppActor pid=263069)\u001b[0m ✅ [Client 7] Evaluation results - Loss: 2.4845, Accuracy: 0.0372\n"
     ]
    },
    {
     "name": "stderr",
     "output_type": "stream",
     "text": [
      "Testing: 100%|██████████| 91/91 [00:00<00:00, 173.73it/s]\n",
      "\u001b[36m(ClientAppActor pid=263068)\u001b[0m \u001b[93mWARNING \u001b[0m:   DEPRECATED FEATURE: `client_fn` now expects a signature `def client_fn(context: Context)`.The provided `client_fn` has signature: {'cid': <Parameter \"cid: str\">}. You can import the `Context` like this: `from flwr.common import Context`\n",
      "\u001b[36m(ClientAppActor pid=263068)\u001b[0m \n",
      "\u001b[36m(ClientAppActor pid=263068)\u001b[0m             This is a deprecated feature. It will be removed\n",
      "\u001b[36m(ClientAppActor pid=263068)\u001b[0m             entirely in future versions of Flower.\n",
      "\u001b[36m(ClientAppActor pid=263068)\u001b[0m         \n",
      "Testing:   0%|          | 0/92 [00:00<?, ?it/s]\n",
      "Testing:   8%|▊         | 7/92 [00:00<00:01, 68.15it/s]\n"
     ]
    },
    {
     "name": "stdout",
     "output_type": "stream",
     "text": [
      "\u001b[36m(ClientAppActor pid=263068)\u001b[0m [Client 9] Starting evaluation...\n"
     ]
    },
    {
     "name": "stderr",
     "output_type": "stream",
     "text": [
      "Testing:  15%|█▌        | 14/92 [00:00<00:01, 68.81it/s]\n",
      "Testing:  24%|██▍       | 22/92 [00:00<00:00, 71.49it/s]\n",
      "Testing:  65%|██████▌   | 60/92 [00:00<00:00, 188.62it/s]\n",
      "Testing: 100%|██████████| 92/92 [00:00<00:00, 171.23it/s]\n"
     ]
    },
    {
     "name": "stdout",
     "output_type": "stream",
     "text": [
      "\u001b[36m(ClientAppActor pid=263068)\u001b[0m ✅ [Client 9] Evaluation results - Loss: 2.4846, Accuracy: 0.0220\n"
     ]
    },
    {
     "name": "stderr",
     "output_type": "stream",
     "text": [
      "\u001b[36m(ClientAppActor pid=263069)\u001b[0m \n",
      "\u001b[36m(ClientAppActor pid=263069)\u001b[0m         \n",
      "\u001b[36m(ClientAppActor pid=263069)\u001b[0m \u001b[93mWARNING \u001b[0m:   DEPRECATED FEATURE: `client_fn` now expects a signature `def client_fn(context: Context)`.The provided `client_fn` has signature: {'cid': <Parameter \"cid: str\">}. You can import the `Context` like this: `from flwr.common import Context`\n",
      "\u001b[36m(ClientAppActor pid=263069)\u001b[0m             This is a deprecated feature. It will be removed\n",
      "\u001b[36m(ClientAppActor pid=263069)\u001b[0m             entirely in future versions of Flower.\n",
      "Testing:   0%|          | 0/91 [00:00<?, ?it/s]\n"
     ]
    },
    {
     "name": "stdout",
     "output_type": "stream",
     "text": [
      "\u001b[36m(ClientAppActor pid=263069)\u001b[0m [Client 11] Starting evaluation...\n"
     ]
    },
    {
     "name": "stderr",
     "output_type": "stream",
     "text": [
      "Testing:   9%|▉         | 8/91 [00:00<00:01, 74.93it/s]\n",
      "Testing:  18%|█▊        | 16/91 [00:00<00:01, 71.15it/s]\n",
      "Testing:  34%|███▍      | 31/91 [00:00<00:00, 104.25it/s]\n",
      "Testing:  74%|███████▎  | 67/91 [00:00<00:00, 199.82it/s]\n",
      "\u001b[92mINFO \u001b[0m:      aggregate_evaluate: received 12 results and 0 failures\n",
      "\u001b[92mINFO \u001b[0m:      \n",
      "\u001b[92mINFO \u001b[0m:      [ROUND 17]\n",
      "\u001b[92mINFO \u001b[0m:      configure_fit: strategy sampled 6 clients (out of 12)\n",
      "\u001b[92mINFO \u001b[0m:      aggregate_fit: received 0 results and 6 failures\n"
     ]
    },
    {
     "name": "stdout",
     "output_type": "stream",
     "text": [
      "✅ --- Server received 12 evaluation results in round 16 ---\n",
      "✅ --- Pareto selection for round 17 chose clients: ['9722077455151739340', '14315934176059193381', '3343832528087936700', '15100500063491518048', '15868316647030128318', '6369163841238069563'] ---\n"
     ]
    },
    {
     "name": "stderr",
     "output_type": "stream",
     "text": [
      "Testing: 100%|██████████| 91/91 [00:00<00:00, 183.60it/s]ntAppActor pid=263069)\u001b[0m \n",
      "Testing:  30%|██▉       | 27/91 [00:00<00:00, 261.01it/s]"
     ]
    },
    {
     "name": "stdout",
     "output_type": "stream",
     "text": [
      "\u001b[36m(ClientAppActor pid=263069)\u001b[0m ✅ [Client 11] Evaluation results - Loss: 2.4848, Accuracy: 0.1955\n"
     ]
    },
    {
     "name": "stderr",
     "output_type": "stream",
     "text": [
      "Testing: 100%|██████████| 91/91 [00:00<00:00, 282.77it/s]\n",
      "\u001b[92mINFO \u001b[0m:      fit progress: (17, 2.484785108775883, {'accuracy': 0.19553169379979218}, 1692.1629901579981)\n",
      "\u001b[92mINFO \u001b[0m:      configure_evaluate: strategy sampled 12 clients (out of 12)\n"
     ]
    },
    {
     "name": "stdout",
     "output_type": "stream",
     "text": [
      "============================================================\n",
      "✅ ROUND 17 SUMMARY - Global Model Performance:\n",
      "   Loss: 2.4848 | Accuracy: 0.1955\n",
      "============================================================\n",
      "\u001b[36m(ClientAppActor pid=263069)\u001b[0m [Client 2] Starting evaluation...\n"
     ]
    },
    {
     "name": "stderr",
     "output_type": "stream",
     "text": [
      "\u001b[36m(ClientAppActor pid=263069)\u001b[0m \u001b[93mWARNING \u001b[0m:   DEPRECATED FEATURE: `client_fn` now expects a signature `def client_fn(context: Context)`.The provided `client_fn` has signature: {'cid': <Parameter \"cid: str\">}. You can import the `Context` like this: `from flwr.common import Context`\n",
      "\u001b[36m(ClientAppActor pid=263069)\u001b[0m \n",
      "\u001b[36m(ClientAppActor pid=263069)\u001b[0m             This is a deprecated feature. It will be removed\n",
      "\u001b[36m(ClientAppActor pid=263069)\u001b[0m             entirely in future versions of Flower.\n",
      "\u001b[36m(ClientAppActor pid=263069)\u001b[0m         \n",
      "Testing:   0%|          | 0/93 [00:00<?, ?it/s]\n",
      "Testing:   9%|▊         | 8/93 [00:00<00:01, 72.84it/s]\n",
      "Testing:  17%|█▋        | 16/93 [00:00<00:01, 39.41it/s]\n",
      "Testing:  26%|██▌       | 24/93 [00:00<00:01, 50.81it/s]\n",
      "Testing:  35%|███▌      | 33/93 [00:00<00:00, 60.65it/s]\n",
      "Testing:  65%|██████▍   | 60/93 [00:00<00:00, 119.88it/s]\n"
     ]
    },
    {
     "name": "stdout",
     "output_type": "stream",
     "text": [
      "\u001b[36m(ClientAppActor pid=263069)\u001b[0m ✅ [Client 2] Evaluation results - Loss: 2.4850, Accuracy: 0.0059\n"
     ]
    },
    {
     "name": "stderr",
     "output_type": "stream",
     "text": [
      "Testing: 100%|██████████| 93/93 [00:00<00:00, 113.64it/s]\n",
      "\u001b[36m(ClientAppActor pid=263068)\u001b[0m \n",
      "\u001b[36m(ClientAppActor pid=263068)\u001b[0m         \n",
      "\u001b[36m(ClientAppActor pid=263068)\u001b[0m \u001b[93mWARNING \u001b[0m:   DEPRECATED FEATURE: `client_fn` now expects a signature `def client_fn(context: Context)`.The provided `client_fn` has signature: {'cid': <Parameter \"cid: str\">}. You can import the `Context` like this: `from flwr.common import Context`\n",
      "\u001b[36m(ClientAppActor pid=263068)\u001b[0m             This is a deprecated feature. It will be removed\n",
      "\u001b[36m(ClientAppActor pid=263068)\u001b[0m             entirely in future versions of Flower.\n",
      "Testing:   0%|          | 0/91 [00:00<?, ?it/s]\n"
     ]
    },
    {
     "name": "stdout",
     "output_type": "stream",
     "text": [
      "\u001b[36m(ClientAppActor pid=263068)\u001b[0m [Client 11] Starting evaluation...\n"
     ]
    },
    {
     "name": "stderr",
     "output_type": "stream",
     "text": [
      "Testing:   8%|▊         | 7/91 [00:00<00:01, 64.66it/s]\n",
      "Testing:  16%|█▋        | 15/91 [00:00<00:01, 70.31it/s]\n",
      "Testing:  53%|█████▎    | 48/91 [00:00<00:00, 182.10it/s]\n",
      "Testing: 100%|██████████| 91/91 [00:00<00:00, 196.42it/s]\n"
     ]
    },
    {
     "name": "stdout",
     "output_type": "stream",
     "text": [
      "\u001b[36m(ClientAppActor pid=263068)\u001b[0m ✅ [Client 11] Evaluation results - Loss: 2.4848, Accuracy: 0.1955\n"
     ]
    },
    {
     "name": "stderr",
     "output_type": "stream",
     "text": [
      "\u001b[36m(ClientAppActor pid=263069)\u001b[0m \u001b[93mWARNING \u001b[0m:   DEPRECATED FEATURE: `client_fn` now expects a signature `def client_fn(context: Context)`.The provided `client_fn` has signature: {'cid': <Parameter \"cid: str\">}. You can import the `Context` like this: `from flwr.common import Context`\n",
      "\u001b[36m(ClientAppActor pid=263069)\u001b[0m \n",
      "\u001b[36m(ClientAppActor pid=263069)\u001b[0m             This is a deprecated feature. It will be removed\n",
      "\u001b[36m(ClientAppActor pid=263069)\u001b[0m             entirely in future versions of Flower.\n",
      "\u001b[36m(ClientAppActor pid=263069)\u001b[0m         \n",
      "Testing:   0%|          | 0/92 [00:00<?, ?it/s]\n"
     ]
    },
    {
     "name": "stdout",
     "output_type": "stream",
     "text": [
      "\u001b[36m(ClientAppActor pid=263069)\u001b[0m [Client 9] Starting evaluation...\n"
     ]
    },
    {
     "name": "stderr",
     "output_type": "stream",
     "text": [
      "Testing:   9%|▊         | 8/92 [00:00<00:01, 69.27it/s]\n",
      "Testing:  17%|█▋        | 16/92 [00:00<00:01, 69.89it/s]\n",
      "Testing:  27%|██▋       | 25/92 [00:00<00:00, 74.91it/s]\n",
      "Testing:  46%|████▌     | 42/92 [00:00<00:00, 109.24it/s]\n"
     ]
    },
    {
     "name": "stdout",
     "output_type": "stream",
     "text": [
      "\u001b[36m(ClientAppActor pid=263069)\u001b[0m ✅ [Client 9] Evaluation results - Loss: 2.4846, Accuracy: 0.0220\n"
     ]
    },
    {
     "name": "stderr",
     "output_type": "stream",
     "text": [
      "Testing: 100%|██████████| 92/92 [00:00<00:00, 158.94it/s]\n",
      "\u001b[36m(ClientAppActor pid=263068)\u001b[0m \n",
      "\u001b[36m(ClientAppActor pid=263068)\u001b[0m         \n",
      "\u001b[36m(ClientAppActor pid=263068)\u001b[0m \u001b[93mWARNING \u001b[0m:   DEPRECATED FEATURE: `client_fn` now expects a signature `def client_fn(context: Context)`.The provided `client_fn` has signature: {'cid': <Parameter \"cid: str\">}. You can import the `Context` like this: `from flwr.common import Context`\n",
      "\u001b[36m(ClientAppActor pid=263068)\u001b[0m             This is a deprecated feature. It will be removed\n",
      "\u001b[36m(ClientAppActor pid=263068)\u001b[0m             entirely in future versions of Flower.\n",
      "Testing:   0%|          | 0/93 [00:00<?, ?it/s]\n"
     ]
    },
    {
     "name": "stdout",
     "output_type": "stream",
     "text": [
      "\u001b[36m(ClientAppActor pid=263068)\u001b[0m [Client 4] Starting evaluation...\n"
     ]
    },
    {
     "name": "stderr",
     "output_type": "stream",
     "text": [
      "Testing:   9%|▊         | 8/93 [00:00<00:01, 71.89it/s]\n",
      "Testing:  17%|█▋        | 16/93 [00:00<00:01, 69.45it/s]\n",
      "Testing:  40%|███▉      | 37/93 [00:00<00:00, 128.41it/s]\n",
      "Testing:  74%|███████▍  | 69/93 [00:00<00:00, 197.86it/s]\n",
      "Testing: 100%|██████████| 93/93 [00:00<00:00, 178.82it/s]\n"
     ]
    },
    {
     "name": "stdout",
     "output_type": "stream",
     "text": [
      "\u001b[36m(ClientAppActor pid=263068)\u001b[0m ✅ [Client 4] Evaluation results - Loss: 2.4843, Accuracy: 0.0137\n",
      "\u001b[36m(ClientAppActor pid=263069)\u001b[0m [Client 5] Starting evaluation...\n"
     ]
    },
    {
     "name": "stderr",
     "output_type": "stream",
     "text": [
      "\u001b[36m(ClientAppActor pid=263069)\u001b[0m \u001b[93mWARNING \u001b[0m:   DEPRECATED FEATURE: `client_fn` now expects a signature `def client_fn(context: Context)`.The provided `client_fn` has signature: {'cid': <Parameter \"cid: str\">}. You can import the `Context` like this: `from flwr.common import Context`\n",
      "\u001b[36m(ClientAppActor pid=263069)\u001b[0m \n",
      "\u001b[36m(ClientAppActor pid=263069)\u001b[0m             This is a deprecated feature. It will be removed\n",
      "\u001b[36m(ClientAppActor pid=263069)\u001b[0m             entirely in future versions of Flower.\n",
      "\u001b[36m(ClientAppActor pid=263069)\u001b[0m         \n",
      "Testing:   0%|          | 0/95 [00:00<?, ?it/s]\n",
      "Testing:   7%|▋         | 7/95 [00:00<00:01, 68.20it/s]\n",
      "Testing:  15%|█▍        | 14/95 [00:00<00:01, 67.63it/s]\n",
      "Testing:  36%|███▌      | 34/95 [00:00<00:00, 125.90it/s]\n",
      "Testing:  76%|███████▌  | 72/95 [00:00<00:00, 222.23it/s]\n",
      "Testing: 100%|██████████| 95/95 [00:00<00:00, 199.28it/s]\n"
     ]
    },
    {
     "name": "stdout",
     "output_type": "stream",
     "text": [
      "\u001b[36m(ClientAppActor pid=263069)\u001b[0m ✅ [Client 5] Evaluation results - Loss: 2.4855, Accuracy: 0.0078\n"
     ]
    },
    {
     "name": "stderr",
     "output_type": "stream",
     "text": [
      "\u001b[36m(ClientAppActor pid=263068)\u001b[0m \n",
      "\u001b[36m(ClientAppActor pid=263068)\u001b[0m         \n",
      "\u001b[36m(ClientAppActor pid=263068)\u001b[0m \u001b[93mWARNING \u001b[0m:   DEPRECATED FEATURE: `client_fn` now expects a signature `def client_fn(context: Context)`.The provided `client_fn` has signature: {'cid': <Parameter \"cid: str\">}. You can import the `Context` like this: `from flwr.common import Context`\n",
      "\u001b[36m(ClientAppActor pid=263068)\u001b[0m             This is a deprecated feature. It will be removed\n",
      "\u001b[36m(ClientAppActor pid=263068)\u001b[0m             entirely in future versions of Flower.\n",
      "Testing:   0%|          | 0/91 [00:00<?, ?it/s]\n"
     ]
    },
    {
     "name": "stdout",
     "output_type": "stream",
     "text": [
      "\u001b[36m(ClientAppActor pid=263068)\u001b[0m [Client 8] Starting evaluation...\n"
     ]
    },
    {
     "name": "stderr",
     "output_type": "stream",
     "text": [
      "Testing:   9%|▉         | 8/91 [00:00<00:01, 70.54it/s]\n",
      "Testing:  18%|█▊        | 16/91 [00:00<00:01, 71.94it/s]\n",
      "Testing:  26%|██▋       | 24/91 [00:00<00:00, 73.51it/s]\n",
      "Testing:  46%|████▌     | 42/91 [00:00<00:00, 113.10it/s]\n",
      "Testing: 100%|██████████| 91/91 [00:00<00:00, 154.04it/s]\n"
     ]
    },
    {
     "name": "stdout",
     "output_type": "stream",
     "text": [
      "\u001b[36m(ClientAppActor pid=263068)\u001b[0m ✅ [Client 8] Evaluation results - Loss: 2.4832, Accuracy: 0.0880\n",
      "\u001b[36m(ClientAppActor pid=263069)\u001b[0m [Client 1] Starting evaluation...\n"
     ]
    },
    {
     "name": "stderr",
     "output_type": "stream",
     "text": [
      "\u001b[36m(ClientAppActor pid=263069)\u001b[0m \u001b[93mWARNING \u001b[0m:   DEPRECATED FEATURE: `client_fn` now expects a signature `def client_fn(context: Context)`.The provided `client_fn` has signature: {'cid': <Parameter \"cid: str\">}. You can import the `Context` like this: `from flwr.common import Context`\n",
      "\u001b[36m(ClientAppActor pid=263069)\u001b[0m \n",
      "\u001b[36m(ClientAppActor pid=263069)\u001b[0m             This is a deprecated feature. It will be removed\n",
      "\u001b[36m(ClientAppActor pid=263069)\u001b[0m             entirely in future versions of Flower.\n",
      "\u001b[36m(ClientAppActor pid=263069)\u001b[0m         \n",
      "Testing:   0%|          | 0/93 [00:00<?, ?it/s]\n",
      "Testing:   8%|▊         | 7/93 [00:00<00:01, 69.09it/s]\n",
      "Testing:  15%|█▌        | 14/93 [00:00<00:01, 69.28it/s]\n",
      "Testing:  30%|███       | 28/93 [00:00<00:00, 100.07it/s]\n",
      "Testing:  65%|██████▍   | 60/93 [00:00<00:00, 185.13it/s]\n",
      "Testing: 100%|██████████| 93/93 [00:00<00:00, 185.46it/s]\n"
     ]
    },
    {
     "name": "stdout",
     "output_type": "stream",
     "text": [
      "\u001b[36m(ClientAppActor pid=263069)\u001b[0m ✅ [Client 1] Evaluation results - Loss: 2.4840, Accuracy: 0.1559\n"
     ]
    },
    {
     "name": "stderr",
     "output_type": "stream",
     "text": [
      "\u001b[36m(ClientAppActor pid=263068)\u001b[0m \n",
      "\u001b[36m(ClientAppActor pid=263068)\u001b[0m         \n",
      "\u001b[36m(ClientAppActor pid=263068)\u001b[0m \u001b[93mWARNING \u001b[0m:   DEPRECATED FEATURE: `client_fn` now expects a signature `def client_fn(context: Context)`.The provided `client_fn` has signature: {'cid': <Parameter \"cid: str\">}. You can import the `Context` like this: `from flwr.common import Context`\n",
      "\u001b[36m(ClientAppActor pid=263068)\u001b[0m             This is a deprecated feature. It will be removed\n",
      "\u001b[36m(ClientAppActor pid=263068)\u001b[0m             entirely in future versions of Flower.\n",
      "Testing:   0%|          | 0/83 [00:00<?, ?it/s]\n"
     ]
    },
    {
     "name": "stdout",
     "output_type": "stream",
     "text": [
      "\u001b[36m(ClientAppActor pid=263068)\u001b[0m [Client 10] Starting evaluation...\n"
     ]
    },
    {
     "name": "stderr",
     "output_type": "stream",
     "text": [
      "Testing:  10%|▉         | 8/83 [00:00<00:01, 72.29it/s]\n",
      "Testing:  19%|█▉        | 16/83 [00:00<00:00, 68.69it/s]\n",
      "Testing:  43%|████▎     | 36/83 [00:00<00:00, 123.39it/s]\n",
      "Testing: 100%|██████████| 83/83 [00:00<00:00, 177.28it/s]\n"
     ]
    },
    {
     "name": "stdout",
     "output_type": "stream",
     "text": [
      "\u001b[36m(ClientAppActor pid=263068)\u001b[0m ✅ [Client 10] Evaluation results - Loss: 2.4847, Accuracy: 0.1851\n",
      "\u001b[36m(ClientAppActor pid=263069)\u001b[0m [Client 0] Starting evaluation...\n"
     ]
    },
    {
     "name": "stderr",
     "output_type": "stream",
     "text": [
      "\u001b[36m(ClientAppActor pid=263069)\u001b[0m \u001b[93mWARNING \u001b[0m:   DEPRECATED FEATURE: `client_fn` now expects a signature `def client_fn(context: Context)`.The provided `client_fn` has signature: {'cid': <Parameter \"cid: str\">}. You can import the `Context` like this: `from flwr.common import Context`\n",
      "\u001b[36m(ClientAppActor pid=263069)\u001b[0m \n",
      "\u001b[36m(ClientAppActor pid=263069)\u001b[0m             This is a deprecated feature. It will be removed\n",
      "\u001b[36m(ClientAppActor pid=263069)\u001b[0m             entirely in future versions of Flower.\n",
      "\u001b[36m(ClientAppActor pid=263069)\u001b[0m         \n",
      "Testing:   0%|          | 0/93 [00:00<?, ?it/s]\n",
      "Testing:   8%|▊         | 7/93 [00:00<00:01, 69.51it/s]\n",
      "Testing:  16%|█▌        | 15/93 [00:00<00:01, 71.16it/s]\n",
      "Testing:  25%|██▍       | 23/93 [00:00<00:00, 72.88it/s]\n",
      "Testing:  49%|████▉     | 46/93 [00:00<00:00, 131.37it/s]\n",
      "Testing:  80%|███████▉  | 74/93 [00:00<00:00, 182.44it/s]\n"
     ]
    },
    {
     "name": "stdout",
     "output_type": "stream",
     "text": [
      "\u001b[36m(ClientAppActor pid=263069)\u001b[0m ✅ [Client 0] Evaluation results - Loss: 2.4839, Accuracy: 0.1977\n"
     ]
    },
    {
     "name": "stderr",
     "output_type": "stream",
     "text": [
      "Testing: 100%|██████████| 93/93 [00:00<00:00, 159.28it/s]\n",
      "\u001b[36m(ClientAppActor pid=263068)\u001b[0m \n",
      "\u001b[36m(ClientAppActor pid=263068)\u001b[0m         \n",
      "\u001b[36m(ClientAppActor pid=263068)\u001b[0m \u001b[93mWARNING \u001b[0m:   DEPRECATED FEATURE: `client_fn` now expects a signature `def client_fn(context: Context)`.The provided `client_fn` has signature: {'cid': <Parameter \"cid: str\">}. You can import the `Context` like this: `from flwr.common import Context`\n",
      "\u001b[36m(ClientAppActor pid=263068)\u001b[0m             This is a deprecated feature. It will be removed\n",
      "\u001b[36m(ClientAppActor pid=263068)\u001b[0m             entirely in future versions of Flower.\n",
      "Testing:   0%|          | 0/91 [00:00<?, ?it/s]\n"
     ]
    },
    {
     "name": "stdout",
     "output_type": "stream",
     "text": [
      "\u001b[36m(ClientAppActor pid=263068)\u001b[0m [Client 7] Starting evaluation...\n"
     ]
    },
    {
     "name": "stderr",
     "output_type": "stream",
     "text": [
      "Testing:   9%|▉         | 8/91 [00:00<00:01, 72.26it/s]\n",
      "Testing:  20%|█▉        | 18/91 [00:00<00:00, 86.69it/s]\n",
      "Testing:  53%|█████▎    | 48/91 [00:00<00:00, 180.27it/s]\n",
      "Testing: 100%|██████████| 91/91 [00:00<00:00, 194.05it/s]\n"
     ]
    },
    {
     "name": "stdout",
     "output_type": "stream",
     "text": [
      "\u001b[36m(ClientAppActor pid=263068)\u001b[0m ✅ [Client 7] Evaluation results - Loss: 2.4845, Accuracy: 0.0372\n",
      "\u001b[36m(ClientAppActor pid=263069)\u001b[0m [Client 6] Starting evaluation...\n"
     ]
    },
    {
     "name": "stderr",
     "output_type": "stream",
     "text": [
      "\u001b[36m(ClientAppActor pid=263069)\u001b[0m \u001b[93mWARNING \u001b[0m:   DEPRECATED FEATURE: `client_fn` now expects a signature `def client_fn(context: Context)`.The provided `client_fn` has signature: {'cid': <Parameter \"cid: str\">}. You can import the `Context` like this: `from flwr.common import Context`\n",
      "\u001b[36m(ClientAppActor pid=263069)\u001b[0m \n",
      "\u001b[36m(ClientAppActor pid=263069)\u001b[0m             This is a deprecated feature. It will be removed\n",
      "\u001b[36m(ClientAppActor pid=263069)\u001b[0m             entirely in future versions of Flower.\n",
      "\u001b[36m(ClientAppActor pid=263069)\u001b[0m         \n",
      "Testing:   0%|          | 0/98 [00:00<?, ?it/s]\n",
      "Testing:   8%|▊         | 8/98 [00:00<00:01, 70.11it/s]\n",
      "Testing:  16%|█▋        | 16/98 [00:00<00:01, 69.78it/s]\n",
      "Testing:  37%|███▋      | 36/98 [00:00<00:00, 124.50it/s]\n",
      "Testing:  61%|██████    | 60/98 [00:00<00:00, 167.24it/s]\n",
      "Testing:  90%|████████▉ | 88/98 [00:00<00:00, 205.47it/s]\n"
     ]
    },
    {
     "name": "stdout",
     "output_type": "stream",
     "text": [
      "\u001b[36m(ClientAppActor pid=263069)\u001b[0m ✅ [Client 6] Evaluation results - Loss: 2.4845, Accuracy: 0.0079\n"
     ]
    },
    {
     "name": "stderr",
     "output_type": "stream",
     "text": [
      "Testing: 100%|██████████| 98/98 [00:00<00:00, 169.57it/s]\n",
      "\u001b[36m(ClientAppActor pid=263068)\u001b[0m \n",
      "\u001b[36m(ClientAppActor pid=263068)\u001b[0m         \n",
      "\u001b[36m(ClientAppActor pid=263068)\u001b[0m \u001b[93mWARNING \u001b[0m:   DEPRECATED FEATURE: `client_fn` now expects a signature `def client_fn(context: Context)`.The provided `client_fn` has signature: {'cid': <Parameter \"cid: str\">}. You can import the `Context` like this: `from flwr.common import Context`\n",
      "\u001b[36m(ClientAppActor pid=263068)\u001b[0m             This is a deprecated feature. It will be removed\n",
      "\u001b[36m(ClientAppActor pid=263068)\u001b[0m             entirely in future versions of Flower.\n",
      "Testing:   0%|          | 0/95 [00:00<?, ?it/s]\n"
     ]
    },
    {
     "name": "stdout",
     "output_type": "stream",
     "text": [
      "\u001b[36m(ClientAppActor pid=263068)\u001b[0m [Client 3] Starting evaluation...\n"
     ]
    },
    {
     "name": "stderr",
     "output_type": "stream",
     "text": [
      "Testing:   8%|▊         | 8/95 [00:00<00:01, 71.39it/s]\n",
      "Testing:  17%|█▋        | 16/95 [00:00<00:01, 74.26it/s]\n",
      "Testing:  26%|██▋       | 25/95 [00:00<00:00, 76.11it/s]\n",
      "Testing:  45%|████▌     | 43/95 [00:00<00:00, 113.60it/s]\n",
      "Testing:  79%|███████▉  | 75/95 [00:00<00:00, 182.01it/s]\n",
      "\u001b[92mINFO \u001b[0m:      aggregate_evaluate: received 12 results and 0 failures\n",
      "\u001b[92mINFO \u001b[0m:      \n",
      "\u001b[92mINFO \u001b[0m:      [ROUND 18]\n",
      "\u001b[92mINFO \u001b[0m:      configure_fit: strategy sampled 6 clients (out of 12)\n",
      "\u001b[92mINFO \u001b[0m:      aggregate_fit: received 0 results and 6 failures\n",
      "Testing: 100%|██████████| 95/95 [00:00<00:00, 149.42it/s]\n"
     ]
    },
    {
     "name": "stdout",
     "output_type": "stream",
     "text": [
      "✅ --- Server received 12 evaluation results in round 17 ---\n",
      "✅ --- Pareto selection for round 18 chose clients: ['15100500063491518048', '17572866915993216550', '6369163841238069563', '15868316647030128318', '14315934176059193381', '3516174158176321985'] ---\n",
      "\u001b[36m(ClientAppActor pid=263068)\u001b[0m ✅ [Client 3] Evaluation results - Loss: 2.4835, Accuracy: 0.1103\n"
     ]
    },
    {
     "name": "stderr",
     "output_type": "stream",
     "text": [
      "Testing: 100%|██████████| 91/91 [00:00<00:00, 306.53it/s]\n",
      "\u001b[92mINFO \u001b[0m:      fit progress: (18, 2.484785108775883, {'accuracy': 0.19553169379979218}, 1796.545375624999)\n",
      "\u001b[92mINFO \u001b[0m:      configure_evaluate: strategy sampled 12 clients (out of 12)\n"
     ]
    },
    {
     "name": "stdout",
     "output_type": "stream",
     "text": [
      "============================================================\n",
      "✅ ROUND 18 SUMMARY - Global Model Performance:\n",
      "   Loss: 2.4848 | Accuracy: 0.1955\n",
      "============================================================\n"
     ]
    },
    {
     "name": "stderr",
     "output_type": "stream",
     "text": [
      "\u001b[36m(ClientAppActor pid=263068)\u001b[0m \u001b[93mWARNING \u001b[0m:   DEPRECATED FEATURE: `client_fn` now expects a signature `def client_fn(context: Context)`.The provided `client_fn` has signature: {'cid': <Parameter \"cid: str\">}. You can import the `Context` like this: `from flwr.common import Context`\n",
      "\u001b[36m(ClientAppActor pid=263068)\u001b[0m \n",
      "\u001b[36m(ClientAppActor pid=263068)\u001b[0m             This is a deprecated feature. It will be removed\n",
      "\u001b[36m(ClientAppActor pid=263068)\u001b[0m             entirely in future versions of Flower.\n",
      "\u001b[36m(ClientAppActor pid=263068)\u001b[0m         \n",
      "Testing:   0%|          | 0/98 [00:00<?, ?it/s]\n"
     ]
    },
    {
     "name": "stdout",
     "output_type": "stream",
     "text": [
      "\u001b[36m(ClientAppActor pid=263068)\u001b[0m [Client 6] Starting evaluation...\n"
     ]
    },
    {
     "name": "stderr",
     "output_type": "stream",
     "text": [
      "Testing:   7%|▋         | 7/98 [00:00<00:01, 69.51it/s]\n",
      "Testing:  15%|█▌        | 15/98 [00:00<00:01, 70.38it/s]\n",
      "Testing:  37%|███▋      | 36/98 [00:00<00:00, 130.20it/s]\n",
      "Testing:  70%|███████   | 69/98 [00:00<00:00, 206.47it/s]\n",
      "Testing: 100%|██████████| 98/98 [00:00<00:00, 192.16it/s]\n"
     ]
    },
    {
     "name": "stdout",
     "output_type": "stream",
     "text": [
      "\u001b[36m(ClientAppActor pid=263068)\u001b[0m ✅ [Client 6] Evaluation results - Loss: 2.4845, Accuracy: 0.0079\n"
     ]
    },
    {
     "name": "stderr",
     "output_type": "stream",
     "text": [
      "\u001b[36m(ClientAppActor pid=263069)\u001b[0m \n",
      "\u001b[36m(ClientAppActor pid=263069)\u001b[0m         \n",
      "\u001b[36m(ClientAppActor pid=263069)\u001b[0m \u001b[93mWARNING \u001b[0m:   DEPRECATED FEATURE: `client_fn` now expects a signature `def client_fn(context: Context)`.The provided `client_fn` has signature: {'cid': <Parameter \"cid: str\">}. You can import the `Context` like this: `from flwr.common import Context`\n",
      "\u001b[36m(ClientAppActor pid=263069)\u001b[0m             This is a deprecated feature. It will be removed\n",
      "\u001b[36m(ClientAppActor pid=263069)\u001b[0m             entirely in future versions of Flower.\n",
      "Testing:   0%|          | 0/95 [00:00<?, ?it/s]\n"
     ]
    },
    {
     "name": "stdout",
     "output_type": "stream",
     "text": [
      "\u001b[36m(ClientAppActor pid=263069)\u001b[0m [Client 5] Starting evaluation...\n"
     ]
    },
    {
     "name": "stderr",
     "output_type": "stream",
     "text": [
      "Testing:   8%|▊         | 8/95 [00:00<00:01, 71.60it/s]\n",
      "Testing:  17%|█▋        | 16/95 [00:00<00:01, 69.94it/s]\n",
      "Testing:  47%|████▋     | 45/95 [00:00<00:00, 162.09it/s]\n",
      "Testing: 100%|██████████| 95/95 [00:00<00:00, 192.95it/s]\n"
     ]
    },
    {
     "name": "stdout",
     "output_type": "stream",
     "text": [
      "\u001b[36m(ClientAppActor pid=263069)\u001b[0m ✅ [Client 5] Evaluation results - Loss: 2.4855, Accuracy: 0.0078\n"
     ]
    },
    {
     "name": "stderr",
     "output_type": "stream",
     "text": [
      "\u001b[36m(ClientAppActor pid=263068)\u001b[0m \u001b[93mWARNING \u001b[0m:   DEPRECATED FEATURE: `client_fn` now expects a signature `def client_fn(context: Context)`.The provided `client_fn` has signature: {'cid': <Parameter \"cid: str\">}. You can import the `Context` like this: `from flwr.common import Context`\n",
      "\u001b[36m(ClientAppActor pid=263068)\u001b[0m \n",
      "\u001b[36m(ClientAppActor pid=263068)\u001b[0m             This is a deprecated feature. It will be removed\n",
      "\u001b[36m(ClientAppActor pid=263068)\u001b[0m             entirely in future versions of Flower.\n",
      "\u001b[36m(ClientAppActor pid=263068)\u001b[0m         \n",
      "Testing:   0%|          | 0/93 [00:00<?, ?it/s]\n",
      "Testing:   9%|▊         | 8/93 [00:00<00:01, 74.13it/s]\n"
     ]
    },
    {
     "name": "stdout",
     "output_type": "stream",
     "text": [
      "\u001b[36m(ClientAppActor pid=263068)\u001b[0m [Client 4] Starting evaluation...\n"
     ]
    },
    {
     "name": "stderr",
     "output_type": "stream",
     "text": [
      "Testing:  17%|█▋        | 16/93 [00:00<00:01, 74.88it/s]\n",
      "Testing:  26%|██▌       | 24/93 [00:00<00:00, 76.82it/s]\n",
      "Testing:  46%|████▌     | 43/93 [00:00<00:00, 119.84it/s]\n",
      "Testing:  80%|███████▉  | 74/93 [00:00<00:00, 187.03it/s]\n",
      "Testing: 100%|██████████| 93/93 [00:00<00:00, 160.01it/s]\n"
     ]
    },
    {
     "name": "stdout",
     "output_type": "stream",
     "text": [
      "\u001b[36m(ClientAppActor pid=263068)\u001b[0m ✅ [Client 4] Evaluation results - Loss: 2.4843, Accuracy: 0.0137\n",
      "\u001b[36m(ClientAppActor pid=263069)\u001b[0m [Client 11] Starting evaluation...\n"
     ]
    },
    {
     "name": "stderr",
     "output_type": "stream",
     "text": [
      "\u001b[36m(ClientAppActor pid=263069)\u001b[0m \n",
      "\u001b[36m(ClientAppActor pid=263069)\u001b[0m         \n",
      "Testing:   0%|          | 0/91 [00:00<?, ?it/s]\n",
      "\u001b[36m(ClientAppActor pid=263069)\u001b[0m \u001b[93mWARNING \u001b[0m:   DEPRECATED FEATURE: `client_fn` now expects a signature `def client_fn(context: Context)`.The provided `client_fn` has signature: {'cid': <Parameter \"cid: str\">}. You can import the `Context` like this: `from flwr.common import Context`\n",
      "\u001b[36m(ClientAppActor pid=263069)\u001b[0m             This is a deprecated feature. It will be removed\n",
      "\u001b[36m(ClientAppActor pid=263069)\u001b[0m             entirely in future versions of Flower.\n",
      "Testing:   8%|▊         | 7/91 [00:00<00:01, 69.03it/s]\n",
      "Testing:  16%|█▋        | 15/91 [00:00<00:01, 70.17it/s]\n",
      "Testing:  26%|██▋       | 24/91 [00:00<00:00, 75.74it/s]\n",
      "Testing:  38%|███▊      | 35/91 [00:00<00:00, 87.97it/s]\n",
      "Testing: 100%|██████████| 91/91 [00:00<00:00, 151.06it/s]\n"
     ]
    },
    {
     "name": "stdout",
     "output_type": "stream",
     "text": [
      "\u001b[36m(ClientAppActor pid=263069)\u001b[0m ✅ [Client 11] Evaluation results - Loss: 2.4848, Accuracy: 0.1955\n"
     ]
    },
    {
     "name": "stderr",
     "output_type": "stream",
     "text": [
      "\u001b[36m(ClientAppActor pid=263068)\u001b[0m \u001b[93mWARNING \u001b[0m:   DEPRECATED FEATURE: `client_fn` now expects a signature `def client_fn(context: Context)`.The provided `client_fn` has signature: {'cid': <Parameter \"cid: str\">}. You can import the `Context` like this: `from flwr.common import Context`\n",
      "\u001b[36m(ClientAppActor pid=263068)\u001b[0m \n",
      "\u001b[36m(ClientAppActor pid=263068)\u001b[0m             This is a deprecated feature. It will be removed\n",
      "\u001b[36m(ClientAppActor pid=263068)\u001b[0m             entirely in future versions of Flower.\n",
      "\u001b[36m(ClientAppActor pid=263068)\u001b[0m         \n",
      "Testing:   0%|          | 0/93 [00:00<?, ?it/s]\n",
      "Testing:   8%|▊         | 7/93 [00:00<00:01, 67.41it/s]\n"
     ]
    },
    {
     "name": "stdout",
     "output_type": "stream",
     "text": [
      "\u001b[36m(ClientAppActor pid=263068)\u001b[0m [Client 1] Starting evaluation...\n"
     ]
    },
    {
     "name": "stderr",
     "output_type": "stream",
     "text": [
      "Testing:  16%|█▌        | 15/93 [00:00<00:01, 71.19it/s]\n",
      "Testing:  25%|██▍       | 23/93 [00:00<00:00, 74.83it/s]\n",
      "Testing:  44%|████▍     | 41/93 [00:00<00:00, 114.99it/s]\n",
      "Testing:  73%|███████▎  | 68/93 [00:00<00:00, 169.83it/s]\n",
      "Testing: 100%|██████████| 93/93 [00:00<00:00, 150.71it/s]\n"
     ]
    },
    {
     "name": "stdout",
     "output_type": "stream",
     "text": [
      "\u001b[36m(ClientAppActor pid=263068)\u001b[0m ✅ [Client 1] Evaluation results - Loss: 2.4840, Accuracy: 0.1559\n",
      "\u001b[36m(ClientAppActor pid=263069)\u001b[0m [Client 0] Starting evaluation...\n"
     ]
    },
    {
     "name": "stderr",
     "output_type": "stream",
     "text": [
      "\u001b[36m(ClientAppActor pid=263069)\u001b[0m \n",
      "\u001b[36m(ClientAppActor pid=263069)\u001b[0m         \n",
      "Testing:   0%|          | 0/93 [00:00<?, ?it/s]\n",
      "\u001b[36m(ClientAppActor pid=263069)\u001b[0m \u001b[93mWARNING \u001b[0m:   DEPRECATED FEATURE: `client_fn` now expects a signature `def client_fn(context: Context)`.The provided `client_fn` has signature: {'cid': <Parameter \"cid: str\">}. You can import the `Context` like this: `from flwr.common import Context`\n",
      "\u001b[36m(ClientAppActor pid=263069)\u001b[0m             This is a deprecated feature. It will be removed\n",
      "\u001b[36m(ClientAppActor pid=263069)\u001b[0m             entirely in future versions of Flower.\n",
      "Testing:   8%|▊         | 7/93 [00:00<00:01, 68.42it/s]\n",
      "Testing:  15%|█▌        | 14/93 [00:00<00:01, 69.33it/s]\n",
      "Testing:  24%|██▎       | 22/93 [00:00<00:01, 69.76it/s]\n",
      "Testing:  52%|█████▏    | 48/93 [00:00<00:00, 141.63it/s]\n",
      "Testing:  90%|█████████ | 84/93 [00:00<00:00, 217.81it/s]\n"
     ]
    },
    {
     "name": "stdout",
     "output_type": "stream",
     "text": [
      "\u001b[36m(ClientAppActor pid=263069)\u001b[0m ✅ [Client 0] Evaluation results - Loss: 2.4839, Accuracy: 0.1977\n"
     ]
    },
    {
     "name": "stderr",
     "output_type": "stream",
     "text": [
      "Testing: 100%|██████████| 93/93 [00:00<00:00, 171.71it/s]\n",
      "\u001b[36m(ClientAppActor pid=263068)\u001b[0m \u001b[93mWARNING \u001b[0m:   DEPRECATED FEATURE: `client_fn` now expects a signature `def client_fn(context: Context)`.The provided `client_fn` has signature: {'cid': <Parameter \"cid: str\">}. You can import the `Context` like this: `from flwr.common import Context`\n",
      "\u001b[36m(ClientAppActor pid=263068)\u001b[0m \n",
      "\u001b[36m(ClientAppActor pid=263068)\u001b[0m             This is a deprecated feature. It will be removed\n",
      "\u001b[36m(ClientAppActor pid=263068)\u001b[0m             entirely in future versions of Flower.\n",
      "\u001b[36m(ClientAppActor pid=263068)\u001b[0m         \n",
      "Testing:   0%|          | 0/92 [00:00<?, ?it/s]\n",
      "Testing:   9%|▊         | 8/92 [00:00<00:01, 70.61it/s]\n"
     ]
    },
    {
     "name": "stdout",
     "output_type": "stream",
     "text": [
      "\u001b[36m(ClientAppActor pid=263068)\u001b[0m [Client 9] Starting evaluation...\n"
     ]
    },
    {
     "name": "stderr",
     "output_type": "stream",
     "text": [
      "Testing:  17%|█▋        | 16/92 [00:00<00:01, 74.09it/s]\n",
      "Testing:  27%|██▋       | 25/92 [00:00<00:00, 77.56it/s]\n",
      "Testing:  41%|████▏     | 38/92 [00:00<00:00, 97.14it/s]\n",
      "Testing: 100%|██████████| 92/92 [00:00<00:00, 150.74it/s]\n"
     ]
    },
    {
     "name": "stdout",
     "output_type": "stream",
     "text": [
      "\u001b[36m(ClientAppActor pid=263068)\u001b[0m ✅ [Client 9] Evaluation results - Loss: 2.4846, Accuracy: 0.0220\n",
      "\u001b[36m(ClientAppActor pid=263069)\u001b[0m [Client 3] Starting evaluation...\n"
     ]
    },
    {
     "name": "stderr",
     "output_type": "stream",
     "text": [
      "\u001b[36m(ClientAppActor pid=263069)\u001b[0m \n",
      "\u001b[36m(ClientAppActor pid=263069)\u001b[0m         \n",
      "\u001b[36m(ClientAppActor pid=263069)\u001b[0m \u001b[93mWARNING \u001b[0m:   DEPRECATED FEATURE: `client_fn` now expects a signature `def client_fn(context: Context)`.The provided `client_fn` has signature: {'cid': <Parameter \"cid: str\">}. You can import the `Context` like this: `from flwr.common import Context`\n",
      "\u001b[36m(ClientAppActor pid=263069)\u001b[0m             This is a deprecated feature. It will be removed\n",
      "\u001b[36m(ClientAppActor pid=263069)\u001b[0m             entirely in future versions of Flower.\n",
      "Testing:   0%|          | 0/95 [00:00<?, ?it/s]\n",
      "Testing:   8%|▊         | 8/95 [00:00<00:01, 70.92it/s]\n",
      "Testing:  17%|█▋        | 16/95 [00:00<00:01, 69.92it/s]\n",
      "Testing:  49%|████▉     | 47/95 [00:00<00:00, 170.28it/s]\n",
      "Testing: 100%|██████████| 95/95 [00:00<00:00, 202.53it/s]\n"
     ]
    },
    {
     "name": "stdout",
     "output_type": "stream",
     "text": [
      "\u001b[36m(ClientAppActor pid=263069)\u001b[0m ✅ [Client 3] Evaluation results - Loss: 2.4835, Accuracy: 0.1103\n"
     ]
    },
    {
     "name": "stderr",
     "output_type": "stream",
     "text": [
      "\u001b[36m(ClientAppActor pid=263068)\u001b[0m \u001b[93mWARNING \u001b[0m:   DEPRECATED FEATURE: `client_fn` now expects a signature `def client_fn(context: Context)`.The provided `client_fn` has signature: {'cid': <Parameter \"cid: str\">}. You can import the `Context` like this: `from flwr.common import Context`\n",
      "\u001b[36m(ClientAppActor pid=263068)\u001b[0m \n",
      "\u001b[36m(ClientAppActor pid=263068)\u001b[0m             This is a deprecated feature. It will be removed\n",
      "\u001b[36m(ClientAppActor pid=263068)\u001b[0m             entirely in future versions of Flower.\n",
      "\u001b[36m(ClientAppActor pid=263068)\u001b[0m         \n",
      "Testing:   0%|          | 0/83 [00:00<?, ?it/s]\n",
      "Testing:  10%|▉         | 8/83 [00:00<00:01, 71.79it/s]\n"
     ]
    },
    {
     "name": "stdout",
     "output_type": "stream",
     "text": [
      "\u001b[36m(ClientAppActor pid=263068)\u001b[0m [Client 10] Starting evaluation...\n"
     ]
    },
    {
     "name": "stderr",
     "output_type": "stream",
     "text": [
      "Testing:  19%|█▉        | 16/83 [00:00<00:00, 74.53it/s]\n",
      "Testing:  30%|███       | 25/83 [00:00<00:00, 78.27it/s]\n",
      "Testing:  54%|█████▍    | 45/83 [00:00<00:00, 123.48it/s]\n",
      "Testing: 100%|██████████| 83/83 [00:00<00:00, 153.68it/s]\n"
     ]
    },
    {
     "name": "stdout",
     "output_type": "stream",
     "text": [
      "\u001b[36m(ClientAppActor pid=263068)\u001b[0m ✅ [Client 10] Evaluation results - Loss: 2.4847, Accuracy: 0.1851\n",
      "\u001b[36m(ClientAppActor pid=263069)\u001b[0m [Client 7] Starting evaluation...\n"
     ]
    },
    {
     "name": "stderr",
     "output_type": "stream",
     "text": [
      "\u001b[36m(ClientAppActor pid=263069)\u001b[0m \n",
      "\u001b[36m(ClientAppActor pid=263069)\u001b[0m         \n",
      "\u001b[36m(ClientAppActor pid=263069)\u001b[0m \u001b[93mWARNING \u001b[0m:   DEPRECATED FEATURE: `client_fn` now expects a signature `def client_fn(context: Context)`.The provided `client_fn` has signature: {'cid': <Parameter \"cid: str\">}. You can import the `Context` like this: `from flwr.common import Context`\n",
      "\u001b[36m(ClientAppActor pid=263069)\u001b[0m             This is a deprecated feature. It will be removed\n",
      "\u001b[36m(ClientAppActor pid=263069)\u001b[0m             entirely in future versions of Flower.\n",
      "Testing:   0%|          | 0/91 [00:00<?, ?it/s]\n",
      "Testing:   9%|▉         | 8/91 [00:00<00:01, 69.76it/s]\n",
      "Testing:  16%|█▋        | 15/91 [00:00<00:01, 69.71it/s]\n",
      "Testing:  24%|██▍       | 22/91 [00:00<00:01, 68.89it/s]\n",
      "Testing:  53%|█████▎    | 48/91 [00:00<00:00, 141.72it/s]\n",
      "Testing: 100%|██████████| 91/91 [00:00<00:00, 168.81it/s]\n"
     ]
    },
    {
     "name": "stdout",
     "output_type": "stream",
     "text": [
      "\u001b[36m(ClientAppActor pid=263069)\u001b[0m ✅ [Client 7] Evaluation results - Loss: 2.4845, Accuracy: 0.0372\n"
     ]
    },
    {
     "name": "stderr",
     "output_type": "stream",
     "text": [
      "\u001b[36m(ClientAppActor pid=263068)\u001b[0m \u001b[93mWARNING \u001b[0m:   DEPRECATED FEATURE: `client_fn` now expects a signature `def client_fn(context: Context)`.The provided `client_fn` has signature: {'cid': <Parameter \"cid: str\">}. You can import the `Context` like this: `from flwr.common import Context`\n",
      "\u001b[36m(ClientAppActor pid=263068)\u001b[0m \n",
      "\u001b[36m(ClientAppActor pid=263068)\u001b[0m             This is a deprecated feature. It will be removed\n",
      "\u001b[36m(ClientAppActor pid=263068)\u001b[0m             entirely in future versions of Flower.\n",
      "\u001b[36m(ClientAppActor pid=263068)\u001b[0m         \n",
      "Testing:   0%|          | 0/93 [00:00<?, ?it/s]\n"
     ]
    },
    {
     "name": "stdout",
     "output_type": "stream",
     "text": [
      "\u001b[36m(ClientAppActor pid=263068)\u001b[0m [Client 2] Starting evaluation...\n"
     ]
    },
    {
     "name": "stderr",
     "output_type": "stream",
     "text": [
      "Testing:   9%|▊         | 8/93 [00:00<00:01, 77.68it/s]\n",
      "Testing:  17%|█▋        | 16/93 [00:00<00:01, 71.85it/s]\n",
      "Testing:  46%|████▌     | 43/93 [00:00<00:00, 156.52it/s]\n",
      "Testing: 100%|██████████| 93/93 [00:00<00:00, 200.99it/s]\n"
     ]
    },
    {
     "name": "stdout",
     "output_type": "stream",
     "text": [
      "\u001b[36m(ClientAppActor pid=263068)\u001b[0m ✅ [Client 2] Evaluation results - Loss: 2.4850, Accuracy: 0.0059\n",
      "\u001b[36m(ClientAppActor pid=263069)\u001b[0m [Client 8] Starting evaluation...\n"
     ]
    },
    {
     "name": "stderr",
     "output_type": "stream",
     "text": [
      "\u001b[36m(ClientAppActor pid=263069)\u001b[0m \n",
      "\u001b[36m(ClientAppActor pid=263069)\u001b[0m         \n",
      "\u001b[36m(ClientAppActor pid=263069)\u001b[0m \u001b[93mWARNING \u001b[0m:   DEPRECATED FEATURE: `client_fn` now expects a signature `def client_fn(context: Context)`.The provided `client_fn` has signature: {'cid': <Parameter \"cid: str\">}. You can import the `Context` like this: `from flwr.common import Context`\n",
      "\u001b[36m(ClientAppActor pid=263069)\u001b[0m             This is a deprecated feature. It will be removed\n",
      "\u001b[36m(ClientAppActor pid=263069)\u001b[0m             entirely in future versions of Flower.\n",
      "Testing:   0%|          | 0/91 [00:00<?, ?it/s]\n",
      "Testing:   9%|▉         | 8/91 [00:00<00:01, 70.06it/s]\n",
      "Testing:  18%|█▊        | 16/91 [00:00<00:01, 69.43it/s]\n",
      "Testing:  46%|████▌     | 42/91 [00:00<00:00, 147.91it/s]\n",
      "Testing:  74%|███████▎  | 67/91 [00:00<00:00, 184.36it/s]\n",
      "\u001b[92mINFO \u001b[0m:      aggregate_evaluate: received 12 results and 0 failures\n",
      "\u001b[92mINFO \u001b[0m:      \n",
      "\u001b[92mINFO \u001b[0m:      [ROUND 19]\n",
      "\u001b[92mINFO \u001b[0m:      configure_fit: strategy sampled 6 clients (out of 12)\n",
      "\u001b[92mINFO \u001b[0m:      aggregate_fit: received 0 results and 6 failures\n"
     ]
    },
    {
     "name": "stdout",
     "output_type": "stream",
     "text": [
      "✅ --- Server received 12 evaluation results in round 18 ---\n",
      "✅ --- Pareto selection for round 19 chose clients: ['10273312183111562667', '14315934176059193381', '9722077455151739340', '7288326149512088850', '15100500063491518048', '6369163841238069563'] ---\n"
     ]
    },
    {
     "name": "stderr",
     "output_type": "stream",
     "text": [
      "Testing: 100%|██████████| 91/91 [00:00<00:00, 172.08it/s]ntAppActor pid=263069)\u001b[0m \n",
      "Testing:  33%|███▎      | 30/91 [00:00<00:00, 292.12it/s]"
     ]
    },
    {
     "name": "stdout",
     "output_type": "stream",
     "text": [
      "\u001b[36m(ClientAppActor pid=263069)\u001b[0m ✅ [Client 8] Evaluation results - Loss: 2.4832, Accuracy: 0.0880\n"
     ]
    },
    {
     "name": "stderr",
     "output_type": "stream",
     "text": [
      "Testing: 100%|██████████| 91/91 [00:00<00:00, 251.93it/s]\n",
      "\u001b[92mINFO \u001b[0m:      fit progress: (19, 2.484785108775883, {'accuracy': 0.19553169379979218}, 1899.7512648659977)\n",
      "\u001b[92mINFO \u001b[0m:      configure_evaluate: strategy sampled 12 clients (out of 12)\n"
     ]
    },
    {
     "name": "stdout",
     "output_type": "stream",
     "text": [
      "============================================================\n",
      "✅ ROUND 19 SUMMARY - Global Model Performance:\n",
      "   Loss: 2.4848 | Accuracy: 0.1955\n",
      "============================================================\n",
      "\u001b[36m(ClientAppActor pid=263069)\u001b[0m [Client 5] Starting evaluation...\n"
     ]
    },
    {
     "name": "stderr",
     "output_type": "stream",
     "text": [
      "\u001b[36m(ClientAppActor pid=263069)\u001b[0m \u001b[93mWARNING \u001b[0m:   DEPRECATED FEATURE: `client_fn` now expects a signature `def client_fn(context: Context)`.The provided `client_fn` has signature: {'cid': <Parameter \"cid: str\">}. You can import the `Context` like this: `from flwr.common import Context`\n",
      "\u001b[36m(ClientAppActor pid=263069)\u001b[0m \n",
      "\u001b[36m(ClientAppActor pid=263069)\u001b[0m             This is a deprecated feature. It will be removed\n",
      "\u001b[36m(ClientAppActor pid=263069)\u001b[0m             entirely in future versions of Flower.\n",
      "\u001b[36m(ClientAppActor pid=263069)\u001b[0m         \n",
      "Testing:   0%|          | 0/95 [00:00<?, ?it/s]\n",
      "Testing:   7%|▋         | 7/95 [00:00<00:01, 68.96it/s]\n",
      "Testing:  16%|█▌        | 15/95 [00:00<00:01, 71.06it/s]\n",
      "Testing:  24%|██▍       | 23/95 [00:00<00:00, 73.24it/s]\n",
      "Testing:  48%|████▊     | 46/95 [00:00<00:00, 131.92it/s]\n",
      "Testing: 100%|██████████| 95/95 [00:00<00:00, 161.64it/s]\n"
     ]
    },
    {
     "name": "stdout",
     "output_type": "stream",
     "text": [
      "\u001b[36m(ClientAppActor pid=263069)\u001b[0m ✅ [Client 5] Evaluation results - Loss: 2.4855, Accuracy: 0.0078\n"
     ]
    },
    {
     "name": "stderr",
     "output_type": "stream",
     "text": [
      "\u001b[36m(ClientAppActor pid=263068)\u001b[0m \n",
      "\u001b[36m(ClientAppActor pid=263068)\u001b[0m         \n",
      "\u001b[36m(ClientAppActor pid=263068)\u001b[0m \u001b[93mWARNING \u001b[0m:   DEPRECATED FEATURE: `client_fn` now expects a signature `def client_fn(context: Context)`.The provided `client_fn` has signature: {'cid': <Parameter \"cid: str\">}. You can import the `Context` like this: `from flwr.common import Context`\n",
      "\u001b[36m(ClientAppActor pid=263068)\u001b[0m             This is a deprecated feature. It will be removed\n",
      "\u001b[36m(ClientAppActor pid=263068)\u001b[0m             entirely in future versions of Flower.\n",
      "Testing:   0%|          | 0/83 [00:00<?, ?it/s]\n"
     ]
    },
    {
     "name": "stdout",
     "output_type": "stream",
     "text": [
      "\u001b[36m(ClientAppActor pid=263068)\u001b[0m [Client 10] Starting evaluation...\n"
     ]
    },
    {
     "name": "stderr",
     "output_type": "stream",
     "text": [
      "Testing:  10%|▉         | 8/83 [00:00<00:01, 70.14it/s]\n",
      "Testing:  19%|█▉        | 16/83 [00:00<00:01, 39.61it/s]\n",
      "Testing:  60%|██████    | 50/83 [00:00<00:00, 127.10it/s]\n",
      "Testing:  93%|█████████▎| 77/83 [00:00<00:00, 168.27it/s]\n",
      "Testing: 100%|██████████| 83/83 [00:00<00:00, 135.72it/s]\n"
     ]
    },
    {
     "name": "stdout",
     "output_type": "stream",
     "text": [
      "\u001b[36m(ClientAppActor pid=263068)\u001b[0m ✅ [Client 10] Evaluation results - Loss: 2.4847, Accuracy: 0.1851\n",
      "\u001b[36m(ClientAppActor pid=263069)\u001b[0m [Client 2] Starting evaluation...\n"
     ]
    },
    {
     "name": "stderr",
     "output_type": "stream",
     "text": [
      "\u001b[36m(ClientAppActor pid=263069)\u001b[0m \u001b[93mWARNING \u001b[0m:   DEPRECATED FEATURE: `client_fn` now expects a signature `def client_fn(context: Context)`.The provided `client_fn` has signature: {'cid': <Parameter \"cid: str\">}. You can import the `Context` like this: `from flwr.common import Context`\n",
      "\u001b[36m(ClientAppActor pid=263069)\u001b[0m \n",
      "\u001b[36m(ClientAppActor pid=263069)\u001b[0m             This is a deprecated feature. It will be removed\n",
      "\u001b[36m(ClientAppActor pid=263069)\u001b[0m             entirely in future versions of Flower.\n",
      "\u001b[36m(ClientAppActor pid=263069)\u001b[0m         \n",
      "Testing:   0%|          | 0/93 [00:00<?, ?it/s]\n",
      "Testing:   8%|▊         | 7/93 [00:00<00:01, 68.86it/s]\n",
      "Testing:  16%|█▌        | 15/93 [00:00<00:01, 70.22it/s]\n",
      "Testing:  25%|██▍       | 23/93 [00:00<00:00, 72.04it/s]\n",
      "Testing:  61%|██████▏   | 57/93 [00:00<00:00, 172.14it/s]\n",
      "Testing: 100%|██████████| 93/93 [00:00<00:00, 171.66it/s]\n"
     ]
    },
    {
     "name": "stdout",
     "output_type": "stream",
     "text": [
      "\u001b[36m(ClientAppActor pid=263069)\u001b[0m ✅ [Client 2] Evaluation results - Loss: 2.4850, Accuracy: 0.0059\n"
     ]
    },
    {
     "name": "stderr",
     "output_type": "stream",
     "text": [
      "\u001b[36m(ClientAppActor pid=263068)\u001b[0m \n",
      "\u001b[36m(ClientAppActor pid=263068)\u001b[0m         \n",
      "\u001b[36m(ClientAppActor pid=263068)\u001b[0m \u001b[93mWARNING \u001b[0m:   DEPRECATED FEATURE: `client_fn` now expects a signature `def client_fn(context: Context)`.The provided `client_fn` has signature: {'cid': <Parameter \"cid: str\">}. You can import the `Context` like this: `from flwr.common import Context`\n",
      "\u001b[36m(ClientAppActor pid=263068)\u001b[0m             This is a deprecated feature. It will be removed\n",
      "\u001b[36m(ClientAppActor pid=263068)\u001b[0m             entirely in future versions of Flower.\n",
      "Testing:   0%|          | 0/92 [00:00<?, ?it/s]\n",
      "Testing:   8%|▊         | 7/92 [00:00<00:01, 67.67it/s]\n"
     ]
    },
    {
     "name": "stdout",
     "output_type": "stream",
     "text": [
      "\u001b[36m(ClientAppActor pid=263068)\u001b[0m [Client 9] Starting evaluation...\n"
     ]
    },
    {
     "name": "stderr",
     "output_type": "stream",
     "text": [
      "Testing:  16%|█▋        | 15/92 [00:00<00:01, 69.83it/s]\n",
      "Testing:  27%|██▋       | 25/92 [00:00<00:00, 82.45it/s]\n",
      "Testing:  67%|██████▋   | 62/92 [00:00<00:00, 190.76it/s]\n",
      "Testing: 100%|██████████| 92/92 [00:00<00:00, 171.36it/s]\n"
     ]
    },
    {
     "name": "stdout",
     "output_type": "stream",
     "text": [
      "\u001b[36m(ClientAppActor pid=263068)\u001b[0m ✅ [Client 9] Evaluation results - Loss: 2.4846, Accuracy: 0.0220\n",
      "\u001b[36m(ClientAppActor pid=263069)\u001b[0m [Client 6] Starting evaluation...\n"
     ]
    },
    {
     "name": "stderr",
     "output_type": "stream",
     "text": [
      "\u001b[36m(ClientAppActor pid=263069)\u001b[0m \u001b[93mWARNING \u001b[0m:   DEPRECATED FEATURE: `client_fn` now expects a signature `def client_fn(context: Context)`.The provided `client_fn` has signature: {'cid': <Parameter \"cid: str\">}. You can import the `Context` like this: `from flwr.common import Context`\n",
      "\u001b[36m(ClientAppActor pid=263069)\u001b[0m \n",
      "\u001b[36m(ClientAppActor pid=263069)\u001b[0m             This is a deprecated feature. It will be removed\n",
      "\u001b[36m(ClientAppActor pid=263069)\u001b[0m             entirely in future versions of Flower.\n",
      "\u001b[36m(ClientAppActor pid=263069)\u001b[0m         \n",
      "Testing:   0%|          | 0/98 [00:00<?, ?it/s]\n",
      "Testing:   7%|▋         | 7/98 [00:00<00:01, 69.62it/s]\n",
      "Testing:  15%|█▌        | 15/98 [00:00<00:01, 72.91it/s]\n",
      "Testing:  24%|██▍       | 24/98 [00:00<00:00, 78.67it/s]\n",
      "Testing:  39%|███▉      | 38/98 [00:00<00:00, 101.03it/s]\n"
     ]
    },
    {
     "name": "stdout",
     "output_type": "stream",
     "text": [
      "\u001b[36m(ClientAppActor pid=263069)\u001b[0m ✅ [Client 6] Evaluation results - Loss: 2.4845, Accuracy: 0.0079\n"
     ]
    },
    {
     "name": "stderr",
     "output_type": "stream",
     "text": [
      "Testing: 100%|██████████| 98/98 [00:00<00:00, 165.64it/s]\n",
      "\u001b[36m(ClientAppActor pid=263068)\u001b[0m \n",
      "\u001b[36m(ClientAppActor pid=263068)\u001b[0m         \n",
      "\u001b[36m(ClientAppActor pid=263068)\u001b[0m \u001b[93mWARNING \u001b[0m:   DEPRECATED FEATURE: `client_fn` now expects a signature `def client_fn(context: Context)`.The provided `client_fn` has signature: {'cid': <Parameter \"cid: str\">}. You can import the `Context` like this: `from flwr.common import Context`\n",
      "\u001b[36m(ClientAppActor pid=263068)\u001b[0m             This is a deprecated feature. It will be removed\n",
      "\u001b[36m(ClientAppActor pid=263068)\u001b[0m             entirely in future versions of Flower.\n",
      "Testing:   0%|          | 0/91 [00:00<?, ?it/s]\n"
     ]
    },
    {
     "name": "stdout",
     "output_type": "stream",
     "text": [
      "\u001b[36m(ClientAppActor pid=263068)\u001b[0m [Client 11] Starting evaluation...\n"
     ]
    },
    {
     "name": "stderr",
     "output_type": "stream",
     "text": [
      "Testing:   9%|▉         | 8/91 [00:00<00:01, 75.10it/s]\n",
      "Testing:  18%|█▊        | 16/91 [00:00<00:00, 77.81it/s]\n",
      "Testing:  26%|██▋       | 24/91 [00:00<00:00, 74.38it/s]\n",
      "Testing:  62%|██████▏   | 56/91 [00:00<00:00, 165.61it/s]\n",
      "Testing: 100%|██████████| 91/91 [00:00<00:00, 171.26it/s]\n"
     ]
    },
    {
     "name": "stdout",
     "output_type": "stream",
     "text": [
      "\u001b[36m(ClientAppActor pid=263068)\u001b[0m ✅ [Client 11] Evaluation results - Loss: 2.4848, Accuracy: 0.1955\n"
     ]
    },
    {
     "name": "stderr",
     "output_type": "stream",
     "text": [
      "\u001b[36m(ClientAppActor pid=263069)\u001b[0m \u001b[93mWARNING \u001b[0m:   DEPRECATED FEATURE: `client_fn` now expects a signature `def client_fn(context: Context)`.The provided `client_fn` has signature: {'cid': <Parameter \"cid: str\">}. You can import the `Context` like this: `from flwr.common import Context`\n",
      "\u001b[36m(ClientAppActor pid=263069)\u001b[0m \n",
      "\u001b[36m(ClientAppActor pid=263069)\u001b[0m             This is a deprecated feature. It will be removed\n",
      "\u001b[36m(ClientAppActor pid=263069)\u001b[0m             entirely in future versions of Flower.\n",
      "\u001b[36m(ClientAppActor pid=263069)\u001b[0m         \n",
      "Testing:   0%|          | 0/93 [00:00<?, ?it/s]\n",
      "Testing:   9%|▊         | 8/93 [00:00<00:01, 72.54it/s]\n"
     ]
    },
    {
     "name": "stdout",
     "output_type": "stream",
     "text": [
      "\u001b[36m(ClientAppActor pid=263069)\u001b[0m [Client 0] Starting evaluation...\n"
     ]
    },
    {
     "name": "stderr",
     "output_type": "stream",
     "text": [
      "Testing:  17%|█▋        | 16/93 [00:00<00:01, 70.52it/s]\n",
      "Testing:  43%|████▎     | 40/93 [00:00<00:00, 142.56it/s]\n",
      "Testing:  77%|███████▋  | 72/93 [00:00<00:00, 205.07it/s]\n",
      "Testing: 100%|██████████| 93/93 [00:00<00:00, 181.65it/s]\n"
     ]
    },
    {
     "name": "stdout",
     "output_type": "stream",
     "text": [
      "\u001b[36m(ClientAppActor pid=263069)\u001b[0m ✅ [Client 0] Evaluation results - Loss: 2.4839, Accuracy: 0.1977\n"
     ]
    },
    {
     "name": "stderr",
     "output_type": "stream",
     "text": [
      "\u001b[36m(ClientAppActor pid=263068)\u001b[0m \n",
      "\u001b[36m(ClientAppActor pid=263068)\u001b[0m         \n",
      "\u001b[36m(ClientAppActor pid=263068)\u001b[0m \u001b[93mWARNING \u001b[0m:   DEPRECATED FEATURE: `client_fn` now expects a signature `def client_fn(context: Context)`.The provided `client_fn` has signature: {'cid': <Parameter \"cid: str\">}. You can import the `Context` like this: `from flwr.common import Context`\n",
      "\u001b[36m(ClientAppActor pid=263068)\u001b[0m             This is a deprecated feature. It will be removed\n",
      "\u001b[36m(ClientAppActor pid=263068)\u001b[0m             entirely in future versions of Flower.\n",
      "Testing:   0%|          | 0/93 [00:00<?, ?it/s]\n"
     ]
    },
    {
     "name": "stdout",
     "output_type": "stream",
     "text": [
      "\u001b[36m(ClientAppActor pid=263068)\u001b[0m [Client 4] Starting evaluation...\n"
     ]
    },
    {
     "name": "stderr",
     "output_type": "stream",
     "text": [
      "Testing:   9%|▊         | 8/93 [00:00<00:01, 70.41it/s]\n",
      "Testing:  17%|█▋        | 16/93 [00:00<00:01, 70.20it/s]\n",
      "Testing:  26%|██▌       | 24/93 [00:00<00:00, 73.71it/s]\n",
      "Testing:  41%|████      | 38/93 [00:00<00:00, 98.51it/s]\n",
      "Testing:  52%|█████▏    | 48/93 [00:00<00:00, 78.28it/s]\n",
      "Testing: 100%|██████████| 93/93 [00:00<00:00, 124.11it/s]\n"
     ]
    },
    {
     "name": "stdout",
     "output_type": "stream",
     "text": [
      "\u001b[36m(ClientAppActor pid=263068)\u001b[0m ✅ [Client 4] Evaluation results - Loss: 2.4843, Accuracy: 0.0137\n",
      "\u001b[36m(ClientAppActor pid=263069)\u001b[0m [Client 3] Starting evaluation...\n"
     ]
    },
    {
     "name": "stderr",
     "output_type": "stream",
     "text": [
      "\u001b[36m(ClientAppActor pid=263069)\u001b[0m \u001b[93mWARNING \u001b[0m:   DEPRECATED FEATURE: `client_fn` now expects a signature `def client_fn(context: Context)`.The provided `client_fn` has signature: {'cid': <Parameter \"cid: str\">}. You can import the `Context` like this: `from flwr.common import Context`\n",
      "\u001b[36m(ClientAppActor pid=263069)\u001b[0m \n",
      "\u001b[36m(ClientAppActor pid=263069)\u001b[0m             This is a deprecated feature. It will be removed\n",
      "\u001b[36m(ClientAppActor pid=263069)\u001b[0m             entirely in future versions of Flower.\n",
      "\u001b[36m(ClientAppActor pid=263069)\u001b[0m         \n",
      "Testing:   0%|          | 0/95 [00:00<?, ?it/s]\n",
      "Testing:   4%|▍         | 4/95 [00:00<00:02, 38.37it/s]\n",
      "Testing:   9%|▉         | 9/95 [00:00<00:02, 41.75it/s]\n",
      "Testing:  18%|█▊        | 17/95 [00:00<00:01, 55.09it/s]\n",
      "Testing:  43%|████▎     | 41/95 [00:00<00:00, 122.79it/s]\n",
      "Testing:  69%|██████▉   | 66/95 [00:00<00:00, 165.55it/s]\n",
      "Testing: 100%|██████████| 95/95 [00:00<00:00, 152.94it/s]\n"
     ]
    },
    {
     "name": "stdout",
     "output_type": "stream",
     "text": [
      "\u001b[36m(ClientAppActor pid=263069)\u001b[0m ✅ [Client 3] Evaluation results - Loss: 2.4835, Accuracy: 0.1103\n"
     ]
    },
    {
     "name": "stderr",
     "output_type": "stream",
     "text": [
      "\u001b[36m(ClientAppActor pid=263068)\u001b[0m \n",
      "\u001b[36m(ClientAppActor pid=263068)\u001b[0m         \n",
      "\u001b[36m(ClientAppActor pid=263068)\u001b[0m \u001b[93mWARNING \u001b[0m:   DEPRECATED FEATURE: `client_fn` now expects a signature `def client_fn(context: Context)`.The provided `client_fn` has signature: {'cid': <Parameter \"cid: str\">}. You can import the `Context` like this: `from flwr.common import Context`\n",
      "\u001b[36m(ClientAppActor pid=263068)\u001b[0m             This is a deprecated feature. It will be removed\n",
      "\u001b[36m(ClientAppActor pid=263068)\u001b[0m             entirely in future versions of Flower.\n",
      "Testing:   0%|          | 0/91 [00:00<?, ?it/s]\n",
      "Testing:   7%|▋         | 6/91 [00:00<00:01, 58.40it/s]\n"
     ]
    },
    {
     "name": "stdout",
     "output_type": "stream",
     "text": [
      "\u001b[36m(ClientAppActor pid=263068)\u001b[0m [Client 8] Starting evaluation...\n"
     ]
    },
    {
     "name": "stderr",
     "output_type": "stream",
     "text": [
      "Testing:  13%|█▎        | 12/91 [00:00<00:01, 54.49it/s]\n",
      "Testing:  44%|████▍     | 40/91 [00:00<00:00, 150.52it/s]\n",
      "Testing: 100%|██████████| 91/91 [00:00<00:00, 183.46it/s]\n"
     ]
    },
    {
     "name": "stdout",
     "output_type": "stream",
     "text": [
      "\u001b[36m(ClientAppActor pid=263068)\u001b[0m ✅ [Client 8] Evaluation results - Loss: 2.4832, Accuracy: 0.0880\n",
      "\u001b[36m(ClientAppActor pid=263069)\u001b[0m [Client 1] Starting evaluation...\n"
     ]
    },
    {
     "name": "stderr",
     "output_type": "stream",
     "text": [
      "\u001b[36m(ClientAppActor pid=263069)\u001b[0m \u001b[93mWARNING \u001b[0m:   DEPRECATED FEATURE: `client_fn` now expects a signature `def client_fn(context: Context)`.The provided `client_fn` has signature: {'cid': <Parameter \"cid: str\">}. You can import the `Context` like this: `from flwr.common import Context`\n",
      "\u001b[36m(ClientAppActor pid=263069)\u001b[0m \n",
      "\u001b[36m(ClientAppActor pid=263069)\u001b[0m             This is a deprecated feature. It will be removed\n",
      "\u001b[36m(ClientAppActor pid=263069)\u001b[0m             entirely in future versions of Flower.\n",
      "\u001b[36m(ClientAppActor pid=263069)\u001b[0m         \n",
      "Testing:   0%|          | 0/93 [00:00<?, ?it/s]\n",
      "Testing:   9%|▊         | 8/93 [00:00<00:01, 70.45it/s]\n"
     ]
    },
    {
     "name": "stdout",
     "output_type": "stream",
     "text": [
      "\u001b[36m(ClientAppActor pid=263069)\u001b[0m ✅ [Client 1] Evaluation results - Loss: 2.4840, Accuracy: 0.1559\n"
     ]
    },
    {
     "name": "stderr",
     "output_type": "stream",
     "text": [
      "Testing: 100%|██████████| 93/93 [00:00<00:00, -470.89it/s]\n",
      "\u001b[36m(ClientAppActor pid=263068)\u001b[0m \n",
      "\u001b[36m(ClientAppActor pid=263068)\u001b[0m         \n",
      "\u001b[36m(ClientAppActor pid=263068)\u001b[0m \u001b[93mWARNING \u001b[0m:   DEPRECATED FEATURE: `client_fn` now expects a signature `def client_fn(context: Context)`.The provided `client_fn` has signature: {'cid': <Parameter \"cid: str\">}. You can import the `Context` like this: `from flwr.common import Context`\n",
      "\u001b[36m(ClientAppActor pid=263068)\u001b[0m             This is a deprecated feature. It will be removed\n",
      "\u001b[36m(ClientAppActor pid=263068)\u001b[0m             entirely in future versions of Flower.\n",
      "Testing:   0%|          | 0/91 [00:00<?, ?it/s]\n",
      "Testing:   7%|▋         | 6/91 [00:00<00:01, 58.05it/s]\n"
     ]
    },
    {
     "name": "stdout",
     "output_type": "stream",
     "text": [
      "\u001b[36m(ClientAppActor pid=263068)\u001b[0m [Client 7] Starting evaluation...\n"
     ]
    },
    {
     "name": "stderr",
     "output_type": "stream",
     "text": [
      "Testing:  14%|█▍        | 13/91 [00:00<00:01, 60.87it/s]\n",
      "Testing:  22%|██▏       | 20/91 [00:00<00:01, 64.08it/s]\n",
      "Testing:  47%|████▋     | 43/91 [00:00<00:00, 126.93it/s]\n",
      "Testing:  77%|███████▋  | 70/91 [00:00<00:00, 174.68it/s]\n",
      "\u001b[92mINFO \u001b[0m:      aggregate_evaluate: received 12 results and 0 failures\n",
      "\u001b[92mINFO \u001b[0m:      \n",
      "\u001b[92mINFO \u001b[0m:      [ROUND 20]\n",
      "\u001b[92mINFO \u001b[0m:      configure_fit: strategy sampled 6 clients (out of 12)\n",
      "\u001b[92mINFO \u001b[0m:      aggregate_fit: received 0 results and 6 failures\n"
     ]
    },
    {
     "name": "stdout",
     "output_type": "stream",
     "text": [
      "✅ --- Server received 12 evaluation results in round 19 ---\n",
      "✅ --- Pareto selection for round 20 chose clients: ['15100500063491518048', '7288326149512088850', '9722077455151739340', '14315934176059193381', '2884736955283487405', '17572866915993216550'] ---\n"
     ]
    },
    {
     "name": "stderr",
     "output_type": "stream",
     "text": [
      "Testing: 100%|██████████| 91/91 [00:00<00:00, 152.20it/s]ntAppActor pid=263068)\u001b[0m \n",
      "Testing:  29%|██▊       | 26/91 [00:00<00:00, 245.02it/s]"
     ]
    },
    {
     "name": "stdout",
     "output_type": "stream",
     "text": [
      "\u001b[36m(ClientAppActor pid=263068)\u001b[0m ✅ [Client 7] Evaluation results - Loss: 2.4845, Accuracy: 0.0372\n"
     ]
    },
    {
     "name": "stderr",
     "output_type": "stream",
     "text": [
      "Testing: 100%|██████████| 91/91 [00:00<00:00, 238.39it/s]\n",
      "\u001b[92mINFO \u001b[0m:      fit progress: (20, 2.484785108775883, {'accuracy': 0.19553169379979218}, 2002.7286952930008)\n",
      "\u001b[92mINFO \u001b[0m:      configure_evaluate: strategy sampled 12 clients (out of 12)\n"
     ]
    },
    {
     "name": "stdout",
     "output_type": "stream",
     "text": [
      "============================================================\n",
      "✅ ROUND 20 SUMMARY - Global Model Performance:\n",
      "   Loss: 2.4848 | Accuracy: 0.1955\n",
      "============================================================\n"
     ]
    },
    {
     "name": "stderr",
     "output_type": "stream",
     "text": [
      "\u001b[36m(ClientAppActor pid=263068)\u001b[0m \u001b[93mWARNING \u001b[0m:   DEPRECATED FEATURE: `client_fn` now expects a signature `def client_fn(context: Context)`.The provided `client_fn` has signature: {'cid': <Parameter \"cid: str\">}. You can import the `Context` like this: `from flwr.common import Context`\n",
      "\u001b[36m(ClientAppActor pid=263068)\u001b[0m \n",
      "\u001b[36m(ClientAppActor pid=263068)\u001b[0m             This is a deprecated feature. It will be removed\n",
      "\u001b[36m(ClientAppActor pid=263068)\u001b[0m             entirely in future versions of Flower.\n",
      "\u001b[36m(ClientAppActor pid=263068)\u001b[0m         \n",
      "Testing:   0%|          | 0/91 [00:00<?, ?it/s]\n"
     ]
    },
    {
     "name": "stdout",
     "output_type": "stream",
     "text": [
      "\u001b[36m(ClientAppActor pid=263068)\u001b[0m [Client 8] Starting evaluation...\n"
     ]
    },
    {
     "name": "stderr",
     "output_type": "stream",
     "text": [
      "Testing:   7%|▋         | 6/91 [00:00<00:01, 58.71it/s]\n",
      "Testing:  14%|█▍        | 13/91 [00:00<00:01, 60.41it/s]\n",
      "Testing:  22%|██▏       | 20/91 [00:00<00:01, 62.50it/s]\n",
      "Testing:  34%|███▍      | 31/91 [00:00<00:00, 79.78it/s]\n",
      "Testing:  62%|██████▏   | 56/91 [00:00<00:00, 137.57it/s]\n",
      "Testing: 100%|██████████| 91/91 [00:00<00:00, 140.25it/s]\n"
     ]
    },
    {
     "name": "stdout",
     "output_type": "stream",
     "text": [
      "\u001b[36m(ClientAppActor pid=263068)\u001b[0m ✅ [Client 8] Evaluation results - Loss: 2.4832, Accuracy: 0.0880\n",
      "\u001b[36m(ClientAppActor pid=263069)\u001b[0m [Client 4] Starting evaluation...\n"
     ]
    },
    {
     "name": "stderr",
     "output_type": "stream",
     "text": [
      "\u001b[36m(ClientAppActor pid=263069)\u001b[0m \n",
      "\u001b[36m(ClientAppActor pid=263069)\u001b[0m         \n",
      "\u001b[36m(ClientAppActor pid=263069)\u001b[0m \u001b[93mWARNING \u001b[0m:   DEPRECATED FEATURE: `client_fn` now expects a signature `def client_fn(context: Context)`.The provided `client_fn` has signature: {'cid': <Parameter \"cid: str\">}. You can import the `Context` like this: `from flwr.common import Context`\n",
      "\u001b[36m(ClientAppActor pid=263069)\u001b[0m             This is a deprecated feature. It will be removed\n",
      "\u001b[36m(ClientAppActor pid=263069)\u001b[0m             entirely in future versions of Flower.\n",
      "Testing:   0%|          | 0/93 [00:00<?, ?it/s]\n",
      "Testing:  24%|██▎       | 22/93 [00:00<00:00, 214.64it/s]\n",
      "Testing:  53%|█████▎    | 49/93 [00:00<00:00, 242.90it/s]\n",
      "Testing:  87%|████████▋ | 81/93 [00:00<00:00, 276.39it/s]\n"
     ]
    },
    {
     "name": "stdout",
     "output_type": "stream",
     "text": [
      "\u001b[36m(ClientAppActor pid=263069)\u001b[0m ✅ [Client 4] Evaluation results - Loss: 2.4843, Accuracy: 0.0137\n"
     ]
    },
    {
     "name": "stderr",
     "output_type": "stream",
     "text": [
      "Testing: 100%|██████████| 93/93 [00:00<00:00, 271.22it/s]\n",
      "\u001b[36m(ClientAppActor pid=263068)\u001b[0m \u001b[93mWARNING \u001b[0m:   DEPRECATED FEATURE: `client_fn` now expects a signature `def client_fn(context: Context)`.The provided `client_fn` has signature: {'cid': <Parameter \"cid: str\">}. You can import the `Context` like this: `from flwr.common import Context`\n",
      "\u001b[36m(ClientAppActor pid=263068)\u001b[0m \n",
      "\u001b[36m(ClientAppActor pid=263068)\u001b[0m             This is a deprecated feature. It will be removed\n",
      "\u001b[36m(ClientAppActor pid=263068)\u001b[0m             entirely in future versions of Flower.\n",
      "\u001b[36m(ClientAppActor pid=263068)\u001b[0m         \n",
      "Testing:   0%|          | 0/91 [00:00<?, ?it/s]\n"
     ]
    },
    {
     "name": "stdout",
     "output_type": "stream",
     "text": [
      "\u001b[36m(ClientAppActor pid=263068)\u001b[0m [Client 7] Starting evaluation...\n"
     ]
    },
    {
     "name": "stderr",
     "output_type": "stream",
     "text": [
      "Testing:   8%|▊         | 7/91 [00:00<00:01, 62.52it/s]\n",
      "Testing:  15%|█▌        | 14/91 [00:00<00:01, 63.51it/s]\n",
      "Testing:  49%|████▉     | 45/91 [00:00<00:00, 169.06it/s]\n",
      "Testing: 100%|██████████| 91/91 [00:00<00:00, 194.83it/s]\n"
     ]
    },
    {
     "name": "stdout",
     "output_type": "stream",
     "text": [
      "\u001b[36m(ClientAppActor pid=263068)\u001b[0m ✅ [Client 7] Evaluation results - Loss: 2.4845, Accuracy: 0.0372\n",
      "\u001b[36m(ClientAppActor pid=263069)\u001b[0m [Client 9] Starting evaluation...\n"
     ]
    },
    {
     "name": "stderr",
     "output_type": "stream",
     "text": [
      "\u001b[36m(ClientAppActor pid=263069)\u001b[0m \n",
      "\u001b[36m(ClientAppActor pid=263069)\u001b[0m         \n",
      "\u001b[36m(ClientAppActor pid=263069)\u001b[0m \u001b[93mWARNING \u001b[0m:   DEPRECATED FEATURE: `client_fn` now expects a signature `def client_fn(context: Context)`.The provided `client_fn` has signature: {'cid': <Parameter \"cid: str\">}. You can import the `Context` like this: `from flwr.common import Context`\n",
      "\u001b[36m(ClientAppActor pid=263069)\u001b[0m             This is a deprecated feature. It will be removed\n",
      "\u001b[36m(ClientAppActor pid=263069)\u001b[0m             entirely in future versions of Flower.\n",
      "Testing:   0%|          | 0/92 [00:00<?, ?it/s]\n",
      "Testing:   7%|▋         | 6/92 [00:00<00:01, 54.67it/s]\n",
      "Testing:  13%|█▎        | 12/92 [00:00<00:01, 56.32it/s]\n",
      "Testing:  35%|███▍      | 32/92 [00:00<00:00, 118.87it/s]\n",
      "Testing:  67%|██████▋   | 62/92 [00:00<00:00, 188.18it/s]\n"
     ]
    },
    {
     "name": "stdout",
     "output_type": "stream",
     "text": [
      "\u001b[36m(ClientAppActor pid=263069)\u001b[0m ✅ [Client 9] Evaluation results - Loss: 2.4846, Accuracy: 0.0220\n"
     ]
    },
    {
     "name": "stderr",
     "output_type": "stream",
     "text": [
      "Testing: 100%|██████████| 92/92 [00:00<00:00, 180.22it/s]\n",
      "\u001b[36m(ClientAppActor pid=263068)\u001b[0m \u001b[93mWARNING \u001b[0m:   DEPRECATED FEATURE: `client_fn` now expects a signature `def client_fn(context: Context)`.The provided `client_fn` has signature: {'cid': <Parameter \"cid: str\">}. You can import the `Context` like this: `from flwr.common import Context`\n",
      "\u001b[36m(ClientAppActor pid=263068)\u001b[0m \n",
      "\u001b[36m(ClientAppActor pid=263068)\u001b[0m             This is a deprecated feature. It will be removed\n",
      "\u001b[36m(ClientAppActor pid=263068)\u001b[0m             entirely in future versions of Flower.\n",
      "\u001b[36m(ClientAppActor pid=263068)\u001b[0m         \n",
      "Testing:   0%|          | 0/95 [00:00<?, ?it/s]\n"
     ]
    },
    {
     "name": "stdout",
     "output_type": "stream",
     "text": [
      "\u001b[36m(ClientAppActor pid=263068)\u001b[0m [Client 3] Starting evaluation...\n"
     ]
    },
    {
     "name": "stderr",
     "output_type": "stream",
     "text": [
      "Testing:   7%|▋         | 7/95 [00:00<00:01, 68.02it/s]\n",
      "Testing:  15%|█▍        | 14/95 [00:00<00:01, 68.68it/s]\n",
      "Testing:  23%|██▎       | 22/95 [00:00<00:01, 72.05it/s]\n",
      "Testing:  42%|████▏     | 40/95 [00:00<00:00, 113.65it/s]\n",
      "Testing: 100%|██████████| 95/95 [00:00<00:00, 158.39it/s]\n"
     ]
    },
    {
     "name": "stdout",
     "output_type": "stream",
     "text": [
      "\u001b[36m(ClientAppActor pid=263068)\u001b[0m ✅ [Client 3] Evaluation results - Loss: 2.4835, Accuracy: 0.1103\n"
     ]
    },
    {
     "name": "stderr",
     "output_type": "stream",
     "text": [
      "\u001b[36m(ClientAppActor pid=263069)\u001b[0m \n",
      "\u001b[36m(ClientAppActor pid=263069)\u001b[0m         \n",
      "\u001b[36m(ClientAppActor pid=263069)\u001b[0m \u001b[93mWARNING \u001b[0m:   DEPRECATED FEATURE: `client_fn` now expects a signature `def client_fn(context: Context)`.The provided `client_fn` has signature: {'cid': <Parameter \"cid: str\">}. You can import the `Context` like this: `from flwr.common import Context`\n",
      "\u001b[36m(ClientAppActor pid=263069)\u001b[0m             This is a deprecated feature. It will be removed\n",
      "\u001b[36m(ClientAppActor pid=263069)\u001b[0m             entirely in future versions of Flower.\n",
      "Testing:   0%|          | 0/91 [00:00<?, ?it/s]\n",
      "Testing:   5%|▌         | 5/91 [00:00<00:01, 45.24it/s]\n"
     ]
    },
    {
     "name": "stdout",
     "output_type": "stream",
     "text": [
      "\u001b[36m(ClientAppActor pid=263069)\u001b[0m [Client 11] Starting evaluation...\n"
     ]
    },
    {
     "name": "stderr",
     "output_type": "stream",
     "text": [
      "Testing:  16%|█▋        | 15/91 [00:00<00:01, 75.45it/s]\n",
      "Testing:  52%|█████▏    | 47/91 [00:00<00:00, 182.95it/s]\n"
     ]
    },
    {
     "name": "stdout",
     "output_type": "stream",
     "text": [
      "\u001b[36m(ClientAppActor pid=263069)\u001b[0m ✅ [Client 11] Evaluation results - Loss: 2.4848, Accuracy: 0.1955\n"
     ]
    },
    {
     "name": "stderr",
     "output_type": "stream",
     "text": [
      "Testing: 100%|██████████| 91/91 [00:00<00:00, 199.47it/s]\n",
      "\u001b[36m(ClientAppActor pid=263068)\u001b[0m \u001b[93mWARNING \u001b[0m:   DEPRECATED FEATURE: `client_fn` now expects a signature `def client_fn(context: Context)`.The provided `client_fn` has signature: {'cid': <Parameter \"cid: str\">}. You can import the `Context` like this: `from flwr.common import Context`\n",
      "\u001b[36m(ClientAppActor pid=263068)\u001b[0m \n",
      "\u001b[36m(ClientAppActor pid=263068)\u001b[0m             This is a deprecated feature. It will be removed\n",
      "\u001b[36m(ClientAppActor pid=263068)\u001b[0m             entirely in future versions of Flower.\n",
      "\u001b[36m(ClientAppActor pid=263068)\u001b[0m         \n",
      "Testing:   0%|          | 0/93 [00:00<?, ?it/s]\n",
      "Testing:  29%|██▉       | 27/93 [00:00<00:00, 265.84it/s]\n"
     ]
    },
    {
     "name": "stdout",
     "output_type": "stream",
     "text": [
      "\u001b[36m(ClientAppActor pid=263068)\u001b[0m [Client 0] Starting evaluation...\n"
     ]
    },
    {
     "name": "stderr",
     "output_type": "stream",
     "text": [
      "Testing:  58%|█████▊    | 54/93 [00:00<00:00, 263.14it/s]\n",
      "Testing:  87%|████████▋ | 81/93 [00:00<00:00, 257.21it/s]\n",
      "Testing: 100%|██████████| 93/93 [00:00<00:00, 263.08it/s]\n"
     ]
    },
    {
     "name": "stdout",
     "output_type": "stream",
     "text": [
      "\u001b[36m(ClientAppActor pid=263068)\u001b[0m ✅ [Client 0] Evaluation results - Loss: 2.4839, Accuracy: 0.1977\n"
     ]
    },
    {
     "name": "stderr",
     "output_type": "stream",
     "text": [
      "\u001b[36m(ClientAppActor pid=263069)\u001b[0m \n",
      "\u001b[36m(ClientAppActor pid=263069)\u001b[0m         \n",
      "\u001b[36m(ClientAppActor pid=263069)\u001b[0m \u001b[93mWARNING \u001b[0m:   DEPRECATED FEATURE: `client_fn` now expects a signature `def client_fn(context: Context)`.The provided `client_fn` has signature: {'cid': <Parameter \"cid: str\">}. You can import the `Context` like this: `from flwr.common import Context`\n",
      "\u001b[36m(ClientAppActor pid=263069)\u001b[0m             This is a deprecated feature. It will be removed\n",
      "\u001b[36m(ClientAppActor pid=263069)\u001b[0m             entirely in future versions of Flower.\n",
      "Testing:   0%|          | 0/93 [00:00<?, ?it/s]\n"
     ]
    },
    {
     "name": "stdout",
     "output_type": "stream",
     "text": [
      "\u001b[36m(ClientAppActor pid=263069)\u001b[0m [Client 2] Starting evaluation...\n"
     ]
    },
    {
     "name": "stderr",
     "output_type": "stream",
     "text": [
      "Testing:  35%|███▌      | 33/93 [00:00<00:00, 321.30it/s]\n",
      "Testing: 100%|██████████| 93/93 [00:00<00:00, 309.64it/s]\n"
     ]
    },
    {
     "name": "stdout",
     "output_type": "stream",
     "text": [
      "\u001b[36m(ClientAppActor pid=263069)\u001b[0m ✅ [Client 2] Evaluation results - Loss: 2.4850, Accuracy: 0.0059\n"
     ]
    },
    {
     "name": "stderr",
     "output_type": "stream",
     "text": [
      "\u001b[36m(ClientAppActor pid=263068)\u001b[0m \u001b[93mWARNING \u001b[0m:   DEPRECATED FEATURE: `client_fn` now expects a signature `def client_fn(context: Context)`.The provided `client_fn` has signature: {'cid': <Parameter \"cid: str\">}. You can import the `Context` like this: `from flwr.common import Context`\n",
      "\u001b[36m(ClientAppActor pid=263068)\u001b[0m \n",
      "\u001b[36m(ClientAppActor pid=263068)\u001b[0m             This is a deprecated feature. It will be removed\n",
      "\u001b[36m(ClientAppActor pid=263068)\u001b[0m             entirely in future versions of Flower.\n",
      "\u001b[36m(ClientAppActor pid=263068)\u001b[0m         \n",
      "Testing:   0%|          | 0/93 [00:00<?, ?it/s]\n"
     ]
    },
    {
     "name": "stdout",
     "output_type": "stream",
     "text": [
      "\u001b[36m(ClientAppActor pid=263068)\u001b[0m [Client 1] Starting evaluation...\n"
     ]
    },
    {
     "name": "stderr",
     "output_type": "stream",
     "text": [
      "Testing:   4%|▍         | 4/93 [00:00<00:02, 39.14it/s]\n",
      "Testing:  10%|▉         | 9/93 [00:00<00:01, 43.25it/s]\n",
      "Testing:  15%|█▌        | 14/93 [00:00<00:01, 44.16it/s]\n",
      "Testing:  46%|████▌     | 43/93 [00:00<00:00, 134.05it/s]\n",
      "Testing: 100%|██████████| 93/93 [00:00<00:00, 157.02it/s]\n"
     ]
    },
    {
     "name": "stdout",
     "output_type": "stream",
     "text": [
      "\u001b[36m(ClientAppActor pid=263068)\u001b[0m ✅ [Client 1] Evaluation results - Loss: 2.4840, Accuracy: 0.1559\n"
     ]
    }
   ],
   "source": [
    "def main():\n",
    "    # --- Load Data ---\n",
    "    print(\"✅ Loading data for all clients...\")\n",
    "    all_data = loadClientsData()\n",
    "    X_train_csv, X_test_csv, Y_train_csv, Y_test_csv, \\\n",
    "    X_train_1, X_test_1, Y_train_1, Y_test_1, \\\n",
    "    X_train_2, X_test_2, Y_train_2, Y_test_2 = all_data\n",
    "    TOTAL_CLIENTS = len(X_train_csv)\n",
    "    print(f\"✅ Data for {TOTAL_CLIENTS} clients loaded successfully.\")\n",
    "\n",
    "    # --- Client Factory ---\n",
    "    # In your main function\n",
    "\n",
    "    def client_fn(cid: str) -> fl.client.Client: # Return type is now fl.client.Client\n",
    "        client_id = int(cid)\n",
    "        net = ModelCSVIMG(num_csv_features=X_train_csv[client_id].shape[1], img_shape1=32, img_shape2=32).to(DEVICE)\n",
    "        train_dataset = CustomDatasetRes(X_train_csv[client_id], X_train_1[client_id], X_train_2[client_id], Y_train_csv[client_id])\n",
    "        val_dataset = CustomDatasetRes(X_test_csv[client_id], X_test_1[client_id], X_test_2[client_id], Y_test_csv[client_id])\n",
    "        trainloader = DataLoader(train_dataset, batch_size=64, shuffle=True)\n",
    "        valloader = DataLoader(val_dataset, batch_size=64)\n",
    "    \n",
    "        # Instantiate your NumPyClient\n",
    "        numpy_client = FlowerClient(client_id, net, trainloader, valloader)\n",
    "        \n",
    "        # NEW: Convert it to a Flower Client and return\n",
    "        return numpy_client.to_client()\n",
    "        \n",
    "    # --- Prepare the data for the server's evaluation function ---\n",
    "    # Create a tuple containing all the test set arrays for every client\n",
    "    server_test_data = (X_test_csv, X_test_1, X_test_2, Y_test_csv)\n",
    "    \n",
    "    # --- Server-side Evaluation (optional but good practice) ---\n",
    "    # In your main function, where you define get_evaluate_fn\n",
    "\n",
    "    def get_evaluate_fn(test_data_splits):\n",
    "        \"\"\"Return an evaluation function for server-side evaluation.\"\"\"\n",
    "        def evaluate(server_round: int, parameters: fl.common.NDArrays, config: dict):\n",
    "            net = ModelCSVIMG(num_csv_features=test_data_splits[0][0].shape[1], img_shape1=32, img_shape2=32).to(DEVICE)\n",
    "\n",
    "            server_test_cid = TOTAL_CLIENTS - 1\n",
    "            params_dict = zip(net.state_dict().keys(), parameters)\n",
    "            state_dict = OrderedDict({k: torch.tensor(v) for k, v in params_dict})\n",
    "            net.load_state_dict(state_dict, strict=True)\n",
    "\n",
    "            test_dataset = CustomDatasetRes(test_data_splits[0][server_test_cid], test_data_splits[1][server_test_cid],\n",
    "                                          test_data_splits[2][server_test_cid], test_data_splits[3][server_test_cid])\n",
    "            testloader = DataLoader(test_dataset, batch_size=64)\n",
    "            loss, accuracy = test(net, testloader)\n",
    "            \n",
    "            # NEW: More prominent end-of-round summary\n",
    "            print(\"=\"*60)\n",
    "            print(f\"✅ ROUND {server_round} SUMMARY - Global Model Performance:\")\n",
    "            print(f\"   Loss: {loss:.4f} | Accuracy: {accuracy:.4f}\")\n",
    "            print(\"=\"*60)\n",
    "            \n",
    "            return loss, {\"accuracy\": accuracy}\n",
    "        return evaluate\n",
    "\n",
    "    # --- Instantiate and use the ParetoStrategy ---\n",
    "    strategy = ParetoStrategy(\n",
    "        fraction_fit=0.5,\n",
    "        min_fit_clients=6,\n",
    "        fraction_evaluate=1.0,      # <-- This tells clients to evaluate\n",
    "        min_evaluate_clients=12,\n",
    "        min_available_clients=TOTAL_CLIENTS,\n",
    "        evaluate_fn=get_evaluate_fn(server_test_data),\n",
    "    )\n",
    "\n",
    "    # --- Start Simulation ---\n",
    "    print(\"✅ Starting Flower simulation with Pareto Strategy...\")\n",
    "    \n",
    "    # 1. CAPTURE the History object returned by the simulation\n",
    "    history = fl.simulation.start_simulation(\n",
    "        client_fn=client_fn,\n",
    "        num_clients=TOTAL_CLIENTS,\n",
    "        config=fl.server.ServerConfig(num_rounds=50),\n",
    "        strategy=strategy,\n",
    "        client_resources={\"num_cpus\": 2, \"num_gpus\": 0.5 if torch.cuda.is_available() else 0},\n",
    "    )\n",
    "\n",
    "\n",
    "    # --- NEW: Process, Print, and Save the Final Results ---\n",
    "    print(\"\\n\" + \"=\"*60)\n",
    "    print(\"              SIMULATION COMPLETE\")\n",
    "    print(\"=\"*60)\n",
    "\n",
    "    # 2. EXTRACT loss and accuracy from the History object\n",
    "    # The history object contains metrics from the server-side evaluation (centralized)\n",
    "    try:\n",
    "        # Get accuracy values from history\n",
    "        rounds, accuracies = zip(*history.metrics_centralized[\"accuracy\"])\n",
    "        # Get loss values from history\n",
    "        _, losses = zip(*history.losses_centralized)\n",
    "\n",
    "        # 3. CREATE a pandas DataFrame\n",
    "        summary_df = pd.DataFrame({\n",
    "            \"Round\": rounds,\n",
    "            \"Loss\": losses,\n",
    "            \"Accuracy\": accuracies\n",
    "        })\n",
    "\n",
    "        # 4. PRINT the summary table\n",
    "        print(\"\\n📈 Global Model Performance Summary:\")\n",
    "        print(summary_df.to_string(index=False))\n",
    "\n",
    "        # 5. SAVE the summary to a CSV file\n",
    "        csv_filename = \"simulation_summary.csv\"\n",
    "        summary_df.to_csv(csv_filename, index=False)\n",
    "        print(f\"\\n✅ Summary successfully saved to: {csv_filename}\")\n",
    "\n",
    "    except Exception as e:\n",
    "        print(f\"\\n⚠️ Could not generate summary. No centralized metrics found. Error: {e}\")\n",
    "    \n",
    "\n",
    "\n",
    "if __name__ == \"__main__\":\n",
    "    # Make sure to copy all the helper functions and classes defined above\n",
    "    main()"
   ]
  }
 ],
 "metadata": {
  "kernelspec": {
   "display_name": "flwr",
   "language": "python",
   "name": "python3"
  },
  "language_info": {
   "codemirror_mode": {
    "name": "ipython",
    "version": 3
   },
   "file_extension": ".py",
   "mimetype": "text/x-python",
   "name": "python",
   "nbconvert_exporter": "python",
   "pygments_lexer": "ipython3",
   "version": "3.10.0"
  }
 },
 "nbformat": 4,
 "nbformat_minor": 5
}
